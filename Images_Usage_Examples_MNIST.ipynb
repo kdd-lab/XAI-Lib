{
 "cells": [
  {
   "cell_type": "markdown",
   "metadata": {},
   "source": [
    "# Examples of XAI-Lib Usage for MNIST data"
   ]
  },
  {
   "cell_type": "code",
   "execution_count": 1,
   "metadata": {},
   "outputs": [],
   "source": [
    "import numpy as np\n",
    "import pandas as pd\n",
    "import matplotlib.pyplot as plt\n",
    "import pickle"
   ]
  },
  {
   "cell_type": "markdown",
   "metadata": {},
   "source": [
    "## Intgrad (Tensorflow Model)"
   ]
  },
  {
   "cell_type": "markdown",
   "metadata": {},
   "source": [
    "<img src='./images/intgrad_MNIST.jpg' width=\"20%\" height=\"20%\">"
   ]
  },
  {
   "cell_type": "code",
   "execution_count": 2,
   "metadata": {},
   "outputs": [
    {
     "name": "stdout",
     "output_type": "stream",
     "text": [
      "WARNING:tensorflow:SavedModel saved prior to TF 2.5 detected when loading Keras model. Please ensure that you are saving the model with model.save() or tf.keras.models.save_model(), *NOT* tf.saved_model.save(). To confirm, there should be a file named \"keras_metadata.pb\" in the SavedModel directory.\n",
      "Model: \"sequential_1\"\n",
      "_________________________________________________________________\n",
      "Layer (type)                 Output Shape              Param #   \n",
      "=================================================================\n",
      "conv2d_1 (Conv2D)            (None, 26, 26, 32)        320       \n",
      "_________________________________________________________________\n",
      "conv2d_2 (Conv2D)            (None, 24, 24, 64)        18496     \n",
      "_________________________________________________________________\n",
      "max_pooling2d_1 (MaxPooling2 (None, 12, 12, 64)        0         \n",
      "_________________________________________________________________\n",
      "dropout_1 (Dropout)          (None, 12, 12, 64)        0         \n",
      "_________________________________________________________________\n",
      "flatten_1 (Flatten)          (None, 9216)              0         \n",
      "_________________________________________________________________\n",
      "dense_1 (Dense)              (None, 128)               1179776   \n",
      "_________________________________________________________________\n",
      "dropout_2 (Dropout)          (None, 128)               0         \n",
      "_________________________________________________________________\n",
      "dense_2 (Dense)              (None, 10)                1290      \n",
      "=================================================================\n",
      "Total params: 1,199,882\n",
      "Trainable params: 0\n",
      "Non-trainable params: 1,199,882\n",
      "_________________________________________________________________\n"
     ]
    }
   ],
   "source": [
    "# Load Dataset\n",
    "from tensorflow.keras.datasets import mnist\n",
    "(MNIST_x_data_train, MNIST_y_data_train), (MNIST_x_data_test, MNIST_y_data_test) = mnist.load_data()\n",
    "#MNIST_x_data_train = np.load('./datasets/mnist_x_train.npy')\n",
    "#MNIST_y_data_train = np.load('./datasets/mnist_y_train.npy')\n",
    "#MNIST_x_data_test = np.load('./datasets/mnist_x_test.npy')\n",
    "#MNIST_y_data_test = np.load('./datasets/mnist_y_test.npy')\n",
    "\n",
    "# Load the model\n",
    "import tensorflow as tf\n",
    "assert tf.__version__[0]=='2', 'please install tensorflow 2.x'\n",
    "MNIST_CNN_tf = tf.keras.models.load_model('./models/keras_cnn_mnist')\n",
    "MNIST_CNN_tf.trainable=False\n",
    "MNIST_CNN_tf.summary()"
   ]
  },
  {
   "cell_type": "code",
   "execution_count": 3,
   "metadata": {},
   "outputs": [
    {
     "data": {
      "image/png": "[encoded data removed]",
      "text/plain": [
       "<Figure size 432x288 with 2 Axes>"
      ]
     },
     "metadata": {
      "needs_background": "light"
     },
     "output_type": "display_data"
    }
   ],
   "source": [
    "from xailib.explainers.intgrad_explainer import IntgradImageExplainer\n",
    "\n",
    "# 1) Create the Explainer\n",
    "ig = IntgradImageExplainer(MNIST_CNN_tf)\n",
    "\n",
    "# 2) Fit the Explainer\n",
    "ig.fit()\n",
    "\n",
    "# 3) Select the image we want to give an explanation for\n",
    "image = MNIST_x_data_train[0,:]\n",
    "\n",
    "# 4a) Preprocessing function: function that takes as input an image and return the correct format for the black box\n",
    "def preprocessing(image):\n",
    "    return tf.convert_to_tensor(image.reshape(28,28,1),dtype=tf.float32)\n",
    "\n",
    "# 4b) Predict Function of our black box: It needs to take as input the output of preprocessing and return an array of probabilities of classes with shape (-1,num_classes)\n",
    "def predict(image):\n",
    "    return tf.nn.softmax(MNIST_CNN_tf(image), axis=-1)\n",
    "\n",
    "# 5) Explain an Instance\n",
    "scores = ig.explain(image, 5, 'black', preprocessing, predict, model_type='tensorflow')\n",
    "\n",
    "plt.imshow(scores,cmap='coolwarm')\n",
    "plt.colorbar()\n",
    "plt.axis('off');"
   ]
  },
  {
   "cell_type": "markdown",
   "metadata": {},
   "source": [
    "## Intgrad (PyTorch Model)"
   ]
  },
  {
   "cell_type": "code",
   "execution_count": 4,
   "metadata": {},
   "outputs": [
    {
     "data": {
      "text/plain": [
       "Net(\n",
       "  (conv_block): Sequential(\n",
       "    (0): Conv2d(1, 32, kernel_size=(3, 3), stride=(1, 1), padding=(1, 1))\n",
       "    (1): BatchNorm2d(32, eps=1e-05, momentum=0.1, affine=True, track_running_stats=True)\n",
       "    (2): ReLU(inplace=True)\n",
       "    (3): Conv2d(32, 64, kernel_size=(3, 3), stride=(1, 1), padding=(1, 1))\n",
       "    (4): BatchNorm2d(64, eps=1e-05, momentum=0.1, affine=True, track_running_stats=True)\n",
       "    (5): ReLU(inplace=True)\n",
       "    (6): MaxPool2d(kernel_size=2, stride=2, padding=0, dilation=1, ceil_mode=False)\n",
       "    (7): Conv2d(64, 128, kernel_size=(3, 3), stride=(1, 1), padding=(1, 1))\n",
       "    (8): BatchNorm2d(128, eps=1e-05, momentum=0.1, affine=True, track_running_stats=True)\n",
       "    (9): ReLU(inplace=True)\n",
       "    (10): MaxPool2d(kernel_size=2, stride=2, padding=0, dilation=1, ceil_mode=False)\n",
       "  )\n",
       "  (linear_block): Sequential(\n",
       "    (0): Dropout(p=0.5, inplace=False)\n",
       "    (1): Linear(in_features=6272, out_features=128, bias=True)\n",
       "    (2): BatchNorm1d(128, eps=1e-05, momentum=0.1, affine=True, track_running_stats=True)\n",
       "    (3): ReLU(inplace=True)\n",
       "    (4): Dropout(p=0.5, inplace=False)\n",
       "    (5): Linear(in_features=128, out_features=64, bias=True)\n",
       "    (6): BatchNorm1d(64, eps=1e-05, momentum=0.1, affine=True, track_running_stats=True)\n",
       "    (7): ReLU(inplace=True)\n",
       "    (8): Dropout(p=0.5, inplace=False)\n",
       "    (9): Linear(in_features=64, out_features=10, bias=True)\n",
       "  )\n",
       ")"
      ]
     },
     "execution_count": 4,
     "metadata": {},
     "output_type": "execute_result"
    }
   ],
   "source": [
    "# Load Dataset\n",
    "#import torchvision\n",
    "#import torchvision.datasets as datasets\n",
    "#mnist_train = datasets.MNIST(root='./data', train=True, download=True, transform=None)\n",
    "#mnist_test = datasets.MNIST(root='./data', train=False, download=True, transform=None)\n",
    "#from tensorflow.keras.datasets import mnist\n",
    "#(MNIST_x_data_train, MNIST_y_data_train), (MNIST_x_data_test, MNIST_y_data_test) = mnist.load_data()\n",
    "\n",
    "# Load the model\n",
    "import torch\n",
    "import torch.nn as nn\n",
    "\n",
    "class Net(nn.Module):\n",
    "    def __init__(self):\n",
    "        super(Net, self).__init__()\n",
    "        \n",
    "        self.conv_block = nn.Sequential(\n",
    "            nn.Conv2d(1, 32, kernel_size=3, stride=1, padding=1),\n",
    "            nn.BatchNorm2d(32),\n",
    "            nn.ReLU(inplace=True),\n",
    "            nn.Conv2d(32, 64, kernel_size=3, stride=1, padding=1),\n",
    "            nn.BatchNorm2d(64),\n",
    "            nn.ReLU(inplace=True),\n",
    "            nn.MaxPool2d(kernel_size=2, stride=2),\n",
    "            nn.Conv2d(64, 128, kernel_size=3, stride=1, padding=1),\n",
    "            nn.BatchNorm2d(128),\n",
    "            nn.ReLU(inplace=True),\n",
    "            nn.MaxPool2d(kernel_size=2, stride=2) \n",
    "        )\n",
    "        \n",
    "        self.linear_block = nn.Sequential(\n",
    "            nn.Dropout(p=0.5),\n",
    "            nn.Linear(128*7*7, 128),\n",
    "            nn.BatchNorm1d(128),\n",
    "            nn.ReLU(inplace=True),\n",
    "            nn.Dropout(0.5),\n",
    "            nn.Linear(128, 64),\n",
    "            nn.BatchNorm1d(64),\n",
    "            nn.ReLU(inplace=True),\n",
    "            nn.Dropout(0.5),\n",
    "            nn.Linear(64, 10)\n",
    "        )\n",
    "        \n",
    "    def forward(self, x):\n",
    "        x = self.conv_block(x)\n",
    "        x = x.view(x.size(0), -1)\n",
    "        x = torch.nn.functional.softmax(self.linear_block(x),dim=1)\n",
    "        \n",
    "        return x\n",
    "MNIST_CNN = Net()\n",
    "MNIST_CNN.load_state_dict(torch.load('./models/MNIST_Pytorch_CNN.pt',map_location=torch.device('cpu')))\n",
    "MNIST_CNN.eval()"
   ]
  },
  {
   "cell_type": "code",
   "execution_count": 5,
   "metadata": {},
   "outputs": [
    {
     "data": {
      "image/png": "[encoded data removed]",
      "text/plain": [
       "<Figure size 432x288 with 2 Axes>"
      ]
     },
     "metadata": {
      "needs_background": "light"
     },
     "output_type": "display_data"
    }
   ],
   "source": [
    "from xailib.explainers.intgrad_explainer import IntgradImageExplainer\n",
    "from skimage.color import gray2rgb\n",
    "\n",
    "def rgb2gray(rgb):\n",
    "    return np.dot(rgb[..., :3], [0.299, 0.587, 0.114])\n",
    "\n",
    "# 1) Create the Explainer\n",
    "ig = IntgradImageExplainer(MNIST_CNN)\n",
    "\n",
    "# 2) Fit the Explainer\n",
    "ig.fit()\n",
    "\n",
    "# 3) Select the image we want to give an explanation for\n",
    "image = MNIST_x_data_train[0]\n",
    "\n",
    "# 4a) Preprocessing function: function that takes as input an image and return the correct format for the black box\n",
    "def preprocessing(image):\n",
    "    return torch.tensor([[image]]).float()\n",
    "\n",
    "# 4b) Predict Function of our black box: It needs to take as input the output of preprocessing and return an array of probabilities of classes with shape (-1,num_classes)\n",
    "def predict(image):\n",
    "    return MNIST_CNN(image)\n",
    "\n",
    "# 5) Explain an Instance\n",
    "scores = ig.explain(image, 5, 'black', preprocessing, predict, model_type='pytorch')\n",
    "\n",
    "plt.imshow(scores,cmap='coolwarm')\n",
    "plt.colorbar()\n",
    "plt.axis('off');"
   ]
  },
  {
   "cell_type": "markdown",
   "metadata": {
    "tags": []
   },
   "source": [
    "## LIME"
   ]
  },
  {
   "cell_type": "markdown",
   "metadata": {},
   "source": [
    "<img src='./images/lime_MNIST.jpg' width=\"50%\" height=\"50%\">"
   ]
  },
  {
   "cell_type": "code",
   "execution_count": 6,
   "metadata": {},
   "outputs": [
    {
     "data": {
      "text/plain": [
       "Net(\n",
       "  (conv_block): Sequential(\n",
       "    (0): Conv2d(1, 32, kernel_size=(3, 3), stride=(1, 1), padding=(1, 1))\n",
       "    (1): BatchNorm2d(32, eps=1e-05, momentum=0.1, affine=True, track_running_stats=True)\n",
       "    (2): ReLU(inplace=True)\n",
       "    (3): Conv2d(32, 64, kernel_size=(3, 3), stride=(1, 1), padding=(1, 1))\n",
       "    (4): BatchNorm2d(64, eps=1e-05, momentum=0.1, affine=True, track_running_stats=True)\n",
       "    (5): ReLU(inplace=True)\n",
       "    (6): MaxPool2d(kernel_size=2, stride=2, padding=0, dilation=1, ceil_mode=False)\n",
       "    (7): Conv2d(64, 128, kernel_size=(3, 3), stride=(1, 1), padding=(1, 1))\n",
       "    (8): BatchNorm2d(128, eps=1e-05, momentum=0.1, affine=True, track_running_stats=True)\n",
       "    (9): ReLU(inplace=True)\n",
       "    (10): MaxPool2d(kernel_size=2, stride=2, padding=0, dilation=1, ceil_mode=False)\n",
       "  )\n",
       "  (linear_block): Sequential(\n",
       "    (0): Dropout(p=0.5, inplace=False)\n",
       "    (1): Linear(in_features=6272, out_features=128, bias=True)\n",
       "    (2): BatchNorm1d(128, eps=1e-05, momentum=0.1, affine=True, track_running_stats=True)\n",
       "    (3): ReLU(inplace=True)\n",
       "    (4): Dropout(p=0.5, inplace=False)\n",
       "    (5): Linear(in_features=128, out_features=64, bias=True)\n",
       "    (6): BatchNorm1d(64, eps=1e-05, momentum=0.1, affine=True, track_running_stats=True)\n",
       "    (7): ReLU(inplace=True)\n",
       "    (8): Dropout(p=0.5, inplace=False)\n",
       "    (9): Linear(in_features=64, out_features=10, bias=True)\n",
       "  )\n",
       ")"
      ]
     },
     "execution_count": 6,
     "metadata": {},
     "output_type": "execute_result"
    }
   ],
   "source": [
    "# Load Dataset\n",
    "#import torchvision\n",
    "#import torchvision.datasets as datasets\n",
    "#mnist_train = datasets.MNIST(root='./data', train=True, download=True, transform=None)\n",
    "#mnist_test = datasets.MNIST(root='./data', train=False, download=True, transform=None)\n",
    "from tensorflow.keras.datasets import mnist\n",
    "(MNIST_x_data_train, MNIST_y_data_train), (MNIST_x_data_test, MNIST_y_data_test) = mnist.load_data()\n",
    "\n",
    "# Load the model\n",
    "import torch\n",
    "import torch.nn as nn\n",
    "\n",
    "class Net(nn.Module):\n",
    "    def __init__(self):\n",
    "        super(Net, self).__init__()\n",
    "        \n",
    "        self.conv_block = nn.Sequential(\n",
    "            nn.Conv2d(1, 32, kernel_size=3, stride=1, padding=1),\n",
    "            nn.BatchNorm2d(32),\n",
    "            nn.ReLU(inplace=True),\n",
    "            nn.Conv2d(32, 64, kernel_size=3, stride=1, padding=1),\n",
    "            nn.BatchNorm2d(64),\n",
    "            nn.ReLU(inplace=True),\n",
    "            nn.MaxPool2d(kernel_size=2, stride=2),\n",
    "            nn.Conv2d(64, 128, kernel_size=3, stride=1, padding=1),\n",
    "            nn.BatchNorm2d(128),\n",
    "            nn.ReLU(inplace=True),\n",
    "            nn.MaxPool2d(kernel_size=2, stride=2) \n",
    "        )\n",
    "        \n",
    "        self.linear_block = nn.Sequential(\n",
    "            nn.Dropout(p=0.5),\n",
    "            nn.Linear(128*7*7, 128),\n",
    "            nn.BatchNorm1d(128),\n",
    "            nn.ReLU(inplace=True),\n",
    "            nn.Dropout(0.5),\n",
    "            nn.Linear(128, 64),\n",
    "            nn.BatchNorm1d(64),\n",
    "            nn.ReLU(inplace=True),\n",
    "            nn.Dropout(0.5),\n",
    "            nn.Linear(64, 10)\n",
    "        )\n",
    "        \n",
    "    def forward(self, x):\n",
    "        x = self.conv_block(x)\n",
    "        x = x.view(x.size(0), -1)\n",
    "        x = torch.nn.functional.softmax(self.linear_block(x),dim=1)\n",
    "        \n",
    "        return x\n",
    "MNIST_CNN = Net()\n",
    "MNIST_CNN.load_state_dict(torch.load('./models/MNIST_Pytorch_CNN.pt',map_location=torch.device('cpu')))\n",
    "MNIST_CNN.eval()"
   ]
  },
  {
   "cell_type": "code",
   "execution_count": 7,
   "metadata": {},
   "outputs": [
    {
     "name": "stderr",
     "output_type": "stream",
     "text": [
      "100%|██████████| 500/500 [00:00<00:00, 518.39it/s]\n"
     ]
    },
    {
     "data": {
      "image/png": "[encoded data removed]",
      "text/plain": [
       "<Figure size 1080x360 with 3 Axes>"
      ]
     },
     "metadata": {
      "needs_background": "light"
     },
     "output_type": "display_data"
    }
   ],
   "source": [
    "from xailib.explainers.lime_explainer import LimeXAIImageExplainer\n",
    "from skimage.color import label2rgb, gray2rgb, rgb2gray\n",
    "\n",
    "# index of the image to explain\n",
    "idx = 0\n",
    "\n",
    "# 1) Create the Explainer\n",
    "lm = LimeXAIImageExplainer(MNIST_CNN)\n",
    "\n",
    "# 2a) Fit the Explainer\n",
    "lm.fit()\n",
    "\n",
    "# 2b) Create custom classifier function if not predict \n",
    "# function that takes as input an array of images (the LIME neighbourhood) and return an array of (num_images,num_classes)\n",
    "# If None will use black_box.predict function\n",
    "def classifier_fn(images):\n",
    "    images = torch.tensor(rgb2gray(images).reshape(-1,1,28,28)).float()\n",
    "    return np.argmax(MNIST_CNN(images).detach().numpy(),axis=1).reshape(-1,1)\n",
    "\n",
    "# 3) Explain an Instance\n",
    "explanation = lm.explain(gray2rgb(MNIST_x_data_train[idx]), classifier_fn, num_samples=500)\n",
    "\n",
    "# 4) Plot the results\n",
    "lm.plot_lime_values(MNIST_x_data_train[idx], explanation)"
   ]
  },
  {
   "cell_type": "code",
   "execution_count": 8,
   "metadata": {},
   "outputs": [
    {
     "data": {
      "image/png": "[encoded data removed]",
      "text/plain": [
       "<Figure size 432x288 with 1 Axes>"
      ]
     },
     "metadata": {
      "needs_background": "light"
     },
     "output_type": "display_data"
    }
   ],
   "source": [
    "from skimage.segmentation import mark_boundaries\n",
    "temp, mask = explanation.get_image_and_mask(explanation.top_labels[0], positive_only=True, num_features=5, hide_rest=False)\n",
    "img_boundry1 = mark_boundaries(temp/255.0, mask)\n",
    "plt.imshow(img_boundry1)\n",
    "plt.axis('off');"
   ]
  },
  {
   "cell_type": "code",
   "execution_count": 9,
   "metadata": {},
   "outputs": [
    {
     "data": {
      "image/png": "[encoded data removed]",
      "text/plain": [
       "<Figure size 432x288 with 1 Axes>"
      ]
     },
     "metadata": {
      "needs_background": "light"
     },
     "output_type": "display_data"
    }
   ],
   "source": [
    "temp, mask = explanation.get_image_and_mask(explanation.top_labels[0], positive_only=False, num_features=10, hide_rest=False)\n",
    "img_boundry2 = mark_boundaries(temp/255.0, mask)\n",
    "plt.imshow(img_boundry2);"
   ]
  },
  {
   "cell_type": "code",
   "execution_count": 10,
   "metadata": {},
   "outputs": [
    {
     "data": {
      "image/png": "[encoded data removed]",
      "text/plain": [
       "<Figure size 432x288 with 1 Axes>"
      ]
     },
     "metadata": {
      "needs_background": "light"
     },
     "output_type": "display_data"
    }
   ],
   "source": [
    "from skimage.segmentation import quickshift, mark_boundaries\n",
    "from skimage.color import gray2rgb\n",
    "image = gray2rgb(MNIST_x_data_train[0].astype(int))\n",
    "\"\"\"\n",
    "First you need to define the segmentation function to use, in this example we will use\n",
    "quickshift from skimage. It is foundamental to tune the parameters of the segmentation in\n",
    "order to have a good one. It is recommentded to print an example of just only the segmentation\n",
    "to see if it works for that kind of image\n",
    "For quickshift we have to tune these two parameters below\n",
    "kernel_size : float, optional\n",
    "    Width of Gaussian kernel used in smoothing the\n",
    "    sample density. Higher means fewer clusters.\n",
    "max_dist : float, optional\n",
    "    Cut-off point for data distances.\n",
    "    Higher means fewer clusters.\n",
    "\"\"\"\n",
    "def segmentation_fn(image):\n",
    "    return quickshift(image, kernel_size=2, max_dist=3)\n",
    "plt.imshow(mark_boundaries(image/255,segmentation_fn(image)))\n",
    "plt.axis('off');"
   ]
  },
  {
   "cell_type": "code",
   "execution_count": 11,
   "metadata": {},
   "outputs": [
    {
     "name": "stderr",
     "output_type": "stream",
     "text": [
      "100%|██████████| 500/500 [00:00<00:00, 516.22it/s]\n"
     ]
    },
    {
     "data": {
      "image/png": "[encoded data removed]",
      "text/plain": [
       "<Figure size 1080x360 with 3 Axes>"
      ]
     },
     "metadata": {
      "needs_background": "light"
     },
     "output_type": "display_data"
    }
   ],
   "source": [
    "from xailib.explainers.lime_explainer import LimeXAIImageExplainer\n",
    "from skimage.color import label2rgb, gray2rgb, rgb2gray\n",
    "\n",
    "# index of the image to explain\n",
    "idx = 0\n",
    "\n",
    "# 1) Create the Explainer\n",
    "lm = LimeXAIImageExplainer(MNIST_CNN)\n",
    "\n",
    "# 2a) Fit the Explainer\n",
    "lm.fit()\n",
    "\n",
    "# 2b) Create custom classifier function if not predict \n",
    "# function that takes as input an array of images (the LIME neighbourhood) and return an array of (num_images,num_classes)\n",
    "# If None will use black_box.predict function\n",
    "def classifier_fn(images):\n",
    "    images = torch.tensor(rgb2gray(images).reshape(-1,1,28,28)).float()\n",
    "    return np.argmax(MNIST_CNN(images).detach().numpy(),axis=1).reshape(-1,1)\n",
    "\n",
    "# 3) Explain an Instance\n",
    "explanation = lm.explain(gray2rgb(MNIST_x_data_train[idx]), classifier_fn, segmentation_fn, num_samples=500)\n",
    "\n",
    "# 4) Plot the results\n",
    "lm.plot_lime_values(MNIST_x_data_train[idx], explanation)"
   ]
  },
  {
   "cell_type": "markdown",
   "metadata": {},
   "source": [
    "## RISE"
   ]
  },
  {
   "cell_type": "markdown",
   "metadata": {},
   "source": [
    "<img src='./images/rise_MNIST.jpg' width=\"50%\" height=\"50%\">"
   ]
  },
  {
   "cell_type": "code",
   "execution_count": 12,
   "metadata": {},
   "outputs": [
    {
     "data": {
      "image/png": "[encoded data removed]",
      "text/plain": [
       "<Figure size 2160x360 with 10 Axes>"
      ]
     },
     "metadata": {
      "needs_background": "light"
     },
     "output_type": "display_data"
    }
   ],
   "source": [
    "from xailib.explainers.rise_explainer import RiseXAIImageExplainer\n",
    "\n",
    "class Rise_model_wrapper():\n",
    "    def __init__(self, bb, input_size):\n",
    "        self.model = bb\n",
    "        self.input_size = input_size\n",
    "        \n",
    "    def predict(self, X):\n",
    "        return self.model(torch.tensor(X).reshape(-1,1,28,28).float()).detach().numpy()\n",
    "        \n",
    "\n",
    "model = Rise_model_wrapper(MNIST_CNN, (28,28))\n",
    "rise = RiseXAIImageExplainer(model)\n",
    "        \n",
    "\n",
    "N = 10 # number of random masks\n",
    "s = 10 # cell_size = input_shape / s\n",
    "p1 = 0.5 # masking probability\n",
    "\n",
    "rise.fit(N, s, p1)\n",
    "\n",
    "F,ax=plt.subplots(1,10,figsize=(30,5))\n",
    "for i in range(10):\n",
    "    ax[i].imshow(rise.masks[i,:])"
   ]
  },
  {
   "cell_type": "code",
   "execution_count": 13,
   "metadata": {},
   "outputs": [
    {
     "data": {
      "image/png": "[encoded data removed]",
      "text/plain": [
       "<Figure size 720x360 with 3 Axes>"
      ]
     },
     "metadata": {
      "needs_background": "light"
     },
     "output_type": "display_data"
    }
   ],
   "source": [
    "fig, ax = plt.subplots(1,3,figsize=(10,5))\n",
    "img = MNIST_x_data_train[0,:]\n",
    "N = 4000\n",
    "s = 8\n",
    "p1 = 0.5\n",
    "\n",
    "rise.fit(N, s, p1)\n",
    "\n",
    "sal = rise.explain(img.reshape(28,28,1)/255)\n",
    "\n",
    "ax[0].imshow(img,cmap='gray')\n",
    "ax[0].axis('off')\n",
    "\n",
    "ax[1].imshow(sal[MNIST_y_data_test[0]],cmap='jet')\n",
    "ax[1].axis('off')\n",
    "\n",
    "ax[2].imshow(img,cmap='gray')\n",
    "ax[2].imshow(sal[MNIST_y_data_test[0]],cmap='jet',alpha=0.5)\n",
    "ax[2].axis('off');"
   ]
  },
  {
   "cell_type": "markdown",
   "metadata": {},
   "source": [
    "# GRADCAM\n",
    "Weight the 2D activations by the average gradient"
   ]
  },
  {
   "cell_type": "code",
   "execution_count": 14,
   "metadata": {},
   "outputs": [],
   "source": [
    "from xailib.explainers.gradcam_explainer import GradCAMImageExplainer\n",
    "\n",
    "img = MNIST_x_data_train[0,:]\n",
    "\n",
    "explainer = GradCAMImageExplainer(MNIST_CNN)\n",
    "\n",
    "explainer.fit([MNIST_CNN.conv_block[10]])\n",
    "\n",
    "attr = explainer.explain(torch.tensor(img).reshape(-1,1,28,28).float()/255, 5, model_type='pytorch')\n"
   ]
  },
  {
   "cell_type": "code",
   "execution_count": 15,
   "metadata": {},
   "outputs": [
    {
     "data": {
      "image/png": "[encoded data removed]",
      "text/plain": [
       "<Figure size 720x360 with 3 Axes>"
      ]
     },
     "metadata": {
      "needs_background": "light"
     },
     "output_type": "display_data"
    }
   ],
   "source": [
    "fig, ax = plt.subplots(1,3,figsize=(10,5))\n",
    "\n",
    "ax[0].imshow(img,cmap='gray')\n",
    "ax[0].axis('off')\n",
    "\n",
    "ax[1].imshow(attr[0,:],cmap='jet')\n",
    "ax[1].axis('off')\n",
    "\n",
    "ax[2].imshow(img,cmap='gray')\n",
    "ax[2].imshow(attr[0,:],cmap='jet',alpha=0.5)\n",
    "ax[2].axis('off');"
   ]
  },
  {
   "cell_type": "code",
   "execution_count": 6,
   "metadata": {},
   "outputs": [],
   "source": [
    "from xailib.explainers.gradcam_explainer import GradCAMImageExplainer\n",
    "\n",
    "img = MNIST_x_data_train[0,:]\n",
    "\n",
    "explainer = GradCAMImageExplainer(MNIST_CNN_tf)\n",
    "\n",
    "explainer.fit('max_pooling2d_1', model_type='tensorflow')\n",
    "\n",
    "attr = explainer.explain(tf.convert_to_tensor(img.reshape(28,28,1)/255,dtype=tf.float32), 5, model_type='tensorflow')\n"
   ]
  },
  {
   "cell_type": "code",
   "execution_count": 8,
   "metadata": {},
   "outputs": [
    {
     "data": {
      "image/png": "[encoded data removed]",
      "text/plain": [
       "<Figure size 720x360 with 3 Axes>"
      ]
     },
     "metadata": {
      "needs_background": "light"
     },
     "output_type": "display_data"
    }
   ],
   "source": [
    "fig, ax = plt.subplots(1,3,figsize=(10,5))\n",
    "\n",
    "ax[0].imshow(img,cmap='gray')\n",
    "ax[0].axis('off')\n",
    "\n",
    "ax[1].imshow(attr,cmap='jet')\n",
    "ax[1].axis('off')\n",
    "\n",
    "ax[2].imshow(img,cmap='gray')\n",
    "ax[2].imshow(attr,cmap='jet',alpha=0.5)\n",
    "ax[2].axis('off');"
   ]
  },
  {
   "cell_type": "markdown",
   "metadata": {},
   "source": [
    "# GRADCAM++\n",
    "Like GradCAM but uses second order gradients"
   ]
  },
  {
   "cell_type": "code",
   "execution_count": null,
   "metadata": {},
   "outputs": [],
   "source": [
    "from xailib.explainers.gradcam_explainer import GradCAMPlusPlusImageExplainer\n",
    "\n",
    "img = MNIST_x_data_train[0,:]\n",
    "\n",
    "explainer = GradCAMPlusPlusImageExplainer(MNIST_CNN)\n",
    "\n",
    "explainer.fit([MNIST_CNN.conv_block[10]])\n",
    "\n",
    "attr = explainer.explain(torch.tensor(img).reshape(-1,1,28,28).float()/255, 5, model_type='pytorch')"
   ]
  },
  {
   "cell_type": "code",
   "execution_count": null,
   "metadata": {},
   "outputs": [
    {
     "data": {
      "image/png": "[encoded data removed]",
      "text/plain": [
       "<Figure size 720x360 with 3 Axes>"
      ]
     },
     "metadata": {
      "needs_background": "light"
     },
     "output_type": "display_data"
    }
   ],
   "source": [
    "fig, ax = plt.subplots(1,3,figsize=(10,5))\n",
    "\n",
    "ax[0].imshow(img,cmap='gray')\n",
    "ax[0].axis('off')\n",
    "\n",
    "ax[1].imshow(attr[0,:],cmap='jet')\n",
    "ax[1].axis('off')\n",
    "\n",
    "ax[2].imshow(img,cmap='gray')\n",
    "ax[2].imshow(attr[0,:],cmap='jet',alpha=0.5)\n",
    "ax[2].axis('off');"
   ]
  },
  {
   "cell_type": "code",
   "execution_count": 4,
   "metadata": {},
   "outputs": [],
   "source": [
    "from xailib.explainers.gradcam_explainer import GradCAMPlusPlusImageExplainer\n",
    "\n",
    "img = MNIST_x_data_train[0,:]\n",
    "\n",
    "explainer = GradCAMPlusPlusImageExplainer(MNIST_CNN_tf)\n",
    "\n",
    "explainer.fit('max_pooling2d_1', model_type='tensorflow')\n",
    "\n",
    "attr = explainer.explain(tf.convert_to_tensor(img.reshape(28,28,1)/255,dtype=tf.float32), 5, model_type='tensorflow')"
   ]
  },
  {
   "cell_type": "code",
   "execution_count": 6,
   "metadata": {},
   "outputs": [
    {
     "data": {
      "image/png": "[encoded data removed]",
      "text/plain": [
       "<Figure size 720x360 with 3 Axes>"
      ]
     },
     "metadata": {
      "needs_background": "light"
     },
     "output_type": "display_data"
    }
   ],
   "source": [
    "fig, ax = plt.subplots(1,3,figsize=(10,5))\n",
    "\n",
    "ax[0].imshow(img,cmap='gray')\n",
    "ax[0].axis('off')\n",
    "\n",
    "ax[1].imshow(attr,cmap='jet')\n",
    "ax[1].axis('off')\n",
    "\n",
    "ax[2].imshow(img,cmap='gray')\n",
    "ax[2].imshow(attr,cmap='jet',alpha=0.5)\n",
    "ax[2].axis('off');"
   ]
  },
  {
   "cell_type": "markdown",
   "metadata": {},
   "source": [
    "# ILORE"
   ]
  },
  {
   "cell_type": "markdown",
   "metadata": {},
   "source": [
    "<img src='./images/lore_MNIST.jpg' width=\"50%\" height=\"50%\">"
   ]
  },
  {
   "cell_type": "code",
   "execution_count": null,
   "metadata": {},
   "outputs": [
    {
     "data": {
      "text/plain": [
       "Net(\n",
       "  (conv_block): Sequential(\n",
       "    (0): Conv2d(1, 32, kernel_size=(3, 3), stride=(1, 1), padding=(1, 1))\n",
       "    (1): BatchNorm2d(32, eps=1e-05, momentum=0.1, affine=True, track_running_stats=True)\n",
       "    (2): ReLU(inplace=True)\n",
       "    (3): Conv2d(32, 64, kernel_size=(3, 3), stride=(1, 1), padding=(1, 1))\n",
       "    (4): BatchNorm2d(64, eps=1e-05, momentum=0.1, affine=True, track_running_stats=True)\n",
       "    (5): ReLU(inplace=True)\n",
       "    (6): MaxPool2d(kernel_size=2, stride=2, padding=0, dilation=1, ceil_mode=False)\n",
       "    (7): Conv2d(64, 128, kernel_size=(3, 3), stride=(1, 1), padding=(1, 1))\n",
       "    (8): BatchNorm2d(128, eps=1e-05, momentum=0.1, affine=True, track_running_stats=True)\n",
       "    (9): ReLU(inplace=True)\n",
       "    (10): MaxPool2d(kernel_size=2, stride=2, padding=0, dilation=1, ceil_mode=False)\n",
       "  )\n",
       "  (linear_block): Sequential(\n",
       "    (0): Dropout(p=0.5, inplace=False)\n",
       "    (1): Linear(in_features=6272, out_features=128, bias=True)\n",
       "    (2): BatchNorm1d(128, eps=1e-05, momentum=0.1, affine=True, track_running_stats=True)\n",
       "    (3): ReLU(inplace=True)\n",
       "    (4): Dropout(p=0.5, inplace=False)\n",
       "    (5): Linear(in_features=128, out_features=64, bias=True)\n",
       "    (6): BatchNorm1d(64, eps=1e-05, momentum=0.1, affine=True, track_running_stats=True)\n",
       "    (7): ReLU(inplace=True)\n",
       "    (8): Dropout(p=0.5, inplace=False)\n",
       "    (9): Linear(in_features=64, out_features=10, bias=True)\n",
       "  )\n",
       ")"
      ]
     },
     "execution_count": 14,
     "metadata": {},
     "output_type": "execute_result"
    }
   ],
   "source": [
    "# Load Dataset\n",
    "#import torchvision\n",
    "#import torchvision.datasets as datasets\n",
    "#mnist_train = datasets.MNIST(root='./data', train=True, download=True, transform=None)\n",
    "#mnist_test = datasets.MNIST(root='./data', train=False, download=True, transform=None)\n",
    "from tensorflow.keras.datasets import mnist\n",
    "(MNIST_x_data_train, MNIST_y_data_train), (MNIST_x_data_test, MNIST_y_data_test) = mnist.load_data()\n",
    "\n",
    "# Load the model\n",
    "import torch\n",
    "import torch.nn as nn\n",
    "\n",
    "class Net(nn.Module):\n",
    "    def __init__(self):\n",
    "        super(Net, self).__init__()\n",
    "        \n",
    "        self.conv_block = nn.Sequential(\n",
    "            nn.Conv2d(1, 32, kernel_size=3, stride=1, padding=1),\n",
    "            nn.BatchNorm2d(32),\n",
    "            nn.ReLU(inplace=True),\n",
    "            nn.Conv2d(32, 64, kernel_size=3, stride=1, padding=1),\n",
    "            nn.BatchNorm2d(64),\n",
    "            nn.ReLU(inplace=True),\n",
    "            nn.MaxPool2d(kernel_size=2, stride=2),\n",
    "            nn.Conv2d(64, 128, kernel_size=3, stride=1, padding=1),\n",
    "            nn.BatchNorm2d(128),\n",
    "            nn.ReLU(inplace=True),\n",
    "            nn.MaxPool2d(kernel_size=2, stride=2) \n",
    "        )\n",
    "        \n",
    "        self.linear_block = nn.Sequential(\n",
    "            nn.Dropout(p=0.5),\n",
    "            nn.Linear(128*7*7, 128),\n",
    "            nn.BatchNorm1d(128),\n",
    "            nn.ReLU(inplace=True),\n",
    "            nn.Dropout(0.5),\n",
    "            nn.Linear(128, 64),\n",
    "            nn.BatchNorm1d(64),\n",
    "            nn.ReLU(inplace=True),\n",
    "            nn.Dropout(0.5),\n",
    "            nn.Linear(64, 10)\n",
    "        )\n",
    "        \n",
    "    def forward(self, x):\n",
    "        x = self.conv_block(x)\n",
    "        x = x.view(x.size(0), -1)\n",
    "        x = torch.nn.functional.softmax(self.linear_block(x),dim=1)\n",
    "        \n",
    "        return x\n",
    "MNIST_CNN = Net()\n",
    "MNIST_CNN.load_state_dict(torch.load('./models/MNIST_Pytorch_CNN.pt',map_location=torch.device('cpu')))\n",
    "MNIST_CNN.eval()"
   ]
  },
  {
   "cell_type": "code",
   "execution_count": null,
   "metadata": {},
   "outputs": [
    {
     "data": {
      "image/png": "[encoded data removed]",
      "text/plain": [
       "<Figure size 432x288 with 1 Axes>"
      ]
     },
     "metadata": {
      "needs_background": "light"
     },
     "output_type": "display_data"
    }
   ],
   "source": [
    "from skimage.segmentation import quickshift, mark_boundaries\n",
    "from skimage.color import gray2rgb\n",
    "image = gray2rgb(MNIST_x_data_train[0].astype(int))\n",
    "\"\"\"\n",
    "First you need to define the segmentation function to use, in this example we will use\n",
    "quickshift from skimage. It is foundamental to tune the parameters of the segmentation in\n",
    "order to have a good one. It is recommentded to print an example of just only the segmentation\n",
    "to see if it works for that kind of image\n",
    "For quickshift we have to tune these two parameters below\n",
    "kernel_size : float, optional\n",
    "    Width of Gaussian kernel used in smoothing the\n",
    "    sample density. Higher means fewer clusters.\n",
    "max_dist : float, optional\n",
    "    Cut-off point for data distances.\n",
    "    Higher means fewer clusters.\n",
    "\"\"\"\n",
    "def segmentation_fn(image):\n",
    "    return quickshift(image, kernel_size=2, max_dist=3)\n",
    "plt.imshow(mark_boundaries(image/255,segmentation_fn(image)))\n",
    "plt.axis('off');"
   ]
  },
  {
   "cell_type": "code",
   "execution_count": null,
   "metadata": {},
   "outputs": [],
   "source": [
    "from externals.LOREM.ilorem import ILOREM\n",
    "\n",
    "# Function to convert from rgb2gray since the one implemented in skimage gives problems\n",
    "def rgb2gray(rgb):\n",
    "    return np.dot(rgb[..., :3], [0.299, 0.587, 0.114])\n",
    "\n",
    "# Predict Function of our black box. \n",
    "# !!!IMPORTANT!!! It needs to take as input a list of RGB images and return an array of class indices of shape (-1,1)\n",
    "def classifier_fn(images):\n",
    "    images = torch.tensor(rgb2gray(np.array(images))/255).float().unsqueeze(1)\n",
    "    return np.argmax(MNIST_CNN(images).detach().numpy(),axis=1).reshape(-1,1)\n",
    "\n",
    "# Create the explainer\n",
    "explainer = ILOREM(bb_predict = classifier_fn, \n",
    "                   class_name='class', \n",
    "                   class_values = range(10), \n",
    "                   segmentation_fn=segmentation_fn,\n",
    "                   verbose=True)"
   ]
  },
  {
   "cell_type": "code",
   "execution_count": null,
   "metadata": {},
   "outputs": [
    {
     "name": "stdout",
     "output_type": "stream",
     "text": [
      "generating neighborhood\n",
      "synthetic neighborhood class counts {3: 37, 5: 59, 7: 1, 8: 1, 9: 2}\n",
      "learning local decision tree\n",
      "retrieving explanation\n"
     ]
    }
   ],
   "source": [
    "exp = explainer.explain_instance(gray2rgb(MNIST_x_data_train[0].astype(int)), num_samples=100, use_weights=True, metric='cosine')"
   ]
  },
  {
   "cell_type": "code",
   "execution_count": null,
   "metadata": {},
   "outputs": [
    {
     "name": "stdout",
     "output_type": "stream",
     "text": [
      "e = {\n",
      "\tr = { 1 > 0.50, 5 > 0.50 } --> { class: 5 }\n",
      "\tc = { { 1 <= 0.50 } --> { class: 3 } }    \n",
      "}\n"
     ]
    }
   ],
   "source": [
    "print('e = {\\n\\tr = %s\\n\\tc = %s    \\n}' % (exp.rstr(), exp.cstr()))"
   ]
  },
  {
   "cell_type": "code",
   "execution_count": null,
   "metadata": {},
   "outputs": [
    {
     "data": {
      "image/png": "[encoded data removed]",
      "text/plain": [
       "<Figure size 432x288 with 1 Axes>"
      ]
     },
     "metadata": {
      "needs_background": "light"
     },
     "output_type": "display_data"
    }
   ],
   "source": [
    "x,y = np.meshgrid(range(28),range(28))\n",
    "img2show, mask = exp.get_image_rule(hide_rest=False, num_features=None, min_importance=0.0)\n",
    "plt.imshow(mark_boundaries(img2show/255,mask))\n",
    "mask[mask != 2] = -1\n",
    "mask[mask == 2] = segmentation_fn(image)[mask == 2]\n",
    "\n",
    "mask = mask.ravel()\n",
    "\n",
    "for i in np.unique(mask):\n",
    "    if i != -1:\n",
    "        x_c = x.ravel()[np.where(mask==i)[0]]\n",
    "        y_c = y.ravel()[np.where(mask==i)[0]]\n",
    "        plt.text(np.median(x_c),np.median(y_c),str(i),fontsize=15, weight='bold')\n",
    "plt.axis('off');"
   ]
  },
  {
   "cell_type": "code",
   "execution_count": null,
   "metadata": {},
   "outputs": [
    {
     "data": {
      "image/png": "[encoded data removed]",
      "text/plain": [
       "<Figure size 432x288 with 1 Axes>"
      ]
     },
     "metadata": {
      "needs_background": "light"
     },
     "output_type": "display_data"
    }
   ],
   "source": [
    "imgs2show, masks, coutcomes = exp.get_image_counterfactuals(hide_rest=False, num_features=None, min_importance=0.0)\n",
    "x,y = np.meshgrid(range(28),range(28))\n",
    "s = segmentation_fn(image)\n",
    "\n",
    "if len(imgs2show)==1:\n",
    "    plt.imshow(mark_boundaries(imgs2show[0]/255, masks[0]))\n",
    "    \n",
    "    mask = masks[0]\n",
    "    mask[mask != 1] = -1\n",
    "    mask[mask == 1] = s[mask == 1]\n",
    "    mask = mask.ravel()\n",
    "    for j in np.unique(mask):\n",
    "        if j != -1:\n",
    "            x_c = x.ravel()[np.where(mask==j)[0]]\n",
    "            y_c = y.ravel()[np.where(mask==j)[0]]\n",
    "            plt.text(np.median(x_c),np.median(y_c),str(j),fontsize=15, weight='bold')\n",
    "            \n",
    "    plt.title('Black Box Prediction: '+str(coutcomes[0]))\n",
    "    plt.axis('off')\n",
    "else:\n",
    "    F, ax = plt.subplots(1,len(imgs2show),figsize=(5*len(imgs2show),5))\n",
    "    for i in range(len(imgs2show)):\n",
    "        ax[i].imshow(mark_boundaries(imgs2show[i]/255, masks[i]))\n",
    "        \n",
    "        mask = masks[i]\n",
    "        mask[mask != 1] = -1\n",
    "        mask[mask == 1] = s[mask == 1]\n",
    "        mask = mask.ravel()\n",
    "        for j in np.unique(mask):\n",
    "            if j != -1:\n",
    "                x_c = x.ravel()[np.where(mask==j)[0]]\n",
    "                y_c = y.ravel()[np.where(mask==j)[0]]\n",
    "                ax[i].text(np.median(x_c),np.median(y_c),str(j),fontsize=15, weight='bold')\n",
    "        \n",
    "        ax[i].set_title('Black Box Prediction: '+str(coutcomes[i]))\n",
    "        ax[i].axis('off')"
   ]
  },
  {
   "cell_type": "markdown",
   "metadata": {},
   "source": [
    "# ABELE"
   ]
  },
  {
   "cell_type": "markdown",
   "metadata": {},
   "source": [
    "In order to work ABELE needs a Test Set and an autoencoder trained on that"
   ]
  },
  {
   "cell_type": "markdown",
   "metadata": {},
   "source": [
    "### 1) Autoencoder Training"
   ]
  },
  {
   "cell_type": "markdown",
   "metadata": {},
   "source": [
    "Here we have a script to guide the user to the creation and the training of the autoencoder. \n",
    "If you want to use your own, you need to implement an autoencoder class with these funtioncs inside:\n",
    "- self.encode: take the image as input and return the latent space vector\n",
    "- self.decode: take a vector as input and return the reconstructed image\n",
    "- self.latent_dim: int representing the number of dimensions of the latent space\n",
    "- self.discriminator: (only for adversarial autoencoders) take a vector as input and output a class label"
   ]
  },
  {
   "cell_type": "code",
   "execution_count": null,
   "metadata": {},
   "outputs": [
    {
     "name": "stdout",
     "output_type": "stream",
     "text": [
      "Model: \"sequential\"\n",
      "_________________________________________________________________\n",
      "Layer (type)                 Output Shape              Param #   \n",
      "=================================================================\n",
      "dense (Dense)                (None, 1024)              5120      \n",
      "_________________________________________________________________\n",
      "leaky_re_lu (LeakyReLU)      (None, 1024)              0         \n",
      "_________________________________________________________________\n",
      "dense_1 (Dense)              (None, 512)               524800    \n",
      "_________________________________________________________________\n",
      "leaky_re_lu_1 (LeakyReLU)    (None, 512)               0         \n",
      "_________________________________________________________________\n",
      "dense_2 (Dense)              (None, 1)                 513       \n",
      "=================================================================\n",
      "Total params: 530,433\n",
      "Trainable params: 530,433\n",
      "Non-trainable params: 0\n",
      "_________________________________________________________________\n",
      "Model: \"model_1\"\n",
      "__________________________________________________________________________________________________\n",
      "Layer (type)                    Output Shape         Param #     Connected to                     \n",
      "==================================================================================================\n",
      "input_2 (InputLayer)            [(None, 28, 28, 3)]  0                                            \n",
      "__________________________________________________________________________________________________\n",
      "flatten (Flatten)               (None, 2352)         0           input_2[0][0]                    \n",
      "__________________________________________________________________________________________________\n",
      "dense_3 (Dense)                 (None, 1024)         2409472     flatten[0][0]                    \n",
      "__________________________________________________________________________________________________\n",
      "leaky_re_lu_2 (LeakyReLU)       (None, 1024)         0           dense_3[0][0]                    \n",
      "__________________________________________________________________________________________________\n",
      "dense_4 (Dense)                 (None, 1024)         1049600     leaky_re_lu_2[0][0]              \n",
      "__________________________________________________________________________________________________\n",
      "leaky_re_lu_3 (LeakyReLU)       (None, 1024)         0           dense_4[0][0]                    \n",
      "__________________________________________________________________________________________________\n",
      "dense_5 (Dense)                 (None, 4)            4100        leaky_re_lu_3[0][0]              \n",
      "__________________________________________________________________________________________________\n",
      "dense_6 (Dense)                 (None, 4)            4100        leaky_re_lu_3[0][0]              \n",
      "__________________________________________________________________________________________________\n",
      "lambda (Lambda)                 (None, 4)            0           dense_5[0][0]                    \n",
      "                                                                 dense_6[0][0]                    \n",
      "==================================================================================================\n",
      "Total params: 3,467,272\n",
      "Trainable params: 3,467,272\n",
      "Non-trainable params: 0\n",
      "__________________________________________________________________________________________________\n",
      "Model: \"sequential_1\"\n",
      "_________________________________________________________________\n",
      "Layer (type)                 Output Shape              Param #   \n",
      "=================================================================\n",
      "dense_7 (Dense)              (None, 1024)              5120      \n",
      "_________________________________________________________________\n",
      "leaky_re_lu_4 (LeakyReLU)    (None, 1024)              0         \n",
      "_________________________________________________________________\n",
      "dense_8 (Dense)              (None, 1024)              1049600   \n",
      "_________________________________________________________________\n",
      "leaky_re_lu_5 (LeakyReLU)    (None, 1024)              0         \n",
      "_________________________________________________________________\n",
      "dense_9 (Dense)              (None, 2352)              2410800   \n",
      "_________________________________________________________________\n",
      "reshape (Reshape)            (None, 28, 28, 3)         0         \n",
      "=================================================================\n",
      "Total params: 3,465,520\n",
      "Trainable params: 3,465,520\n",
      "Non-trainable params: 0\n",
      "_________________________________________________________________\n",
      "Model: \"model_3\"\n",
      "__________________________________________________________________________________________________\n",
      "Layer (type)                    Output Shape         Param #     Connected to                     \n",
      "==================================================================================================\n",
      "input_4 (InputLayer)            [(None, 28, 28, 3)]  0                                            \n",
      "__________________________________________________________________________________________________\n",
      "model_1 (Functional)            (None, 4)            3467272     input_4[0][0]                    \n",
      "__________________________________________________________________________________________________\n",
      "model_2 (Functional)            (None, 28, 28, 3)    3465520     model_1[0][0]                    \n",
      "__________________________________________________________________________________________________\n",
      "model (Functional)              (None, 1)            530433      model_1[0][0]                    \n",
      "==================================================================================================\n",
      "Total params: 7,463,225\n",
      "Trainable params: 6,932,792\n",
      "Non-trainable params: 530,433\n",
      "__________________________________________________________________________________________________\n",
      "WARNING:tensorflow:Discrepancy between trainable weights and collected trainable weights, did you set `model.trainable` without calling `model.compile` after ?\n",
      "Epoch 0/2000, 1.77 [D loss: 0.687938, acc: 52.34%] [G loss: 0.929251, mse: 0.929414]\n",
      "Epoch 50/2000, 0.05 [D loss: 0.410942, acc: 77.34%] [G loss: 0.248311, mse: 0.230754]\n",
      "Epoch 100/2000, 0.05 [D loss: 0.208262, acc: 96.09%] [G loss: 0.192144, mse: 0.186681]\n",
      "Epoch 150/2000, 0.05 [D loss: 0.086672, acc: 100.00%] [G loss: 0.173536, mse: 0.168934]\n",
      "Epoch 200/2000, 0.06 [D loss: 0.050614, acc: 99.22%] [G loss: 0.177015, mse: 0.169693]\n",
      "Epoch 250/2000, 0.06 [D loss: 0.041824, acc: 100.00%] [G loss: 0.176084, mse: 0.167747]\n",
      "Epoch 300/2000, 0.06 [D loss: 0.035003, acc: 99.22%] [G loss: 0.168458, mse: 0.160056]\n",
      "Epoch 350/2000, 0.07 [D loss: 0.062862, acc: 98.44%] [G loss: 0.177219, mse: 0.170001]\n",
      "Epoch 400/2000, 0.06 [D loss: 0.037673, acc: 100.00%] [G loss: 0.156754, mse: 0.147032]\n",
      "Epoch 450/2000, 0.07 [D loss: 0.126140, acc: 95.31%] [G loss: 0.145905, mse: 0.137203]\n",
      "Epoch 500/2000, 0.06 [D loss: 0.191558, acc: 91.41%] [G loss: 0.168793, mse: 0.162094]\n",
      "Epoch 550/2000, 0.07 [D loss: 0.259670, acc: 89.84%] [G loss: 0.155460, mse: 0.149211]\n",
      "Epoch 600/2000, 0.06 [D loss: 0.273861, acc: 87.50%] [G loss: 0.161385, mse: 0.156347]\n",
      "Epoch 650/2000, 0.05 [D loss: 0.292388, acc: 86.72%] [G loss: 0.147271, mse: 0.142650]\n",
      "Epoch 700/2000, 0.05 [D loss: 0.327190, acc: 83.59%] [G loss: 0.163141, mse: 0.158275]\n",
      "Epoch 750/2000, 0.06 [D loss: 0.301016, acc: 86.72%] [G loss: 0.143585, mse: 0.139543]\n",
      "Epoch 800/2000, 0.06 [D loss: 0.343001, acc: 85.16%] [G loss: 0.152291, mse: 0.148598]\n",
      "Epoch 850/2000, 0.05 [D loss: 0.256151, acc: 89.84%] [G loss: 0.144327, mse: 0.140022]\n",
      "Epoch 900/2000, 0.07 [D loss: 0.290204, acc: 86.72%] [G loss: 0.145984, mse: 0.142572]\n",
      "Epoch 950/2000, 0.06 [D loss: 0.451033, acc: 82.03%] [G loss: 0.157336, mse: 0.154447]\n",
      "Epoch 1000/2000, 0.07 [D loss: 0.340437, acc: 85.16%] [G loss: 0.157724, mse: 0.154757]\n",
      "Epoch 1050/2000, 0.05 [D loss: 0.439856, acc: 79.69%] [G loss: 0.150933, mse: 0.148237]\n",
      "Epoch 1100/2000, 0.06 [D loss: 0.265891, acc: 86.72%] [G loss: 0.130861, mse: 0.127233]\n",
      "Epoch 1150/2000, 0.06 [D loss: 0.299273, acc: 88.28%] [G loss: 0.136554, mse: 0.133164]\n",
      "Epoch 1200/2000, 0.07 [D loss: 0.427227, acc: 78.91%] [G loss: 0.135277, mse: 0.132899]\n",
      "Epoch 1250/2000, 0.07 [D loss: 0.342707, acc: 83.59%] [G loss: 0.144109, mse: 0.141532]\n",
      "Epoch 1300/2000, 0.05 [D loss: 0.431113, acc: 81.25%] [G loss: 0.136938, mse: 0.134785]\n",
      "Epoch 1350/2000, 0.08 [D loss: 0.384603, acc: 81.25%] [G loss: 0.137592, mse: 0.134797]\n",
      "Epoch 1400/2000, 0.06 [D loss: 0.475455, acc: 75.00%] [G loss: 0.154358, mse: 0.152051]\n",
      "Epoch 1450/2000, 0.06 [D loss: 0.444064, acc: 78.91%] [G loss: 0.135370, mse: 0.132785]\n",
      "Epoch 1500/2000, 0.05 [D loss: 0.400659, acc: 83.59%] [G loss: 0.146851, mse: 0.144541]\n",
      "Epoch 1550/2000, 0.06 [D loss: 0.392317, acc: 84.38%] [G loss: 0.137992, mse: 0.135484]\n",
      "Epoch 1600/2000, 0.07 [D loss: 0.418602, acc: 82.03%] [G loss: 0.132920, mse: 0.130465]\n",
      "Epoch 1650/2000, 0.06 [D loss: 0.385198, acc: 82.03%] [G loss: 0.138229, mse: 0.136012]\n",
      "Epoch 1700/2000, 0.05 [D loss: 0.403601, acc: 81.25%] [G loss: 0.121489, mse: 0.118974]\n",
      "Epoch 1750/2000, 0.06 [D loss: 0.434697, acc: 77.34%] [G loss: 0.139955, mse: 0.137290]\n",
      "Epoch 1800/2000, 0.05 [D loss: 0.388294, acc: 85.94%] [G loss: 0.124609, mse: 0.122064]\n",
      "Epoch 1850/2000, 0.06 [D loss: 0.431795, acc: 80.47%] [G loss: 0.139171, mse: 0.136899]\n",
      "Epoch 1900/2000, 0.07 [D loss: 0.489762, acc: 75.00%] [G loss: 0.135491, mse: 0.133197]\n",
      "Epoch 1950/2000, 0.06 [D loss: 0.423442, acc: 81.25%] [G loss: 0.128771, mse: 0.126399]\n"
     ]
    }
   ],
   "source": [
    "import sys\n",
    "import os\n",
    "import skimage\n",
    "from externals.ABELE.experiments.exputil import get_autoencoder\n",
    "from externals.ABELE.experiments.exputil import get_dataset\n",
    "import shap\n",
    "import warnings\n",
    "warnings.filterwarnings('ignore')\n",
    "\n",
    "#disable eager execution in tensorflow 2.x for faster training time\n",
    "from tensorflow.python.framework.ops import disable_eager_execution\n",
    "disable_eager_execution()\n",
    "\n",
    "# The dataset to use for training\n",
    "# if you prefer to use yours load the data in two vector X_data and Y_data, set dataset variable to a custom name and custom_dataset to True\n",
    "dataset = 'mnist'\n",
    "custom_dataset = False\n",
    "if not custom_dataset:\n",
    "    _, _, X_test, Y_test, use_rgb = get_dataset(dataset)\n",
    "\n",
    "# The type of autoencoder to train ['aae','vae']\n",
    "ae_name = 'aae'\n",
    "\n",
    "# This script will save the models weights in the folder ./path/models/abele/dataset/ae_name\n",
    "path = './'\n",
    "path_aemodels = path + 'models/abele/%s/%s/' % (dataset,ae_name)\n",
    "if not os.path.exists(path_aemodels):\n",
    "    os.makedirs(path_aemodels)\n",
    "\n",
    "# HYPER-PARAMETERS\n",
    "#define the epochs and the batch size for which the autoencoder will be trained\n",
    "epochs = 2000\n",
    "batch_size = 64\n",
    "#Print training summary every sample_interval step\n",
    "sample_interval = 50\n",
    "\n",
    "\"\"\"\n",
    " Get_autoencoder create the autoencoder class to train\n",
    " Arguments: \n",
    "    X: dataset to use to train the ae \n",
    "    ae_name: type of the autoencoder to train, only adversarial autoencoder (aae) and variational autoencoder (vae) are supported\n",
    "    path_aemodels: path where to save the weights\n",
    "    dataset: name of the dataset to use\n",
    "    OPTIONAL:\n",
    "    latent_dim: latent space dimension (only use if dataset is custom)\n",
    "    hidden_dim: hidden dimension of the autoencoders layers (ex: 1024 will create two layers of 1024 hidden units) (only use if dataset is custom)\n",
    "    num_filters: number of filter to use in the convolutional layers (only use if dataset is custom)\n",
    "\"\"\"\n",
    "ae = get_autoencoder(X_test, ae_name, path_aemodels, dataset)\n",
    "\n",
    "\"\"\" Fit method\n",
    " Arguments: \n",
    "    X: Dataset to use to train the ae\n",
    "    epochs: Epochs to train\n",
    "    batch_size\n",
    "    sample interval (see before)\n",
    "\"\"\"\n",
    "ae.fit(X_test, epochs=epochs, batch_size=batch_size, sample_interval=sample_interval)\n",
    "# save the weights in the oath specified before\n",
    "ae.save_model()\n",
    "# save also some sample images to test if the autoencoderis trained correctly\n",
    "ae.sample_images(epochs)"
   ]
  },
  {
   "cell_type": "code",
   "execution_count": null,
   "metadata": {},
   "outputs": [
    {
     "name": "stdout",
     "output_type": "stream",
     "text": [
      "generating neighborhood - hrg\n",
      "gen\tnevals\tavg     \tmin     \tmax     \n",
      "0  \t75    \t0.496654\t0.496654\t0.496654\n",
      "1  \t48    \t0.551803\t0.373384\t0.99302 \n",
      "2  \t53    \t0.677831\t0.448314\t0.99302 \n",
      "3  \t34    \t0.81525 \t0.429788\t0.9933  \n",
      "4  \t43    \t0.938356\t0.448549\t0.9933  \n",
      "5  \t55    \t0.947302\t0.360082\t0.993307\n",
      "6  \t28    \t0.943438\t0.301743\t0.993307\n",
      "7  \t37    \t0.959022\t0.0389861\t0.993307\n",
      "8  \t46    \t0.959702\t0.279644 \t0.993307\n",
      "9  \t46    \t0.944251\t0.190713 \t0.993307\n",
      "10 \t40    \t0.931893\t0.112721 \t0.993307\n",
      "11 \t46    \t0.956809\t0.454776 \t0.993307\n",
      "12 \t43    \t0.978283\t0.431551 \t0.993307\n",
      "13 \t42    \t0.962106\t0.293906 \t0.993307\n",
      "14 \t44    \t0.973156\t0.47828  \t0.993307\n",
      "15 \t42    \t0.957171\t0.363212 \t0.993307\n",
      "16 \t42    \t0.918196\t0.145063 \t0.993307\n",
      "17 \t46    \t0.965123\t0.392134 \t0.993307\n",
      "18 \t52    \t0.97155 \t0.4695   \t0.993307\n",
      "19 \t45    \t0.915543\t0.0426462\t0.993307\n",
      "20 \t42    \t0.969685\t0.0750853\t0.993307\n",
      "21 \t44    \t0.961327\t0.138294 \t0.993307\n",
      "22 \t39    \t0.972512\t0.482862 \t0.993307\n",
      "23 \t47    \t0.986552\t0.493798 \t0.993307\n",
      "24 \t48    \t0.956437\t0.384684 \t0.993307\n",
      "25 \t49    \t0.962739\t0.08122  \t0.993307\n",
      "26 \t44    \t0.951958\t0.226416 \t0.993307\n",
      "27 \t48    \t0.975587\t0.177128 \t0.993307\n",
      "28 \t38    \t0.979297\t0.462158 \t0.993307\n",
      "29 \t39    \t0.946043\t0.140585 \t0.993307\n",
      "30 \t37    \t0.984544\t0.344629 \t0.993307\n",
      "31 \t47    \t0.98547 \t0.442409 \t0.993307\n",
      "32 \t40    \t0.950538\t0.127352 \t0.993307\n",
      "33 \t50    \t0.960073\t0.0220201\t0.993307\n",
      "34 \t45    \t0.947585\t0.378507 \t0.993307\n",
      "35 \t48    \t0.958501\t0.386821 \t0.993307\n",
      "36 \t33    \t0.969551\t0.294771 \t0.993307\n",
      "37 \t38    \t0.977904\t0.336021 \t0.993307\n",
      "38 \t49    \t0.956379\t0.27617  \t0.993307\n",
      "39 \t50    \t0.984282\t0.461227 \t0.993307\n",
      "40 \t45    \t0.969838\t0.284332 \t0.993307\n",
      "41 \t41    \t0.952184\t0.0884288\t0.993307\n",
      "42 \t39    \t0.985673\t0.740341 \t0.993307\n",
      "43 \t40    \t0.948205\t0.235838 \t0.993307\n",
      "44 \t47    \t0.957898\t0.130467 \t0.993307\n",
      "45 \t49    \t0.957792\t0.133027 \t0.993307\n",
      "46 \t46    \t0.927603\t0.217628 \t0.993307\n",
      "47 \t41    \t0.927173\t0.152356 \t0.993307\n",
      "48 \t37    \t0.961408\t0.398045 \t0.993307\n",
      "49 \t43    \t0.979088\t0.490656 \t0.993307\n",
      "50 \t37    \t0.957109\t0.350178 \t0.993307\n",
      "51 \t49    \t0.951681\t0.0120868\t0.993307\n",
      "52 \t39    \t0.95676 \t0.372219 \t0.993307\n",
      "53 \t47    \t0.971004\t0.167575 \t0.993307\n",
      "54 \t45    \t0.965576\t0.462162 \t0.993307\n",
      "55 \t46    \t0.98662 \t0.49538  \t0.993307\n",
      "56 \t41    \t0.974041\t0.480473 \t0.993307\n",
      "57 \t45    \t0.959542\t0.0702462\t0.993307\n",
      "58 \t58    \t0.979059\t0.444355 \t0.993307\n",
      "59 \t33    \t0.94282 \t0.329251 \t0.993307\n",
      "60 \t38    \t0.968014\t0.0202031\t0.993307\n",
      "61 \t56    \t0.970121\t0.311424 \t0.993307\n",
      "62 \t35    \t0.925409\t0.258278 \t0.993307\n",
      "63 \t46    \t0.939783\t0.0892611\t0.993307\n",
      "64 \t35    \t0.957972\t0.400025 \t0.993307\n",
      "65 \t49    \t0.949023\t0.12897  \t0.993307\n",
      "66 \t45    \t0.91854 \t0.307664 \t0.993307\n",
      "67 \t47    \t0.978772\t0.491731 \t0.993307\n",
      "68 \t45    \t0.979752\t0.477974 \t0.993307\n",
      "69 \t50    \t0.949459\t0.170248 \t0.993307\n",
      "70 \t52    \t0.986594\t0.490252 \t0.993307\n",
      "71 \t39    \t0.962378\t0.189104 \t0.993307\n",
      "72 \t44    \t0.967733\t0.492346 \t0.993307\n",
      "73 \t47    \t0.966092\t0.487424 \t0.993307\n",
      "74 \t38    \t0.98218 \t0.183578 \t0.993307\n",
      "75 \t48    \t0.963588\t0.0129148\t0.993307\n",
      "76 \t42    \t0.970455\t0.415178 \t0.993307\n",
      "77 \t38    \t0.981691\t0.411416 \t0.993307\n",
      "78 \t43    \t0.972014\t0.494587 \t0.993307\n",
      "79 \t45    \t0.965693\t0.0206682\t0.993307\n",
      "80 \t48    \t0.959234\t0.0607319\t0.993307\n",
      "81 \t48    \t0.98216 \t0.487347 \t0.993307\n",
      "82 \t42    \t0.962582\t0.221311 \t0.993307\n",
      "83 \t45    \t0.974294\t0.117274 \t0.993307\n",
      "84 \t38    \t0.969384\t0.0252408\t0.993307\n",
      "85 \t36    \t0.975454\t0.157563 \t0.993307\n",
      "86 \t44    \t0.970484\t0.361912 \t0.993307\n",
      "87 \t50    \t0.958417\t0.114863 \t0.993307\n",
      "88 \t48    \t0.95113 \t0.0108205\t0.993307\n",
      "89 \t32    \t0.96448 \t0.119572 \t0.993307\n",
      "90 \t48    \t0.949142\t0.0410196\t0.993307\n",
      "91 \t53    \t0.970208\t0.331276 \t0.993307\n",
      "92 \t54    \t0.933813\t0.010329 \t0.993307\n",
      "93 \t53    \t0.986085\t0.471341 \t0.993307\n",
      "94 \t37    \t0.971866\t0.461711 \t0.993307\n",
      "95 \t48    \t0.986247\t0.496722 \t0.993307\n",
      "96 \t41    \t0.943683\t0.389462 \t0.993307\n",
      "97 \t51    \t0.961338\t0.346266 \t0.993307\n",
      "98 \t47    \t0.986544\t0.488882 \t0.993307\n",
      "99 \t46    \t0.966083\t0.0317538\t0.993307\n",
      "100\t40    \t0.952253\t0.454452 \t0.993307\n",
      "gen\tnevals\tavg\tmin\tmax\n",
      "0  \t75    \t0.5\t0.5\t0.5\n",
      "1  \t45    \t0.514992\t0.195723\t0.983098\n",
      "2  \t35    \t0.606041\t0.295785\t0.984243\n",
      "3  \t39    \t0.735589\t0.497148\t0.986048\n",
      "4  \t52    \t0.907532\t0.41857 \t0.990938\n",
      "5  \t44    \t0.936008\t0.233295\t0.990938\n",
      "6  \t47    \t0.947872\t0.498658\t0.990938\n",
      "7  \t57    \t0.940733\t0.449862\t0.990938\n",
      "8  \t45    \t0.956233\t0.496111\t0.991343\n",
      "9  \t48    \t0.97499 \t0.477351\t0.991343\n",
      "10 \t49    \t0.959801\t0.356648\t0.991343\n",
      "11 \t47    \t0.969479\t0.495151\t0.991969\n",
      "12 \t53    \t0.981207\t0.498476\t0.991969\n",
      "13 \t55    \t0.957251\t0.470951\t0.991969\n",
      "14 \t43    \t0.95868 \t0.495129\t0.991969\n",
      "15 \t41    \t0.978252\t0.499473\t0.99221 \n",
      "16 \t43    \t0.977535\t0.498212\t0.99221 \n",
      "17 \t41    \t0.978018\t0.495085\t0.99221 \n",
      "18 \t44    \t0.985848\t0.770155\t0.992399\n",
      "19 \t48    \t0.950806\t0.487495\t0.992659\n",
      "20 \t38    \t0.971189\t0.483817\t0.992822\n",
      "21 \t43    \t0.965602\t0.494213\t0.993071\n",
      "22 \t42    \t0.968839\t0.474639\t0.993071\n",
      "23 \t53    \t0.956151\t0.441104\t0.993172\n",
      "24 \t51    \t0.978733\t0.496862\t0.993172\n",
      "25 \t50    \t0.97376 \t0.473246\t0.993172\n",
      "26 \t50    \t0.964473\t0.496927\t0.993172\n",
      "27 \t49    \t0.943746\t0.466936\t0.993172\n",
      "28 \t47    \t0.971827\t0.496575\t0.993172\n",
      "29 \t45    \t0.972954\t0.493998\t0.993172\n",
      "30 \t44    \t0.987793\t0.753782\t0.993189\n",
      "31 \t45    \t0.986369\t0.494935\t0.993189\n",
      "32 \t35    \t0.985929\t0.493615\t0.993272\n",
      "33 \t50    \t0.969981\t0.497586\t0.993272\n",
      "34 \t38    \t0.975865\t0.496188\t0.993272\n",
      "35 \t53    \t0.976652\t0.496704\t0.993272\n",
      "36 \t44    \t0.958578\t0.39077 \t0.993272\n",
      "37 \t48    \t0.978858\t0.490111\t0.993272\n",
      "38 \t54    \t0.963277\t0.494748\t0.993272\n",
      "39 \t44    \t0.985995\t0.496596\t0.993272\n",
      "40 \t44    \t0.976337\t0.496318\t0.993272\n",
      "41 \t47    \t0.972603\t0.707617\t0.993272\n",
      "42 \t44    \t0.964635\t0.495586\t0.993272\n",
      "43 \t54    \t0.97286 \t0.472566\t0.993272\n",
      "44 \t43    \t0.983096\t0.47901 \t0.993272\n",
      "45 \t54    \t0.955933\t0.478214\t0.993272\n",
      "46 \t49    \t0.984565\t0.498362\t0.993272\n",
      "47 \t37    \t0.969179\t0.496789\t0.993272\n",
      "48 \t52    \t0.992592\t0.967132\t0.993281\n",
      "49 \t51    \t0.983038\t0.666112\t0.993281\n",
      "50 \t40    \t0.981682\t0.610812\t0.993281\n",
      "51 \t34    \t0.969033\t0.498033\t0.993281\n",
      "52 \t49    \t0.988032\t0.659268\t0.993281\n",
      "53 \t48    \t0.9775  \t0.556184\t0.993281\n",
      "54 \t48    \t0.962359\t0.488699\t0.993281\n",
      "55 \t48    \t0.976056\t0.494724\t0.993281\n",
      "56 \t48    \t0.982559\t0.49595 \t0.993281\n",
      "57 \t55    \t0.989837\t0.848963\t0.993281\n",
      "58 \t40    \t0.98027 \t0.495422\t0.993281\n",
      "59 \t39    \t0.989048\t0.720424\t0.993283\n",
      "60 \t54    \t0.980849\t0.49263 \t0.993283\n",
      "61 \t37    \t0.976239\t0.493648\t0.993283\n",
      "62 \t44    \t0.983798\t0.618885\t0.993283\n",
      "63 \t53    \t0.969379\t0.490712\t0.993283\n",
      "64 \t44    \t0.990213\t0.846671\t0.993283\n",
      "65 \t46    \t0.985117\t0.791882\t0.993283\n",
      "66 \t48    \t0.967651\t0.541774\t0.993283\n",
      "67 \t45    \t0.976745\t0.488774\t0.993283\n",
      "68 \t43    \t0.974658\t0.485069\t0.993283\n",
      "69 \t37    \t0.978014\t0.450309\t0.993283\n",
      "70 \t47    \t0.982984\t0.592388\t0.993283\n",
      "71 \t44    \t0.989275\t0.837602\t0.993283\n",
      "72 \t40    \t0.985461\t0.716163\t0.993283\n",
      "73 \t43    \t0.980682\t0.493812\t0.993293\n",
      "74 \t46    \t0.985393\t0.599353\t0.993293\n",
      "75 \t49    \t0.974484\t0.450499\t0.993293\n",
      "76 \t35    \t0.979929\t0.602332\t0.993293\n",
      "77 \t42    \t0.989093\t0.86717 \t0.993302\n",
      "78 \t42    \t0.971993\t0.497911\t0.993302\n",
      "79 \t36    \t0.981774\t0.495049\t0.993302\n",
      "80 \t36    \t0.980373\t0.497274\t0.993302\n",
      "81 \t55    \t0.992495\t0.934258\t0.993302\n",
      "82 \t42    \t0.966436\t0.493846\t0.993302\n",
      "83 \t34    \t0.970511\t0.471152\t0.993302\n",
      "84 \t35    \t0.965041\t0.485248\t0.993302\n",
      "85 \t43    \t0.967751\t0.484871\t0.993303\n",
      "86 \t52    \t0.973433\t0.494536\t0.993304\n",
      "87 \t46    \t0.97502 \t0.495639\t0.993303\n",
      "88 \t45    \t0.972345\t0.498479\t0.993303\n",
      "89 \t47    \t0.973434\t0.511519\t0.993303\n",
      "90 \t46    \t0.971943\t0.479108\t0.993303\n",
      "91 \t37    \t0.987818\t0.583548\t0.993303\n",
      "92 \t49    \t0.977923\t0.496304\t0.993303\n",
      "93 \t47    \t0.993069\t0.976287\t0.993303\n",
      "94 \t41    \t0.97129 \t0.494921\t0.993303\n",
      "95 \t43    \t0.984357\t0.497308\t0.993303\n",
      "96 \t40    \t0.989587\t0.746985\t0.993303\n",
      "97 \t54    \t0.984604\t0.602993\t0.993303\n",
      "98 \t29    \t0.98598 \t0.72171 \t0.993303\n",
      "99 \t49    \t0.966937\t0.480015\t0.993303\n",
      "100\t50    \t0.970222\t0.491147\t0.993303\n",
      "synthetic neighborhood class counts {'0': 24, '1': 9, '2': 17, '3': 9, '4': 20, '5': 3, '6': 11, '7': 82, '8': 50, '9': 90}\n",
      "learning local decision tree\n",
      "retrieving explanation\n",
      "--------------------------\n",
      "execution time:  82.00171995162964  sec\n",
      "e = {\n",
      "\tr = { 3 <= 0.17, 3 > -1.25, 1 > 0.62, 2 > -0.77, 0 <= 1.14, 0 > 1.04 } --> { class: 4 }\n",
      "\tc = { { 1 <= 0.21 } --> { class: 8 }, { 0 > 1.14 } --> { class: 9 }, { 0 <= 1.04 } --> { class: 9 }, { 1 <= -0.38 } --> { class: 8 }, { 3 <= -1.25 } --> { class: 9 } }    \n",
      "}\n",
      "--------------------------\n",
      "bb prediction of the image:  4 dt prediction:  4 fidelity:  1.0\n",
      "latent space representation:  [ 1.0766093   0.8715231  -0.1698738  -0.45344058]\n"
     ]
    },
    {
     "data": {
      "image/png": "[encoded data removed]",
      "text/plain": [
       "<Figure size 720x360 with 2 Axes>"
      ]
     },
     "metadata": {
      "needs_background": "light"
     },
     "output_type": "display_data"
    }
   ],
   "source": [
    "import numpy as np\n",
    "import matplotlib.pyplot as plt\n",
    "import tensorflow as tf\n",
    "import time\n",
    "from skimage.color import gray2rgb, rgb2gray\n",
    "from skimage import feature, transform\n",
    "\n",
    "from xailib.explainers.abele_explainer import ABELEImageExplainer\n",
    "from externals.ABELE.experiments.exputil import get_dataset\n",
    "from externals.ABELE.experiments.exputil import get_autoencoder\n",
    "\n",
    "import warnings\n",
    "warnings.filterwarnings('ignore')\n",
    "\n",
    "random_state = 0\n",
    "dataset = 'mnist' \n",
    "black_box = 'AB' #agnostic Black Box\n",
    "\n",
    "# load autoencoder and black box\n",
    "ae_name = 'aae' \n",
    "path = './' \n",
    "path_aemodels = path + 'models/abele/%s/%s/' % (dataset, ae_name)\n",
    "bb = tf.keras.models.load_model(\"./models/cnn_simple_mnist_no_pickle\")\n",
    "\n",
    "# defining a functions for bb to return the class index value\n",
    "def bb_predict(X):\n",
    "    X = X.astype(float)\n",
    "    Y = bb.predict(rgb2gray(X).reshape(-1,28,28,1))   \n",
    "    return np.argmax(Y, axis=1)\n",
    "\n",
    "# load data\n",
    "_, _, X_test, Y_test, _ = get_dataset(dataset)\n",
    "\n",
    "# load auto encoder\n",
    "ae = get_autoencoder(X_test, ae_name, path_aemodels, dataset)\n",
    "ae.load_model()\n",
    "\n",
    "# index Image 2 Explain\n",
    "i2e = 24\n",
    "img = X_test[i2e]\n",
    "# time\n",
    "start = time.time()\n",
    "\n",
    "# create explainer\n",
    "\"\"\"\n",
    "Arguments:\n",
    "    bb_predict: function which return the prediction of the blackbox in form index of the class \n",
    "    class_name: name of the class used when printing rules (class_name: class_value)\n",
    "    class_values: list of names of the classes (class_name: class_value)\n",
    "    neigh_type: select the nighbourhood type,\n",
    "                supportecd types:\n",
    "                'gnt' : genetic\n",
    "                'rnd' : random\n",
    "                'hrg' : hybrid-random-genetic\n",
    "                'gntp': genetic probabilistic\n",
    "                'hrgp': hybrid probabilistic\n",
    "    ocr: [0.1] other class values, ratio of other class from the one predicted in the neighbourhood\n",
    "    kernel: [None] Kernel to weights the point in the nieghbourhood\n",
    "    kernel_width : [None]  \n",
    "    autoencoder: Autoencoder to generate the latent space points\n",
    "    use_rgb = [True] Set to True if the input images are rgb, False for grayscale\n",
    "    filter_crules: [None] if True Prototypes are checked by the black box to be the same class of the query image\n",
    "    random_state: set the seed of the random state\n",
    "    verbose: True if you want to print more informations\n",
    "    NEIGHBOURHOOD PARAMETERS: the following parameters are Neighbourhood specific and may not apply to all of the neighbourhood types\n",
    "        valid_thr: [0.5] threshold to change class in the autoencoder disciminator\n",
    "        alpha1: [0.5] weight of the feature similarity of the neighbourhood points\n",
    "        alpha2: [0.5] weight of the target similarity of the neighbourhood points\n",
    "        ngen: [100] number of generations of the genetic algorithm\n",
    "        mutpb: [0.2] The probability of mutating an individual in the genetic algorithm\n",
    "        cxpb: [0.5] The probability of mating two individuals in the genetic algorithm\n",
    "        tournsize: [3] number of tournaments in the genetic algorithm\n",
    "        hallooffame_ratio: [0.1] Fraction of exemplars to keep at every genetic generation\n",
    "\"\"\"\n",
    "config = {'bb_predict':bb_predict,\n",
    "          'class_name':'class',\n",
    "          'class_values':['%s' % i for i in range(len(np.unique(Y_test)))],\n",
    "          'neigh_type':'hrg', \n",
    "          'ocr':0.1, #other class ratio in the neighbourhood\n",
    "          'kernel_width':None, \n",
    "          'kernel':None, \n",
    "          'autoencoder':ae, \n",
    "          'use_rgb':True, \n",
    "          'filter_crules':True, \n",
    "          'random_state':random_state, \n",
    "          'verbose':True, \n",
    "          'valid_thr':0.5,\n",
    "          'alpha1':0.5, \n",
    "          'alpha2':0.5, \n",
    "          'ngen':100, \n",
    "          'mutpb':0.2, \n",
    "          'cxpb':0.5, \n",
    "          'tournsize':3, \n",
    "          'halloffame_ratio':0.1}\n",
    "\n",
    "\n",
    "explainer = ABELEImageExplainer(bb)\n",
    "explainer.fit(config)\n",
    "\n",
    "#generate explanation\n",
    "\"\"\"\n",
    "generate an explanation for a given image\n",
    "Arguments:\n",
    "    img: the image to explain\n",
    "    num_samples: [1000] number of samples to generate with the neighbourhood algorithm\n",
    "    use_weights: [True] if weights the points using distance\n",
    "Return:\n",
    "Explanation object compose by several things\n",
    "    rstr: string describing the rule\n",
    "    cstr: string describing the counterfactual rule\n",
    "    bb_pred: black box prediction of the image\n",
    "    dt_pred: decisoon tree prediction\n",
    "    fidelity: fidelity between black box and the decision tree\n",
    "    limg: latent space representation of the image\n",
    "\"\"\"\n",
    "exp = explainer.explain(img, num_samples=300, use_weights=True)\n",
    "\n",
    "# time\n",
    "end = time.time()\n",
    "print('--------------------------')\n",
    "print('execution time: ',end - start,' sec')\n",
    "print('e = {\\n\\tr = %s\\n\\tc = %s    \\n}' % (exp.getRules(), exp.getCounterfactualRules()))\n",
    "print('--------------------------')\n",
    "print('bb prediction of the image: ',exp.exp.bb_pred,'dt prediction: ',exp.exp.dt_pred,'fidelity: ',exp.exp.fidelity)\n",
    "print('latent space representation: ',exp.exp.limg)\n",
    "\n",
    "\"\"\"\n",
    "Arguments:\n",
    "    features: [None] list of which feature of the latent space to use, If None use all\n",
    "    samples: [10] number of prototype to use\n",
    "Return the image and the difference between the prototypes\n",
    "\"\"\"\n",
    "img2show, mask = exp.getFeaturesImportance(features=None, samples=400)\n",
    "\n",
    "# Plot Script\n",
    "F, ax = plt.subplots(1,2, figsize=(10,5))\n",
    "if use_rgb:\n",
    "    ax[0].imshow(img2show)\n",
    "else:\n",
    "    ax[0].imshow(img2show, cmap='gray')\n",
    "bbo = bb_predict(np.array([img2show]))[0]\n",
    "ax[0].set_title('Image to explain - black box %s' % bbo)\n",
    "ax[0].axis('off')\n",
    "dx, dy = 0.05, 0.05\n",
    "xx = np.arange(0.0, img2show.shape[1], dx)\n",
    "yy = np.arange(0.0, img2show.shape[0], dy)\n",
    "xmin, xmax, ymin, ymax = np.amin(xx), np.amax(xx), np.amin(yy), np.amax(yy)\n",
    "extent = xmin, xmax, ymin, ymax\n",
    "cmap_xi = plt.get_cmap('Greys_r')\n",
    "cmap_xi.set_bad(alpha=0)\n",
    "# Compute edges (to overlay to heatmaps later)\n",
    "percentile = 100\n",
    "dilation = 3.0\n",
    "alpha = 0.8\n",
    "xi_greyscale = img2show if len(img2show.shape) == 2 else np.mean(img2show, axis=-1)\n",
    "in_image_upscaled = transform.rescale(xi_greyscale, dilation, mode='constant')\n",
    "edges = feature.canny(in_image_upscaled).astype(float)\n",
    "edges[edges < 0.5] = np.nan\n",
    "edges[:5, :] = np.nan\n",
    "edges[-5:, :] = np.nan\n",
    "edges[:, :5] = np.nan\n",
    "edges[:, -5:] = np.nan\n",
    "overlay = edges\n",
    "ax[1].imshow(mask, extent=extent, cmap=plt.cm.BrBG, alpha=1, vmin=0, vmax=255)\n",
    "ax[1].imshow(overlay, extent=extent, interpolation='none', cmap=cmap_xi, alpha=alpha)\n",
    "ax[1].axis('off')\n",
    "ax[1].set_title('Attention area respecting latent rule');"
   ]
  },
  {
   "cell_type": "markdown",
   "metadata": {},
   "source": [
    "Green Points are the ones critical for the preditction, also called exemplars\n",
    "\n",
    "Yellow points are the ones who change class if activated\n",
    "\n",
    "White Points are do-nothing points"
   ]
  },
  {
   "cell_type": "code",
   "execution_count": null,
   "metadata": {},
   "outputs": [
    {
     "data": {
      "image/png": "[encoded data removed]",
      "text/plain": [
       "<Figure size 2160x360 with 5 Axes>"
      ]
     },
     "metadata": {
      "needs_background": "light"
     },
     "output_type": "display_data"
    }
   ],
   "source": [
    "\"\"\"\n",
    "Return the prototypes images\n",
    "Arguments:\n",
    "    num_prototypes: [5] number of prototypes to return\n",
    "    return_latent: [False] if True return latent representation\n",
    "    return_diff: [False] If True return the difference with the query image\n",
    "    features: [None] list of the features int he latent space to use, if none use all\n",
    "\"\"\"\n",
    "proto = exp.getExemplars(num_prototypes=5)\n",
    "\n",
    "F, ax = plt.subplots(1,5,figsize=(30,5))\n",
    "for i in range(5):\n",
    "    ax[i].imshow(proto[i]/255)\n",
    "    ax[i].axis('off')\n",
    "    ax[i].set_title('model prediction: '+str(bb_predict(proto[i])[0]))"
   ]
  },
  {
   "cell_type": "code",
   "execution_count": null,
   "metadata": {},
   "outputs": [
    {
     "data": {
      "image/png": "[encoded data removed]",
      "text/plain": [
       "<Figure size 2160x360 with 5 Axes>"
      ]
     },
     "metadata": {
      "needs_background": "light"
     },
     "output_type": "display_data"
    }
   ],
   "source": [
    "\"\"\"\n",
    "Return the couterfactuals satisfying the counterfactual rule\n",
    "\"\"\"\n",
    "counter = exp.getCounterExemplars()\n",
    "\n",
    "F, ax = plt.subplots(1,len(counter),figsize=(30,5))\n",
    "for i in range(len(counter)):\n",
    "    ax[i].imshow(counter[i]/255)\n",
    "    ax[i].axis('off')\n",
    "    ax[i].set_title('model prediction: '+str(bb_predict(counter[i])[0]))"
   ]
  },
  {
   "cell_type": "markdown",
   "metadata": {},
   "source": [
    "# Metrics"
   ]
  },
  {
   "cell_type": "code",
   "execution_count": 22,
   "metadata": {},
   "outputs": [
    {
     "data": {
      "image/png": "[encoded data removed]",
      "text/plain": [
       "<Figure size 432x288 with 1 Axes>"
      ]
     },
     "metadata": {
      "needs_background": "light"
     },
     "output_type": "display_data"
    }
   ],
   "source": [
    "image = MNIST_x_data_train[0:1]\n",
    "plt.imshow(scores,cmap='coolwarm')\n",
    "plt.axis(False);"
   ]
  },
  {
   "cell_type": "code",
   "execution_count": 23,
   "metadata": {},
   "outputs": [],
   "source": [
    "from xailib.metrics.insertiondeletion import ImageInsDel\n",
    "import torch\n",
    "import torch.nn as nn\n",
    "\n",
    "def predict(image):\n",
    "    return MNIST_CNN_tf.predict(image.reshape(1,28,28,1)/255) \n",
    "\n",
    "step = 28\n",
    "mode = 'del'\n",
    "metric = ImageInsDel(predict, mode, step, torch.zeros_like)"
   ]
  },
  {
   "cell_type": "code",
   "execution_count": 24,
   "metadata": {},
   "outputs": [
    {
     "name": "stdout",
     "output_type": "stream",
     "text": [
      "Score: 0.37589245502437874\n"
     ]
    },
    {
     "data": {
      "image/png": "[encoded data removed]",
      "text/plain": [
       "<Figure size 432x288 with 1 Axes>"
      ]
     },
     "metadata": {
      "needs_background": "light"
     },
     "output_type": "display_data"
    }
   ],
   "source": [
    "from sklearn.metrics import auc\n",
    "\n",
    "y = metric(image, 28, scores, rgb=False)\n",
    "x = np.arange(len(y))*step/784\n",
    "x[-1] = 1.0\n",
    "print('Score:', auc(x, y))\n",
    "\n",
    "plt.plot(x, y, label=np.round(auc(x, y),4))\n",
    "plt.fill_between(x, y, alpha=0.4)\n",
    "plt.xlabel('Percentage of pixel removed')\n",
    "plt.ylabel('Accuracy of the model')\n",
    "plt.legend();"
   ]
  },
  {
   "cell_type": "code",
   "execution_count": 28,
   "metadata": {},
   "outputs": [
    {
     "data": {
      "image/png": "[encoded data removed]",
      "text/plain": [
       "<Figure size 432x288 with 2 Axes>"
      ]
     },
     "metadata": {
      "needs_background": "light"
     },
     "output_type": "display_data"
    }
   ],
   "source": [
    "from scipy.ndimage.filters import gaussian_filter\n",
    "CH = 1\n",
    "def gkern(klen, nsig):\n",
    "    \"\"\"Returns a Gaussian kernel array.\n",
    "    Convolution with it results in image blurring.\"\"\"\n",
    "    # create nxn zeros\n",
    "    inp = np.zeros((klen, klen))\n",
    "    # set element at the middle to one, a dirac delta\n",
    "    inp[klen//2, klen//2] = 1\n",
    "    # gaussian-smooth the dirac, resulting in a gaussian filter mask\n",
    "    k = gaussian_filter(inp, nsig)\n",
    "    kern = np.zeros((CH, CH, klen, klen))\n",
    "    for i in range(CH):\n",
    "        kern[i, i] = k\n",
    "    return torch.from_numpy(kern.astype('float32'))\n",
    "def image_reshaping(image):\n",
    "    if image.shape[1]==3:\n",
    "        return np.stack([image[:,0,:,:],image[:,1,:,:],image[:,2,:,:]],axis=-1)\n",
    "    elif image.shape[-1]==3:\n",
    "        return np.stack([image[:,:,:,0],image[:,:,:,1],image[:,:,:,2]],axis=1)\n",
    "    else:\n",
    "        return image\n",
    "\n",
    "# Function that blurs input image\n",
    "def blur(image, klen=11, ksig=5):\n",
    "\n",
    "    kern = gkern(klen, ksig)\n",
    "    image = torch.tensor(np.expand_dims(image, 0)).float()\n",
    "    return nn.functional.conv2d(image, kern, padding=klen//2)[0,:]\n",
    "\n",
    "F,ax = plt.subplots(1,2)\n",
    "ax[0].imshow(image[0,:], cmap='gray')\n",
    "ax[0].axis(False)\n",
    "ax[1].imshow(blur(image, 11, 5)[0,:],cmap='gray')\n",
    "ax[1].axis(False);"
   ]
  },
  {
   "cell_type": "code",
   "execution_count": 29,
   "metadata": {},
   "outputs": [],
   "source": [
    "from xailib.metrics.insertiondeletion import ImageInsDel\n",
    "\n",
    "def predict(image):\n",
    "    return MNIST_CNN_tf.predict(image.reshape(1,28,28,1)/255) \n",
    "\n",
    "step = 10\n",
    "mode = 'ins'\n",
    "metric = ImageInsDel(predict, mode, step, blur)"
   ]
  },
  {
   "cell_type": "code",
   "execution_count": 31,
   "metadata": {},
   "outputs": [
    {
     "name": "stdout",
     "output_type": "stream",
     "text": [
      "Score: 0.637326829201941\n"
     ]
    },
    {
     "data": {
      "image/png": "[encoded data removed]",
      "text/plain": [
       "<Figure size 432x288 with 1 Axes>"
      ]
     },
     "metadata": {
      "needs_background": "light"
     },
     "output_type": "display_data"
    }
   ],
   "source": [
    "from sklearn.metrics import auc\n",
    "\n",
    "y = metric(image, 28, scores, rgb=False)\n",
    "x = np.arange(len(y))*step/784\n",
    "x[-1] = 1.0\n",
    "print('Score:', auc(x, y))\n",
    "\n",
    "plt.plot(x, y, label=np.round(auc(x, y),4))\n",
    "plt.fill_between(x, y, alpha=0.4)\n",
    "plt.xlabel('Percentage of pixel removed')\n",
    "plt.ylabel('Accuracy of the model')\n",
    "plt.legend();"
   ]
  },
  {
   "cell_type": "code",
   "execution_count": null,
   "metadata": {},
   "outputs": [],
   "source": []
  }
 ],
 "metadata": {
  "kernelspec": {
   "display_name": "Python 3 (ipykernel)",
   "language": "python",
   "name": "python3"
  },
  "language_info": {
   "codemirror_mode": {
    "name": "ipython",
    "version": 3
   },
   "file_extension": ".py",
   "mimetype": "text/x-python",
   "name": "python",
   "nbconvert_exporter": "python",
   "pygments_lexer": "ipython3",
   "version": "3.8.8"
  }
 },
 "nbformat": 4,
 "nbformat_minor": 4
}
