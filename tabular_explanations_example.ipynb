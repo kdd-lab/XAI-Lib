{
 "cells": [
  {
   "cell_type": "code",
   "execution_count": 1,
   "metadata": {},
   "outputs": [],
   "source": [
    "import pandas as pd\n",
    "import numpy as np\n",
    "from sklearn import preprocessing\n",
    "from sklearn.ensemble import RandomForestClassifier\n",
    "from sklearn.model_selection import train_test_split\n",
    "from sklearn.linear_model import LogisticRegression\n",
    "from externals.lore.datamanager import prepare_dataset\n",
    "from xailib.explainers.lime_explainer import LimeXAITabularExplainer\n",
    "from xailib.explainers.lore_explainer import LoreTabularExplainer\n",
    "from xailib.explainers.shap_explainer_tab import ShapXAITabularExplainer\n",
    "from xailib.models.sklearn_classifier_wrapper import sklearn_classifier_wrapper"
   ]
  },
  {
   "cell_type": "markdown",
   "metadata": {},
   "source": [
    "### Load the dataset and prepare it"
   ]
  },
  {
   "cell_type": "code",
   "execution_count": 2,
   "metadata": {},
   "outputs": [
    {
     "data": {
      "text/html": [
       "<div>\n",
       "<style scoped>\n",
       "    .dataframe tbody tr th:only-of-type {\n",
       "        vertical-align: middle;\n",
       "    }\n",
       "\n",
       "    .dataframe tbody tr th {\n",
       "        vertical-align: top;\n",
       "    }\n",
       "\n",
       "    .dataframe thead th {\n",
       "        text-align: right;\n",
       "    }\n",
       "</style>\n",
       "<table border=\"1\" class=\"dataframe\">\n",
       "  <thead>\n",
       "    <tr style=\"text-align: right;\">\n",
       "      <th></th>\n",
       "      <th>duration_in_month</th>\n",
       "      <th>credit_amount</th>\n",
       "      <th>installment_as_income_perc</th>\n",
       "      <th>present_res_since</th>\n",
       "      <th>age</th>\n",
       "      <th>credits_this_bank</th>\n",
       "      <th>people_under_maintenance</th>\n",
       "      <th>account_check_status=0 &lt;= ... &lt; 200 DM</th>\n",
       "      <th>account_check_status=&lt; 0 DM</th>\n",
       "      <th>account_check_status=&gt;= 200 DM / salary assignments for at least 1 year</th>\n",
       "      <th>...</th>\n",
       "      <th>housing=rent</th>\n",
       "      <th>job=management/ self-employed/ highly qualified employee/ officer</th>\n",
       "      <th>job=skilled employee / official</th>\n",
       "      <th>job=unemployed/ unskilled - non-resident</th>\n",
       "      <th>job=unskilled - resident</th>\n",
       "      <th>telephone=none</th>\n",
       "      <th>telephone=yes, registered under the customers name</th>\n",
       "      <th>foreign_worker=no</th>\n",
       "      <th>foreign_worker=yes</th>\n",
       "      <th>default</th>\n",
       "    </tr>\n",
       "  </thead>\n",
       "  <tbody>\n",
       "    <tr>\n",
       "      <th>0</th>\n",
       "      <td>6</td>\n",
       "      <td>1169</td>\n",
       "      <td>4</td>\n",
       "      <td>4</td>\n",
       "      <td>67</td>\n",
       "      <td>2</td>\n",
       "      <td>1</td>\n",
       "      <td>0</td>\n",
       "      <td>1</td>\n",
       "      <td>0</td>\n",
       "      <td>...</td>\n",
       "      <td>0</td>\n",
       "      <td>0</td>\n",
       "      <td>1</td>\n",
       "      <td>0</td>\n",
       "      <td>0</td>\n",
       "      <td>0</td>\n",
       "      <td>1</td>\n",
       "      <td>0</td>\n",
       "      <td>1</td>\n",
       "      <td>0</td>\n",
       "    </tr>\n",
       "    <tr>\n",
       "      <th>1</th>\n",
       "      <td>48</td>\n",
       "      <td>5951</td>\n",
       "      <td>2</td>\n",
       "      <td>2</td>\n",
       "      <td>22</td>\n",
       "      <td>1</td>\n",
       "      <td>1</td>\n",
       "      <td>1</td>\n",
       "      <td>0</td>\n",
       "      <td>0</td>\n",
       "      <td>...</td>\n",
       "      <td>0</td>\n",
       "      <td>0</td>\n",
       "      <td>1</td>\n",
       "      <td>0</td>\n",
       "      <td>0</td>\n",
       "      <td>1</td>\n",
       "      <td>0</td>\n",
       "      <td>0</td>\n",
       "      <td>1</td>\n",
       "      <td>1</td>\n",
       "    </tr>\n",
       "    <tr>\n",
       "      <th>2</th>\n",
       "      <td>12</td>\n",
       "      <td>2096</td>\n",
       "      <td>2</td>\n",
       "      <td>3</td>\n",
       "      <td>49</td>\n",
       "      <td>1</td>\n",
       "      <td>2</td>\n",
       "      <td>0</td>\n",
       "      <td>0</td>\n",
       "      <td>0</td>\n",
       "      <td>...</td>\n",
       "      <td>0</td>\n",
       "      <td>0</td>\n",
       "      <td>0</td>\n",
       "      <td>0</td>\n",
       "      <td>1</td>\n",
       "      <td>1</td>\n",
       "      <td>0</td>\n",
       "      <td>0</td>\n",
       "      <td>1</td>\n",
       "      <td>0</td>\n",
       "    </tr>\n",
       "    <tr>\n",
       "      <th>3</th>\n",
       "      <td>42</td>\n",
       "      <td>7882</td>\n",
       "      <td>2</td>\n",
       "      <td>4</td>\n",
       "      <td>45</td>\n",
       "      <td>1</td>\n",
       "      <td>2</td>\n",
       "      <td>0</td>\n",
       "      <td>1</td>\n",
       "      <td>0</td>\n",
       "      <td>...</td>\n",
       "      <td>0</td>\n",
       "      <td>0</td>\n",
       "      <td>1</td>\n",
       "      <td>0</td>\n",
       "      <td>0</td>\n",
       "      <td>1</td>\n",
       "      <td>0</td>\n",
       "      <td>0</td>\n",
       "      <td>1</td>\n",
       "      <td>0</td>\n",
       "    </tr>\n",
       "    <tr>\n",
       "      <th>4</th>\n",
       "      <td>24</td>\n",
       "      <td>4870</td>\n",
       "      <td>3</td>\n",
       "      <td>4</td>\n",
       "      <td>53</td>\n",
       "      <td>2</td>\n",
       "      <td>2</td>\n",
       "      <td>0</td>\n",
       "      <td>1</td>\n",
       "      <td>0</td>\n",
       "      <td>...</td>\n",
       "      <td>0</td>\n",
       "      <td>0</td>\n",
       "      <td>1</td>\n",
       "      <td>0</td>\n",
       "      <td>0</td>\n",
       "      <td>1</td>\n",
       "      <td>0</td>\n",
       "      <td>0</td>\n",
       "      <td>1</td>\n",
       "      <td>1</td>\n",
       "    </tr>\n",
       "  </tbody>\n",
       "</table>\n",
       "<p>5 rows × 62 columns</p>\n",
       "</div>"
      ],
      "text/plain": [
       "   duration_in_month  credit_amount  installment_as_income_perc  \\\n",
       "0                  6           1169                           4   \n",
       "1                 48           5951                           2   \n",
       "2                 12           2096                           2   \n",
       "3                 42           7882                           2   \n",
       "4                 24           4870                           3   \n",
       "\n",
       "   present_res_since  age  credits_this_bank  people_under_maintenance  \\\n",
       "0                  4   67                  2                         1   \n",
       "1                  2   22                  1                         1   \n",
       "2                  3   49                  1                         2   \n",
       "3                  4   45                  1                         2   \n",
       "4                  4   53                  2                         2   \n",
       "\n",
       "   account_check_status=0 <= ... < 200 DM  account_check_status=< 0 DM  \\\n",
       "0                                       0                            1   \n",
       "1                                       1                            0   \n",
       "2                                       0                            0   \n",
       "3                                       0                            1   \n",
       "4                                       0                            1   \n",
       "\n",
       "   account_check_status=>= 200 DM / salary assignments for at least 1 year  \\\n",
       "0                                                  0                         \n",
       "1                                                  0                         \n",
       "2                                                  0                         \n",
       "3                                                  0                         \n",
       "4                                                  0                         \n",
       "\n",
       "   ...  housing=rent  \\\n",
       "0  ...             0   \n",
       "1  ...             0   \n",
       "2  ...             0   \n",
       "3  ...             0   \n",
       "4  ...             0   \n",
       "\n",
       "   job=management/ self-employed/ highly qualified employee/ officer  \\\n",
       "0                                                  0                   \n",
       "1                                                  0                   \n",
       "2                                                  0                   \n",
       "3                                                  0                   \n",
       "4                                                  0                   \n",
       "\n",
       "   job=skilled employee / official  job=unemployed/ unskilled - non-resident  \\\n",
       "0                                1                                         0   \n",
       "1                                1                                         0   \n",
       "2                                0                                         0   \n",
       "3                                1                                         0   \n",
       "4                                1                                         0   \n",
       "\n",
       "   job=unskilled - resident  telephone=none  \\\n",
       "0                         0               0   \n",
       "1                         0               1   \n",
       "2                         1               1   \n",
       "3                         0               1   \n",
       "4                         0               1   \n",
       "\n",
       "   telephone=yes, registered under the customers name   foreign_worker=no  \\\n",
       "0                                                  1                    0   \n",
       "1                                                  0                    0   \n",
       "2                                                  0                    0   \n",
       "3                                                  0                    0   \n",
       "4                                                  0                    0   \n",
       "\n",
       "   foreign_worker=yes  default  \n",
       "0                   1        0  \n",
       "1                   1        1  \n",
       "2                   1        0  \n",
       "3                   1        0  \n",
       "4                   1        1  \n",
       "\n",
       "[5 rows x 62 columns]"
      ]
     },
     "execution_count": 2,
     "metadata": {},
     "output_type": "execute_result"
    }
   ],
   "source": [
    "source_file = 'datasets/german_credit.csv'\n",
    "class_field = 'default'\n",
    "# Load and transform dataset \n",
    "df = pd.read_csv(source_file, skipinitialspace=True, na_values='?', keep_default_na=True)\n",
    "df, feature_names, class_values, numeric_columns, rdf, real_feature_names, features_map = prepare_dataset(df, class_field)\n",
    "df.head()"
   ]
  },
  {
   "cell_type": "markdown",
   "metadata": {},
   "source": [
    "### Split the dataset into train and test and scale it"
   ]
  },
  {
   "cell_type": "code",
   "execution_count": 3,
   "metadata": {},
   "outputs": [],
   "source": [
    "test_size = 0.3\n",
    "random_state = 42\n",
    "X_train, X_test, Y_train, Y_test = train_test_split(df[feature_names], df[class_field],\n",
    "                                                        test_size=test_size,\n",
    "                                                        random_state=random_state,\n",
    "                                                        stratify=df[class_field])\n",
    "\n",
    "scaler = preprocessing.StandardScaler().fit(X_train)\n",
    "X_scaled = scaler.transform(X_train)"
   ]
  },
  {
   "cell_type": "markdown",
   "metadata": {},
   "source": [
    "### Define and train a logistic regression model"
   ]
  },
  {
   "cell_type": "code",
   "execution_count": 4,
   "metadata": {},
   "outputs": [],
   "source": [
    "bb = LogisticRegression(C=1, penalty='l2')\n",
    "bb.fit(X_scaled, Y_train.values)\n",
    "# pass the model to the wrapper to use it in the XAI lib\n",
    "bbox = sklearn_classifier_wrapper(bb)"
   ]
  },
  {
   "cell_type": "code",
   "execution_count": 5,
   "metadata": {},
   "outputs": [
    {
     "name": "stdout",
     "output_type": "stream",
     "text": [
      "Instance  [  12 1076    2    2   26    1    1    0    0    0]\n",
      "True class  1\n",
      "Predicted class  [1]\n"
     ]
    }
   ],
   "source": [
    "# select a record to explain\n",
    "inst = X_train.iloc[188].values\n",
    "print('Instance ',inst[0:10])\n",
    "print('True class ',Y_train.iloc[18])\n",
    "print('Predicted class ',bb.predict(inst.reshape(1, -1)))"
   ]
  },
  {
   "cell_type": "markdown",
   "metadata": {},
   "source": [
    "### SHAP explainer\n",
    "##### We first define the explainer method we want to use: SHAP. It produces feature importance. Then, we can define a dictionary containing the SHAP's parameters we want. \n",
    "##### Explainer can be: linear, tree, kernel, deep\n",
    "##### X_train is the training set we want the explainer to train on. It can be all the training set used for the training of the target model, just a piece of it or we can apply a clustering algorithm on it. "
   ]
  },
  {
   "cell_type": "code",
   "execution_count": 6,
   "metadata": {},
   "outputs": [],
   "source": [
    "explainer = ShapXAITabularExplainer(bbox)\n",
    "config = {'explainer' : 'linear', 'X_train' : X_train.iloc[0:100].values, 'feature_pert' : 'interventional'}\n",
    "explainer.fit(config)"
   ]
  },
  {
   "cell_type": "markdown",
   "metadata": {},
   "source": [
    "#### We explain the instance and obtain the SHAP values"
   ]
  },
  {
   "cell_type": "code",
   "execution_count": 7,
   "metadata": {},
   "outputs": [
    {
     "name": "stdout",
     "output_type": "stream",
     "text": [
      "building an explanation\n",
      "[-3.14654374e+00 -4.89251054e+02 -3.90753475e-01  1.25400902e-02\n",
      "  8.31464349e-01 -1.12763012e-01 -2.05702546e-02 -5.01662937e-02\n",
      " -9.68094062e-02  3.81923244e-05 -2.77116160e-01 -7.53413023e-03\n",
      "  9.87117610e-02 -3.25979251e-03  7.13981767e-02 -5.79589998e-03\n",
      " -1.48785687e-02 -6.80898123e-03 -3.77382829e-02  2.61558728e-02\n",
      "  1.69495288e-02  0.00000000e+00 -0.00000000e+00  2.51983815e-03\n",
      "  7.00489125e-04 -0.00000000e+00  1.25570699e-02  1.05360978e-01\n",
      " -3.78449695e-03  2.68281002e-04  4.31063042e-02  2.36419604e-03\n",
      " -1.75076895e-02  1.59897539e-02  3.47053429e-02 -1.03261568e-02\n",
      " -2.34396611e-02 -5.29160464e-03  4.84507066e-02  8.48973368e-02\n",
      " -5.42664267e-03  6.68129232e-03  3.97209036e-03  1.77257213e-02\n",
      "  1.96958605e-02 -1.09858864e-01 -5.38853150e-02 -2.50863187e-02\n",
      " -3.24013287e-02  3.78484815e-04  2.28221066e-02 -3.83726099e-03\n",
      " -4.01224748e-02  6.93040105e-03  7.00701088e-03  3.67539150e-04\n",
      " -5.76512093e-03 -3.66043839e-02 -3.66043839e-02 -1.57078274e-01\n",
      " -1.57078274e-01]\n"
     ]
    }
   ],
   "source": [
    "print('building an explanation')\n",
    "exp = explainer.explain(inst)\n",
    "print(exp)"
   ]
  },
  {
   "cell_type": "markdown",
   "metadata": {},
   "source": [
    "##### We can use the method plot_shap_values to get a visual representation. \n",
    "##### Parameters: feature_names, the list of features, exp, the explanation we want to plot, start and end, which denotes the range of features we want to plot"
   ]
  },
  {
   "cell_type": "code",
   "execution_count": 8,
   "metadata": {},
   "outputs": [
    {
     "data": {
      "image/png": "[encoded data removed]",
      "text/plain": [
       "<Figure size 720x576 with 1 Axes>"
      ]
     },
     "metadata": {
      "needs_background": "light"
     },
     "output_type": "display_data"
    }
   ],
   "source": [
    "explainer.plot_shap_values(feature_names, exp, 4, 15)"
   ]
  },
  {
   "cell_type": "markdown",
   "metadata": {},
   "source": [
    "##### We can use the method plot_shap_values_alt  (or plot_shap_values_alt2) to get an interactive visual representation. \n",
    "##### Parameters: \n",
    "- feature_names: the list of features;\n",
    "- exp: the explanation we want to plot\n",
    "- fontDimension: font size (which affects entire plot size)"
   ]
  },
  {
   "cell_type": "code",
   "execution_count": 9,
   "metadata": {},
   "outputs": [
    {
     "data": {
      "text/html": [
       "\n",
       "        <style>\n",
       "        .vega-bind {\n",
       "          position: absolute;\n",
       "          left: 0px;\n",
       "          top: 0px;\n",
       "          background-color:#eee;\n",
       "          padding:10px;\n",
       "          font-size:10px;\n",
       "        }\n",
       "        .chart-wrapper{\n",
       "          padding-top: 70px;\n",
       "        }\n",
       "\n",
       "        </style>\n",
       "        "
      ],
      "text/plain": [
       "<IPython.core.display.HTML object>"
      ]
     },
     "metadata": {},
     "output_type": "display_data"
    },
    {
     "data": {
      "text/html": [
       "\n",
       "<div id=\"altair-viz-f784e4abaa0a47f08d88cdca9087a991\"></div>\n",
       "<script type=\"text/javascript\">\n",
       "  (function(spec, embedOpt){\n",
       "    let outputDiv = document.currentScript.previousElementSibling;\n",
       "    if (outputDiv.id !== \"altair-viz-f784e4abaa0a47f08d88cdca9087a991\") {\n",
       "      outputDiv = document.getElementById(\"altair-viz-f784e4abaa0a47f08d88cdca9087a991\");\n",
       "    }\n",
       "    const paths = {\n",
       "      \"vega\": \"https://cdn.jsdelivr.net/npm//vega@5?noext\",\n",
       "      \"vega-lib\": \"https://cdn.jsdelivr.net/npm//vega-lib?noext\",\n",
       "      \"vega-lite\": \"https://cdn.jsdelivr.net/npm//vega-lite@4.8.1?noext\",\n",
       "      \"vega-embed\": \"https://cdn.jsdelivr.net/npm//vega-embed@6?noext\",\n",
       "    };\n",
       "\n",
       "    function loadScript(lib) {\n",
       "      return new Promise(function(resolve, reject) {\n",
       "        var s = document.createElement('script');\n",
       "        s.src = paths[lib];\n",
       "        s.async = true;\n",
       "        s.onload = () => resolve(paths[lib]);\n",
       "        s.onerror = () => reject(`Error loading script: ${paths[lib]}`);\n",
       "        document.getElementsByTagName(\"head\")[0].appendChild(s);\n",
       "      });\n",
       "    }\n",
       "\n",
       "    function showError(err) {\n",
       "      outputDiv.innerHTML = `<div class=\"error\" style=\"color:red;\">${err}</div>`;\n",
       "      throw err;\n",
       "    }\n",
       "\n",
       "    function displayChart(vegaEmbed) {\n",
       "      vegaEmbed(outputDiv, spec, embedOpt)\n",
       "        .catch(err => showError(`Javascript Error: ${err.message}<br>This usually means there's a typo in your chart specification. See the javascript console for the full traceback.`));\n",
       "    }\n",
       "\n",
       "    if(typeof define === \"function\" && define.amd) {\n",
       "      requirejs.config({paths});\n",
       "      require([\"vega-embed\"], displayChart, err => showError(`Error loading script: ${err.message}`));\n",
       "    } else if (typeof vegaEmbed === \"function\") {\n",
       "      displayChart(vegaEmbed);\n",
       "    } else {\n",
       "      loadScript(\"vega\")\n",
       "        .then(() => loadScript(\"vega-lite\"))\n",
       "        .then(() => loadScript(\"vega-embed\"))\n",
       "        .catch(showError)\n",
       "        .then(() => displayChart(vegaEmbed));\n",
       "    }\n",
       "  })({\"config\": {\"view\": {\"continuousWidth\": 400, \"continuousHeight\": 300}, \"axis\": {\"labelFontSize\": 10, \"labelLimit\": 225.0}}, \"vconcat\": [{\"layer\": [{\"data\": {\"name\": \"data-ef2321d8d6da0de001fe44cedc8958cd\"}, \"mark\": {\"type\": \"rule\", \"strokeWidth\": 3}, \"encoding\": {\"color\": {\"type\": \"quantitative\", \"field\": \"xValue\", \"legend\": null, \"scale\": {\"domain\": [-1, 1], \"domainMid\": 0, \"scheme\": \"redyellowblue\"}}, \"x\": {\"type\": \"quantitative\", \"axis\": {\"orient\": \"top\", \"titleFontSize\": 10}, \"field\": \"xValue\", \"title\": \"Select a cutoff range for Feature Importance values \"}}}, {\"data\": {\"name\": \"data-c7bc3ae69e1253e8223f70a11d04b99d\"}, \"mark\": {\"type\": \"rect\", \"color\": \"black\", \"height\": 20, \"opacity\": 0.4, \"tooltip\": true}, \"encoding\": {\"x\": {\"type\": \"quantitative\", \"field\": \"x_min\"}, \"x2\": {\"field\": \"x_max\"}, \"y\": {\"type\": \"quantitative\", \"field\": \"y\"}}, \"selection\": {\"Cutter\": {\"type\": \"single\", \"fields\": [\"cutoff\"], \"bind\": {\"input\": \"range\", \"max\": 1, \"min\": 0, \"name\": \"Importance cutoff value (\\u00b1) \", \"step\": 0.005}, \"init\": {\"cutoff\": 0.05}}}, \"transform\": [{\"calculate\": \"(-Cutter.cutoff)\", \"as\": \"x_min\"}, {\"calculate\": \"Cutter.cutoff\", \"as\": \"x_max\"}]}], \"height\": 20}, {\"layer\": [{\"data\": {\"name\": \"data-d450725d87c5252800682ed6d24c34a2\"}, \"mark\": \"bar\", \"encoding\": {\"color\": {\"type\": \"quantitative\", \"field\": \"value\", \"legend\": null, \"scale\": {\"domain\": [-1, 1], \"domainMid\": 0, \"scheme\": \"blueorange\"}}, \"tooltip\": [{\"type\": \"nominal\", \"field\": \"name\", \"title\": \"Feature\"}, {\"type\": \"quantitative\", \"field\": \"value\", \"title\": \"Importance\"}], \"x\": {\"type\": \"quantitative\", \"field\": \"value\", \"title\": null}, \"y\": {\"type\": \"nominal\", \"field\": \"name\", \"sort\": {\"field\": \"value\", \"op\": \"mean\", \"order\": \"descending\"}, \"title\": null}}, \"selection\": {\"Cutter\": {\"type\": \"single\", \"fields\": [\"cutoff\"], \"bind\": {\"input\": \"range\", \"max\": 1, \"min\": 0, \"name\": \"Importance cutoff value (\\u00b1) \", \"step\": 0.005}, \"init\": {\"cutoff\": 0.05}}}, \"transform\": [{\"filter\": \"datum.value > -1 & datum.value < 1\"}, {\"filter\": \"((datum.value > Cutter.cutoff) || (datum.value < (-Cutter.cutoff)))\"}]}, {\"data\": {\"name\": \"data-9c00aa9dc2b1c1a0b4bf9b34ead12925\"}, \"mark\": \"rule\", \"encoding\": {\"x\": {\"type\": \"quantitative\", \"field\": \"x\"}}}]}], \"padding\": 10, \"$schema\": \"https://vega.github.io/schema/vega-lite/v4.8.1.json\", \"datasets\": {\"data-ef2321d8d6da0de001fe44cedc8958cd\": [{\"xValue\": -1.0}, {\"xValue\": -0.9875}, {\"xValue\": -0.9750000000000001}, {\"xValue\": -0.9625000000000001}, {\"xValue\": -0.9500000000000002}, {\"xValue\": -0.9375000000000002}, {\"xValue\": -0.9250000000000003}, {\"xValue\": -0.9125000000000003}, {\"xValue\": -0.9000000000000004}, {\"xValue\": -0.8875000000000004}, {\"xValue\": -0.8750000000000004}, {\"xValue\": -0.8625000000000005}, {\"xValue\": -0.8500000000000005}, {\"xValue\": -0.8375000000000006}, {\"xValue\": -0.8250000000000006}, {\"xValue\": -0.8125000000000007}, {\"xValue\": -0.8000000000000007}, {\"xValue\": -0.7875000000000008}, {\"xValue\": -0.7750000000000008}, {\"xValue\": -0.7625000000000008}, {\"xValue\": -0.7500000000000009}, {\"xValue\": -0.7375000000000009}, {\"xValue\": -0.725000000000001}, {\"xValue\": -0.712500000000001}, {\"xValue\": -0.7000000000000011}, {\"xValue\": -0.6875000000000011}, {\"xValue\": -0.6750000000000012}, {\"xValue\": -0.6625000000000012}, {\"xValue\": -0.6500000000000012}, {\"xValue\": -0.6375000000000013}, {\"xValue\": -0.6250000000000013}, {\"xValue\": -0.6125000000000014}, {\"xValue\": -0.6000000000000014}, {\"xValue\": -0.5875000000000015}, {\"xValue\": -0.5750000000000015}, {\"xValue\": -0.5625000000000016}, {\"xValue\": -0.5500000000000016}, {\"xValue\": -0.5375000000000016}, {\"xValue\": -0.5250000000000017}, {\"xValue\": -0.5125000000000017}, {\"xValue\": -0.5000000000000018}, {\"xValue\": -0.4875000000000018}, {\"xValue\": -0.47500000000000187}, {\"xValue\": -0.4625000000000019}, {\"xValue\": -0.45000000000000195}, {\"xValue\": -0.437500000000002}, {\"xValue\": -0.42500000000000204}, {\"xValue\": -0.4125000000000021}, {\"xValue\": -0.40000000000000213}, {\"xValue\": -0.3875000000000022}, {\"xValue\": -0.3750000000000022}, {\"xValue\": -0.36250000000000226}, {\"xValue\": -0.3500000000000023}, {\"xValue\": -0.33750000000000235}, {\"xValue\": -0.3250000000000024}, {\"xValue\": -0.31250000000000244}, {\"xValue\": -0.3000000000000025}, {\"xValue\": -0.28750000000000253}, {\"xValue\": -0.2750000000000026}, {\"xValue\": -0.2625000000000026}, {\"xValue\": -0.25000000000000266}, {\"xValue\": -0.2375000000000027}, {\"xValue\": -0.22500000000000275}, {\"xValue\": -0.2125000000000028}, {\"xValue\": -0.20000000000000284}, {\"xValue\": -0.1875000000000029}, {\"xValue\": -0.17500000000000293}, {\"xValue\": -0.16250000000000298}, {\"xValue\": -0.15000000000000302}, {\"xValue\": -0.13750000000000306}, {\"xValue\": -0.1250000000000031}, {\"xValue\": -0.11250000000000315}, {\"xValue\": -0.1000000000000032}, {\"xValue\": -0.08750000000000324}, {\"xValue\": -0.07500000000000329}, {\"xValue\": -0.06250000000000333}, {\"xValue\": -0.050000000000003375}, {\"xValue\": -0.03750000000000342}, {\"xValue\": -0.025000000000003464}, {\"xValue\": -0.012500000000003508}, {\"xValue\": -3.552713678800501e-15}, {\"xValue\": 0.012499999999996403}, {\"xValue\": 0.02499999999999636}, {\"xValue\": 0.037499999999996314}, {\"xValue\": 0.04999999999999627}, {\"xValue\": 0.062499999999996225}, {\"xValue\": 0.07499999999999618}, {\"xValue\": 0.08749999999999614}, {\"xValue\": 0.09999999999999609}, {\"xValue\": 0.11249999999999605}, {\"xValue\": 0.124999999999996}, {\"xValue\": 0.13749999999999596}, {\"xValue\": 0.14999999999999591}, {\"xValue\": 0.16249999999999587}, {\"xValue\": 0.17499999999999583}, {\"xValue\": 0.18749999999999578}, {\"xValue\": 0.19999999999999574}, {\"xValue\": 0.2124999999999957}, {\"xValue\": 0.22499999999999565}, {\"xValue\": 0.2374999999999956}, {\"xValue\": 0.24999999999999556}, {\"xValue\": 0.2624999999999955}, {\"xValue\": 0.27499999999999547}, {\"xValue\": 0.2874999999999954}, {\"xValue\": 0.2999999999999954}, {\"xValue\": 0.31249999999999534}, {\"xValue\": 0.3249999999999953}, {\"xValue\": 0.33749999999999525}, {\"xValue\": 0.3499999999999952}, {\"xValue\": 0.36249999999999516}, {\"xValue\": 0.3749999999999951}, {\"xValue\": 0.38749999999999507}, {\"xValue\": 0.399999999999995}, {\"xValue\": 0.412499999999995}, {\"xValue\": 0.42499999999999494}, {\"xValue\": 0.4374999999999949}, {\"xValue\": 0.44999999999999485}, {\"xValue\": 0.4624999999999948}, {\"xValue\": 0.47499999999999476}, {\"xValue\": 0.4874999999999947}, {\"xValue\": 0.49999999999999467}, {\"xValue\": 0.5124999999999946}, {\"xValue\": 0.5249999999999946}, {\"xValue\": 0.5374999999999945}, {\"xValue\": 0.5499999999999945}, {\"xValue\": 0.5624999999999944}, {\"xValue\": 0.5749999999999944}, {\"xValue\": 0.5874999999999944}, {\"xValue\": 0.5999999999999943}, {\"xValue\": 0.6124999999999943}, {\"xValue\": 0.6249999999999942}, {\"xValue\": 0.6374999999999942}, {\"xValue\": 0.6499999999999941}, {\"xValue\": 0.6624999999999941}, {\"xValue\": 0.674999999999994}, {\"xValue\": 0.687499999999994}, {\"xValue\": 0.699999999999994}, {\"xValue\": 0.7124999999999939}, {\"xValue\": 0.7249999999999939}, {\"xValue\": 0.7374999999999938}, {\"xValue\": 0.7499999999999938}, {\"xValue\": 0.7624999999999937}, {\"xValue\": 0.7749999999999937}, {\"xValue\": 0.7874999999999936}, {\"xValue\": 0.7999999999999936}, {\"xValue\": 0.8124999999999936}, {\"xValue\": 0.8249999999999935}, {\"xValue\": 0.8374999999999935}, {\"xValue\": 0.8499999999999934}, {\"xValue\": 0.8624999999999934}, {\"xValue\": 0.8749999999999933}, {\"xValue\": 0.8874999999999933}, {\"xValue\": 0.8999999999999932}, {\"xValue\": 0.9124999999999932}, {\"xValue\": 0.9249999999999932}, {\"xValue\": 0.9374999999999931}, {\"xValue\": 0.9499999999999931}, {\"xValue\": 0.962499999999993}, {\"xValue\": 0.974999999999993}, {\"xValue\": 0.9874999999999929}], \"data-c7bc3ae69e1253e8223f70a11d04b99d\": [{\"y\": 0, \"x\": -0.5, \"x2\": 0.5}], \"data-d450725d87c5252800682ed6d24c34a2\": [{\"name\": \"duration_in_month\", \"value\": \"-3.146543735134303\"}, {\"name\": \"credit_amount\", \"value\": \"-489.2510537544514\"}, {\"name\": \"installment_as_income_perc\", \"value\": \"-0.39075347460879906\"}, {\"name\": \"present_res_since\", \"value\": \"0.012540090231207994\"}, {\"name\": \"age\", \"value\": \"0.8314643494898328\"}, {\"name\": \"credits_this_bank\", \"value\": \"-0.1127630116432014\"}, {\"name\": \"people_under_maintenance\", \"value\": \"-0.020570254623596775\"}, {\"name\": \"account_check_status=0 <= ... < 200 DM\", \"value\": \"-0.050166293675809256\"}, {\"name\": \"account_check_status=< 0 DM\", \"value\": \"-0.0968094062071581\"}, {\"name\": \"account_check_status=>= 200 DM / salary assignments for at least 1 year\", \"value\": \"3.8192324384133496e-05\"}, {\"name\": \"account_check_status=no checking account\", \"value\": \"-0.27711616029392855\"}, {\"name\": \"credit_history=all credits at this bank paid back duly\", \"value\": \"-0.00753413022817378\"}, {\"name\": \"credit_history=critical account/ other credits existing (not at this bank)\", \"value\": \"0.09871176103726662\"}, {\"name\": \"credit_history=delay in paying off in the past\", \"value\": \"-0.003259792506060558\"}, {\"name\": \"credit_history=existing credits paid back duly till now\", \"value\": \"0.07139817666518071\"}, {\"name\": \"credit_history=no credits taken/ all credits paid back duly\", \"value\": \"-0.005795899980760466\"}, {\"name\": \"purpose=(vacation - does not exist?)\", \"value\": \"-0.014878568693185958\"}, {\"name\": \"purpose=business\", \"value\": \"-0.006808981232080937\"}, {\"name\": \"purpose=car (new)\", \"value\": \"-0.03773828292142837\"}, {\"name\": \"purpose=car (used)\", \"value\": \"0.026155872761769096\"}, {\"name\": \"purpose=domestic appliances\", \"value\": \"0.016949528806826646\"}, {\"name\": \"purpose=education\", \"value\": \"0.0\"}, {\"name\": \"purpose=furniture/equipment\", \"value\": \"-0.0\"}, {\"name\": \"purpose=radio/television\", \"value\": \"0.0025198381532311113\"}, {\"name\": \"purpose=repairs\", \"value\": \"0.0007004891254831896\"}, {\"name\": \"purpose=retraining\", \"value\": \"-0.0\"}, {\"name\": \"savings=.. >= 1000 DM \", \"value\": \"0.012557069907205301\"}, {\"name\": \"savings=... < 100 DM\", \"value\": \"0.10536097809077899\"}, {\"name\": \"savings=100 <= ... < 500 DM\", \"value\": \"-0.003784496947496538\"}, {\"name\": \"savings=500 <= ... < 1000 DM \", \"value\": \"0.00026828100217971094\"}, {\"name\": \"savings=unknown/ no savings account\", \"value\": \"0.0431063041621536\"}, {\"name\": \"present_emp_since=.. >= 7 years\", \"value\": \"0.00236419603968972\"}, {\"name\": \"present_emp_since=... < 1 year \", \"value\": \"-0.017507689492436446\"}, {\"name\": \"present_emp_since=1 <= ... < 4 years\", \"value\": \"0.0159897539415944\"}, {\"name\": \"present_emp_since=4 <= ... < 7 years\", \"value\": \"0.034705342867955624\"}, {\"name\": \"present_emp_since=unemployed\", \"value\": \"-0.010326156787832493\"}, {\"name\": \"personal_status_sex=female : divorced/separated/married\", \"value\": \"-0.023439661051967865\"}, {\"name\": \"personal_status_sex=male : divorced/separated\", \"value\": \"-0.0052916046432779085\"}, {\"name\": \"personal_status_sex=male : married/widowed\", \"value\": \"0.0484507066345068\"}, {\"name\": \"personal_status_sex=male : single\", \"value\": \"0.08489733683455641\"}, {\"name\": \"other_debtors=co-applicant\", \"value\": \"-0.0054266426666887526\"}, {\"name\": \"other_debtors=guarantor\", \"value\": \"0.0066812923189109655\"}, {\"name\": \"other_debtors=none\", \"value\": \"0.003972090355581759\"}, {\"name\": \"property=if not A121 : building society savings agreement/ life insurance\", \"value\": \"0.01772572126747951\"}, {\"name\": \"property=if not A121/A122 : car or other, not in attribute 6\", \"value\": \"0.019695860513005026\"}, {\"name\": \"property=real estate\", \"value\": \"-0.1098588637033613\"}, {\"name\": \"property=unknown / no property\", \"value\": \"-0.0538853149579642\"}, {\"name\": \"other_installment_plans=bank\", \"value\": \"-0.025086318726218835\"}, {\"name\": \"other_installment_plans=none\", \"value\": \"-0.03240132873632797\"}, {\"name\": \"other_installment_plans=stores\", \"value\": \"0.00037848481493986657\"}, {\"name\": \"housing=for free\", \"value\": \"0.022822106590530557\"}, {\"name\": \"housing=own\", \"value\": \"-0.0038372609903258932\"}, {\"name\": \"housing=rent\", \"value\": \"-0.040122474801929923\"}, {\"name\": \"job=management/ self-employed/ highly qualified employee/ officer\", \"value\": \"0.006930401045609137\"}, {\"name\": \"job=skilled employee / official\", \"value\": \"0.007007010880487266\"}, {\"name\": \"job=unemployed/ unskilled - non-resident\", \"value\": \"0.0003675391503389576\"}, {\"name\": \"job=unskilled - resident\", \"value\": \"-0.005765120933731076\"}, {\"name\": \"telephone=none\", \"value\": \"-0.03660438386084959\"}, {\"name\": \"telephone=yes, registered under the customers name \", \"value\": \"-0.036604383860849625\"}, {\"name\": \"foreign_worker=no\", \"value\": \"-0.15707827379426237\"}, {\"name\": \"foreign_worker=yes\", \"value\": \"-0.1570782737942607\"}], \"data-9c00aa9dc2b1c1a0b4bf9b34ead12925\": [{\"x\": 0}]}}, {\"mode\": \"vega-lite\"});\n",
       "</script>"
      ],
      "text/plain": [
       "alt.VConcatChart(...)"
      ]
     },
     "metadata": {},
     "output_type": "display_data"
    }
   ],
   "source": [
    "explainer.plot_shap_values_alt(feature_names, exp)"
   ]
  },
  {
   "cell_type": "markdown",
   "metadata": {},
   "source": [
    "### LORE explainer\n",
    "##### We first define the explainer method we want to use: LORE. It produces rules and counterfactual rules. We can define a dictionary containing the LORE's parameters we want. \n",
    "##### neigh_type can be: random, genetic, rndgen, geneticp, rndgenp"
   ]
  },
  {
   "cell_type": "code",
   "execution_count": null,
   "metadata": {},
   "outputs": [],
   "source": [
    "explainer = LoreTabularExplainer(bbox)\n",
    "config = {'neigh_type':'geneticp', 'size':1000, 'ocr':0.1, 'ngen':10}\n",
    "explainer.fit(df, class_field, config)\n",
    "exp = explainer.explain(inst)\n",
    "print(exp)"
   ]
  },
  {
   "cell_type": "markdown",
   "metadata": {},
   "source": [
    "### LIME explainer\n",
    "##### We first define the explainer method we want to use: LIME. It produces feature importances. We can define a dictionary containing the LIME's parameters we want. \n",
    "##### There are several parameters we can define: feature selection, discretize continuous, discretizer, sample_around_instance, kernel width, kernel."
   ]
  },
  {
   "cell_type": "code",
   "execution_count": null,
   "metadata": {},
   "outputs": [],
   "source": [
    "limeExplainer = LimeXAITabularExplainer(bbox)\n",
    "config = {'feature_selection': 'lasso_path'}\n",
    "limeExplainer.fit(df, class_field, config)\n",
    "lime_exp = limeExplainer.explain(inst)\n",
    "print(lime_exp.as_list())"
   ]
  },
  {
   "cell_type": "markdown",
   "metadata": {},
   "source": [
    "##### To plot the explanation, we pass the explanation as a list (tuples, where the first element is the feature name and the second the actual feature importance), start and end of the range of features we want to visualize."
   ]
  },
  {
   "cell_type": "code",
   "execution_count": null,
   "metadata": {},
   "outputs": [],
   "source": [
    "limeExplainer.plot_lime_values(lime_exp.as_list(), 4, 15)"
   ]
  },
  {
   "cell_type": "markdown",
   "metadata": {},
   "source": [
    "### Define and train a RFClassifier"
   ]
  },
  {
   "cell_type": "code",
   "execution_count": null,
   "metadata": {},
   "outputs": [],
   "source": [
    "bb = RandomForestClassifier(n_estimators=20, random_state=random_state)\n",
    "bb.fit(X_train.values, Y_train.values)\n",
    "bbox = sklearn_classifier_wrapper(bb)   "
   ]
  },
  {
   "cell_type": "code",
   "execution_count": null,
   "metadata": {},
   "outputs": [],
   "source": [
    "explainer = ShapXAITabularExplainer(bbox)\n",
    "config = {'explainer' : 'tree', 'X_train' : X_train.iloc[0:100].values}\n",
    "explainer.fit(config)"
   ]
  },
  {
   "cell_type": "code",
   "execution_count": null,
   "metadata": {},
   "outputs": [],
   "source": [
    "inst = X_train.iloc[147].values\n",
    "print('Instance ',inst[0:10])\n",
    "print('True class ',Y_train.iloc[8])\n",
    "print('Predicted class ',bb.predict(inst.reshape(1, -1)))"
   ]
  },
  {
   "cell_type": "code",
   "execution_count": null,
   "metadata": {},
   "outputs": [],
   "source": [
    "print('building an explanation')\n",
    "exp = explainer.explain(inst)\n",
    "print(exp)"
   ]
  },
  {
   "cell_type": "markdown",
   "metadata": {},
   "source": [
    "##### We can use the method plot_shap_values to get a visual representation. \n",
    "##### Parameters: feature_names, the list of features, exp, the explanation we want to plot, start and end, which denotes the range of features we want to plot. When using Tree explainer, for each record we obtain n feature importance arrays (where n is the number of classes). For the plot, we have to select only one array (in this case we selected the one of the true class)."
   ]
  },
  {
   "cell_type": "code",
   "execution_count": null,
   "metadata": {},
   "outputs": [],
   "source": [
    "explainer.plot_shap_values(feature_names, exp[0], 0, 15)"
   ]
  },
  {
   "cell_type": "markdown",
   "metadata": {},
   "source": [
    "### LORE explainer"
   ]
  },
  {
   "cell_type": "code",
   "execution_count": null,
   "metadata": {},
   "outputs": [],
   "source": [
    "explainer = LoreTabularExplainer(bbox)\n",
    "config = {'neigh_type':'rndgen', 'size':1000, 'ocr':0.1, 'ngen':10}\n",
    "explainer.fit(df, class_field, config)\n",
    "exp = explainer.explain(inst)\n",
    "print(exp)"
   ]
  },
  {
   "cell_type": "markdown",
   "metadata": {},
   "source": [
    "### LIME explainer"
   ]
  },
  {
   "cell_type": "code",
   "execution_count": null,
   "metadata": {},
   "outputs": [],
   "source": [
    "limeExplainer = LimeXAITabularExplainer(bbox)\n",
    "config = {'feature_selection': 'lasso_path'}\n",
    "limeExplainer.fit(df, class_field, config)\n",
    "lime_exp = limeExplainer.explain(inst)\n",
    "print(lime_exp.as_list())"
   ]
  },
  {
   "cell_type": "code",
   "execution_count": null,
   "metadata": {},
   "outputs": [],
   "source": [
    "limeExplainer.plot_lime_values(lime_exp.as_list(), 5, 10)"
   ]
  }
 ],
 "metadata": {
  "kernelspec": {
   "display_name": "Python 3",
   "language": "python",
   "name": "python3"
  },
  "language_info": {
   "codemirror_mode": {
    "name": "ipython",
    "version": 3
   },
   "file_extension": ".py",
   "mimetype": "text/x-python",
   "name": "python",
   "nbconvert_exporter": "python",
   "pygments_lexer": "ipython3",
   "version": "3.7.4"
  }
 },
 "nbformat": 4,
 "nbformat_minor": 5
}
