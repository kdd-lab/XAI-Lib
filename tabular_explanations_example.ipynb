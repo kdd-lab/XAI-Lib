{
 "cells": [
  {
   "cell_type": "code",
   "execution_count": 1,
   "metadata": {},
   "outputs": [],
   "source": [
    "import pandas as pd\n",
    "import numpy as np\n",
    "\n",
    "from sklearn import preprocessing\n",
    "from sklearn.ensemble import RandomForestClassifier\n",
    "from sklearn.model_selection import train_test_split\n",
    "from sklearn.linear_model import LogisticRegression\n",
    "\n",
    "from xailib.data_loaders.dataframe_loader import prepare_dataframe\n",
    "\n",
    "from xailib.explainers.lime_explainer import LimeXAITabularExplainer\n",
    "from xailib.explainers.lore_explainer import LoreTabularExplainer\n",
    "from xailib.explainers.shap_explainer_tab import ShapXAITabularExplainer\n",
    "\n",
    "from xailib.models.sklearn_classifier_wrapper import sklearn_classifier_wrapper"
   ]
  },
  {
   "cell_type": "code",
   "execution_count": null,
   "metadata": {},
   "outputs": [],
   "source": []
  },
  {
   "cell_type": "markdown",
   "metadata": {},
   "source": [
    "### Load the dataset and prepare it"
   ]
  },
  {
   "cell_type": "code",
   "execution_count": 2,
   "metadata": {},
   "outputs": [],
   "source": [
    "source_file = 'datasets/german_credit.csv'\n",
    "class_field = 'default'\n",
    "# Load and transform dataset \n",
    "df = pd.read_csv(source_file, skipinitialspace=True, na_values='?', keep_default_na=True)"
   ]
  },
  {
   "cell_type": "code",
   "execution_count": 3,
   "metadata": {},
   "outputs": [],
   "source": [
    "df, feature_names, class_values, numeric_columns, rdf, real_feature_names, features_map = prepare_dataframe(df, class_field)"
   ]
  },
  {
   "cell_type": "markdown",
   "metadata": {},
   "source": [
    "### Split the dataset into train and test and scale it"
   ]
  },
  {
   "cell_type": "code",
   "execution_count": 4,
   "metadata": {},
   "outputs": [],
   "source": [
    "test_size = 0.3\n",
    "random_state = 42\n",
    "X_train, X_test, Y_train, Y_test = train_test_split(df[feature_names], df[class_field],\n",
    "                                                        test_size=test_size,\n",
    "                                                        random_state=random_state,\n",
    "                                                        stratify=df[class_field])\n",
    "\n"
   ]
  },
  {
   "cell_type": "markdown",
   "metadata": {},
   "source": [
    "### Define and train a logistic regression model"
   ]
  },
  {
   "cell_type": "code",
   "execution_count": 5,
   "metadata": {},
   "outputs": [],
   "source": [
    "scaler = preprocessing.StandardScaler().fit(X_train)\n",
    "X_scaled = scaler.transform(X_train)\n",
    "\n",
    "bb = LogisticRegression(C=1, penalty='l2')\n",
    "bb.fit(X_scaled, Y_train.values)\n",
    "# pass the model to the wrapper to use it in the XAI lib\n",
    "bbox = sklearn_classifier_wrapper(bb)"
   ]
  },
  {
   "cell_type": "code",
   "execution_count": 6,
   "metadata": {},
   "outputs": [
    {
     "name": "stdout",
     "output_type": "stream",
     "text": [
      "Instance  [ 2.27797454  3.35504085  0.94540357  1.07634233  0.04854891 -0.72456474\n",
      " -0.43411405  1.65027399 -0.61477862 -0.25898489]\n",
      "True class  1\n",
      "Predicted class  [1]\n"
     ]
    }
   ],
   "source": [
    "# select a record to explain\n",
    "inst = X_scaled[182]\n",
    "print('Instance ',inst[0:10])\n",
    "print('True class ',Y_train.iloc[18])\n",
    "print('Predicted class ',bb.predict(inst.reshape(1, -1)))"
   ]
  },
  {
   "cell_type": "markdown",
   "metadata": {},
   "source": [
    "### SHAP explainer\n",
    "##### We first define the explainer method we want to use: SHAP. It produces feature importance. Then, we can define a dictionary containing the SHAP's parameters we want. \n",
    "##### Explainer can be: linear, tree, kernel, deep\n",
    "##### X_train is the training set we want the explainer to train on. It can be all the training set used for the training of the target model, just a piece of it or we can apply a clustering algorithm on it. "
   ]
  },
  {
   "cell_type": "code",
   "execution_count": null,
   "metadata": {},
   "outputs": [],
   "source": [
    "explainer = ShapXAITabularExplainer(bbox, feature_names)\n",
    "config = {'explainer' : 'linear', 'X_train' : X_scaled[0:100], 'feature_pert' : 'interventional'}\n",
    "\n",
    "explainer.fit(config)"
   ]
  },
  {
   "cell_type": "markdown",
   "metadata": {},
   "source": [
    "#### We explain the instance and obtain the SHAP values"
   ]
  },
  {
   "cell_type": "code",
   "execution_count": null,
   "metadata": {},
   "outputs": [],
   "source": [
    "print('building an explanation')\n",
    "exp = explainer.explain(inst)\n",
    "print(exp)"
   ]
  },
  {
   "cell_type": "code",
   "execution_count": null,
   "metadata": {},
   "outputs": [],
   "source": [
    "exp.plot_features_importance()"
   ]
  },
  {
   "cell_type": "markdown",
   "metadata": {},
   "source": [
    "### LORE explainer\n",
    "##### We first define the explainer method we want to use: LORE. It produces rules and counterfactual rules. We can define a dictionary containing the LORE's parameters we want. \n",
    "##### neigh_type can be: random, genetic, rndgen, geneticp, rndgenp"
   ]
  },
  {
   "cell_type": "code",
   "execution_count": 7,
   "metadata": {},
   "outputs": [
    {
     "name": "stdout",
     "output_type": "stream",
     "text": [
      "<xailib.explainers.lore_explainer.LoreTabularExplanation object at 0x10abe7da0>\n"
     ]
    }
   ],
   "source": [
    "explainer = LoreTabularExplainer(bbox)\n",
    "config = {'neigh_type':'geneticp', 'size':1000, 'ocr':0.1, 'ngen':10}\n",
    "explainer.fit(df, class_field, config)\n",
    "exp = explainer.explain(inst)\n",
    "print(exp)"
   ]
  },
  {
   "cell_type": "code",
   "execution_count": 9,
   "metadata": {},
   "outputs": [
    {
     "data": {
      "text/html": [
       "\n",
       "                <style>\n",
       "                .red {\n",
       "                background-color:firebrick;\n",
       "                padding:3px 5px 3px 5px;\n",
       "                border-radius:5px;\n",
       "\n",
       "                color:white;\n",
       "                }\n",
       "                .rules{\n",
       "                    margin-top:10px;\n",
       "                    font-weight: 400;\n",
       "                }\n",
       "                .rule{\n",
       "                padding:5px 20px 5px 20px;\n",
       "                border-radius:5px;\n",
       "                margin-right:5px;\n",
       "                font-size:12px;\n",
       "                line-height:20px;\n",
       "                display: block;\n",
       "                margin-bottom: 10px;\n",
       "                width: fit-content;\n",
       "                \n",
       "                color:white;\n",
       "                background-color:firebrick;\n",
       "                opacity:0.8;\n",
       "                }\n",
       "                </style>\n",
       "                "
      ],
      "text/plain": [
       "<IPython.core.display.HTML object>"
      ]
     },
     "metadata": {},
     "output_type": "display_data"
    },
    {
     "data": {
      "text/html": [
       "\n",
       "            <h3>Why the predicted value for class <span class='red'>default</span> is <span class='red'>1</span> ?</h3>\n",
       "            "
      ],
      "text/plain": [
       "<IPython.core.display.HTML object>"
      ]
     },
     "metadata": {},
     "output_type": "display_data"
    },
    {
     "data": {
      "text/html": [
       "\n",
       "            <p>Because all the following conditions happen:</p>\n",
       "            "
      ],
      "text/plain": [
       "<IPython.core.display.HTML object>"
      ]
     },
     "metadata": {},
     "output_type": "display_data"
    },
    {
     "data": {
      "text/html": [
       "<p class='rules'><span class='rule'>age <strong><=</strong> 20.726173400878906</span><span class='rule'>credit amount <strong>></strong> -439.6443485021591</span><span class='rule'>purpose=retraining <strong><=</strong> 0.11524588242173195</span><span class='rule'>duration in month <strong>></strong> -1.9407005310058594</span><span class='rule'>purpose=furniture/equipment <strong><=</strong> 0.18370826542377472</span><span class='rule'>foreign worker=no <strong><=</strong> 0.7168410122394562</span><span class='rule'>purpose=domestic appliances <strong><=</strong> 1.015466570854187</span><span class='rule'>savings=.. >= 1000 DM  <strong><=</strong> 0.7176859378814697</span><span class='rule'>purpose=(vacation - does not exist?) <strong><=</strong> 0.4622504562139511</span><span class='rule'>credit history=critical account/ other credits existing (not at this bank) <strong><=</strong> 0.9085964262485504</span></p>"
      ],
      "text/plain": [
       "<IPython.core.display.HTML object>"
      ]
     },
     "metadata": {},
     "output_type": "display_data"
    }
   ],
   "source": [
    "exp.plotRules()"
   ]
  },
  {
   "cell_type": "code",
   "execution_count": 10,
   "metadata": {},
   "outputs": [
    {
     "data": {
      "text/html": [
       "\n",
       "                <style>\n",
       "                .red {\n",
       "                background-color:firebrick;\n",
       "                padding:3px 5px 3px 5px;\n",
       "                border-radius:5px;\n",
       "                color:white;\n",
       "                }\n",
       "                .crules{\n",
       "                    margin-top:10px;\n",
       "                    font-weight: 400;\n",
       "                }\n",
       "                .crule{            \n",
       "                padding:5px 20px 5px 20px;\n",
       "                border-radius:5px;\n",
       "                margin-right:5px;\n",
       "                font-size:12px;\n",
       "                line-height:20px;\n",
       "                display: block;\n",
       "                margin-bottom: 10px;\n",
       "                width: fit-content;\n",
       "                \n",
       "                color:#202020;\n",
       "                background-color:gold;\n",
       "                }\n",
       "                </style>\n",
       "                "
      ],
      "text/plain": [
       "<IPython.core.display.HTML object>"
      ]
     },
     "metadata": {},
     "output_type": "display_data"
    },
    {
     "data": {
      "text/html": [
       "\n",
       "            <h3>The predicted value for class <span class='red'>default</span> is <span class='red'>1</span>.</h3>\n",
       "            <h3>It would have been:</h3>\n",
       "            "
      ],
      "text/plain": [
       "<IPython.core.display.HTML object>"
      ]
     },
     "metadata": {},
     "output_type": "display_data"
    },
    {
     "data": {
      "text/html": [
       "\n",
       "                <div class='crules'>\n",
       "                    <div>\n",
       "                        <h4><span class='red'>0</span> if the following condition holds</h4>\n",
       "                    </br><span class='crule'>age <= 20.726173400878906</span><span class='crule'>credit amount <= -439.6443485021591</span>\n",
       "                    </div>\n",
       "                </div>\n",
       "            "
      ],
      "text/plain": [
       "<IPython.core.display.HTML object>"
      ]
     },
     "metadata": {},
     "output_type": "display_data"
    },
    {
     "data": {
      "text/html": [
       "\n",
       "                <div class='crules'>\n",
       "                    <div>\n",
       "                        <h4><span class='red'>0</span> if the following condition holds</h4>\n",
       "                    </br><span class='crule'>age > 20.726173400878906</span><span class='crule'>credit amount <= 26.468921303749084</span><span class='crule'>duration in month <= 5.795059680938721</span><span class='crule'>installment as income perc <= 4.603440999984741</span>\n",
       "                    </div>\n",
       "                </div>\n",
       "            "
      ],
      "text/plain": [
       "<IPython.core.display.HTML object>"
      ]
     },
     "metadata": {},
     "output_type": "display_data"
    }
   ],
   "source": [
    "exp.plotCounterfactualRules()"
   ]
  },
  {
   "cell_type": "markdown",
   "metadata": {},
   "source": [
    "### LIME explainer\n",
    "##### We first define the explainer method we want to use: LIME. It produces feature importances. We can define a dictionary containing the LIME's parameters we want. \n",
    "##### There are several parameters we can define: feature selection, discretize continuous, discretizer, sample_around_instance, kernel width, kernel."
   ]
  },
  {
   "cell_type": "code",
   "execution_count": null,
   "metadata": {},
   "outputs": [],
   "source": [
    "limeExplainer = LimeXAITabularExplainer(bbox)\n",
    "config = {'feature_selection': 'lasso_path'}\n",
    "limeExplainer.fit(df, class_field, config)\n",
    "lime_exp = limeExplainer.explain(inst)\n",
    "print(lime_exp.as_list())"
   ]
  },
  {
   "cell_type": "markdown",
   "metadata": {},
   "source": [
    "##### To plot the explanation, we pass the explanation as a list (tuples, where the first element is the feature name and the second the actual feature importance), start and end of the range of features we want to visualize."
   ]
  },
  {
   "cell_type": "code",
   "execution_count": null,
   "metadata": {},
   "outputs": [],
   "source": [
    "limeExplainer.plot_lime_values(lime_exp.as_list(), 4, 15)"
   ]
  },
  {
   "cell_type": "markdown",
   "metadata": {},
   "source": [
    "### Define and train a RFClassifier"
   ]
  },
  {
   "cell_type": "code",
   "execution_count": null,
   "metadata": {},
   "outputs": [],
   "source": [
    "bb = RandomForestClassifier(n_estimators=20, random_state=random_state)\n",
    "bb.fit(X_train.values, Y_train.values)\n",
    "bbox = sklearn_classifier_wrapper(bb)   "
   ]
  },
  {
   "cell_type": "code",
   "execution_count": null,
   "metadata": {},
   "outputs": [],
   "source": [
    "explainer = ShapXAITabularExplainer(bbox, feature_names)\n",
    "config = {'explainer' : 'tree', 'X_train' : X_train.iloc[0:100].values}\n",
    "explainer.fit(config)"
   ]
  },
  {
   "cell_type": "code",
   "execution_count": null,
   "metadata": {},
   "outputs": [],
   "source": [
    "inst = X_train.iloc[147].values\n",
    "print('Instance ',inst[0:10])\n",
    "print('True class ',Y_train.iloc[8])\n",
    "print('Predicted class ',bb.predict(inst.reshape(1, -1)))"
   ]
  },
  {
   "cell_type": "code",
   "execution_count": null,
   "metadata": {},
   "outputs": [],
   "source": [
    "print('building an explanation')\n",
    "exp = explainer.explain(inst)\n",
    "print(exp.exp)"
   ]
  },
  {
   "cell_type": "code",
   "execution_count": null,
   "metadata": {},
   "outputs": [],
   "source": [
    "exp.plot_features_importance()"
   ]
  },
  {
   "cell_type": "markdown",
   "metadata": {},
   "source": [
    "### LORE explainer"
   ]
  },
  {
   "cell_type": "code",
   "execution_count": null,
   "metadata": {},
   "outputs": [],
   "source": [
    "explainer = LoreTabularExplainer(bbox)\n",
    "config = {'neigh_type':'rndgen', 'size':1000, 'ocr':0.1, 'ngen':10}\n",
    "explainer.fit(df, class_field, config)\n",
    "exp = explainer.explain(inst)\n",
    "print(exp)"
   ]
  },
  {
   "cell_type": "markdown",
   "metadata": {},
   "source": [
    "### LIME explainer"
   ]
  },
  {
   "cell_type": "code",
   "execution_count": null,
   "metadata": {},
   "outputs": [],
   "source": [
    "limeExplainer = LimeXAITabularExplainer(bbox)\n",
    "config = {'feature_selection': 'lasso_path'}\n",
    "limeExplainer.fit(df, class_field, config)\n",
    "lime_exp = limeExplainer.explain(inst)\n",
    "print(lime_exp.as_list())"
   ]
  },
  {
   "cell_type": "code",
   "execution_count": null,
   "metadata": {},
   "outputs": [],
   "source": [
    "limeExplainer.plot_lime_values(lime_exp.as_list(), 5, 10)"
   ]
  },
  {
   "cell_type": "code",
   "execution_count": null,
   "metadata": {},
   "outputs": [],
   "source": []
  }
 ],
 "metadata": {
  "kernelspec": {
   "display_name": "Python 3",
   "language": "python",
   "name": "python3"
  },
  "language_info": {
   "codemirror_mode": {
    "name": "ipython",
    "version": 3
   },
   "file_extension": ".py",
   "mimetype": "text/x-python",
   "name": "python",
   "nbconvert_exporter": "python",
   "pygments_lexer": "ipython3",
   "version": "3.6.10"
  }
 },
 "nbformat": 4,
 "nbformat_minor": 5
}
