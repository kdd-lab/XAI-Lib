{
 "cells": [
  {
   "cell_type": "code",
   "execution_count": 1,
   "metadata": {},
   "outputs": [],
   "source": [
    "import pandas as pd\n",
    "import numpy as np\n",
    "\n",
    "from sklearn import preprocessing\n",
    "from sklearn.ensemble import RandomForestClassifier\n",
    "from sklearn.model_selection import train_test_split\n",
    "from sklearn.linear_model import LogisticRegression\n",
    "\n",
    "from xailib.data_loaders.dataframe_loader import prepare_dataframe\n",
    "\n",
    "from xailib.explainers.lime_explainer import LimeXAITabularExplainer\n",
    "from xailib.explainers.lore_explainer import LoreTabularExplainer\n",
    "from xailib.explainers.shap_explainer_tab import ShapXAITabularExplainer\n",
    "\n",
    "from xailib.models.sklearn_classifier_wrapper import sklearn_classifier_wrapper"
   ]
  },
  {
   "cell_type": "markdown",
   "metadata": {},
   "source": [
    "### Load the dataset and prepare it"
   ]
  },
  {
   "cell_type": "code",
   "execution_count": 2,
   "metadata": {},
   "outputs": [],
   "source": [
    "source_file = 'datasets/german_credit.csv'\n",
    "class_field = 'default'\n",
    "# Load and transform dataset \n",
    "df = pd.read_csv(source_file, skipinitialspace=True, na_values='?', keep_default_na=True)"
   ]
  },
  {
   "cell_type": "code",
   "execution_count": 3,
   "metadata": {},
   "outputs": [],
   "source": [
    "df, feature_names, class_values, numeric_columns, rdf, real_feature_names, features_map = prepare_dataframe(df, class_field)"
   ]
  },
  {
   "cell_type": "markdown",
   "metadata": {},
   "source": [
    "### Split the dataset into train and test and scale it"
   ]
  },
  {
   "cell_type": "code",
   "execution_count": 4,
   "metadata": {},
   "outputs": [],
   "source": [
    "test_size = 0.3\n",
    "random_state = 42\n",
    "X_train, X_test, Y_train, Y_test = train_test_split(df[feature_names], df[class_field],\n",
    "                                                        test_size=test_size,\n",
    "                                                        random_state=random_state,\n",
    "                                                        stratify=df[class_field])\n",
    "\n"
   ]
  },
  {
   "cell_type": "markdown",
   "metadata": {},
   "source": [
    "### Define and train a logistic regression model"
   ]
  },
  {
   "cell_type": "code",
   "execution_count": 5,
   "metadata": {},
   "outputs": [],
   "source": [
    "scaler = preprocessing.StandardScaler().fit(X_train)\n",
    "X_scaled = scaler.transform(X_train)\n",
    "\n",
    "bb = LogisticRegression(C=1, penalty='l2')\n",
    "bb.fit(X_scaled, Y_train.values)\n",
    "# pass the model to the wrapper to use it in the XAI lib\n",
    "bbox = sklearn_classifier_wrapper(bb)"
   ]
  },
  {
   "cell_type": "code",
   "execution_count": 6,
   "metadata": {},
   "outputs": [
    {
     "name": "stdout",
     "output_type": "stream",
     "text": [
      "Instance  [   48 12169     4     4    36     1     1     1     0     0]\n",
      "True class  1\n",
      "Predicted class  [1]\n"
     ]
    }
   ],
   "source": [
    "# select a record to explain\n",
    "inst = X_train.iloc[182].values\n",
    "print('Instance ',inst[0:10])\n",
    "print('True class ',Y_train.iloc[18])\n",
    "print('Predicted class ',bb.predict(inst.reshape(1, -1)))"
   ]
  },
  {
   "cell_type": "markdown",
   "metadata": {},
   "source": [
    "### SHAP explainer\n",
    "##### We first define the explainer method we want to use: SHAP. It produces feature importance. Then, we can define a dictionary containing the SHAP's parameters we want. \n",
    "##### Explainer can be: linear, tree, kernel, deep\n",
    "##### X_train is the training set we want the explainer to train on. It can be all the training set used for the training of the target model, just a piece of it or we can apply a clustering algorithm on it. "
   ]
  },
  {
   "cell_type": "code",
   "execution_count": 7,
   "metadata": {},
   "outputs": [],
   "source": [
    "explainer = ShapXAITabularExplainer(bbox, feature_names)\n",
    "config = {'explainer' : 'linear', 'X_train' : X_train.iloc[0:100].values, 'feature_pert' : 'interventional'}\n",
    "explainer.fit(config)"
   ]
  },
  {
   "cell_type": "markdown",
   "metadata": {},
   "source": [
    "#### We explain the instance and obtain the SHAP values"
   ]
  },
  {
   "cell_type": "code",
   "execution_count": 8,
   "metadata": {},
   "outputs": [
    {
     "name": "stdout",
     "output_type": "stream",
     "text": [
      "building an explanation\n",
      "<xailib.explainers.shap_explainer_tab.ShapXAITabularExplanation object at 0x130099780>\n"
     ]
    }
   ],
   "source": [
    "print('building an explanation')\n",
    "exp = explainer.explain(inst)\n",
    "print(exp)"
   ]
  },
  {
   "cell_type": "markdown",
   "metadata": {},
   "source": [
    "##### We can use the method plot_shap_values to get a visual representation. \n",
    "##### Parameters: feature_names, the list of features, exp, the explanation we want to plot, start and end, which denotes the range of features we want to plot"
   ]
  },
  {
   "cell_type": "code",
   "execution_count": 9,
   "metadata": {},
   "outputs": [
    {
     "data": {
      "text/html": [
       "\n",
       "        <style>\n",
       "        .vega-bind {\n",
       "          position: absolute;\n",
       "          left: 0px;\n",
       "          top: 0px;\n",
       "          background-color:#eee;\n",
       "          padding:10px;\n",
       "          font-size:10px;\n",
       "        }\n",
       "        .chart-wrapper{\n",
       "          padding-top: 70px;\n",
       "        }\n",
       "\n",
       "        </style>\n",
       "        "
      ],
      "text/plain": [
       "<IPython.core.display.HTML object>"
      ]
     },
     "metadata": {},
     "output_type": "display_data"
    },
    {
     "data": {
      "text/html": [
       "\n",
       "<div id=\"altair-viz-ead800d374744aed9436a448a1003434\"></div>\n",
       "<script type=\"text/javascript\">\n",
       "  (function(spec, embedOpt){\n",
       "    let outputDiv = document.currentScript.previousElementSibling;\n",
       "    if (outputDiv.id !== \"altair-viz-ead800d374744aed9436a448a1003434\") {\n",
       "      outputDiv = document.getElementById(\"altair-viz-ead800d374744aed9436a448a1003434\");\n",
       "    }\n",
       "    const paths = {\n",
       "      \"vega\": \"https://cdn.jsdelivr.net/npm//vega@5?noext\",\n",
       "      \"vega-lib\": \"https://cdn.jsdelivr.net/npm//vega-lib?noext\",\n",
       "      \"vega-lite\": \"https://cdn.jsdelivr.net/npm//vega-lite@4.8.1?noext\",\n",
       "      \"vega-embed\": \"https://cdn.jsdelivr.net/npm//vega-embed@6?noext\",\n",
       "    };\n",
       "\n",
       "    function loadScript(lib) {\n",
       "      return new Promise(function(resolve, reject) {\n",
       "        var s = document.createElement('script');\n",
       "        s.src = paths[lib];\n",
       "        s.async = true;\n",
       "        s.onload = () => resolve(paths[lib]);\n",
       "        s.onerror = () => reject(`Error loading script: ${paths[lib]}`);\n",
       "        document.getElementsByTagName(\"head\")[0].appendChild(s);\n",
       "      });\n",
       "    }\n",
       "\n",
       "    function showError(err) {\n",
       "      outputDiv.innerHTML = `<div class=\"error\" style=\"color:red;\">${err}</div>`;\n",
       "      throw err;\n",
       "    }\n",
       "\n",
       "    function displayChart(vegaEmbed) {\n",
       "      vegaEmbed(outputDiv, spec, embedOpt)\n",
       "        .catch(err => showError(`Javascript Error: ${err.message}<br>This usually means there's a typo in your chart specification. See the javascript console for the full traceback.`));\n",
       "    }\n",
       "\n",
       "    if(typeof define === \"function\" && define.amd) {\n",
       "      requirejs.config({paths});\n",
       "      require([\"vega-embed\"], displayChart, err => showError(`Error loading script: ${err.message}`));\n",
       "    } else if (typeof vegaEmbed === \"function\") {\n",
       "      displayChart(vegaEmbed);\n",
       "    } else {\n",
       "      loadScript(\"vega\")\n",
       "        .then(() => loadScript(\"vega-lite\"))\n",
       "        .then(() => loadScript(\"vega-embed\"))\n",
       "        .catch(showError)\n",
       "        .then(() => displayChart(vegaEmbed));\n",
       "    }\n",
       "  })({\"config\": {\"view\": {\"continuousWidth\": 400, \"continuousHeight\": 300}, \"axis\": {\"labelFontSize\": 10, \"labelLimit\": 225.0}}, \"vconcat\": [{\"layer\": [{\"data\": {\"name\": \"data-a6980198077d09c11490684fd5a46430\"}, \"mark\": {\"type\": \"rule\", \"strokeWidth\": 3}, \"encoding\": {\"color\": {\"type\": \"quantitative\", \"field\": \"xValue\", \"legend\": null, \"scale\": {\"domain\": [-1856.2031368395558, 1856.2031368395558], \"domainMid\": 0, \"scheme\": \"redyellowblue\"}}, \"x\": {\"type\": \"quantitative\", \"axis\": {\"orient\": \"top\", \"titleFontSize\": 10}, \"field\": \"xValue\", \"title\": \"Select a cutoff range for Feature Importance values \"}}}, {\"data\": {\"name\": \"data-c7bc3ae69e1253e8223f70a11d04b99d\"}, \"mark\": {\"type\": \"rect\", \"color\": \"black\", \"height\": 20, \"opacity\": 0.4, \"tooltip\": true}, \"encoding\": {\"x\": {\"type\": \"quantitative\", \"field\": \"x_min\"}, \"x2\": {\"field\": \"x_max\"}, \"y\": {\"type\": \"quantitative\", \"axis\": null, \"field\": \"y\"}}, \"selection\": {\"Cutter\": {\"type\": \"single\", \"fields\": [\"cutoff\"], \"bind\": {\"input\": \"range\", \"max\": 1856.2031368395558, \"min\": 0, \"name\": \"Importance cutoff value (\\u00b1) \", \"step\": 37.12406273679112}, \"init\": {\"cutoff\": 0.0}}}, \"transform\": [{\"calculate\": \"(-Cutter.cutoff)\", \"as\": \"x_min\"}, {\"calculate\": \"Cutter.cutoff\", \"as\": \"x_max\"}]}], \"height\": 20}, {\"layer\": [{\"data\": {\"name\": \"data-6053ecdb95eda9d07d1291dbcfd6db86\"}, \"mark\": \"bar\", \"encoding\": {\"color\": {\"type\": \"quantitative\", \"field\": \"value\", \"legend\": null, \"scale\": {\"domain\": [-1856.2031368395558, 1856.2031368395558], \"domainMid\": 0, \"scheme\": \"blueorange\"}}, \"tooltip\": [{\"type\": \"nominal\", \"field\": \"name\", \"title\": \"Feature\"}, {\"type\": \"quantitative\", \"field\": \"value\", \"title\": \"Importance\"}], \"x\": {\"type\": \"quantitative\", \"field\": \"value\", \"title\": null}, \"y\": {\"type\": \"nominal\", \"field\": \"name\", \"sort\": {\"field\": \"value\", \"op\": \"mean\", \"order\": \"descending\"}, \"title\": null}}, \"selection\": {\"Cutter\": {\"type\": \"single\", \"fields\": [\"cutoff\"], \"bind\": {\"input\": \"range\", \"max\": 1856.2031368395558, \"min\": 0, \"name\": \"Importance cutoff value (\\u00b1) \", \"step\": 37.12406273679112}, \"init\": {\"cutoff\": 0.0}}}, \"transform\": [{\"filter\": \"datum.value > -1 & datum.value < 1\"}, {\"filter\": \"((datum.value > Cutter.cutoff) || (datum.value < (-Cutter.cutoff)))\"}]}, {\"data\": {\"name\": \"data-9c00aa9dc2b1c1a0b4bf9b34ead12925\"}, \"mark\": \"rule\", \"encoding\": {\"x\": {\"type\": \"quantitative\", \"field\": \"x\"}}}]}], \"padding\": 10, \"$schema\": \"https://vega.github.io/schema/vega-lite/v4.8.1.json\", \"datasets\": {\"data-a6980198077d09c11490684fd5a46430\": [{\"xValue\": -1856.2031368395558}, {\"xValue\": -1837.6411054711602}, {\"xValue\": -1819.0790741027647}, {\"xValue\": -1800.5170427343692}, {\"xValue\": -1781.9550113659736}, {\"xValue\": -1763.392979997578}, {\"xValue\": -1744.8309486291826}, {\"xValue\": -1726.268917260787}, {\"xValue\": -1707.7068858923915}, {\"xValue\": -1689.144854523996}, {\"xValue\": -1670.5828231556004}, {\"xValue\": -1652.0207917872049}, {\"xValue\": -1633.4587604188093}, {\"xValue\": -1614.8967290504138}, {\"xValue\": -1596.3346976820183}, {\"xValue\": -1577.7726663136227}, {\"xValue\": -1559.2106349452272}, {\"xValue\": -1540.6486035768316}, {\"xValue\": -1522.086572208436}, {\"xValue\": -1503.5245408400406}, {\"xValue\": -1484.962509471645}, {\"xValue\": -1466.4004781032495}, {\"xValue\": -1447.838446734854}, {\"xValue\": -1429.2764153664584}, {\"xValue\": -1410.7143839980629}, {\"xValue\": -1392.1523526296673}, {\"xValue\": -1373.5903212612718}, {\"xValue\": -1355.0282898928763}, {\"xValue\": -1336.4662585244807}, {\"xValue\": -1317.9042271560852}, {\"xValue\": -1299.3421957876897}, {\"xValue\": -1280.7801644192941}, {\"xValue\": -1262.2181330508986}, {\"xValue\": -1243.656101682503}, {\"xValue\": -1225.0940703141075}, {\"xValue\": -1206.532038945712}, {\"xValue\": -1187.9700075773164}, {\"xValue\": -1169.407976208921}, {\"xValue\": -1150.8459448405254}, {\"xValue\": -1132.2839134721298}, {\"xValue\": -1113.7218821037343}, {\"xValue\": -1095.1598507353388}, {\"xValue\": -1076.5978193669432}, {\"xValue\": -1058.0357879985477}, {\"xValue\": -1039.4737566301521}, {\"xValue\": -1020.9117252617566}, {\"xValue\": -1002.3496938933611}, {\"xValue\": -983.7876625249655}, {\"xValue\": -965.22563115657}, {\"xValue\": -946.6635997881745}, {\"xValue\": -928.1015684197789}, {\"xValue\": -909.5395370513834}, {\"xValue\": -890.9775056829878}, {\"xValue\": -872.4154743145923}, {\"xValue\": -853.8534429461968}, {\"xValue\": -835.2914115778012}, {\"xValue\": -816.7293802094057}, {\"xValue\": -798.1673488410102}, {\"xValue\": -779.6053174726146}, {\"xValue\": -761.0432861042191}, {\"xValue\": -742.4812547358235}, {\"xValue\": -723.919223367428}, {\"xValue\": -705.3571919990325}, {\"xValue\": -686.7951606306369}, {\"xValue\": -668.2331292622414}, {\"xValue\": -649.6710978938459}, {\"xValue\": -631.1090665254503}, {\"xValue\": -612.5470351570548}, {\"xValue\": -593.9850037886592}, {\"xValue\": -575.4229724202637}, {\"xValue\": -556.8609410518682}, {\"xValue\": -538.2989096834726}, {\"xValue\": -519.7368783150771}, {\"xValue\": -501.17484694668155}, {\"xValue\": -482.612815578286}, {\"xValue\": -464.0507842098905}, {\"xValue\": -445.48875284149494}, {\"xValue\": -426.9267214730994}, {\"xValue\": -408.36469010470387}, {\"xValue\": -389.80265873630833}, {\"xValue\": -371.2406273679128}, {\"xValue\": -352.67859599951726}, {\"xValue\": -334.1165646311217}, {\"xValue\": -315.5545332627262}, {\"xValue\": -296.99250189433064}, {\"xValue\": -278.4304705259351}, {\"xValue\": -259.86843915753957}, {\"xValue\": -241.30640778914403}, {\"xValue\": -222.7443764207485}, {\"xValue\": -204.18234505235296}, {\"xValue\": -185.62031368395742}, {\"xValue\": -167.05828231556188}, {\"xValue\": -148.49625094716635}, {\"xValue\": -129.9342195787708}, {\"xValue\": -111.37218821037527}, {\"xValue\": -92.81015684197973}, {\"xValue\": -74.2481254735842}, {\"xValue\": -55.68609410518866}, {\"xValue\": -37.12406273679312}, {\"xValue\": -18.562031368397584}, {\"xValue\": -2.0463630789890885e-12}, {\"xValue\": 18.56203136839349}, {\"xValue\": 37.12406273678903}, {\"xValue\": 55.686094105184566}, {\"xValue\": 74.2481254735801}, {\"xValue\": 92.81015684197564}, {\"xValue\": 111.37218821037118}, {\"xValue\": 129.93421957876672}, {\"xValue\": 148.49625094716225}, {\"xValue\": 167.0582823155578}, {\"xValue\": 185.62031368395333}, {\"xValue\": 204.18234505234864}, {\"xValue\": 222.7443764207444}, {\"xValue\": 241.30640778914017}, {\"xValue\": 259.8684391575355}, {\"xValue\": 278.4304705259308}, {\"xValue\": 296.99250189432655}, {\"xValue\": 315.5545332627223}, {\"xValue\": 334.1165646311176}, {\"xValue\": 352.67859599951294}, {\"xValue\": 371.2406273679087}, {\"xValue\": 389.80265873630447}, {\"xValue\": 408.3646901046998}, {\"xValue\": 426.9267214730951}, {\"xValue\": 445.48875284149085}, {\"xValue\": 464.0507842098866}, {\"xValue\": 482.6128155782819}, {\"xValue\": 501.17484694667723}, {\"xValue\": 519.736878315073}, {\"xValue\": 538.2989096834688}, {\"xValue\": 556.8609410518641}, {\"xValue\": 575.4229724202594}, {\"xValue\": 593.9850037886551}, {\"xValue\": 612.5470351570509}, {\"xValue\": 631.1090665254462}, {\"xValue\": 649.6710978938415}, {\"xValue\": 668.2331292622373}, {\"xValue\": 686.7951606306331}, {\"xValue\": 705.3571919990284}, {\"xValue\": 723.9192233674237}, {\"xValue\": 742.4812547358194}, {\"xValue\": 761.0432861042152}, {\"xValue\": 779.6053174726105}, {\"xValue\": 798.1673488410058}, {\"xValue\": 816.7293802094016}, {\"xValue\": 835.2914115777974}, {\"xValue\": 853.8534429461927}, {\"xValue\": 872.415474314588}, {\"xValue\": 890.9775056829837}, {\"xValue\": 909.5395370513795}, {\"xValue\": 928.1015684197748}, {\"xValue\": 946.6635997881701}, {\"xValue\": 965.2256311565659}, {\"xValue\": 983.7876625249617}, {\"xValue\": 1002.349693893357}, {\"xValue\": 1020.9117252617523}, {\"xValue\": 1039.473756630148}, {\"xValue\": 1058.0357879985438}, {\"xValue\": 1076.5978193669391}, {\"xValue\": 1095.1598507353344}, {\"xValue\": 1113.7218821037302}, {\"xValue\": 1132.283913472126}, {\"xValue\": 1150.8459448405213}, {\"xValue\": 1169.4079762089166}, {\"xValue\": 1187.9700075773123}, {\"xValue\": 1206.532038945708}, {\"xValue\": 1225.0940703141034}, {\"xValue\": 1243.6561016824987}, {\"xValue\": 1262.2181330508945}, {\"xValue\": 1280.7801644192903}, {\"xValue\": 1299.3421957876856}, {\"xValue\": 1317.9042271560809}, {\"xValue\": 1336.4662585244766}, {\"xValue\": 1355.0282898928724}, {\"xValue\": 1373.5903212612677}, {\"xValue\": 1392.152352629663}, {\"xValue\": 1410.7143839980588}, {\"xValue\": 1429.2764153664546}, {\"xValue\": 1447.8384467348499}, {\"xValue\": 1466.4004781032452}, {\"xValue\": 1484.962509471641}, {\"xValue\": 1503.5245408400367}, {\"xValue\": 1522.086572208432}, {\"xValue\": 1540.6486035768273}, {\"xValue\": 1559.210634945223}, {\"xValue\": 1577.7726663136189}, {\"xValue\": 1596.3346976820142}, {\"xValue\": 1614.8967290504095}, {\"xValue\": 1633.4587604188052}, {\"xValue\": 1652.020791787201}, {\"xValue\": 1670.5828231555963}, {\"xValue\": 1689.1448545239916}, {\"xValue\": 1707.7068858923874}, {\"xValue\": 1726.2689172607832}, {\"xValue\": 1744.8309486291785}, {\"xValue\": 1763.3929799975738}, {\"xValue\": 1781.9550113659695}, {\"xValue\": 1800.5170427343653}, {\"xValue\": 1819.0790741027606}, {\"xValue\": 1837.641105471156}], \"data-c7bc3ae69e1253e8223f70a11d04b99d\": [{\"y\": 0, \"x\": -0.5, \"x2\": 0.5}], \"data-6053ecdb95eda9d07d1291dbcfd6db86\": [{\"name\": \"duration_in_month\", \"value\": 10.125326892385056}, {\"name\": \"credit_amount\", \"value\": 1856.2031368395558}, {\"name\": \"installment_as_income_perc\", \"value\": 0.34173810130218873}, {\"name\": \"present_res_since\", \"value\": -0.019641275679002073}, {\"name\": \"age\", \"value\": -0.05652188711473228}, {\"name\": \"credits_this_bank\", \"value\": -0.11344021980064041}, {\"name\": \"people_under_maintenance\", \"value\": -0.020731577501491898}, {\"name\": \"account_check_status=0 <= ... < 200 DM\", \"value\": 0.13027901658477822}, {\"name\": \"account_check_status=< 0 DM\", \"value\": -0.09734190498353441}, {\"name\": \"account_check_status=>= 200 DM / salary assignments for at least 1 year\", \"value\": 2.33015286299525e-05}, {\"name\": \"account_check_status=no checking account\", \"value\": 0.17114765337426677}, {\"name\": \"credit_history=all credits at this bank paid back duly\", \"value\": 0.14359865316360992}, {\"name\": \"credit_history=critical account/ other credits existing (not at this bank)\", \"value\": 0.09931206666387546}, {\"name\": \"credit_history=delay in paying off in the past\", \"value\": -0.0033107987611168785}, {\"name\": \"credit_history=existing credits paid back duly till now\", \"value\": -0.06642260419179029}, {\"name\": \"credit_history=no credits taken/ all credits paid back duly\", \"value\": -0.005799962257189906}, {\"name\": \"purpose=(vacation - does not exist?)\", \"value\": -0.014942641993498425}, {\"name\": \"purpose=business\", \"value\": 0.0010952127036203568}, {\"name\": \"purpose=car (new)\", \"value\": 0.10800318065993068}, {\"name\": \"purpose=car (used)\", \"value\": 0.02634451180313086}, {\"name\": \"purpose=domestic appliances\", \"value\": 0.017027496661503976}, {\"name\": \"purpose=education\", \"value\": 0.0}, {\"name\": \"purpose=furniture/equipment\", \"value\": -0.0}, {\"name\": \"purpose=radio/television\", \"value\": 0.002494435905636741}, {\"name\": \"purpose=repairs\", \"value\": 0.0007076230695939716}, {\"name\": \"purpose=retraining\", \"value\": -0.0}, {\"name\": \"savings=.. >= 1000 DM \", \"value\": 0.012687704680389763}, {\"name\": \"savings=... < 100 DM\", \"value\": -0.16596919015105063}, {\"name\": \"savings=100 <= ... < 500 DM\", \"value\": -0.003859126593316356}, {\"name\": \"savings=500 <= ... < 1000 DM \", \"value\": 0.0002478134898320105}, {\"name\": \"savings=unknown/ no savings account\", \"value\": -0.21214724694862364}, {\"name\": \"present_emp_since=.. >= 7 years\", \"value\": 0.002330381640099023}, {\"name\": \"present_emp_since=... < 1 year \", \"value\": -0.01754382735403618}, {\"name\": \"present_emp_since=1 <= ... < 4 years\", \"value\": -0.0081385879021111}, {\"name\": \"present_emp_since=4 <= ... < 7 years\", \"value\": 0.03498688897985985}, {\"name\": \"present_emp_since=unemployed\", \"value\": 0.16252679909595458}, {\"name\": \"personal_status_sex=female : divorced/separated/married\", \"value\": -0.023573871815874153}, {\"name\": \"personal_status_sex=male : divorced/separated\", \"value\": -0.005309037447305914}, {\"name\": \"personal_status_sex=male : married/widowed\", \"value\": -0.004855107860581712}, {\"name\": \"personal_status_sex=male : single\", \"value\": -0.06713906505170203}, {\"name\": \"other_debtors=co-applicant\", \"value\": 0.08540798681827853}, {\"name\": \"other_debtors=guarantor\", \"value\": 0.0067124710600649055}, {\"name\": \"other_debtors=none\", \"value\": -0.032291890560896756}, {\"name\": \"property=if not A121 : building society savings agreement/ life insurance\", \"value\": 0.017751258629456524}, {\"name\": \"property=if not A121/A122 : car or other, not in attribute 6\", \"value\": 0.019712462404838177}, {\"name\": \"property=real estate\", \"value\": 0.036753011642839}, {\"name\": \"property=unknown / no property\", \"value\": 0.2836025904457198}, {\"name\": \"other_installment_plans=bank\", \"value\": -0.025251398861409792}, {\"name\": \"other_installment_plans=none\", \"value\": -0.032609176999331385}, {\"name\": \"other_installment_plans=stores\", \"value\": 0.00038410871248397056}, {\"name\": \"housing=for free\", \"value\": -0.23125484148611777}, {\"name\": \"housing=own\", \"value\": 0.010528127840076083}, {\"name\": \"housing=rent\", \"value\": -0.04024726498083906}, {\"name\": \"job=management/ self-employed/ highly qualified employee/ officer\", \"value\": -0.04249851618058264}, {\"name\": \"job=skilled employee / official\", \"value\": -0.013604724700824746}, {\"name\": \"job=unemployed/ unskilled - non-resident\", \"value\": 0.00037294607210947863}, {\"name\": \"job=unskilled - resident\", \"value\": -0.005783231891706942}, {\"name\": \"telephone=none\", \"value\": -0.0368411919245538}, {\"name\": \"telephone=yes, registered under the customers name \", \"value\": -0.03684119192455346}, {\"name\": \"foreign_worker=no\", \"value\": 0.008365444883979606}, {\"name\": \"foreign_worker=yes\", \"value\": 0.008365444883979604}], \"data-9c00aa9dc2b1c1a0b4bf9b34ead12925\": [{\"x\": 0}]}}, {\"mode\": \"vega-lite\"});\n",
       "</script>"
      ],
      "text/plain": [
       "alt.VConcatChart(...)"
      ]
     },
     "metadata": {},
     "output_type": "display_data"
    }
   ],
   "source": [
    "exp.plot_features_importance()"
   ]
  },
  {
   "cell_type": "markdown",
   "metadata": {},
   "source": [
    "### LORE explainer\n",
    "##### We first define the explainer method we want to use: LORE. It produces rules and counterfactual rules. We can define a dictionary containing the LORE's parameters we want. \n",
    "##### neigh_type can be: random, genetic, rndgen, geneticp, rndgenp"
   ]
  },
  {
   "cell_type": "code",
   "execution_count": 27,
   "metadata": {},
   "outputs": [
    {
     "name": "stdout",
     "output_type": "stream",
     "text": [
      "r = { account_check_status=< 0 DM > 0.02, duration_in_month <= 18.17, credit_history=critical account/ other credits existing (not at this bank) > 0.60 } --> { default: 0 }\n",
      "c = { { account_check_status=< 0 DM <= 0.02, duration_in_month > 23.50, installment_as_income_perc > 3.50, credit_amount > 10220.50 } }\n"
     ]
    }
   ],
   "source": [
    "explainer = LoreTabularExplainer(bbox)\n",
    "config = {'neigh_type':'geneticp', 'size':1000, 'ocr':0.1, 'ngen':10}\n",
    "explainer.fit(df, class_field, config)\n",
    "exp = explainer.explain(inst)\n",
    "print(exp)"
   ]
  },
  {
   "cell_type": "markdown",
   "metadata": {},
   "source": [
    "### LIME explainer\n",
    "##### We first define the explainer method we want to use: LIME. It produces feature importances. We can define a dictionary containing the LIME's parameters we want. \n",
    "##### There are several parameters we can define: feature selection, discretize continuous, discretizer, sample_around_instance, kernel width, kernel."
   ]
  },
  {
   "cell_type": "code",
   "execution_count": 28,
   "metadata": {},
   "outputs": [
    {
     "name": "stdout",
     "output_type": "stream",
     "text": [
      "[('duration_in_month', 0.041030023122190395), ('account_check_status=no checking account', -0.034431077127694026), ('account_check_status=< 0 DM', 0.03295563757384989), ('credit_history=critical account/ other credits existing (not at this bank)', -0.023006361353573344), ('age', -0.019678287494298112), ('savings=... < 100 DM', 0.016724489057350675), ('property=unknown / no property', 0.015060714844774196), ('other_installment_plans=bank', 0.01458041100400043), ('installment_as_income_perc', 0.013514895239349546), ('credit_amount', 0.013439018418982571)]\n"
     ]
    }
   ],
   "source": [
    "limeExplainer = LimeXAITabularExplainer(bbox)\n",
    "config = {'feature_selection': 'lasso_path'}\n",
    "limeExplainer.fit(df, class_field, config)\n",
    "lime_exp = limeExplainer.explain(inst)\n",
    "print(lime_exp.as_list())"
   ]
  },
  {
   "cell_type": "markdown",
   "metadata": {},
   "source": [
    "##### To plot the explanation, we pass the explanation as a list (tuples, where the first element is the feature name and the second the actual feature importance), start and end of the range of features we want to visualize."
   ]
  },
  {
   "cell_type": "code",
   "execution_count": 29,
   "metadata": {},
   "outputs": [
    {
     "data": {
      "image/png": "[encoded data removed]",
      "text/plain": [
       "<Figure size 720x576 with 1 Axes>"
      ]
     },
     "metadata": {
      "needs_background": "light"
     },
     "output_type": "display_data"
    }
   ],
   "source": [
    "limeExplainer.plot_lime_values(lime_exp.as_list(), 4, 15)"
   ]
  },
  {
   "cell_type": "code",
   "execution_count": 30,
   "metadata": {},
   "outputs": [
    {
     "data": {
      "text/html": [
       "['duration_in_month', 'credit_amount', 'installment_as_income_perc', 'present_res_since', 'age', 'credits_this_bank', 'people_under_maintenance', 'account_check_status=0 <= ... < 200 DM', 'account_check_status=< 0 DM', 'account_check_status=>= 200 DM / salary assignments for at least 1 year', 'account_check_status=no checking account', 'credit_history=all credits at this bank paid back duly', 'credit_history=critical account/ other credits existing (not at this bank)', 'credit_history=delay in paying off in the past', 'credit_history=existing credits paid back duly till now', 'credit_history=no credits taken/ all credits paid back duly', 'purpose=(vacation - does not exist?)', 'purpose=business', 'purpose=car (new)', 'purpose=car (used)', 'purpose=domestic appliances', 'purpose=education', 'purpose=furniture/equipment', 'purpose=radio/television', 'purpose=repairs', 'purpose=retraining', 'savings=.. >= 1000 DM ', 'savings=... < 100 DM', 'savings=100 <= ... < 500 DM', 'savings=500 <= ... < 1000 DM ', 'savings=unknown/ no savings account', 'present_emp_since=.. >= 7 years', 'present_emp_since=... < 1 year ', 'present_emp_since=1 <= ... < 4 years', 'present_emp_since=4 <= ... < 7 years', 'present_emp_since=unemployed', 'personal_status_sex=female : divorced/separated/married', 'personal_status_sex=male : divorced/separated', 'personal_status_sex=male : married/widowed', 'personal_status_sex=male : single', 'other_debtors=co-applicant', 'other_debtors=guarantor', 'other_debtors=none', 'property=if not A121 : building society savings agreement/ life insurance', 'property=if not A121/A122 : car or other, not in attribute 6', 'property=real estate', 'property=unknown / no property', 'other_installment_plans=bank', 'other_installment_plans=none', 'other_installment_plans=stores', 'housing=for free', 'housing=own', 'housing=rent', 'job=management/ self-employed/ highly qualified employee/ officer', 'job=skilled employee / official', 'job=unemployed/ unskilled - non-resident', 'job=unskilled - resident', 'telephone=none', 'telephone=yes, registered under the customers name ', 'foreign_worker=no', 'foreign_worker=yes']"
      ],
      "text/plain": [
       "['duration_in_month',\n",
       " 'credit_amount',\n",
       " 'installment_as_income_perc',\n",
       " 'present_res_since',\n",
       " 'age',\n",
       " 'credits_this_bank',\n",
       " 'people_under_maintenance',\n",
       " 'account_check_status=0 <= ... < 200 DM',\n",
       " 'account_check_status=< 0 DM',\n",
       " 'account_check_status=>= 200 DM / salary assignments for at least 1 year',\n",
       " 'account_check_status=no checking account',\n",
       " 'credit_history=all credits at this bank paid back duly',\n",
       " 'credit_history=critical account/ other credits existing (not at this bank)',\n",
       " 'credit_history=delay in paying off in the past',\n",
       " 'credit_history=existing credits paid back duly till now',\n",
       " 'credit_history=no credits taken/ all credits paid back duly',\n",
       " 'purpose=(vacation - does not exist?)',\n",
       " 'purpose=business',\n",
       " 'purpose=car (new)',\n",
       " 'purpose=car (used)',\n",
       " 'purpose=domestic appliances',\n",
       " 'purpose=education',\n",
       " 'purpose=furniture/equipment',\n",
       " 'purpose=radio/television',\n",
       " 'purpose=repairs',\n",
       " 'purpose=retraining',\n",
       " 'savings=.. >= 1000 DM ',\n",
       " 'savings=... < 100 DM',\n",
       " 'savings=100 <= ... < 500 DM',\n",
       " 'savings=500 <= ... < 1000 DM ',\n",
       " 'savings=unknown/ no savings account',\n",
       " 'present_emp_since=.. >= 7 years',\n",
       " 'present_emp_since=... < 1 year ',\n",
       " 'present_emp_since=1 <= ... < 4 years',\n",
       " 'present_emp_since=4 <= ... < 7 years',\n",
       " 'present_emp_since=unemployed',\n",
       " 'personal_status_sex=female : divorced/separated/married',\n",
       " 'personal_status_sex=male : divorced/separated',\n",
       " 'personal_status_sex=male : married/widowed',\n",
       " 'personal_status_sex=male : single',\n",
       " 'other_debtors=co-applicant',\n",
       " 'other_debtors=guarantor',\n",
       " 'other_debtors=none',\n",
       " 'property=if not A121 : building society savings agreement/ life insurance',\n",
       " 'property=if not A121/A122 : car or other, not in attribute 6',\n",
       " 'property=real estate',\n",
       " 'property=unknown / no property',\n",
       " 'other_installment_plans=bank',\n",
       " 'other_installment_plans=none',\n",
       " 'other_installment_plans=stores',\n",
       " 'housing=for free',\n",
       " 'housing=own',\n",
       " 'housing=rent',\n",
       " 'job=management/ self-employed/ highly qualified employee/ officer',\n",
       " 'job=skilled employee / official',\n",
       " 'job=unemployed/ unskilled - non-resident',\n",
       " 'job=unskilled - resident',\n",
       " 'telephone=none',\n",
       " 'telephone=yes, registered under the customers name ',\n",
       " 'foreign_worker=no',\n",
       " 'foreign_worker=yes']"
      ]
     },
     "execution_count": 30,
     "metadata": {},
     "output_type": "execute_result"
    }
   ],
   "source": [
    " feature_names"
   ]
  },
  {
   "cell_type": "markdown",
   "metadata": {},
   "source": [
    "### Define and train a RFClassifier"
   ]
  },
  {
   "cell_type": "code",
   "execution_count": 31,
   "metadata": {},
   "outputs": [],
   "source": [
    "bb = RandomForestClassifier(n_estimators=20, random_state=random_state)\n",
    "bb.fit(X_train.values, Y_train.values)\n",
    "bbox = sklearn_classifier_wrapper(bb)   "
   ]
  },
  {
   "cell_type": "code",
   "execution_count": 32,
   "metadata": {},
   "outputs": [],
   "source": [
    "explainer = ShapXAITabularExplainer(bbox, feature_names)\n",
    "config = {'explainer' : 'kernel', 'X_train' : X_train.iloc[0:100].values}\n",
    "explainer.fit(config)"
   ]
  },
  {
   "cell_type": "code",
   "execution_count": 33,
   "metadata": {},
   "outputs": [
    {
     "name": "stdout",
     "output_type": "stream",
     "text": [
      "Instance  [ 15 975   2   3  25   2   1   0   1   0]\n",
      "True class  0\n",
      "Predicted class  [0]\n"
     ]
    }
   ],
   "source": [
    "inst = X_train.iloc[147].values\n",
    "print('Instance ',inst[0:10])\n",
    "print('True class ',Y_train.iloc[8])\n",
    "print('Predicted class ',bb.predict(inst.reshape(1, -1)))"
   ]
  },
  {
   "cell_type": "code",
   "execution_count": 34,
   "metadata": {},
   "outputs": [
    {
     "name": "stdout",
     "output_type": "stream",
     "text": [
      "building an explanation\n",
      "[array([ 0.0491598 ,  0.        ,  0.02659004,  0.00268159,  0.02568701,\n",
      "        0.        ,  0.00164579,  0.02145391, -0.02818686,  0.        ,\n",
      "       -0.03056253,  0.        ,  0.06283695,  0.        ,  0.00914178,\n",
      "        0.        ,  0.00407025,  0.        ,  0.01315378,  0.        ,\n",
      "        0.        ,  0.        ,  0.        , -0.00904386,  0.00393268,\n",
      "        0.        ,  0.        ,  0.0036391 ,  0.00016756,  0.        ,\n",
      "        0.        ,  0.00786819,  0.01210724,  0.01364761,  0.        ,\n",
      "        0.        ,  0.00595796,  0.00947636,  0.00286916,  0.00970114,\n",
      "        0.        ,  0.        ,  0.        ,  0.02682513,  0.        ,\n",
      "       -0.01373546,  0.00846181,  0.01425814,  0.01662137,  0.00266923,\n",
      "        0.        ,  0.01900795,  0.00125688,  0.00091503,  0.00078302,\n",
      "        0.00113648,  0.00231256,  0.        ,  0.00937367,  0.00361952,\n",
      "        0.        ]), array([-0.0491598 ,  0.        , -0.02659004, -0.00268159, -0.02568701,\n",
      "        0.        , -0.00164579, -0.02145391,  0.02818686,  0.        ,\n",
      "        0.03056253,  0.        , -0.06283695,  0.        , -0.00914178,\n",
      "        0.        , -0.00407025,  0.        , -0.01315378,  0.        ,\n",
      "        0.        ,  0.        ,  0.        ,  0.00904386, -0.00393268,\n",
      "        0.        ,  0.        , -0.0036391 , -0.00016756,  0.        ,\n",
      "        0.        , -0.00786819, -0.01210724, -0.01364761,  0.        ,\n",
      "        0.        , -0.00595796, -0.00947636, -0.00286916, -0.00970114,\n",
      "        0.        ,  0.        ,  0.        , -0.02682513,  0.        ,\n",
      "        0.01373546, -0.00846181, -0.01425814, -0.01662137, -0.00266923,\n",
      "        0.        , -0.01900795, -0.00125688, -0.00091503, -0.00078302,\n",
      "       -0.00113648, -0.00231256,  0.        , -0.00937367, -0.00361952,\n",
      "        0.        ])]\n"
     ]
    }
   ],
   "source": [
    "print('building an explanation')\n",
    "exp = explainer.explain(inst)\n",
    "print(exp.exp)"
   ]
  },
  {
   "cell_type": "code",
   "execution_count": 35,
   "metadata": {},
   "outputs": [
    {
     "data": {
      "text/html": [
       "\n",
       "        <style>\n",
       "        .vega-bind {\n",
       "          position: absolute;\n",
       "          left: 0px;\n",
       "          top: 0px;\n",
       "          background-color:#eee;\n",
       "          padding:10px;\n",
       "          font-size:10px;\n",
       "        }\n",
       "        .chart-wrapper{\n",
       "          padding-top: 70px;\n",
       "        }\n",
       "\n",
       "        </style>\n",
       "        "
      ],
      "text/plain": [
       "<IPython.core.display.HTML object>"
      ]
     },
     "metadata": {},
     "output_type": "display_data"
    },
    {
     "data": {
      "text/html": [
       "\n",
       "<div id=\"altair-viz-29b6ac7c22f944288aca657492e18908\"></div>\n",
       "<script type=\"text/javascript\">\n",
       "  (function(spec, embedOpt){\n",
       "    let outputDiv = document.currentScript.previousElementSibling;\n",
       "    if (outputDiv.id !== \"altair-viz-29b6ac7c22f944288aca657492e18908\") {\n",
       "      outputDiv = document.getElementById(\"altair-viz-29b6ac7c22f944288aca657492e18908\");\n",
       "    }\n",
       "    const paths = {\n",
       "      \"vega\": \"https://cdn.jsdelivr.net/npm//vega@5?noext\",\n",
       "      \"vega-lib\": \"https://cdn.jsdelivr.net/npm//vega-lib?noext\",\n",
       "      \"vega-lite\": \"https://cdn.jsdelivr.net/npm//vega-lite@4.8.1?noext\",\n",
       "      \"vega-embed\": \"https://cdn.jsdelivr.net/npm//vega-embed@6?noext\",\n",
       "    };\n",
       "\n",
       "    function loadScript(lib) {\n",
       "      return new Promise(function(resolve, reject) {\n",
       "        var s = document.createElement('script');\n",
       "        s.src = paths[lib];\n",
       "        s.async = true;\n",
       "        s.onload = () => resolve(paths[lib]);\n",
       "        s.onerror = () => reject(`Error loading script: ${paths[lib]}`);\n",
       "        document.getElementsByTagName(\"head\")[0].appendChild(s);\n",
       "      });\n",
       "    }\n",
       "\n",
       "    function showError(err) {\n",
       "      outputDiv.innerHTML = `<div class=\"error\" style=\"color:red;\">${err}</div>`;\n",
       "      throw err;\n",
       "    }\n",
       "\n",
       "    function displayChart(vegaEmbed) {\n",
       "      vegaEmbed(outputDiv, spec, embedOpt)\n",
       "        .catch(err => showError(`Javascript Error: ${err.message}<br>This usually means there's a typo in your chart specification. See the javascript console for the full traceback.`));\n",
       "    }\n",
       "\n",
       "    if(typeof define === \"function\" && define.amd) {\n",
       "      requirejs.config({paths});\n",
       "      require([\"vega-embed\"], displayChart, err => showError(`Error loading script: ${err.message}`));\n",
       "    } else if (typeof vegaEmbed === \"function\") {\n",
       "      displayChart(vegaEmbed);\n",
       "    } else {\n",
       "      loadScript(\"vega\")\n",
       "        .then(() => loadScript(\"vega-lite\"))\n",
       "        .then(() => loadScript(\"vega-embed\"))\n",
       "        .catch(showError)\n",
       "        .then(() => displayChart(vegaEmbed));\n",
       "    }\n",
       "  })({\"config\": {\"view\": {\"continuousWidth\": 400, \"continuousHeight\": 300}, \"axis\": {\"labelFontSize\": 10, \"labelLimit\": 225.0}}, \"vconcat\": [{\"layer\": [{\"data\": {\"name\": \"data-af13926f448c5b92272c12c8455be458\"}, \"mark\": {\"type\": \"rule\", \"strokeWidth\": 3}, \"encoding\": {\"color\": {\"type\": \"quantitative\", \"field\": \"xValue\", \"legend\": null, \"scale\": {\"domain\": [-0.06283694574362242, 0.06283694574362242], \"domainMid\": 0, \"scheme\": \"redyellowblue\"}}, \"x\": {\"type\": \"quantitative\", \"axis\": {\"orient\": \"top\", \"titleFontSize\": 10}, \"field\": \"xValue\", \"title\": \"Select a cutoff range for Feature Importance values \"}}}, {\"data\": {\"name\": \"data-c7bc3ae69e1253e8223f70a11d04b99d\"}, \"mark\": {\"type\": \"rect\", \"color\": \"black\", \"height\": 20, \"opacity\": 0.4, \"tooltip\": true}, \"encoding\": {\"x\": {\"type\": \"quantitative\", \"field\": \"x_min\"}, \"x2\": {\"field\": \"x_max\"}, \"y\": {\"type\": \"quantitative\", \"axis\": null, \"field\": \"y\"}}, \"selection\": {\"Cutter\": {\"type\": \"single\", \"fields\": [\"cutoff\"], \"bind\": {\"input\": \"range\", \"max\": 0.06283694574362242, \"min\": 0, \"name\": \"Importance cutoff value (\\u00b1) \", \"step\": 0.0012567389148724483}, \"init\": {\"cutoff\": 0.0}}}, \"transform\": [{\"calculate\": \"(-Cutter.cutoff)\", \"as\": \"x_min\"}, {\"calculate\": \"Cutter.cutoff\", \"as\": \"x_max\"}]}], \"height\": 20}, {\"layer\": [{\"data\": {\"name\": \"data-83a4ebb2eaeaa0250879880058ab3859\"}, \"mark\": \"bar\", \"encoding\": {\"color\": {\"type\": \"quantitative\", \"field\": \"value\", \"legend\": null, \"scale\": {\"domain\": [-0.06283694574362242, 0.06283694574362242], \"domainMid\": 0, \"scheme\": \"blueorange\"}}, \"tooltip\": [{\"type\": \"nominal\", \"field\": \"name\", \"title\": \"Feature\"}, {\"type\": \"quantitative\", \"field\": \"value\", \"title\": \"Importance\"}], \"x\": {\"type\": \"quantitative\", \"field\": \"value\", \"title\": null}, \"y\": {\"type\": \"nominal\", \"field\": \"name\", \"sort\": {\"field\": \"value\", \"op\": \"mean\", \"order\": \"descending\"}, \"title\": null}}, \"selection\": {\"Cutter\": {\"type\": \"single\", \"fields\": [\"cutoff\"], \"bind\": {\"input\": \"range\", \"max\": 0.06283694574362242, \"min\": 0, \"name\": \"Importance cutoff value (\\u00b1) \", \"step\": 0.0012567389148724483}, \"init\": {\"cutoff\": 0.0}}}, \"transform\": [{\"filter\": \"datum.value > -1 & datum.value < 1\"}, {\"filter\": \"((datum.value > Cutter.cutoff) || (datum.value < (-Cutter.cutoff)))\"}]}, {\"data\": {\"name\": \"data-9c00aa9dc2b1c1a0b4bf9b34ead12925\"}, \"mark\": \"rule\", \"encoding\": {\"x\": {\"type\": \"quantitative\", \"field\": \"x\"}}}]}], \"padding\": 10, \"$schema\": \"https://vega.github.io/schema/vega-lite/v4.8.1.json\", \"datasets\": {\"data-af13926f448c5b92272c12c8455be458\": [{\"xValue\": -0.06283694574362242}, {\"xValue\": -0.062208576286186194}, {\"xValue\": -0.06158020682874997}, {\"xValue\": -0.060951837371313745}, {\"xValue\": -0.06032346791387752}, {\"xValue\": -0.059695098456441296}, {\"xValue\": -0.05906672899900507}, {\"xValue\": -0.05843835954156885}, {\"xValue\": -0.05780999008413262}, {\"xValue\": -0.0571816206266964}, {\"xValue\": -0.056553251169260174}, {\"xValue\": -0.05592488171182395}, {\"xValue\": -0.055296512254387725}, {\"xValue\": -0.0546681427969515}, {\"xValue\": -0.054039773339515276}, {\"xValue\": -0.05341140388207905}, {\"xValue\": -0.05278303442464283}, {\"xValue\": -0.0521546649672066}, {\"xValue\": -0.05152629550977038}, {\"xValue\": -0.050897926052334154}, {\"xValue\": -0.05026955659489793}, {\"xValue\": -0.049641187137461705}, {\"xValue\": -0.04901281768002548}, {\"xValue\": -0.048384448222589256}, {\"xValue\": -0.04775607876515303}, {\"xValue\": -0.04712770930771681}, {\"xValue\": -0.04649933985028058}, {\"xValue\": -0.04587097039284436}, {\"xValue\": -0.045242600935408134}, {\"xValue\": -0.04461423147797191}, {\"xValue\": -0.043985862020535685}, {\"xValue\": -0.04335749256309946}, {\"xValue\": -0.042729123105663236}, {\"xValue\": -0.04210075364822701}, {\"xValue\": -0.04147238419079079}, {\"xValue\": -0.04084401473335456}, {\"xValue\": -0.04021564527591834}, {\"xValue\": -0.039587275818482114}, {\"xValue\": -0.03895890636104589}, {\"xValue\": -0.038330536903609665}, {\"xValue\": -0.03770216744617344}, {\"xValue\": -0.037073797988737216}, {\"xValue\": -0.03644542853130099}, {\"xValue\": -0.03581705907386477}, {\"xValue\": -0.03518868961642854}, {\"xValue\": -0.03456032015899232}, {\"xValue\": -0.03393195070155609}, {\"xValue\": -0.03330358124411987}, {\"xValue\": -0.032675211786683644}, {\"xValue\": -0.03204684232924742}, {\"xValue\": -0.031418472871811196}, {\"xValue\": -0.03079010341437497}, {\"xValue\": -0.030161733956938747}, {\"xValue\": -0.029533364499502522}, {\"xValue\": -0.028904995042066298}, {\"xValue\": -0.028276625584630073}, {\"xValue\": -0.02764825612719385}, {\"xValue\": -0.027019886669757624}, {\"xValue\": -0.0263915172123214}, {\"xValue\": -0.025763147754885175}, {\"xValue\": -0.02513477829744895}, {\"xValue\": -0.024506408840012726}, {\"xValue\": -0.023878039382576502}, {\"xValue\": -0.023249669925140277}, {\"xValue\": -0.022621300467704053}, {\"xValue\": -0.02199293101026783}, {\"xValue\": -0.021364561552831604}, {\"xValue\": -0.02073619209539538}, {\"xValue\": -0.020107822637959155}, {\"xValue\": -0.01947945318052293}, {\"xValue\": -0.018851083723086706}, {\"xValue\": -0.018222714265650482}, {\"xValue\": -0.017594344808214257}, {\"xValue\": -0.016965975350778033}, {\"xValue\": -0.01633760589334181}, {\"xValue\": -0.015709236435905584}, {\"xValue\": -0.01508086697846936}, {\"xValue\": -0.014452497521033135}, {\"xValue\": -0.01382412806359691}, {\"xValue\": -0.013195758606160686}, {\"xValue\": -0.012567389148724462}, {\"xValue\": -0.011939019691288237}, {\"xValue\": -0.011310650233852013}, {\"xValue\": -0.010682280776415788}, {\"xValue\": -0.010053911318979564}, {\"xValue\": -0.00942554186154334}, {\"xValue\": -0.008797172404107115}, {\"xValue\": -0.00816880294667089}, {\"xValue\": -0.007540433489234666}, {\"xValue\": -0.006912064031798441}, {\"xValue\": -0.006283694574362217}, {\"xValue\": -0.0056553251169259924}, {\"xValue\": -0.005026955659489768}, {\"xValue\": -0.0043985862020535435}, {\"xValue\": -0.003770216744617319}, {\"xValue\": -0.0031418472871810946}, {\"xValue\": -0.00251347782974487}, {\"xValue\": -0.0018851083723086456}, {\"xValue\": -0.0012567389148724212}, {\"xValue\": -0.0006283694574361967}, {\"xValue\": 2.7755575615628914e-17}, {\"xValue\": 0.0006283694574362453}, {\"xValue\": 0.0012567389148724767}, {\"xValue\": 0.001885108372308708}, {\"xValue\": 0.0025134778297449256}, {\"xValue\": 0.003141847287181143}, {\"xValue\": 0.0037702167446173745}, {\"xValue\": 0.004398586202053606}, {\"xValue\": 0.0050269556594898235}, {\"xValue\": 0.005655325116926041}, {\"xValue\": 0.006283694574362272}, {\"xValue\": 0.006912064031798504}, {\"xValue\": 0.007540433489234721}, {\"xValue\": 0.008168802946670939}, {\"xValue\": 0.00879717240410717}, {\"xValue\": 0.009425541861543402}, {\"xValue\": 0.01005391131897962}, {\"xValue\": 0.010682280776415837}, {\"xValue\": 0.011310650233852068}, {\"xValue\": 0.0119390196912883}, {\"xValue\": 0.012567389148724517}, {\"xValue\": 0.013195758606160735}, {\"xValue\": 0.013824128063596966}, {\"xValue\": 0.014452497521033197}, {\"xValue\": 0.015080866978469415}, {\"xValue\": 0.015709236435905632}, {\"xValue\": 0.016337605893341864}, {\"xValue\": 0.016965975350778095}, {\"xValue\": 0.017594344808214313}, {\"xValue\": 0.01822271426565053}, {\"xValue\": 0.01885108372308676}, {\"xValue\": 0.019479453180522993}, {\"xValue\": 0.02010782263795921}, {\"xValue\": 0.020736192095395428}, {\"xValue\": 0.02136456155283166}, {\"xValue\": 0.02199293101026789}, {\"xValue\": 0.02262130046770411}, {\"xValue\": 0.023249669925140326}, {\"xValue\": 0.023878039382576557}, {\"xValue\": 0.02450640884001279}, {\"xValue\": 0.025134778297449006}, {\"xValue\": 0.025763147754885224}, {\"xValue\": 0.026391517212321455}, {\"xValue\": 0.027019886669757687}, {\"xValue\": 0.027648256127193904}, {\"xValue\": 0.028276625584630122}, {\"xValue\": 0.028904995042066353}, {\"xValue\": 0.029533364499502585}, {\"xValue\": 0.030161733956938802}, {\"xValue\": 0.03079010341437502}, {\"xValue\": 0.03141847287181125}, {\"xValue\": 0.03204684232924748}, {\"xValue\": 0.0326752117866837}, {\"xValue\": 0.03330358124411992}, {\"xValue\": 0.03393195070155615}, {\"xValue\": 0.03456032015899238}, {\"xValue\": 0.0351886896164286}, {\"xValue\": 0.035817059073864815}, {\"xValue\": 0.03644542853130105}, {\"xValue\": 0.03707379798873728}, {\"xValue\": 0.037702167446173496}, {\"xValue\": 0.03833053690360971}, {\"xValue\": 0.038958906361045945}, {\"xValue\": 0.039587275818482176}, {\"xValue\": 0.040215645275918394}, {\"xValue\": 0.04084401473335461}, {\"xValue\": 0.04147238419079084}, {\"xValue\": 0.042100753648227074}, {\"xValue\": 0.04272912310566329}, {\"xValue\": 0.04335749256309951}, {\"xValue\": 0.04398586202053574}, {\"xValue\": 0.04461423147797197}, {\"xValue\": 0.04524260093540819}, {\"xValue\": 0.04587097039284441}, {\"xValue\": 0.04649933985028064}, {\"xValue\": 0.04712770930771687}, {\"xValue\": 0.04775607876515309}, {\"xValue\": 0.048384448222589305}, {\"xValue\": 0.049012817680025536}, {\"xValue\": 0.04964118713746177}, {\"xValue\": 0.050269556594897985}, {\"xValue\": 0.0508979260523342}, {\"xValue\": 0.051526295509770434}, {\"xValue\": 0.052154664967206665}, {\"xValue\": 0.05278303442464288}, {\"xValue\": 0.0534114038820791}, {\"xValue\": 0.05403977333951533}, {\"xValue\": 0.05466814279695156}, {\"xValue\": 0.05529651225438778}, {\"xValue\": 0.055924881711824}, {\"xValue\": 0.05655325116926023}, {\"xValue\": 0.05718162062669646}, {\"xValue\": 0.05780999008413268}, {\"xValue\": 0.058438359541568896}, {\"xValue\": 0.05906672899900513}, {\"xValue\": 0.05969509845644136}, {\"xValue\": 0.060323467913877576}, {\"xValue\": 0.060951837371313794}, {\"xValue\": 0.061580206828750025}, {\"xValue\": 0.06220857628618626}, {\"xValue\": 0.06283694574362247}], \"data-c7bc3ae69e1253e8223f70a11d04b99d\": [{\"y\": 0, \"x\": -0.5, \"x2\": 0.5}], \"data-83a4ebb2eaeaa0250879880058ab3859\": [{\"name\": \"duration_in_month\", \"value\": 0.049159802609747213}, {\"name\": \"credit_amount\", \"value\": 0.0}, {\"name\": \"installment_as_income_perc\", \"value\": 0.026590041231673633}, {\"name\": \"present_res_since\", \"value\": 0.002681593109051361}, {\"name\": \"age\", \"value\": 0.025687006075508695}, {\"name\": \"credits_this_bank\", \"value\": 0.0}, {\"name\": \"people_under_maintenance\", \"value\": 0.0016457902815480985}, {\"name\": \"account_check_status=0 <= ... < 200 DM\", \"value\": 0.021453910941976156}, {\"name\": \"account_check_status=< 0 DM\", \"value\": -0.028186858485655997}, {\"name\": \"account_check_status=>= 200 DM / salary assignments for at least 1 year\", \"value\": 0.0}, {\"name\": \"account_check_status=no checking account\", \"value\": -0.03056252892946891}, {\"name\": \"credit_history=all credits at this bank paid back duly\", \"value\": 0.0}, {\"name\": \"credit_history=critical account/ other credits existing (not at this bank)\", \"value\": 0.06283694574362242}, {\"name\": \"credit_history=delay in paying off in the past\", \"value\": 0.0}, {\"name\": \"credit_history=existing credits paid back duly till now\", \"value\": 0.009141781064641252}, {\"name\": \"credit_history=no credits taken/ all credits paid back duly\", \"value\": 0.0}, {\"name\": \"purpose=(vacation - does not exist?)\", \"value\": 0.004070254707611326}, {\"name\": \"purpose=business\", \"value\": 0.0}, {\"name\": \"purpose=car (new)\", \"value\": 0.01315377656587327}, {\"name\": \"purpose=car (used)\", \"value\": 0.0}, {\"name\": \"purpose=domestic appliances\", \"value\": 0.0}, {\"name\": \"purpose=education\", \"value\": 0.0}, {\"name\": \"purpose=furniture/equipment\", \"value\": 0.0}, {\"name\": \"purpose=radio/television\", \"value\": -0.00904386396573198}, {\"name\": \"purpose=repairs\", \"value\": 0.003932679453251486}, {\"name\": \"purpose=retraining\", \"value\": 0.0}, {\"name\": \"savings=.. >= 1000 DM \", \"value\": 0.0}, {\"name\": \"savings=... < 100 DM\", \"value\": 0.0036391041637417187}, {\"name\": \"savings=100 <= ... < 500 DM\", \"value\": 0.00016756344873830598}, {\"name\": \"savings=500 <= ... < 1000 DM \", \"value\": 0.0}, {\"name\": \"savings=unknown/ no savings account\", \"value\": 0.0}, {\"name\": \"present_emp_since=.. >= 7 years\", \"value\": 0.007868188612283056}, {\"name\": \"present_emp_since=... < 1 year \", \"value\": 0.012107244610224}, {\"name\": \"present_emp_since=1 <= ... < 4 years\", \"value\": 0.013647608967727792}, {\"name\": \"present_emp_since=4 <= ... < 7 years\", \"value\": 0.0}, {\"name\": \"present_emp_since=unemployed\", \"value\": 0.0}, {\"name\": \"personal_status_sex=female : divorced/separated/married\", \"value\": 0.0059579629739062445}, {\"name\": \"personal_status_sex=male : divorced/separated\", \"value\": 0.0094763637323029}, {\"name\": \"personal_status_sex=male : married/widowed\", \"value\": 0.0028691551750414934}, {\"name\": \"personal_status_sex=male : single\", \"value\": 0.009701137102747892}, {\"name\": \"other_debtors=co-applicant\", \"value\": 0.0}, {\"name\": \"other_debtors=guarantor\", \"value\": 0.0}, {\"name\": \"other_debtors=none\", \"value\": 0.0}, {\"name\": \"property=if not A121 : building society savings agreement/ life insurance\", \"value\": 0.026825130774397576}, {\"name\": \"property=if not A121/A122 : car or other, not in attribute 6\", \"value\": 0.0}, {\"name\": \"property=real estate\", \"value\": -0.013735455932919943}, {\"name\": \"property=unknown / no property\", \"value\": 0.008461811621280846}, {\"name\": \"other_installment_plans=bank\", \"value\": 0.014258144150488927}, {\"name\": \"other_installment_plans=none\", \"value\": 0.016621367963381678}, {\"name\": \"other_installment_plans=stores\", \"value\": 0.0026692283365094827}, {\"name\": \"housing=for free\", \"value\": 0.0}, {\"name\": \"housing=own\", \"value\": 0.01900795294502161}, {\"name\": \"housing=rent\", \"value\": 0.0012568804684169044}, {\"name\": \"job=management/ self-employed/ highly qualified employee/ officer\", \"value\": 0.000915030348385415}, {\"name\": \"job=skilled employee / official\", \"value\": 0.0007830152555740599}, {\"name\": \"job=unemployed/ unskilled - non-resident\", \"value\": 0.0011364843539636849}, {\"name\": \"job=unskilled - resident\", \"value\": 0.00231255859652707}, {\"name\": \"telephone=none\", \"value\": 0.0}, {\"name\": \"telephone=yes, registered under the customers name \", \"value\": 0.009373669152989955}, {\"name\": \"foreign_worker=no\", \"value\": 0.0036195227756213866}, {\"name\": \"foreign_worker=yes\", \"value\": 0.0}], \"data-9c00aa9dc2b1c1a0b4bf9b34ead12925\": [{\"x\": 0}]}}, {\"mode\": \"vega-lite\"});\n",
       "</script>"
      ],
      "text/plain": [
       "alt.VConcatChart(...)"
      ]
     },
     "metadata": {},
     "output_type": "display_data"
    }
   ],
   "source": [
    "exp.plot_features_importance()"
   ]
  },
  {
   "cell_type": "markdown",
   "metadata": {},
   "source": [
    "### LORE explainer"
   ]
  },
  {
   "cell_type": "code",
   "execution_count": 24,
   "metadata": {},
   "outputs": [
    {
     "name": "stdout",
     "output_type": "stream",
     "text": [
      "r = { account_check_status=< 0 DM > 0.51, credit_history=critical account/ other credits existing (not at this bank) > 0.39, other_debtors=co-applicant > -0.12, credit_amount <= 8898.63, present_res_since <= 4.68, purpose=domestic appliances > -0.50, property=if not A121/A122 : car or other, not in attribute 6 <= 0.91 } --> { default: 0 }\n",
      "c = { { credit_history=critical account/ other credits existing (not at this bank) <= 0.39, duration_in_month > 26.66, purpose=(vacation - does not exist?) > 0.00, age > 35.41 } }\n"
     ]
    }
   ],
   "source": [
    "explainer = LoreTabularExplainer(bbox)\n",
    "config = {'neigh_type':'rndgen', 'size':1000, 'ocr':0.1, 'ngen':10}\n",
    "explainer.fit(df, class_field, config)\n",
    "exp = explainer.explain(inst)\n",
    "print(exp)"
   ]
  },
  {
   "cell_type": "markdown",
   "metadata": {},
   "source": [
    "### LIME explainer"
   ]
  },
  {
   "cell_type": "code",
   "execution_count": 25,
   "metadata": {},
   "outputs": [
    {
     "name": "stdout",
     "output_type": "stream",
     "text": [
      "[('account_check_status=no checking account', -0.03195501219244258), ('duration_in_month', 0.030839782539954518), ('account_check_status=< 0 DM', 0.027467865053919995), ('credit_history=critical account/ other credits existing (not at this bank)', -0.026434593932261215), ('other_installment_plans=bank', 0.022949618690951565), ('age', -0.02217886749081485), ('property=real estate', -0.020171926658649253), ('savings=... < 100 DM', 0.017934078733684865), ('installment_as_income_perc', 0.015581579840944694), ('property=unknown / no property', 0.015253540546335095)]\n"
     ]
    }
   ],
   "source": [
    "limeExplainer = LimeXAITabularExplainer(bbox)\n",
    "config = {'feature_selection': 'lasso_path'}\n",
    "limeExplainer.fit(df, class_field, config)\n",
    "lime_exp = limeExplainer.explain(inst)\n",
    "print(lime_exp.as_list())"
   ]
  },
  {
   "cell_type": "code",
   "execution_count": 26,
   "metadata": {},
   "outputs": [
    {
     "data": {
      "image/png": "[encoded data removed]",
      "text/plain": [
       "<Figure size 720x576 with 1 Axes>"
      ]
     },
     "metadata": {
      "needs_background": "light"
     },
     "output_type": "display_data"
    }
   ],
   "source": [
    "limeExplainer.plot_lime_values(lime_exp.as_list(), 5, 10)"
   ]
  },
  {
   "cell_type": "code",
   "execution_count": null,
   "metadata": {},
   "outputs": [],
   "source": []
  }
 ],
 "metadata": {
  "kernelspec": {
   "display_name": "Python 3",
   "language": "python",
   "name": "python3"
  },
  "language_info": {
   "codemirror_mode": {
    "name": "ipython",
    "version": 3
   },
   "file_extension": ".py",
   "mimetype": "text/x-python",
   "name": "python",
   "nbconvert_exporter": "python",
   "pygments_lexer": "ipython3",
   "version": "3.6.10"
  }
 },
 "nbformat": 4,
 "nbformat_minor": 5
}
