{
 "cells": [
  {
   "cell_type": "code",
   "execution_count": 1,
   "metadata": {},
   "outputs": [],
   "source": [
    "import pandas as pd\n",
    "import numpy as np\n",
    "\n",
    "from sklearn import preprocessing\n",
    "from sklearn.ensemble import RandomForestClassifier\n",
    "from sklearn.model_selection import train_test_split\n",
    "from sklearn.linear_model import LogisticRegression\n",
    "\n",
    "from xailib.data_loaders.dataframe_loader import prepare_dataframe\n",
    "\n",
    "from xailib.explainers.lime_explainer import LimeXAITabularExplainer\n",
    "from xailib.explainers.lore_explainer import LoreTabularExplainer\n",
    "from xailib.explainers.shap_explainer_tab import ShapXAITabularExplainer\n",
    "\n",
    "from xailib.models.sklearn_classifier_wrapper import sklearn_classifier_wrapper"
   ]
  },
  {
   "cell_type": "markdown",
   "metadata": {},
   "source": [
    "### Load the dataset and prepare it"
   ]
  },
  {
   "cell_type": "code",
   "execution_count": 2,
   "metadata": {},
   "outputs": [],
   "source": [
    "source_file = 'datasets/german_credit.csv'\n",
    "class_field = 'default'\n",
    "# Load and transform dataset \n",
    "df = pd.read_csv(source_file, skipinitialspace=True, na_values='?', keep_default_na=True)"
   ]
  },
  {
   "cell_type": "code",
   "execution_count": 3,
   "metadata": {},
   "outputs": [],
   "source": [
    "df, feature_names, class_values, numeric_columns, rdf, real_feature_names, features_map = prepare_dataframe(df, class_field)"
   ]
  },
  {
   "cell_type": "code",
   "execution_count": 4,
   "metadata": {},
   "outputs": [
    {
     "data": {
      "text/plain": [
       "72"
      ]
     },
     "execution_count": 4,
     "metadata": {},
     "output_type": "execute_result"
    }
   ],
   "source": [
    "df['duration_in_month'].max()"
   ]
  },
  {
   "cell_type": "markdown",
   "metadata": {},
   "source": [
    "### Split the dataset into train and test and scale it"
   ]
  },
  {
   "cell_type": "code",
   "execution_count": 5,
   "metadata": {},
   "outputs": [],
   "source": [
    "test_size = 0.3\n",
    "random_state = 42\n",
    "X_train, X_test, Y_train, Y_test = train_test_split(df[feature_names], df[class_field],\n",
    "                                                        test_size=test_size,\n",
    "                                                        random_state=random_state,\n",
    "                                                        stratify=df[class_field])\n",
    "\n"
   ]
  },
  {
   "cell_type": "markdown",
   "metadata": {},
   "source": [
    "### Define and train a logistic regression model"
   ]
  },
  {
   "cell_type": "code",
   "execution_count": null,
   "metadata": {},
   "outputs": [],
   "source": [
    "scaler = preprocessing.StandardScaler().fit(X_train)\n",
    "X_scaled = scaler.transform(X_train)\n",
    "\n",
    "bb = LogisticRegression(C=1, penalty='l2')\n",
    "bb.fit(X_scaled, Y_train.values)\n",
    "# pass the model to the wrapper to use it in the XAI lib\n",
    "bbox = sklearn_classifier_wrapper(bb)"
   ]
  },
  {
   "cell_type": "code",
   "execution_count": null,
   "metadata": {},
   "outputs": [],
   "source": [
    "# select a record to explain\n",
    "inst = X_train.iloc[188].values\n",
    "print('Instance ',inst[0:10])\n",
    "print('True class ',Y_train.iloc[18])\n",
    "print('Predicted class ',bb.predict(inst.reshape(1, -1)))"
   ]
  },
  {
   "cell_type": "markdown",
   "metadata": {},
   "source": [
    "### SHAP explainer\n",
    "##### We first define the explainer method we want to use: SHAP. It produces feature importance. Then, we can define a dictionary containing the SHAP's parameters we want. \n",
    "##### Explainer can be: linear, tree, kernel, deep\n",
    "##### X_train is the training set we want the explainer to train on. It can be all the training set used for the training of the target model, just a piece of it or we can apply a clustering algorithm on it. "
   ]
  },
  {
   "cell_type": "code",
   "execution_count": null,
   "metadata": {},
   "outputs": [],
   "source": [
    "explainer = ShapXAITabularExplainer(bbox)\n",
    "config = {'explainer' : 'linear', 'X_train' : X_train.iloc[0:100].values, 'feature_pert' : 'interventional'}\n",
    "explainer.fit(config)"
   ]
  },
  {
   "cell_type": "markdown",
   "metadata": {},
   "source": [
    "#### We explain the instance and obtain the SHAP values"
   ]
  },
  {
   "cell_type": "code",
   "execution_count": null,
   "metadata": {},
   "outputs": [],
   "source": [
    "print('building an explanation')\n",
    "exp = explainer.explain(inst)\n",
    "print(exp)"
   ]
  },
  {
   "cell_type": "markdown",
   "metadata": {},
   "source": [
    "##### We can use the method plot_shap_values to get a visual representation. \n",
    "##### Parameters: feature_names, the list of features, exp, the explanation we want to plot, start and end, which denotes the range of features we want to plot"
   ]
  },
  {
   "cell_type": "code",
   "execution_count": null,
   "metadata": {},
   "outputs": [],
   "source": [
    "explainer.plot_shap_values(feature_names, exp, 4, 15)"
   ]
  },
  {
   "cell_type": "markdown",
   "metadata": {},
   "source": [
    "##### We can use the method plot_shap_values_alt  (or plot_shap_values_alt2) to get an interactive visual representation. \n",
    "##### Parameters: \n",
    "- feature_names: the list of features;\n",
    "- exp: the explanation we want to plot\n",
    "- fontDimension: font size (which affects entire plot size)"
   ]
  },
  {
   "cell_type": "code",
   "execution_count": null,
   "metadata": {},
   "outputs": [],
   "source": [
    "explainer.plot_shap_values_alt(feature_names, exp)"
   ]
  },
  {
   "cell_type": "markdown",
   "metadata": {},
   "source": [
    "### LORE explainer\n",
    "##### We first define the explainer method we want to use: LORE. It produces rules and counterfactual rules. We can define a dictionary containing the LORE's parameters we want. \n",
    "##### neigh_type can be: random, genetic, rndgen, geneticp, rndgenp"
   ]
  },
  {
   "cell_type": "code",
   "execution_count": null,
   "metadata": {},
   "outputs": [],
   "source": [
    "explainer = LoreTabularExplainer(bbox)\n",
    "config = {'neigh_type':'geneticp', 'size':1000, 'ocr':0.1, 'ngen':10}\n",
    "explainer.fit(df, class_field, config)\n",
    "exp = explainer.explain(inst)\n",
    "print(exp)"
   ]
  },
  {
   "cell_type": "markdown",
   "metadata": {},
   "source": [
    "### LIME explainer\n",
    "##### We first define the explainer method we want to use: LIME. It produces feature importances. We can define a dictionary containing the LIME's parameters we want. \n",
    "##### There are several parameters we can define: feature selection, discretize continuous, discretizer, sample_around_instance, kernel width, kernel."
   ]
  },
  {
   "cell_type": "code",
   "execution_count": null,
   "metadata": {},
   "outputs": [],
   "source": [
    "limeExplainer = LimeXAITabularExplainer(bbox)\n",
    "config = {'feature_selection': 'lasso_path'}\n",
    "limeExplainer.fit(df, class_field, config)\n",
    "lime_exp = limeExplainer.explain(inst)\n",
    "print(lime_exp.as_list())"
   ]
  },
  {
   "cell_type": "markdown",
   "metadata": {},
   "source": [
    "##### To plot the explanation, we pass the explanation as a list (tuples, where the first element is the feature name and the second the actual feature importance), start and end of the range of features we want to visualize."
   ]
  },
  {
   "cell_type": "code",
   "execution_count": null,
   "metadata": {},
   "outputs": [],
   "source": [
    "limeExplainer.plot_lime_values(lime_exp.as_list(), 4, 15)"
   ]
  },
  {
   "cell_type": "code",
   "execution_count": null,
   "metadata": {},
   "outputs": [],
   "source": [
    " feature_names"
   ]
  },
  {
   "cell_type": "markdown",
   "metadata": {},
   "source": [
    "### Define and train a RFClassifier"
   ]
  },
  {
   "cell_type": "code",
   "execution_count": 6,
   "metadata": {},
   "outputs": [],
   "source": [
    "bb = RandomForestClassifier(n_estimators=20, random_state=random_state)\n",
    "bb.fit(X_train.values, Y_train.values)\n",
    "bbox = sklearn_classifier_wrapper(bb)   "
   ]
  },
  {
   "cell_type": "code",
   "execution_count": 7,
   "metadata": {},
   "outputs": [],
   "source": [
    "explainer = ShapXAITabularExplainer(bbox, feature_names)\n",
    "config = {'explainer' : 'kernel', 'X_train' : X_train.iloc[0:100].values}\n",
    "explainer.fit(config)"
   ]
  },
  {
   "cell_type": "code",
   "execution_count": 8,
   "metadata": {},
   "outputs": [
    {
     "name": "stdout",
     "output_type": "stream",
     "text": [
      "Instance  [ 15 975   2   3  25   2   1   0   1   0]\n",
      "True class  0\n",
      "Predicted class  [0]\n"
     ]
    }
   ],
   "source": [
    "inst = X_train.iloc[147].values\n",
    "print('Instance ',inst[0:10])\n",
    "print('True class ',Y_train.iloc[8])\n",
    "print('Predicted class ',bb.predict(inst.reshape(1, -1)))"
   ]
  },
  {
   "cell_type": "code",
   "execution_count": 9,
   "metadata": {},
   "outputs": [
    {
     "name": "stdout",
     "output_type": "stream",
     "text": [
      "building an explanation\n",
      "[array([ 0.04364305,  0.00233334,  0.02687993,  0.00044366,  0.02921614,\n",
      "        0.        ,  0.        ,  0.0236707 , -0.02075349,  0.        ,\n",
      "       -0.0293711 ,  0.00114501,  0.0632803 ,  0.        ,  0.00826698,\n",
      "        0.        ,  0.007053  ,  0.        ,  0.01553522,  0.        ,\n",
      "        0.00207688,  0.        ,  0.        , -0.0087651 ,  0.        ,\n",
      "        0.        , -0.01230946,  0.        ,  0.        ,  0.        ,\n",
      "        0.        ,  0.00847158,  0.01616477,  0.00875184,  0.00096531,\n",
      "        0.00253366,  0.        ,  0.01243686,  0.        ,  0.00572106,\n",
      "        0.        ,  0.00403564,  0.        ,  0.02340512,  0.        ,\n",
      "       -0.01101317,  0.01310039,  0.01607476,  0.01834455,  0.00446476,\n",
      "        0.        ,  0.01860371,  0.00551734,  0.00273426,  0.00470391,\n",
      "        0.        ,  0.        , -0.00638797,  0.01052657,  0.        ,\n",
      "        0.        ]), array([-0.04364305, -0.00233334, -0.02687993, -0.00044366, -0.02921614,\n",
      "        0.        ,  0.        , -0.0236707 ,  0.02075349,  0.        ,\n",
      "        0.0293711 , -0.00114501, -0.0632803 ,  0.        , -0.00826698,\n",
      "        0.        , -0.007053  ,  0.        , -0.01553522,  0.        ,\n",
      "       -0.00207688,  0.        ,  0.        ,  0.0087651 ,  0.        ,\n",
      "        0.        ,  0.01230946,  0.        ,  0.        ,  0.        ,\n",
      "        0.        , -0.00847158, -0.01616477, -0.00875184, -0.00096531,\n",
      "       -0.00253366,  0.        , -0.01243686,  0.        , -0.00572106,\n",
      "        0.        , -0.00403564,  0.        , -0.02340512,  0.        ,\n",
      "        0.01101317, -0.01310039, -0.01607476, -0.01834455, -0.00446476,\n",
      "        0.        , -0.01860371, -0.00551734, -0.00273426, -0.00470391,\n",
      "        0.        ,  0.        ,  0.00638797, -0.01052657,  0.        ,\n",
      "        0.        ])]\n"
     ]
    }
   ],
   "source": [
    "print('building an explanation')\n",
    "exp = explainer.explain(inst)\n",
    "print(exp.exp)"
   ]
  },
  {
   "cell_type": "code",
   "execution_count": 10,
   "metadata": {},
   "outputs": [
    {
     "data": {
      "text/html": [
       "\n",
       "        <style>\n",
       "        .vega-bind {\n",
       "          position: absolute;\n",
       "          left: 0px;\n",
       "          top: 0px;\n",
       "          background-color:#eee;\n",
       "          padding:10px;\n",
       "          font-size:10px;\n",
       "        }\n",
       "        .chart-wrapper{\n",
       "          padding-top: 70px;\n",
       "        }\n",
       "\n",
       "        </style>\n",
       "        "
      ],
      "text/plain": [
       "<IPython.core.display.HTML object>"
      ]
     },
     "metadata": {},
     "output_type": "display_data"
    },
    {
     "data": {
      "text/html": [
       "\n",
       "<div id=\"altair-viz-97b3f1c17b9541d187fbccf44ac208f1\"></div>\n",
       "<script type=\"text/javascript\">\n",
       "  (function(spec, embedOpt){\n",
       "    let outputDiv = document.currentScript.previousElementSibling;\n",
       "    if (outputDiv.id !== \"altair-viz-97b3f1c17b9541d187fbccf44ac208f1\") {\n",
       "      outputDiv = document.getElementById(\"altair-viz-97b3f1c17b9541d187fbccf44ac208f1\");\n",
       "    }\n",
       "    const paths = {\n",
       "      \"vega\": \"https://cdn.jsdelivr.net/npm//vega@5?noext\",\n",
       "      \"vega-lib\": \"https://cdn.jsdelivr.net/npm//vega-lib?noext\",\n",
       "      \"vega-lite\": \"https://cdn.jsdelivr.net/npm//vega-lite@4.8.1?noext\",\n",
       "      \"vega-embed\": \"https://cdn.jsdelivr.net/npm//vega-embed@6?noext\",\n",
       "    };\n",
       "\n",
       "    function loadScript(lib) {\n",
       "      return new Promise(function(resolve, reject) {\n",
       "        var s = document.createElement('script');\n",
       "        s.src = paths[lib];\n",
       "        s.async = true;\n",
       "        s.onload = () => resolve(paths[lib]);\n",
       "        s.onerror = () => reject(`Error loading script: ${paths[lib]}`);\n",
       "        document.getElementsByTagName(\"head\")[0].appendChild(s);\n",
       "      });\n",
       "    }\n",
       "\n",
       "    function showError(err) {\n",
       "      outputDiv.innerHTML = `<div class=\"error\" style=\"color:red;\">${err}</div>`;\n",
       "      throw err;\n",
       "    }\n",
       "\n",
       "    function displayChart(vegaEmbed) {\n",
       "      vegaEmbed(outputDiv, spec, embedOpt)\n",
       "        .catch(err => showError(`Javascript Error: ${err.message}<br>This usually means there's a typo in your chart specification. See the javascript console for the full traceback.`));\n",
       "    }\n",
       "\n",
       "    if(typeof define === \"function\" && define.amd) {\n",
       "      requirejs.config({paths});\n",
       "      require([\"vega-embed\"], displayChart, err => showError(`Error loading script: ${err.message}`));\n",
       "    } else if (typeof vegaEmbed === \"function\") {\n",
       "      displayChart(vegaEmbed);\n",
       "    } else {\n",
       "      loadScript(\"vega\")\n",
       "        .then(() => loadScript(\"vega-lite\"))\n",
       "        .then(() => loadScript(\"vega-embed\"))\n",
       "        .catch(showError)\n",
       "        .then(() => displayChart(vegaEmbed));\n",
       "    }\n",
       "  })({\"config\": {\"view\": {\"continuousWidth\": 400, \"continuousHeight\": 300}, \"axis\": {\"labelFontSize\": 10, \"labelLimit\": 225.0}}, \"vconcat\": [{\"layer\": [{\"data\": {\"name\": \"data-f8fb231dbb5ab686d5a5e02d937d78ee\"}, \"mark\": {\"type\": \"rule\", \"strokeWidth\": 3}, \"encoding\": {\"color\": {\"type\": \"quantitative\", \"field\": \"xValue\", \"legend\": null, \"scale\": {\"domain\": [-0.06328029575250085, 0.06328029575250085], \"domainMid\": 0, \"scheme\": \"redyellowblue\"}}, \"x\": {\"type\": \"quantitative\", \"axis\": {\"orient\": \"top\", \"titleFontSize\": 10}, \"field\": \"xValue\", \"title\": \"Select a cutoff range for Feature Importance values \"}}}, {\"data\": {\"name\": \"data-c7bc3ae69e1253e8223f70a11d04b99d\"}, \"mark\": {\"type\": \"rect\", \"color\": \"black\", \"height\": 20, \"opacity\": 0.4, \"tooltip\": true}, \"encoding\": {\"x\": {\"type\": \"quantitative\", \"field\": \"x_min\"}, \"x2\": {\"field\": \"x_max\"}, \"y\": {\"type\": \"quantitative\", \"axis\": null, \"field\": \"y\"}}, \"selection\": {\"Cutter\": {\"type\": \"single\", \"fields\": [\"cutoff\"], \"bind\": {\"input\": \"range\", \"max\": 0.06328029575250085, \"min\": 0, \"name\": \"Importance cutoff value (\\u00b1) \", \"step\": 0.001265605915050017}, \"init\": {\"cutoff\": 0.0}}}, \"transform\": [{\"calculate\": \"(-Cutter.cutoff)\", \"as\": \"x_min\"}, {\"calculate\": \"Cutter.cutoff\", \"as\": \"x_max\"}]}], \"height\": 20}, {\"layer\": [{\"data\": {\"name\": \"data-b3c0e9b21f31446d4e5dc7493fa4d830\"}, \"mark\": \"bar\", \"encoding\": {\"color\": {\"type\": \"quantitative\", \"field\": \"value\", \"legend\": null, \"scale\": {\"domain\": [-0.06328029575250085, 0.06328029575250085], \"domainMid\": 0, \"scheme\": \"blueorange\"}}, \"tooltip\": [{\"type\": \"nominal\", \"field\": \"name\", \"title\": \"Feature\"}, {\"type\": \"quantitative\", \"field\": \"value\", \"title\": \"Importance\"}], \"x\": {\"type\": \"quantitative\", \"field\": \"value\", \"title\": null}, \"y\": {\"type\": \"nominal\", \"field\": \"name\", \"sort\": {\"field\": \"value\", \"op\": \"mean\", \"order\": \"descending\"}, \"title\": null}}, \"selection\": {\"Cutter\": {\"type\": \"single\", \"fields\": [\"cutoff\"], \"bind\": {\"input\": \"range\", \"max\": 0.06328029575250085, \"min\": 0, \"name\": \"Importance cutoff value (\\u00b1) \", \"step\": 0.001265605915050017}, \"init\": {\"cutoff\": 0.0}}}, \"transform\": [{\"filter\": \"datum.value > -1 & datum.value < 1\"}, {\"filter\": \"((datum.value > Cutter.cutoff) || (datum.value < (-Cutter.cutoff)))\"}]}, {\"data\": {\"name\": \"data-9c00aa9dc2b1c1a0b4bf9b34ead12925\"}, \"mark\": \"rule\", \"encoding\": {\"x\": {\"type\": \"quantitative\", \"field\": \"x\"}}}]}], \"padding\": 10, \"$schema\": \"https://vega.github.io/schema/vega-lite/v4.8.1.json\", \"datasets\": {\"data-f8fb231dbb5ab686d5a5e02d937d78ee\": [{\"xValue\": -0.06328029575250085}, {\"xValue\": -0.06264749279497585}, {\"xValue\": -0.06201468983745084}, {\"xValue\": -0.06138188687992584}, {\"xValue\": -0.06074908392240083}, {\"xValue\": -0.060116280964875826}, {\"xValue\": -0.05948347800735082}, {\"xValue\": -0.058850675049825815}, {\"xValue\": -0.05821787209230081}, {\"xValue\": -0.057585069134775804}, {\"xValue\": -0.0569522661772508}, {\"xValue\": -0.05631946321972579}, {\"xValue\": -0.05568666026220079}, {\"xValue\": -0.05505385730467578}, {\"xValue\": -0.05442105434715078}, {\"xValue\": -0.05378825138962577}, {\"xValue\": -0.053155448432100766}, {\"xValue\": -0.05252264547457576}, {\"xValue\": -0.051889842517050755}, {\"xValue\": -0.05125703955952575}, {\"xValue\": -0.050624236602000744}, {\"xValue\": -0.04999143364447574}, {\"xValue\": -0.04935863068695073}, {\"xValue\": -0.04872582772942573}, {\"xValue\": -0.04809302477190072}, {\"xValue\": -0.047460221814375717}, {\"xValue\": -0.04682741885685071}, {\"xValue\": -0.046194615899325706}, {\"xValue\": -0.0455618129418007}, {\"xValue\": -0.044929009984275695}, {\"xValue\": -0.04429620702675069}, {\"xValue\": -0.043663404069225684}, {\"xValue\": -0.04303060111170068}, {\"xValue\": -0.04239779815417567}, {\"xValue\": -0.04176499519665067}, {\"xValue\": -0.04113219223912566}, {\"xValue\": -0.040499389281600656}, {\"xValue\": -0.03986658632407565}, {\"xValue\": -0.039233783366550645}, {\"xValue\": -0.03860098040902564}, {\"xValue\": -0.037968177451500634}, {\"xValue\": -0.03733537449397563}, {\"xValue\": -0.03670257153645062}, {\"xValue\": -0.03606976857892562}, {\"xValue\": -0.03543696562140061}, {\"xValue\": -0.03480416266387561}, {\"xValue\": -0.0341713597063506}, {\"xValue\": -0.033538556748825596}, {\"xValue\": -0.03290575379130059}, {\"xValue\": -0.032272950833775585}, {\"xValue\": -0.03164014787625058}, {\"xValue\": -0.031007344918725574}, {\"xValue\": -0.03037454196120057}, {\"xValue\": -0.029741739003675563}, {\"xValue\": -0.029108936046150558}, {\"xValue\": -0.028476133088625552}, {\"xValue\": -0.027843330131100547}, {\"xValue\": -0.02721052717357554}, {\"xValue\": -0.026577724216050536}, {\"xValue\": -0.02594492125852553}, {\"xValue\": -0.025312118301000525}, {\"xValue\": -0.02467931534347552}, {\"xValue\": -0.024046512385950514}, {\"xValue\": -0.023413709428425508}, {\"xValue\": -0.022780906470900503}, {\"xValue\": -0.022148103513375497}, {\"xValue\": -0.02151530055585049}, {\"xValue\": -0.020882497598325486}, {\"xValue\": -0.02024969464080048}, {\"xValue\": -0.019616891683275475}, {\"xValue\": -0.01898408872575047}, {\"xValue\": -0.018351285768225464}, {\"xValue\": -0.01771848281070046}, {\"xValue\": -0.017085679853175453}, {\"xValue\": -0.016452876895650448}, {\"xValue\": -0.015820073938125442}, {\"xValue\": -0.015187270980600437}, {\"xValue\": -0.014554468023075431}, {\"xValue\": -0.013921665065550426}, {\"xValue\": -0.01328886210802542}, {\"xValue\": -0.012656059150500415}, {\"xValue\": -0.01202325619297541}, {\"xValue\": -0.011390453235450404}, {\"xValue\": -0.010757650277925399}, {\"xValue\": -0.010124847320400393}, {\"xValue\": -0.009492044362875388}, {\"xValue\": -0.008859241405350382}, {\"xValue\": -0.008226438447825377}, {\"xValue\": -0.007593635490300371}, {\"xValue\": -0.006960832532775366}, {\"xValue\": -0.00632802957525036}, {\"xValue\": -0.005695226617725355}, {\"xValue\": -0.005062423660200349}, {\"xValue\": -0.004429620702675344}, {\"xValue\": -0.003796817745150338}, {\"xValue\": -0.0031640147876253327}, {\"xValue\": -0.0025312118301003272}, {\"xValue\": -0.0018984088725753218}, {\"xValue\": -0.0012656059150503163}, {\"xValue\": -0.0006328029575253108}, {\"xValue\": -3.0531133177191805e-16}, {\"xValue\": 0.0006328029575247002}, {\"xValue\": 0.0012656059150497057}, {\"xValue\": 0.0018984088725747111}, {\"xValue\": 0.0025312118300997166}, {\"xValue\": 0.003164014787624722}, {\"xValue\": 0.0037968177451497276}, {\"xValue\": 0.004429620702674733}, {\"xValue\": 0.0050624236601997386}, {\"xValue\": 0.005695226617724744}, {\"xValue\": 0.0063280295752497495}, {\"xValue\": 0.006960832532774755}, {\"xValue\": 0.0075936354902997605}, {\"xValue\": 0.008226438447824766}, {\"xValue\": 0.008859241405349771}, {\"xValue\": 0.009492044362874777}, {\"xValue\": 0.010124847320399782}, {\"xValue\": 0.010757650277924788}, {\"xValue\": 0.011390453235449793}, {\"xValue\": 0.012023256192974799}, {\"xValue\": 0.012656059150499804}, {\"xValue\": 0.01328886210802481}, {\"xValue\": 0.013921665065549815}, {\"xValue\": 0.01455446802307482}, {\"xValue\": 0.015187270980599826}, {\"xValue\": 0.015820073938124832}, {\"xValue\": 0.016452876895649837}, {\"xValue\": 0.017085679853174843}, {\"xValue\": 0.017718482810699848}, {\"xValue\": 0.018351285768224854}, {\"xValue\": 0.01898408872574986}, {\"xValue\": 0.019616891683274865}, {\"xValue\": 0.02024969464079987}, {\"xValue\": 0.020882497598324876}, {\"xValue\": 0.02151530055584988}, {\"xValue\": 0.022148103513374887}, {\"xValue\": 0.022780906470899892}, {\"xValue\": 0.023413709428424898}, {\"xValue\": 0.024046512385949903}, {\"xValue\": 0.02467931534347491}, {\"xValue\": 0.025312118300999914}, {\"xValue\": 0.02594492125852492}, {\"xValue\": 0.026577724216049925}, {\"xValue\": 0.02721052717357493}, {\"xValue\": 0.027843330131099936}, {\"xValue\": 0.02847613308862494}, {\"xValue\": 0.029108936046149947}, {\"xValue\": 0.029741739003674952}, {\"xValue\": 0.030374541961199958}, {\"xValue\": 0.031007344918724963}, {\"xValue\": 0.03164014787624997}, {\"xValue\": 0.032272950833774974}, {\"xValue\": 0.03290575379129998}, {\"xValue\": 0.033538556748824985}, {\"xValue\": 0.03417135970634999}, {\"xValue\": 0.034804162663874996}, {\"xValue\": 0.0354369656214}, {\"xValue\": 0.03606976857892501}, {\"xValue\": 0.03670257153645001}, {\"xValue\": 0.03733537449397502}, {\"xValue\": 0.037968177451500024}, {\"xValue\": 0.03860098040902503}, {\"xValue\": 0.039233783366550035}, {\"xValue\": 0.03986658632407504}, {\"xValue\": 0.040499389281600046}, {\"xValue\": 0.04113219223912505}, {\"xValue\": 0.04176499519665006}, {\"xValue\": 0.04239779815417506}, {\"xValue\": 0.04303060111170007}, {\"xValue\": 0.04366340406922507}, {\"xValue\": 0.04429620702675008}, {\"xValue\": 0.044929009984275084}, {\"xValue\": 0.04556181294180009}, {\"xValue\": 0.046194615899325095}, {\"xValue\": 0.0468274188568501}, {\"xValue\": 0.047460221814375106}, {\"xValue\": 0.04809302477190011}, {\"xValue\": 0.04872582772942512}, {\"xValue\": 0.04935863068695012}, {\"xValue\": 0.04999143364447513}, {\"xValue\": 0.05062423660200013}, {\"xValue\": 0.05125703955952514}, {\"xValue\": 0.051889842517050144}, {\"xValue\": 0.05252264547457515}, {\"xValue\": 0.053155448432100155}, {\"xValue\": 0.05378825138962516}, {\"xValue\": 0.054421054347150166}, {\"xValue\": 0.05505385730467517}, {\"xValue\": 0.05568666026220018}, {\"xValue\": 0.05631946321972518}, {\"xValue\": 0.05695226617725019}, {\"xValue\": 0.057585069134775194}, {\"xValue\": 0.0582178720923002}, {\"xValue\": 0.058850675049825205}, {\"xValue\": 0.05948347800735021}, {\"xValue\": 0.060116280964875216}, {\"xValue\": 0.06074908392240022}, {\"xValue\": 0.061381886879925227}, {\"xValue\": 0.06201468983745023}, {\"xValue\": 0.06264749279497525}], \"data-c7bc3ae69e1253e8223f70a11d04b99d\": [{\"y\": 0, \"x\": -0.5, \"x2\": 0.5}], \"data-b3c0e9b21f31446d4e5dc7493fa4d830\": [{\"name\": \"duration_in_month\", \"value\": 0.043643050054275045}, {\"name\": \"credit_amount\", \"value\": 0.0023333394923392703}, {\"name\": \"installment_as_income_perc\", \"value\": 0.026879926438202903}, {\"name\": \"present_res_since\", \"value\": 0.00044365708706420315}, {\"name\": \"age\", \"value\": 0.029216137993655855}, {\"name\": \"credits_this_bank\", \"value\": 0.0}, {\"name\": \"people_under_maintenance\", \"value\": 0.0}, {\"name\": \"account_check_status=0 <= ... < 200 DM\", \"value\": 0.023670700498469338}, {\"name\": \"account_check_status=< 0 DM\", \"value\": -0.02075348776128566}, {\"name\": \"account_check_status=>= 200 DM / salary assignments for at least 1 year\", \"value\": 0.0}, {\"name\": \"account_check_status=no checking account\", \"value\": -0.02937110172266666}, {\"name\": \"credit_history=all credits at this bank paid back duly\", \"value\": 0.0011450097554612376}, {\"name\": \"credit_history=critical account/ other credits existing (not at this bank)\", \"value\": 0.06328029575250085}, {\"name\": \"credit_history=delay in paying off in the past\", \"value\": 0.0}, {\"name\": \"credit_history=existing credits paid back duly till now\", \"value\": 0.008266978715501638}, {\"name\": \"credit_history=no credits taken/ all credits paid back duly\", \"value\": 0.0}, {\"name\": \"purpose=(vacation - does not exist?)\", \"value\": 0.007053002939574754}, {\"name\": \"purpose=business\", \"value\": 0.0}, {\"name\": \"purpose=car (new)\", \"value\": 0.015535224801171366}, {\"name\": \"purpose=car (used)\", \"value\": 0.0}, {\"name\": \"purpose=domestic appliances\", \"value\": 0.0020768798721744752}, {\"name\": \"purpose=education\", \"value\": 0.0}, {\"name\": \"purpose=furniture/equipment\", \"value\": 0.0}, {\"name\": \"purpose=radio/television\", \"value\": -0.008765095938856535}, {\"name\": \"purpose=repairs\", \"value\": 0.0}, {\"name\": \"purpose=retraining\", \"value\": 0.0}, {\"name\": \"savings=.. >= 1000 DM \", \"value\": -0.012309464667863257}, {\"name\": \"savings=... < 100 DM\", \"value\": 0.0}, {\"name\": \"savings=100 <= ... < 500 DM\", \"value\": 0.0}, {\"name\": \"savings=500 <= ... < 1000 DM \", \"value\": 0.0}, {\"name\": \"savings=unknown/ no savings account\", \"value\": 0.0}, {\"name\": \"present_emp_since=.. >= 7 years\", \"value\": 0.008471575242958718}, {\"name\": \"present_emp_since=... < 1 year \", \"value\": 0.01616477261927035}, {\"name\": \"present_emp_since=1 <= ... < 4 years\", \"value\": 0.008751836135883873}, {\"name\": \"present_emp_since=4 <= ... < 7 years\", \"value\": 0.0009653069232138933}, {\"name\": \"present_emp_since=unemployed\", \"value\": 0.0025336617517001114}, {\"name\": \"personal_status_sex=female : divorced/separated/married\", \"value\": 0.0}, {\"name\": \"personal_status_sex=male : divorced/separated\", \"value\": 0.012436855319485324}, {\"name\": \"personal_status_sex=male : married/widowed\", \"value\": 0.0}, {\"name\": \"personal_status_sex=male : single\", \"value\": 0.005721057117222039}, {\"name\": \"other_debtors=co-applicant\", \"value\": 0.0}, {\"name\": \"other_debtors=guarantor\", \"value\": 0.00403563934509088}, {\"name\": \"other_debtors=none\", \"value\": 0.0}, {\"name\": \"property=if not A121 : building society savings agreement/ life insurance\", \"value\": 0.023405124041510753}, {\"name\": \"property=if not A121/A122 : car or other, not in attribute 6\", \"value\": 0.0}, {\"name\": \"property=real estate\", \"value\": -0.011013171419925277}, {\"name\": \"property=unknown / no property\", \"value\": 0.013100393867668203}, {\"name\": \"other_installment_plans=bank\", \"value\": 0.016074761993430137}, {\"name\": \"other_installment_plans=none\", \"value\": 0.018344546388340377}, {\"name\": \"other_installment_plans=stores\", \"value\": 0.004464764113002756}, {\"name\": \"housing=for free\", \"value\": 0.0}, {\"name\": \"housing=own\", \"value\": 0.018603713641493963}, {\"name\": \"housing=rent\", \"value\": 0.005517337078518814}, {\"name\": \"job=management/ self-employed/ highly qualified employee/ officer\", \"value\": 0.0027342579500871794}, {\"name\": \"job=skilled employee / official\", \"value\": 0.004703914054599023}, {\"name\": \"job=unemployed/ unskilled - non-resident\", \"value\": 0.0}, {\"name\": \"job=unskilled - resident\", \"value\": 0.0}, {\"name\": \"telephone=none\", \"value\": -0.006387970542137814}, {\"name\": \"telephone=yes, registered under the customers name \", \"value\": 0.010526571068867951}, {\"name\": \"foreign_worker=no\", \"value\": 0.0}, {\"name\": \"foreign_worker=yes\", \"value\": 0.0}], \"data-9c00aa9dc2b1c1a0b4bf9b34ead12925\": [{\"x\": 0}]}}, {\"mode\": \"vega-lite\"});\n",
       "</script>"
      ],
      "text/plain": [
       "alt.VConcatChart(...)"
      ]
     },
     "metadata": {},
     "output_type": "display_data"
    }
   ],
   "source": [
    "exp.plot_features_importance()"
   ]
  },
  {
   "cell_type": "markdown",
   "metadata": {},
   "source": [
    "##### We can use the method plot_shap_values to get a visual representation. \n",
    "##### Parameters: feature_names, the list of features, exp, the explanation we want to plot, start and end, which denotes the range of features we want to plot. When using Tree explainer, for each record we obtain n feature importance arrays (where n is the number of classes). For the plot, we have to select only one array (in this case we selected the one of the true class)."
   ]
  },
  {
   "cell_type": "code",
   "execution_count": null,
   "metadata": {
    "scrolled": true
   },
   "outputs": [],
   "source": [
    "explainer.plot_shap_values_alt(feature_names, exp[0])"
   ]
  },
  {
   "cell_type": "markdown",
   "metadata": {},
   "source": [
    "### LORE explainer"
   ]
  },
  {
   "cell_type": "code",
   "execution_count": null,
   "metadata": {},
   "outputs": [],
   "source": [
    "explainer = LoreTabularExplainer(bbox)\n",
    "config = {'neigh_type':'rndgen', 'size':1000, 'ocr':0.1, 'ngen':10}\n",
    "explainer.fit(df, class_field, config)\n",
    "exp = explainer.explain(inst)\n",
    "print(exp)"
   ]
  },
  {
   "cell_type": "markdown",
   "metadata": {},
   "source": [
    "### LIME explainer"
   ]
  },
  {
   "cell_type": "code",
   "execution_count": null,
   "metadata": {},
   "outputs": [],
   "source": [
    "limeExplainer = LimeXAITabularExplainer(bbox)\n",
    "config = {'feature_selection': 'lasso_path'}\n",
    "limeExplainer.fit(df, class_field, config)\n",
    "lime_exp = limeExplainer.explain(inst)\n",
    "print(lime_exp.as_list())"
   ]
  },
  {
   "cell_type": "code",
   "execution_count": null,
   "metadata": {},
   "outputs": [],
   "source": [
    "limeExplainer.plot_lime_values(lime_exp.as_list(), 5, 10)"
   ]
  }
 ],
 "metadata": {
  "kernelspec": {
   "display_name": "Python 3",
   "language": "python",
   "name": "python3"
  },
  "language_info": {
   "codemirror_mode": {
    "name": "ipython",
    "version": 3
   },
   "file_extension": ".py",
   "mimetype": "text/x-python",
   "name": "python",
   "nbconvert_exporter": "python",
   "pygments_lexer": "ipython3",
   "version": "3.6.10"
  }
 },
 "nbformat": 4,
 "nbformat_minor": 5
}
