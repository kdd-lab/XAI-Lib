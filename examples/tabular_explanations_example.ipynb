{
 "cells": [
  {
   "cell_type": "code",
   "id": "98ea9ac85ab7ff01",
   "metadata": {
    "ExecuteTime": {
     "end_time": "2024-07-04T16:30:44.699056Z",
     "start_time": "2024-07-04T16:30:44.690335Z"
    }
   },
   "source": [
    "import pandas as pd\n",
    "import numpy as np\n",
    "\n",
    "from sklearn import preprocessing\n",
    "from sklearn.ensemble import RandomForestClassifier\n",
    "from sklearn.model_selection import train_test_split\n",
    "from sklearn.linear_model import LogisticRegression\n",
    "\n",
    "from xailib.data_loaders.dataframe_loader import prepare_dataframe\n",
    "\n",
    "from xailib.explainers.lime_explainer import LimeXAITabularExplainer\n",
    "from xailib.explainers.lore_explainer import LegacyLoreTabularExplainer\n",
    "from xailib.explainers.lore_explainer import LoreTabularExplainer\n",
    "from xailib.explainers.shap_explainer_tab import ShapXAITabularExplainer\n",
    "\n",
    "from xailib.models.sklearn_classifier_wrapper import sklearn_classifier_wrapper"
   ],
   "outputs": [],
   "execution_count": 3
  },
  {
   "cell_type": "markdown",
   "id": "3de94f68dc1a1c21",
   "metadata": {},
   "source": [
    "# Learning and explaining German Credit Dataset"
   ]
  },
  {
   "cell_type": "markdown",
   "id": "4a985595582773f9",
   "metadata": {},
   "source": [
    "## Loading and preparation of data\n",
    "\n",
    "We start by reading from a CSV file the dataset to analyze. The table is loaded by means of the ```DataFrame``` class from the ```pandas``` library.\n",
    "\n",
    "Among all the attributes of the table, we select the ```class_field``` column that contains the observed class for the corresponding row."
   ]
  },
  {
   "cell_type": "code",
   "id": "d2ef0ef38325a111",
   "metadata": {
    "ExecuteTime": {
     "end_time": "2024-07-04T16:30:44.946836Z",
     "start_time": "2024-07-04T16:30:44.928136Z"
    }
   },
   "source": [
    "source_file = '../datasets/german_credit.csv'\n",
    "class_field = 'default'\n",
    "# Load and transform dataset \n",
    "df = pd.read_csv(source_file, skipinitialspace=True, na_values='?', keep_default_na=True)"
   ],
   "outputs": [],
   "execution_count": 4
  },
  {
   "cell_type": "markdown",
   "id": "3147a692b6ca6202",
   "metadata": {},
   "source": [
    "After the data is loaded in memory, we need to extract metadata information to automatically handle the content withint the table.\n",
    "\n",
    "The method ```prepare_dataframe``` scans the table and extract the following information:\n",
    " * ```df```: is a trasformed version of the original dataframe, where discrete attributes are transformed into numerical attributes by using one hot encoding strategy;\n",
    " * ```feature_names```: is a list containint the names of the features after the transformation;\n",
    " * ```class_values```: the list of all the possible values for the ```class_field``` column;\n",
    " * ```numeric_columns```: a list of the original features that contain numeric (i.e. continuous) values;\n",
    " * ```rdf```: the original dataframe, before the transformation;\n",
    " * ```real_feature_names```: the list of the features of the dataframe before the transformation;\n",
    " * ```features_map```: it is a dictionary pointing each feature to the original one before the transformation."
   ]
  },
  {
   "cell_type": "code",
   "id": "a3313a47cfc7dad3",
   "metadata": {
    "ExecuteTime": {
     "end_time": "2024-07-04T16:30:44.999738Z",
     "start_time": "2024-07-04T16:30:44.980255Z"
    }
   },
   "source": [
    "df, feature_names, class_values, numeric_columns, rdf, real_feature_names, features_map = prepare_dataframe(df, class_field)"
   ],
   "outputs": [],
   "execution_count": 5
  },
  {
   "cell_type": "markdown",
   "id": "99741cfd6da98ed3",
   "metadata": {},
   "source": [
    "### Learning a Random Forest classfier\n",
    "\n",
    "We train a RF classifier by using the ```sklearn``` library. We start by splitting the dataset into a train and test subsets. "
   ]
  },
  {
   "cell_type": "code",
   "id": "c96706496b7765d1",
   "metadata": {
    "ExecuteTime": {
     "end_time": "2024-07-04T16:30:45.048888Z",
     "start_time": "2024-07-04T16:30:45.037562Z"
    }
   },
   "source": [
    "test_size = 0.3\n",
    "random_state = 42\n",
    "X_train, X_test, Y_train, Y_test = train_test_split(df[feature_names], df[class_field],\n",
    "                                                        test_size=test_size,\n",
    "                                                        random_state=random_state,\n",
    "                                                        stratify=df[class_field])\n",
    "\n"
   ],
   "outputs": [],
   "execution_count": 6
  },
  {
   "cell_type": "markdown",
   "id": "2194bea264892ec4",
   "metadata": {},
   "source": [
    "Then we train the model on the training set. \n",
    "Once the model has been learned, we use a wrapper class to get access to the model for ```XAI lib```"
   ]
  },
  {
   "cell_type": "code",
   "id": "a416c5c8f2578233",
   "metadata": {
    "ExecuteTime": {
     "end_time": "2024-07-04T16:30:45.158910Z",
     "start_time": "2024-07-04T16:30:45.054663Z"
    }
   },
   "source": [
    "bb = RandomForestClassifier(n_estimators=20, random_state=random_state)\n",
    "bb.fit(X_train.values, Y_train.values)\n",
    "bbox = sklearn_classifier_wrapper(bb)   "
   ],
   "outputs": [],
   "execution_count": 7
  },
  {
   "cell_type": "markdown",
   "id": "8daec938343dad34",
   "metadata": {},
   "source": [
    "Select a new instance to be classfied by the model and print the predicted class."
   ]
  },
  {
   "cell_type": "code",
   "id": "207e463e198d9b65",
   "metadata": {
    "ExecuteTime": {
     "end_time": "2024-07-04T16:30:45.167631Z",
     "start_time": "2024-07-04T16:30:45.160192Z"
    }
   },
   "source": [
    "inst = X_train.iloc[147].values\n",
    "print('Instance ',inst)\n",
    "print('True class ',Y_train.iloc[8])\n",
    "print('Predicted class ',bb.predict(inst.reshape(1, -1)))"
   ],
   "outputs": [
    {
     "name": "stdout",
     "output_type": "stream",
     "text": [
      "Instance  [ 15 975   2   3  25   2   1   0   1   0   0   0   1   0   0   0   0   0\n",
      "   0   0   0   0   0   1   0   0   0   1   0   0   0   0   0   1   0   0\n",
      "   0   1   0   0   0   0   1   1   0   0   0   0   1   0   0   1   0   0\n",
      "   1   0   0   1   0   0   1]\n",
      "True class  0\n",
      "Predicted class  [0]\n"
     ]
    }
   ],
   "execution_count": 8
  },
  {
   "cell_type": "markdown",
   "id": "d3bb98bbc565d194",
   "metadata": {},
   "source": [
    "## Explaining the prediction\n",
    "We use the explanators of ```XAI lib``` to provide an explantion for the classified instance ```inst```.\n",
    "Every explainer of ```XAI lib``` takes in input the blackbox to be explained with the corresponding feature names, and a configuration object to initialize the explainer.\n",
    "\n",
    "### SHAP explainer"
   ]
  },
  {
   "cell_type": "code",
   "id": "ca170bbcf05ff900",
   "metadata": {
    "ExecuteTime": {
     "end_time": "2024-07-04T16:30:45.173367Z",
     "start_time": "2024-07-04T16:30:45.168612Z"
    }
   },
   "source": [
    "explainer = ShapXAITabularExplainer(bbox, feature_names)\n",
    "config = {'explainer' : 'tree', 'X_train' : X_train.iloc[0:100].values}\n",
    "explainer.fit(config)"
   ],
   "outputs": [],
   "execution_count": 9
  },
  {
   "cell_type": "code",
   "id": "ad253f4c73cd9e14",
   "metadata": {
    "ExecuteTime": {
     "end_time": "2024-07-04T16:30:45.184627Z",
     "start_time": "2024-07-04T16:30:45.175781Z"
    }
   },
   "source": [
    "exp = explainer.explain(inst)\n",
    "# print(exp.exp)"
   ],
   "outputs": [],
   "execution_count": 10
  },
  {
   "cell_type": "code",
   "id": "e13c3d34955fd513",
   "metadata": {
    "ExecuteTime": {
     "end_time": "2024-07-04T16:30:45.348862Z",
     "start_time": "2024-07-04T16:30:45.186221Z"
    }
   },
   "source": [
    "exp.plot_features_importance()"
   ],
   "outputs": [
    {
     "data": {
      "text/plain": [
       "<IPython.core.display.HTML object>"
      ],
      "text/html": [
       "\n",
       "        <style>\n",
       "        .vega-bind {\n",
       "          position: absolute;\n",
       "          left: 0px;\n",
       "          top: 0px;\n",
       "          background-color:#eee;\n",
       "          padding:10px;\n",
       "          font-size:10px;\n",
       "        }\n",
       "        .chart-wrapper{\n",
       "          padding-top: 70px;\n",
       "        }\n",
       "\n",
       "        </style>\n",
       "        "
      ]
     },
     "metadata": {},
     "output_type": "display_data"
    },
    {
     "data": {
      "text/html": [
       "\n",
       "<div id=\"altair-viz-3d431143246940de87c58521e222c0ae\"></div>\n",
       "<script type=\"text/javascript\">\n",
       "  var VEGA_DEBUG = (typeof VEGA_DEBUG == \"undefined\") ? {} : VEGA_DEBUG;\n",
       "  (function(spec, embedOpt){\n",
       "    let outputDiv = document.currentScript.previousElementSibling;\n",
       "    if (outputDiv.id !== \"altair-viz-3d431143246940de87c58521e222c0ae\") {\n",
       "      outputDiv = document.getElementById(\"altair-viz-3d431143246940de87c58521e222c0ae\");\n",
       "    }\n",
       "    const paths = {\n",
       "      \"vega\": \"https://cdn.jsdelivr.net/npm//vega@5?noext\",\n",
       "      \"vega-lib\": \"https://cdn.jsdelivr.net/npm//vega-lib?noext\",\n",
       "      \"vega-lite\": \"https://cdn.jsdelivr.net/npm//vega-lite@4.17.0?noext\",\n",
       "      \"vega-embed\": \"https://cdn.jsdelivr.net/npm//vega-embed@6?noext\",\n",
       "    };\n",
       "\n",
       "    function maybeLoadScript(lib, version) {\n",
       "      var key = `${lib.replace(\"-\", \"\")}_version`;\n",
       "      return (VEGA_DEBUG[key] == version) ?\n",
       "        Promise.resolve(paths[lib]) :\n",
       "        new Promise(function(resolve, reject) {\n",
       "          var s = document.createElement('script');\n",
       "          document.getElementsByTagName(\"head\")[0].appendChild(s);\n",
       "          s.async = true;\n",
       "          s.onload = () => {\n",
       "            VEGA_DEBUG[key] = version;\n",
       "            return resolve(paths[lib]);\n",
       "          };\n",
       "          s.onerror = () => reject(`Error loading script: ${paths[lib]}`);\n",
       "          s.src = paths[lib];\n",
       "        });\n",
       "    }\n",
       "\n",
       "    function showError(err) {\n",
       "      outputDiv.innerHTML = `<div class=\"error\" style=\"color:red;\">${err}</div>`;\n",
       "      throw err;\n",
       "    }\n",
       "\n",
       "    function displayChart(vegaEmbed) {\n",
       "      vegaEmbed(outputDiv, spec, embedOpt)\n",
       "        .catch(err => showError(`Javascript Error: ${err.message}<br>This usually means there's a typo in your chart specification. See the javascript console for the full traceback.`));\n",
       "    }\n",
       "\n",
       "    if(typeof define === \"function\" && define.amd) {\n",
       "      requirejs.config({paths});\n",
       "      require([\"vega-embed\"], displayChart, err => showError(`Error loading script: ${err.message}`));\n",
       "    } else {\n",
       "      maybeLoadScript(\"vega\", \"5\")\n",
       "        .then(() => maybeLoadScript(\"vega-lite\", \"4.17.0\"))\n",
       "        .then(() => maybeLoadScript(\"vega-embed\", \"6\"))\n",
       "        .catch(showError)\n",
       "        .then(() => displayChart(vegaEmbed));\n",
       "    }\n",
       "  })({\"config\": {\"view\": {\"continuousWidth\": 400, \"continuousHeight\": 300}, \"axis\": {\"labelFontSize\": 10, \"labelLimit\": 225.0}}, \"vconcat\": [{\"layer\": [{\"data\": {\"name\": \"data-30f3240959b2d9dc877cd3511071cbdd\"}, \"mark\": {\"type\": \"rule\", \"strokeWidth\": 3}, \"encoding\": {\"color\": {\"field\": \"xValue\", \"legend\": null, \"scale\": {\"domain\": [-0.06251403882692182, 0.06251403882692182], \"domainMid\": 0, \"scheme\": \"redyellowblue\"}, \"type\": \"quantitative\"}, \"x\": {\"axis\": {\"orient\": \"top\", \"titleFontSize\": 10}, \"field\": \"xValue\", \"title\": \"Select a cutoff range for Feature Importance values \", \"type\": \"quantitative\"}}}, {\"data\": {\"name\": \"data-c7bc3ae69e1253e8223f70a11d04b99d\"}, \"mark\": {\"type\": \"rect\", \"color\": \"black\", \"height\": 20, \"opacity\": 0.4, \"tooltip\": true}, \"encoding\": {\"x\": {\"field\": \"x_min\", \"type\": \"quantitative\"}, \"x2\": {\"field\": \"x_max\"}, \"y\": {\"axis\": null, \"field\": \"y\", \"type\": \"quantitative\"}}, \"selection\": {\"Cutter\": {\"type\": \"single\", \"fields\": [\"cutoff\"], \"bind\": {\"input\": \"range\", \"max\": 0.06251403882692182, \"min\": 0, \"name\": \"Importance cutoff value (\\u00b1) \", \"step\": 0.0012502807765384363}, \"init\": {\"cutoff\": 0.0}}}, \"transform\": [{\"calculate\": \"(-Cutter.cutoff)\", \"as\": \"x_min\"}, {\"calculate\": \"Cutter.cutoff\", \"as\": \"x_max\"}]}], \"height\": 20}, {\"layer\": [{\"data\": {\"name\": \"data-b2155f4b4ed482476c9a0aede197a7d8\"}, \"mark\": \"bar\", \"encoding\": {\"color\": {\"field\": \"value\", \"legend\": null, \"scale\": {\"domain\": [-0.06251403882692182, 0.06251403882692182], \"domainMid\": 0, \"scheme\": \"blueorange\"}, \"type\": \"quantitative\"}, \"tooltip\": [{\"field\": \"name\", \"title\": \"Feature\", \"type\": \"nominal\"}, {\"field\": \"value\", \"title\": \"Importance\", \"type\": \"quantitative\"}], \"x\": {\"field\": \"value\", \"title\": null, \"type\": \"quantitative\"}, \"y\": {\"field\": \"name\", \"sort\": {\"field\": \"value\", \"op\": \"mean\", \"order\": \"descending\"}, \"title\": null, \"type\": \"nominal\"}}, \"selection\": {\"Cutter\": {\"type\": \"single\", \"fields\": [\"cutoff\"], \"bind\": {\"input\": \"range\", \"max\": 0.06251403882692182, \"min\": 0, \"name\": \"Importance cutoff value (\\u00b1) \", \"step\": 0.0012502807765384363}, \"init\": {\"cutoff\": 0.0}}}, \"transform\": [{\"filter\": \"((datum.value > Cutter.cutoff) || (datum.value < (-Cutter.cutoff)))\"}]}, {\"data\": {\"name\": \"data-9c00aa9dc2b1c1a0b4bf9b34ead12925\"}, \"mark\": \"rule\", \"encoding\": {\"x\": {\"field\": \"x\", \"type\": \"quantitative\"}}}]}], \"padding\": 10, \"$schema\": \"https://vega.github.io/schema/vega-lite/v4.17.0.json\", \"datasets\": {\"data-30f3240959b2d9dc877cd3511071cbdd\": [{\"xValue\": -0.06251403882692182}, {\"xValue\": -0.0618888984386526}, {\"xValue\": -0.06126375805038338}, {\"xValue\": -0.06063861766211416}, {\"xValue\": -0.06001347727384494}, {\"xValue\": -0.059388336885575724}, {\"xValue\": -0.058763196497306505}, {\"xValue\": -0.05813805610903729}, {\"xValue\": -0.05751291572076807}, {\"xValue\": -0.05688777533249885}, {\"xValue\": -0.05626263494422963}, {\"xValue\": -0.05563749455596041}, {\"xValue\": -0.055012354167691194}, {\"xValue\": -0.054387213779421975}, {\"xValue\": -0.053762073391152757}, {\"xValue\": -0.05313693300288354}, {\"xValue\": -0.05251179261461432}, {\"xValue\": -0.0518866522263451}, {\"xValue\": -0.05126151183807588}, {\"xValue\": -0.050636371449806664}, {\"xValue\": -0.050011231061537445}, {\"xValue\": -0.049386090673268226}, {\"xValue\": -0.04876095028499901}, {\"xValue\": -0.04813580989672979}, {\"xValue\": -0.04751066950846057}, {\"xValue\": -0.04688552912019135}, {\"xValue\": -0.046260388731922134}, {\"xValue\": -0.045635248343652915}, {\"xValue\": -0.045010107955383696}, {\"xValue\": -0.04438496756711448}, {\"xValue\": -0.04375982717884526}, {\"xValue\": -0.04313468679057604}, {\"xValue\": -0.04250954640230682}, {\"xValue\": -0.0418844060140376}, {\"xValue\": -0.041259265625768385}, {\"xValue\": -0.040634125237499166}, {\"xValue\": -0.04000898484922995}, {\"xValue\": -0.03938384446096073}, {\"xValue\": -0.03875870407269151}, {\"xValue\": -0.03813356368442229}, {\"xValue\": -0.03750842329615307}, {\"xValue\": -0.036883282907883855}, {\"xValue\": -0.036258142519614636}, {\"xValue\": -0.03563300213134542}, {\"xValue\": -0.0350078617430762}, {\"xValue\": -0.03438272135480698}, {\"xValue\": -0.03375758096653776}, {\"xValue\": -0.03313244057826854}, {\"xValue\": -0.032507300189999325}, {\"xValue\": -0.031882159801730106}, {\"xValue\": -0.03125701941346089}, {\"xValue\": -0.03063187902519167}, {\"xValue\": -0.03000673863692245}, {\"xValue\": -0.029381598248653232}, {\"xValue\": -0.028756457860384013}, {\"xValue\": -0.028131317472114795}, {\"xValue\": -0.027506177083845576}, {\"xValue\": -0.026881036695576357}, {\"xValue\": -0.02625589630730714}, {\"xValue\": -0.02563075591903792}, {\"xValue\": -0.0250056155307687}, {\"xValue\": -0.024380475142499483}, {\"xValue\": -0.023755334754230265}, {\"xValue\": -0.023130194365961046}, {\"xValue\": -0.022505053977691827}, {\"xValue\": -0.02187991358942261}, {\"xValue\": -0.02125477320115339}, {\"xValue\": -0.02062963281288417}, {\"xValue\": -0.020004492424614953}, {\"xValue\": -0.019379352036345734}, {\"xValue\": -0.018754211648076516}, {\"xValue\": -0.018129071259807297}, {\"xValue\": -0.01750393087153808}, {\"xValue\": -0.01687879048326886}, {\"xValue\": -0.01625365009499964}, {\"xValue\": -0.015628509706730423}, {\"xValue\": -0.015003369318461204}, {\"xValue\": -0.014378228930191986}, {\"xValue\": -0.013753088541922767}, {\"xValue\": -0.013127948153653549}, {\"xValue\": -0.01250280776538433}, {\"xValue\": -0.011877667377115111}, {\"xValue\": -0.011252526988845893}, {\"xValue\": -0.010627386600576674}, {\"xValue\": -0.010002246212307456}, {\"xValue\": -0.009377105824038237}, {\"xValue\": -0.008751965435769019}, {\"xValue\": -0.0081268250474998}, {\"xValue\": -0.007501684659230581}, {\"xValue\": -0.006876544270961363}, {\"xValue\": -0.006251403882692144}, {\"xValue\": -0.005626263494422926}, {\"xValue\": -0.005001123106153707}, {\"xValue\": -0.0043759827178844884}, {\"xValue\": -0.00375084232961527}, {\"xValue\": -0.0031257019413460513}, {\"xValue\": -0.0025005615530768327}, {\"xValue\": -0.0018754211648076141}, {\"xValue\": -0.0012502807765383955}, {\"xValue\": -0.000625140388269177}, {\"xValue\": 4.163336342344337e-17}, {\"xValue\": 0.0006251403882692602}, {\"xValue\": 0.0012502807765384788}, {\"xValue\": 0.0018754211648076974}, {\"xValue\": 0.002500561553076916}, {\"xValue\": 0.0031257019413461345}, {\"xValue\": 0.003750842329615353}, {\"xValue\": 0.004375982717884572}, {\"xValue\": 0.00500112310615379}, {\"xValue\": 0.005626263494423009}, {\"xValue\": 0.0062514038826922275}, {\"xValue\": 0.006876544270961446}, {\"xValue\": 0.007501684659230665}, {\"xValue\": 0.008126825047499883}, {\"xValue\": 0.008751965435769102}, {\"xValue\": 0.00937710582403832}, {\"xValue\": 0.010002246212307539}, {\"xValue\": 0.010627386600576758}, {\"xValue\": 0.011252526988845976}, {\"xValue\": 0.011877667377115195}, {\"xValue\": 0.012502807765384413}, {\"xValue\": 0.013127948153653632}, {\"xValue\": 0.01375308854192285}, {\"xValue\": 0.014378228930192069}, {\"xValue\": 0.015003369318461288}, {\"xValue\": 0.015628509706730506}, {\"xValue\": 0.016253650094999725}, {\"xValue\": 0.016878790483268943}, {\"xValue\": 0.017503930871538162}, {\"xValue\": 0.01812907125980738}, {\"xValue\": 0.0187542116480766}, {\"xValue\": 0.019379352036345818}, {\"xValue\": 0.020004492424615036}, {\"xValue\": 0.020629632812884255}, {\"xValue\": 0.021254773201153473}, {\"xValue\": 0.021879913589422692}, {\"xValue\": 0.02250505397769191}, {\"xValue\": 0.02313019436596113}, {\"xValue\": 0.023755334754230348}, {\"xValue\": 0.024380475142499566}, {\"xValue\": 0.025005615530768785}, {\"xValue\": 0.025630755919038004}, {\"xValue\": 0.026255896307307222}, {\"xValue\": 0.02688103669557644}, {\"xValue\": 0.02750617708384566}, {\"xValue\": 0.028131317472114878}, {\"xValue\": 0.028756457860384096}, {\"xValue\": 0.029381598248653315}, {\"xValue\": 0.030006738636922534}, {\"xValue\": 0.030631879025191752}, {\"xValue\": 0.03125701941346097}, {\"xValue\": 0.03188215980173019}, {\"xValue\": 0.03250730018999941}, {\"xValue\": 0.03313244057826863}, {\"xValue\": 0.033757580966537845}, {\"xValue\": 0.034382721354807064}, {\"xValue\": 0.03500786174307628}, {\"xValue\": 0.0356330021313455}, {\"xValue\": 0.03625814251961472}, {\"xValue\": 0.03688328290788394}, {\"xValue\": 0.03750842329615316}, {\"xValue\": 0.038133563684422375}, {\"xValue\": 0.038758704072691594}, {\"xValue\": 0.03938384446096081}, {\"xValue\": 0.04000898484923003}, {\"xValue\": 0.04063412523749925}, {\"xValue\": 0.04125926562576847}, {\"xValue\": 0.04188440601403769}, {\"xValue\": 0.042509546402306905}, {\"xValue\": 0.043134686790576124}, {\"xValue\": 0.04375982717884534}, {\"xValue\": 0.04438496756711456}, {\"xValue\": 0.04501010795538378}, {\"xValue\": 0.045635248343653}, {\"xValue\": 0.04626038873192222}, {\"xValue\": 0.046885529120191435}, {\"xValue\": 0.047510669508460654}, {\"xValue\": 0.04813580989672987}, {\"xValue\": 0.04876095028499909}, {\"xValue\": 0.04938609067326831}, {\"xValue\": 0.05001123106153753}, {\"xValue\": 0.05063637144980675}, {\"xValue\": 0.051261511838075965}, {\"xValue\": 0.051886652226345184}, {\"xValue\": 0.0525117926146144}, {\"xValue\": 0.05313693300288362}, {\"xValue\": 0.05376207339115284}, {\"xValue\": 0.05438721377942206}, {\"xValue\": 0.05501235416769128}, {\"xValue\": 0.055637494555960496}, {\"xValue\": 0.056262634944229714}, {\"xValue\": 0.05688777533249893}, {\"xValue\": 0.05751291572076815}, {\"xValue\": 0.05813805610903737}, {\"xValue\": 0.05876319649730659}, {\"xValue\": 0.05938833688557581}, {\"xValue\": 0.060013477273845026}, {\"xValue\": 0.060638617662114244}, {\"xValue\": 0.06126375805038346}, {\"xValue\": 0.06188889843865268}], \"data-c7bc3ae69e1253e8223f70a11d04b99d\": [{\"y\": 0, \"x\": -0.5, \"x2\": 0.5}], \"data-b2155f4b4ed482476c9a0aede197a7d8\": [{\"name\": \"duration_in_month\", \"value\": 0.04886647078040358}, {\"name\": \"credit_amount\", \"value\": 0.003874726856461831}, {\"name\": \"installment_as_income_perc\", \"value\": 0.025932627140780345}, {\"name\": \"present_res_since\", \"value\": 0.0009822424737227797}, {\"name\": \"age\", \"value\": 0.019773035499122016}, {\"name\": \"credits_this_bank\", \"value\": -0.00455620361139643}, {\"name\": \"people_under_maintenance\", \"value\": 0.0006692953526383462}, {\"name\": \"account_check_status=0 <= ... < 200 DM\", \"value\": 0.02306594726021734}, {\"name\": \"account_check_status=< 0 DM\", \"value\": -0.029959846629296256}, {\"name\": \"account_check_status=>= 200 DM / salary assignments for at least 1 year\", \"value\": 0.0021588621858378418}, {\"name\": \"account_check_status=no checking account\", \"value\": -0.032164284425735656}, {\"name\": \"credit_history=all credits at this bank paid back duly\", \"value\": 0.004089566821459752}, {\"name\": \"credit_history=critical account/ other credits existing (not at this bank)\", \"value\": 0.06251403882692182}, {\"name\": \"credit_history=delay in paying off in the past\", \"value\": 0.0009677382086591449}, {\"name\": \"credit_history=existing credits paid back duly till now\", \"value\": 0.007905261600801973}, {\"name\": \"credit_history=no credits taken/ all credits paid back duly\", \"value\": 0.00172965796443243}, {\"name\": \"purpose=(vacation - does not exist?)\", \"value\": 0.005907660303775592}, {\"name\": \"purpose=business\", \"value\": 0.00014898051721088764}, {\"name\": \"purpose=car (new)\", \"value\": 0.01628380344385213}, {\"name\": \"purpose=car (used)\", \"value\": -0.0009840481716187099}, {\"name\": \"purpose=domestic appliances\", \"value\": -0.0007159187129418906}, {\"name\": \"purpose=education\", \"value\": -0.00018129542819978687}, {\"name\": \"purpose=furniture/equipment\", \"value\": -0.00018927555346079085}, {\"name\": \"purpose=radio/television\", \"value\": -0.006981709303052777}, {\"name\": \"purpose=repairs\", \"value\": 0.0014312635222939521}, {\"name\": \"purpose=retraining\", \"value\": -4.493079189900231e-05}, {\"name\": \"savings=.. >= 1000 DM \", \"value\": -0.0006255802011756327}, {\"name\": \"savings=... < 100 DM\", \"value\": -0.0026810630265409717}, {\"name\": \"savings=100 <= ... < 500 DM\", \"value\": 0.003295929052663818}, {\"name\": \"savings=500 <= ... < 1000 DM \", \"value\": -0.000272225213720843}, {\"name\": \"savings=unknown/ no savings account\", \"value\": -0.0048156467766686615}, {\"name\": \"present_emp_since=.. >= 7 years\", \"value\": 0.013006831833536315}, {\"name\": \"present_emp_since=... < 1 year \", \"value\": 0.02199332784591027}, {\"name\": \"present_emp_since=1 <= ... < 4 years\", \"value\": 0.009504383130390995}, {\"name\": \"present_emp_since=4 <= ... < 7 years\", \"value\": 0.0021376335605140014}, {\"name\": \"present_emp_since=unemployed\", \"value\": 0.003481231345478746}, {\"name\": \"personal_status_sex=female : divorced/separated/married\", \"value\": 0.001980788470730072}, {\"name\": \"personal_status_sex=male : divorced/separated\", \"value\": 0.0036789066270687203}, {\"name\": \"personal_status_sex=male : married/widowed\", \"value\": 0.0009453487226778852}, {\"name\": \"personal_status_sex=male : single\", \"value\": 0.003851620062852025}, {\"name\": \"other_debtors=co-applicant\", \"value\": 0.001679176617086112}, {\"name\": \"other_debtors=guarantor\", \"value\": -0.0018760688273264958}, {\"name\": \"other_debtors=none\", \"value\": -0.0010890601064793362}, {\"name\": \"property=if not A121 : building society savings agreement/ life insurance\", \"value\": 0.02765463703220517}, {\"name\": \"property=if not A121/A122 : car or other, not in attribute 6\", \"value\": 0.0014261114543617404}, {\"name\": \"property=real estate\", \"value\": -0.01514769325279542}, {\"name\": \"property=unknown / no property\", \"value\": 0.011159523197399681}, {\"name\": \"other_installment_plans=bank\", \"value\": 0.009693415993595812}, {\"name\": \"other_installment_plans=none\", \"value\": 0.017442758149766095}, {\"name\": \"other_installment_plans=stores\", \"value\": 0.0005770298701573179}, {\"name\": \"housing=for free\", \"value\": -0.00018224015963070177}, {\"name\": \"housing=own\", \"value\": 0.017836394252186742}, {\"name\": \"housing=rent\", \"value\": 0.00491491217995444}, {\"name\": \"job=management/ self-employed/ highly qualified employee/ officer\", \"value\": 0.006953377452999041}, {\"name\": \"job=skilled employee / official\", \"value\": 0.0007983131168006281}, {\"name\": \"job=unemployed/ unskilled - non-resident\", \"value\": 0.0016727867317157493}, {\"name\": \"job=unskilled - resident\", \"value\": -0.001704742032486358}, {\"name\": \"telephone=none\", \"value\": -0.0020057903075457787}, {\"name\": \"telephone=yes, registered under the customers name \", \"value\": 0.014619905782222688}, {\"name\": \"foreign_worker=no\", \"value\": -0.0006748047543977267}, {\"name\": \"foreign_worker=yes\", \"value\": 3.262033119816191e-05}], \"data-9c00aa9dc2b1c1a0b4bf9b34ead12925\": [{\"x\": 0}]}}, {\"mode\": \"vega-lite\"});\n",
       "</script>"
      ],
      "text/plain": [
       "alt.VConcatChart(...)"
      ]
     },
     "metadata": {},
     "output_type": "display_data"
    }
   ],
   "execution_count": 11
  },
  {
   "cell_type": "markdown",
   "id": "8705b547d5342778",
   "metadata": {},
   "source": [
    "### LORE explainer"
   ]
  },
  {
   "cell_type": "code",
   "id": "1eb82577f6552b8",
   "metadata": {
    "ExecuteTime": {
     "end_time": "2024-07-04T16:31:20.000187Z",
     "start_time": "2024-07-04T16:30:45.350303Z"
    }
   },
   "source": [
    "explainer = LegacyLoreTabularExplainer(bbox)\n",
    "config = {'neigh_type':'rndgen', 'size':1000, 'ocr':0.1, 'ngen':10}\n",
    "explainer.fit(df, class_field, config)\n",
    "exp = explainer.explain(inst)\n",
    "print(exp)"
   ],
   "outputs": [
    {
     "name": "stdout",
     "output_type": "stream",
     "text": [
      "<xailib.explainers.lore_explainer.LoreTabularExplanation object at 0x7a952c3c4ee0>\n"
     ]
    }
   ],
   "execution_count": 12
  },
  {
   "cell_type": "code",
   "id": "8ae099cee9b0eb3e",
   "metadata": {
    "ExecuteTime": {
     "end_time": "2024-07-04T16:31:20.008491Z",
     "start_time": "2024-07-04T16:31:20.001250Z"
    }
   },
   "source": [
    "exp.plotRules()"
   ],
   "outputs": [
    {
     "data": {
      "text/plain": [
       "<IPython.core.display.HTML object>"
      ],
      "text/html": [
       "\n",
       "                <style>\n",
       "                .red {\n",
       "                background-color:firebrick;\n",
       "                padding:3px 5px 3px 5px;\n",
       "                border-radius:5px;\n",
       "\n",
       "                color:white;\n",
       "                }\n",
       "                .rules{\n",
       "                    margin-top:10px;\n",
       "                    font-weight: 400;\n",
       "                }\n",
       "                .rule{\n",
       "                padding:5px 20px 5px 20px;\n",
       "                border-radius:5px;\n",
       "                margin-right:5px;\n",
       "                font-size:12px;\n",
       "                line-height:20px;\n",
       "                display: block;\n",
       "                margin-bottom: 10px;\n",
       "                width: fit-content;\n",
       "                \n",
       "                color:white;\n",
       "                background-color:firebrick;\n",
       "                opacity:0.8;\n",
       "                }\n",
       "                </style>\n",
       "                "
      ]
     },
     "metadata": {},
     "output_type": "display_data"
    },
    {
     "data": {
      "text/plain": [
       "<IPython.core.display.HTML object>"
      ],
      "text/html": [
       "\n",
       "            <h3>Why the predicted value for class <span class='red'>default</span> is <span class='red'>0</span> ?</h3>\n",
       "            "
      ]
     },
     "metadata": {},
     "output_type": "display_data"
    },
    {
     "data": {
      "text/plain": [
       "<IPython.core.display.HTML object>"
      ],
      "text/html": [
       "\n",
       "            <p>Because all the following conditions happen:</p>\n",
       "            "
      ]
     },
     "metadata": {},
     "output_type": "display_data"
    },
    {
     "data": {
      "text/plain": [
       "<IPython.core.display.HTML object>"
      ],
      "text/html": [
       "<p class='rules'><span class='rule'>account check status=< 0 DM <strong>></strong> 0.51</span><span class='rule'>credit history=critical account/ other credits existing (not at this bank) <strong>></strong> 0.39</span><span class='rule'>other debtors=co-applicant <strong>></strong> -0.12</span><span class='rule'>credit amount <strong><=</strong> 8898.63</span><span class='rule'>present res since <strong><=</strong> 4.68</span><span class='rule'>purpose=domestic appliances <strong>></strong> -0.50</span><span class='rule'>property=if not A121/A122 : car or other, not in attribute 6 <strong><=</strong> 0.91</span></p>"
      ]
     },
     "metadata": {},
     "output_type": "display_data"
    }
   ],
   "execution_count": 13
  },
  {
   "cell_type": "code",
   "id": "c221700c89e911b9",
   "metadata": {
    "ExecuteTime": {
     "end_time": "2024-07-04T16:31:20.019537Z",
     "start_time": "2024-07-04T16:31:20.010053Z"
    }
   },
   "source": [
    "exp.plotCounterfactualRules()"
   ],
   "outputs": [
    {
     "data": {
      "text/plain": [
       "<IPython.core.display.HTML object>"
      ],
      "text/html": [
       "\n",
       "                <style>\n",
       "                .red {\n",
       "                background-color:firebrick;\n",
       "                padding:3px 5px 3px 5px;\n",
       "                border-radius:5px;\n",
       "                color:white;\n",
       "                }\n",
       "                .crules{\n",
       "                    margin-top:10px;\n",
       "                    font-weight: 400;\n",
       "                }\n",
       "                .crule{            \n",
       "                padding:5px 20px 5px 20px;\n",
       "                border-radius:5px;\n",
       "                margin-right:5px;\n",
       "                font-size:12px;\n",
       "                line-height:20px;\n",
       "                display: block;\n",
       "                margin-bottom: 10px;\n",
       "                width: fit-content;\n",
       "                \n",
       "                color:#202020;\n",
       "                background-color:gold;\n",
       "                }\n",
       "                </style>\n",
       "                "
      ]
     },
     "metadata": {},
     "output_type": "display_data"
    },
    {
     "data": {
      "text/plain": [
       "<IPython.core.display.HTML object>"
      ],
      "text/html": [
       "\n",
       "            <h3>The predicted value for class <span class='red'>default</span> is <span class='red'>0</span>.</h3>\n",
       "            <h3>It would have been:</h3>\n",
       "            "
      ]
     },
     "metadata": {},
     "output_type": "display_data"
    },
    {
     "data": {
      "text/plain": [
       "<IPython.core.display.HTML object>"
      ],
      "text/html": [
       "\n",
       "                <div class='crules'>\n",
       "                    <div>\n",
       "                        <h4><span class='red'>1</span> if the following condition holds</h4>\n",
       "                    </br><span class='crule'>account check status=< 0 DM > 0.51</span><span class='crule'>credit history=critical account/ other credits existing (not at this bank) <= 0.39</span><span class='crule'>account check status=no checking account <= 0.56</span><span class='crule'>other installment plans=none > 0.32</span><span class='crule'>duration in month > 26.66</span><span class='crule'>purpose=(vacation - does not exist?) > 0.00</span><span class='crule'>age > 35.41</span>\n",
       "                    </div>\n",
       "                </div>\n",
       "            "
      ]
     },
     "metadata": {},
     "output_type": "display_data"
    }
   ],
   "execution_count": 14
  },
  {
   "cell_type": "markdown",
   "id": "abd5fef0f31ee75e",
   "metadata": {},
   "source": [
    "### LIME explainer"
   ]
  },
  {
   "cell_type": "code",
   "id": "f7da7a9c1243a97d",
   "metadata": {
    "ExecuteTime": {
     "end_time": "2024-07-04T16:31:20.138345Z",
     "start_time": "2024-07-04T16:31:20.023063Z"
    }
   },
   "source": [
    "limeExplainer = LimeXAITabularExplainer(bbox)\n",
    "config = {'feature_selection': 'lasso_path'}\n",
    "limeExplainer.fit(df, class_field, config)\n",
    "lime_exp = limeExplainer.explain(inst)\n",
    "print(lime_exp.exp.as_list())"
   ],
   "outputs": [
    {
     "name": "stdout",
     "output_type": "stream",
     "text": [
      "[('account_check_status=no checking account', -0.031955012192442574), ('duration_in_month', 0.030839782539954508), ('account_check_status=< 0 DM', 0.027467865053919967), ('credit_history=critical account/ other credits existing (not at this bank)', -0.026434593932261205), ('other_installment_plans=bank', 0.02294961869095158), ('age', -0.022178867490814862), ('property=real estate', -0.020171926658649243), ('savings=... < 100 DM', 0.01793407873368487), ('installment_as_income_perc', 0.015581579840944696), ('property=unknown / no property', 0.015253540546335109)]\n"
     ]
    }
   ],
   "execution_count": 15
  },
  {
   "cell_type": "code",
   "id": "3243fe35bf0568a3",
   "metadata": {
    "ExecuteTime": {
     "end_time": "2024-07-04T16:31:20.310289Z",
     "start_time": "2024-07-04T16:31:20.139590Z"
    }
   },
   "source": [
    "# limeExplainer.plot_lime_values(lime_exp.as_list(), 5, 10)\n",
    "lime_exp.plot_features_importance()"
   ],
   "outputs": [
    {
     "data": {
      "text/plain": [
       "<IPython.core.display.HTML object>"
      ],
      "text/html": [
       "\n",
       "        <style>\n",
       "        .vega-bind {\n",
       "          position: absolute;\n",
       "          left: 0px;\n",
       "          top: 0px;\n",
       "          background-color:#eee;\n",
       "          padding:10px;\n",
       "          font-size:10px;\n",
       "        }\n",
       "        .chart-wrapper{\n",
       "          padding-top: 70px;\n",
       "        }\n",
       "\n",
       "        </style>\n",
       "        "
      ]
     },
     "metadata": {},
     "output_type": "display_data"
    },
    {
     "data": {
      "text/html": [
       "\n",
       "<div id=\"altair-viz-5a33597d29624b10bc09d243a8c60609\"></div>\n",
       "<script type=\"text/javascript\">\n",
       "  var VEGA_DEBUG = (typeof VEGA_DEBUG == \"undefined\") ? {} : VEGA_DEBUG;\n",
       "  (function(spec, embedOpt){\n",
       "    let outputDiv = document.currentScript.previousElementSibling;\n",
       "    if (outputDiv.id !== \"altair-viz-5a33597d29624b10bc09d243a8c60609\") {\n",
       "      outputDiv = document.getElementById(\"altair-viz-5a33597d29624b10bc09d243a8c60609\");\n",
       "    }\n",
       "    const paths = {\n",
       "      \"vega\": \"https://cdn.jsdelivr.net/npm//vega@5?noext\",\n",
       "      \"vega-lib\": \"https://cdn.jsdelivr.net/npm//vega-lib?noext\",\n",
       "      \"vega-lite\": \"https://cdn.jsdelivr.net/npm//vega-lite@4.17.0?noext\",\n",
       "      \"vega-embed\": \"https://cdn.jsdelivr.net/npm//vega-embed@6?noext\",\n",
       "    };\n",
       "\n",
       "    function maybeLoadScript(lib, version) {\n",
       "      var key = `${lib.replace(\"-\", \"\")}_version`;\n",
       "      return (VEGA_DEBUG[key] == version) ?\n",
       "        Promise.resolve(paths[lib]) :\n",
       "        new Promise(function(resolve, reject) {\n",
       "          var s = document.createElement('script');\n",
       "          document.getElementsByTagName(\"head\")[0].appendChild(s);\n",
       "          s.async = true;\n",
       "          s.onload = () => {\n",
       "            VEGA_DEBUG[key] = version;\n",
       "            return resolve(paths[lib]);\n",
       "          };\n",
       "          s.onerror = () => reject(`Error loading script: ${paths[lib]}`);\n",
       "          s.src = paths[lib];\n",
       "        });\n",
       "    }\n",
       "\n",
       "    function showError(err) {\n",
       "      outputDiv.innerHTML = `<div class=\"error\" style=\"color:red;\">${err}</div>`;\n",
       "      throw err;\n",
       "    }\n",
       "\n",
       "    function displayChart(vegaEmbed) {\n",
       "      vegaEmbed(outputDiv, spec, embedOpt)\n",
       "        .catch(err => showError(`Javascript Error: ${err.message}<br>This usually means there's a typo in your chart specification. See the javascript console for the full traceback.`));\n",
       "    }\n",
       "\n",
       "    if(typeof define === \"function\" && define.amd) {\n",
       "      requirejs.config({paths});\n",
       "      require([\"vega-embed\"], displayChart, err => showError(`Error loading script: ${err.message}`));\n",
       "    } else {\n",
       "      maybeLoadScript(\"vega\", \"5\")\n",
       "        .then(() => maybeLoadScript(\"vega-lite\", \"4.17.0\"))\n",
       "        .then(() => maybeLoadScript(\"vega-embed\", \"6\"))\n",
       "        .catch(showError)\n",
       "        .then(() => displayChart(vegaEmbed));\n",
       "    }\n",
       "  })({\"config\": {\"view\": {\"continuousWidth\": 400, \"continuousHeight\": 300}, \"axis\": {\"labelFontSize\": 10, \"labelLimit\": 225.0}}, \"vconcat\": [{\"layer\": [{\"data\": {\"name\": \"data-3dc5498ca33da3394a443949aa124d74\"}, \"mark\": {\"type\": \"rule\", \"strokeWidth\": 3}, \"encoding\": {\"color\": {\"field\": \"xValue\", \"legend\": null, \"scale\": {\"domain\": [-0.031955012192442574, 0.031955012192442574], \"domainMid\": 0, \"scheme\": \"redyellowblue\"}, \"type\": \"quantitative\"}, \"x\": {\"axis\": {\"orient\": \"top\", \"titleFontSize\": 10}, \"field\": \"xValue\", \"title\": \"Select a cutoff range for Feature Importance values \", \"type\": \"quantitative\"}}}, {\"data\": {\"name\": \"data-c7bc3ae69e1253e8223f70a11d04b99d\"}, \"mark\": {\"type\": \"rect\", \"color\": \"black\", \"height\": 20, \"opacity\": 0.4, \"tooltip\": true}, \"encoding\": {\"x\": {\"field\": \"x_min\", \"type\": \"quantitative\"}, \"x2\": {\"field\": \"x_max\"}, \"y\": {\"axis\": null, \"field\": \"y\", \"type\": \"quantitative\"}}, \"selection\": {\"Cutter\": {\"type\": \"single\", \"fields\": [\"cutoff\"], \"bind\": {\"input\": \"range\", \"max\": 0.031955012192442574, \"min\": 0, \"name\": \"Importance cutoff value (\\u00b1) \", \"step\": 0.0006391002438488515}, \"init\": {\"cutoff\": 0.0}}}, \"transform\": [{\"calculate\": \"(-Cutter.cutoff)\", \"as\": \"x_min\"}, {\"calculate\": \"Cutter.cutoff\", \"as\": \"x_max\"}]}], \"height\": 20}, {\"layer\": [{\"data\": {\"name\": \"data-ee26718d85b959a2fde507500873f632\"}, \"mark\": \"bar\", \"encoding\": {\"color\": {\"field\": \"value\", \"legend\": null, \"scale\": {\"domain\": [-0.031955012192442574, 0.031955012192442574], \"domainMid\": 0, \"scheme\": \"blueorange\"}, \"type\": \"quantitative\"}, \"tooltip\": [{\"field\": \"name\", \"title\": \"Feature\", \"type\": \"nominal\"}, {\"field\": \"value\", \"title\": \"Importance\", \"type\": \"quantitative\"}], \"x\": {\"field\": \"value\", \"title\": null, \"type\": \"quantitative\"}, \"y\": {\"field\": \"name\", \"sort\": {\"field\": \"value\", \"op\": \"mean\", \"order\": \"descending\"}, \"title\": null, \"type\": \"nominal\"}}, \"selection\": {\"Cutter\": {\"type\": \"single\", \"fields\": [\"cutoff\"], \"bind\": {\"input\": \"range\", \"max\": 0.031955012192442574, \"min\": 0, \"name\": \"Importance cutoff value (\\u00b1) \", \"step\": 0.0006391002438488515}, \"init\": {\"cutoff\": 0.0}}}, \"transform\": [{\"filter\": \"((datum.value > Cutter.cutoff) || (datum.value < (-Cutter.cutoff)))\"}]}, {\"data\": {\"name\": \"data-9c00aa9dc2b1c1a0b4bf9b34ead12925\"}, \"mark\": \"rule\", \"encoding\": {\"x\": {\"field\": \"x\", \"type\": \"quantitative\"}}}]}], \"padding\": 10, \"$schema\": \"https://vega.github.io/schema/vega-lite/v4.17.0.json\", \"datasets\": {\"data-3dc5498ca33da3394a443949aa124d74\": [{\"xValue\": -0.031955012192442574}, {\"xValue\": -0.03163546207051815}, {\"xValue\": -0.031315911948593726}, {\"xValue\": -0.030996361826669303}, {\"xValue\": -0.03067681170474488}, {\"xValue\": -0.030357261582820455}, {\"xValue\": -0.03003771146089603}, {\"xValue\": -0.029718161338971608}, {\"xValue\": -0.029398611217047184}, {\"xValue\": -0.02907906109512276}, {\"xValue\": -0.028759510973198336}, {\"xValue\": -0.028439960851273913}, {\"xValue\": -0.02812041072934949}, {\"xValue\": -0.027800860607425065}, {\"xValue\": -0.02748131048550064}, {\"xValue\": -0.027161760363576218}, {\"xValue\": -0.026842210241651794}, {\"xValue\": -0.02652266011972737}, {\"xValue\": -0.026203109997802947}, {\"xValue\": -0.025883559875878523}, {\"xValue\": -0.0255640097539541}, {\"xValue\": -0.025244459632029675}, {\"xValue\": -0.024924909510105252}, {\"xValue\": -0.024605359388180828}, {\"xValue\": -0.024285809266256404}, {\"xValue\": -0.02396625914433198}, {\"xValue\": -0.023646709022407557}, {\"xValue\": -0.023327158900483133}, {\"xValue\": -0.02300760877855871}, {\"xValue\": -0.022688058656634286}, {\"xValue\": -0.022368508534709862}, {\"xValue\": -0.022048958412785438}, {\"xValue\": -0.021729408290861014}, {\"xValue\": -0.02140985816893659}, {\"xValue\": -0.021090308047012167}, {\"xValue\": -0.020770757925087743}, {\"xValue\": -0.02045120780316332}, {\"xValue\": -0.020131657681238896}, {\"xValue\": -0.019812107559314472}, {\"xValue\": -0.01949255743739005}, {\"xValue\": -0.019173007315465625}, {\"xValue\": -0.0188534571935412}, {\"xValue\": -0.018533907071616777}, {\"xValue\": -0.018214356949692354}, {\"xValue\": -0.01789480682776793}, {\"xValue\": -0.017575256705843506}, {\"xValue\": -0.017255706583919082}, {\"xValue\": -0.01693615646199466}, {\"xValue\": -0.016616606340070235}, {\"xValue\": -0.01629705621814581}, {\"xValue\": -0.015977506096221387}, {\"xValue\": -0.015657955974296964}, {\"xValue\": -0.01533840585237254}, {\"xValue\": -0.015018855730448116}, {\"xValue\": -0.014699305608523693}, {\"xValue\": -0.014379755486599269}, {\"xValue\": -0.014060205364674845}, {\"xValue\": -0.013740655242750421}, {\"xValue\": -0.013421105120825998}, {\"xValue\": -0.013101554998901574}, {\"xValue\": -0.01278200487697715}, {\"xValue\": -0.012462454755052726}, {\"xValue\": -0.012142904633128303}, {\"xValue\": -0.011823354511203879}, {\"xValue\": -0.011503804389279455}, {\"xValue\": -0.011184254267355032}, {\"xValue\": -0.010864704145430608}, {\"xValue\": -0.010545154023506184}, {\"xValue\": -0.01022560390158176}, {\"xValue\": -0.009906053779657337}, {\"xValue\": -0.009586503657732913}, {\"xValue\": -0.00926695353580849}, {\"xValue\": -0.008947403413884066}, {\"xValue\": -0.008627853291959642}, {\"xValue\": -0.008308303170035218}, {\"xValue\": -0.007988753048110794}, {\"xValue\": -0.007669202926186371}, {\"xValue\": -0.007349652804261947}, {\"xValue\": -0.007030102682337523}, {\"xValue\": -0.0067105525604130994}, {\"xValue\": -0.006391002438488676}, {\"xValue\": -0.006071452316564252}, {\"xValue\": -0.005751902194639828}, {\"xValue\": -0.0054323520727154045}, {\"xValue\": -0.005112801950790981}, {\"xValue\": -0.004793251828866557}, {\"xValue\": -0.004473701706942133}, {\"xValue\": -0.00415415158501771}, {\"xValue\": -0.003834601463093286}, {\"xValue\": -0.003515051341168862}, {\"xValue\": -0.0031955012192444385}, {\"xValue\": -0.0028759510973200147}, {\"xValue\": -0.002556400975395591}, {\"xValue\": -0.0022368508534711673}, {\"xValue\": -0.0019173007315467436}, {\"xValue\": -0.0015977506096223199}, {\"xValue\": -0.0012782004876978961}, {\"xValue\": -0.0009586503657734724}, {\"xValue\": -0.0006391002438490487}, {\"xValue\": -0.00031955012192462495}, {\"xValue\": -2.0122792321330962e-16}, {\"xValue\": 0.0003195501219242225}, {\"xValue\": 0.0006391002438486462}, {\"xValue\": 0.0009586503657730699}, {\"xValue\": 0.0012782004876974937}, {\"xValue\": 0.0015977506096219174}, {\"xValue\": 0.0019173007315463411}, {\"xValue\": 0.002236850853470765}, {\"xValue\": 0.0025564009753951886}, {\"xValue\": 0.0028759510973196123}, {\"xValue\": 0.003195501219244036}, {\"xValue\": 0.0035150513411684597}, {\"xValue\": 0.0038346014630928835}, {\"xValue\": 0.004154151585017307}, {\"xValue\": 0.004473701706941731}, {\"xValue\": 0.004793251828866155}, {\"xValue\": 0.005112801950790578}, {\"xValue\": 0.005432352072715002}, {\"xValue\": 0.005751902194639426}, {\"xValue\": 0.0060714523165638495}, {\"xValue\": 0.006391002438488273}, {\"xValue\": 0.006710552560412697}, {\"xValue\": 0.007030102682337121}, {\"xValue\": 0.0073496528042615444}, {\"xValue\": 0.007669202926185968}, {\"xValue\": 0.007988753048110392}, {\"xValue\": 0.008308303170034816}, {\"xValue\": 0.00862785329195924}, {\"xValue\": 0.008947403413883663}, {\"xValue\": 0.009266953535808087}, {\"xValue\": 0.00958650365773251}, {\"xValue\": 0.009906053779656934}, {\"xValue\": 0.010225603901581358}, {\"xValue\": 0.010545154023505782}, {\"xValue\": 0.010864704145430205}, {\"xValue\": 0.011184254267354629}, {\"xValue\": 0.011503804389279053}, {\"xValue\": 0.011823354511203477}, {\"xValue\": 0.0121429046331279}, {\"xValue\": 0.012462454755052324}, {\"xValue\": 0.012782004876976748}, {\"xValue\": 0.013101554998901171}, {\"xValue\": 0.013421105120825595}, {\"xValue\": 0.013740655242750019}, {\"xValue\": 0.014060205364674443}, {\"xValue\": 0.014379755486598866}, {\"xValue\": 0.01469930560852329}, {\"xValue\": 0.015018855730447714}, {\"xValue\": 0.015338405852372138}, {\"xValue\": 0.01565795597429656}, {\"xValue\": 0.015977506096220985}, {\"xValue\": 0.01629705621814541}, {\"xValue\": 0.016616606340069832}, {\"xValue\": 0.016936156461994256}, {\"xValue\": 0.01725570658391868}, {\"xValue\": 0.017575256705843104}, {\"xValue\": 0.017894806827767527}, {\"xValue\": 0.01821435694969195}, {\"xValue\": 0.018533907071616375}, {\"xValue\": 0.0188534571935408}, {\"xValue\": 0.019173007315465222}, {\"xValue\": 0.019492557437389646}, {\"xValue\": 0.01981210755931407}, {\"xValue\": 0.020131657681238493}, {\"xValue\": 0.020451207803162917}, {\"xValue\": 0.02077075792508734}, {\"xValue\": 0.021090308047011765}, {\"xValue\": 0.02140985816893619}, {\"xValue\": 0.021729408290860612}, {\"xValue\": 0.022048958412785036}, {\"xValue\": 0.02236850853470946}, {\"xValue\": 0.022688058656633883}, {\"xValue\": 0.023007608778558307}, {\"xValue\": 0.02332715890048273}, {\"xValue\": 0.023646709022407154}, {\"xValue\": 0.023966259144331578}, {\"xValue\": 0.024285809266256002}, {\"xValue\": 0.024605359388180426}, {\"xValue\": 0.02492490951010485}, {\"xValue\": 0.025244459632029273}, {\"xValue\": 0.025564009753953697}, {\"xValue\": 0.02588355987587812}, {\"xValue\": 0.026203109997802544}, {\"xValue\": 0.026522660119726968}, {\"xValue\": 0.02684221024165139}, {\"xValue\": 0.027161760363575815}, {\"xValue\": 0.02748131048550024}, {\"xValue\": 0.027800860607424663}, {\"xValue\": 0.028120410729349087}, {\"xValue\": 0.02843996085127351}, {\"xValue\": 0.028759510973197934}, {\"xValue\": 0.029079061095122358}, {\"xValue\": 0.02939861121704678}, {\"xValue\": 0.029718161338971205}, {\"xValue\": 0.03003771146089563}, {\"xValue\": 0.030357261582820053}, {\"xValue\": 0.030676811704744476}, {\"xValue\": 0.030996361826668893}, {\"xValue\": 0.031315911948593324}, {\"xValue\": 0.031635462070517754}], \"data-c7bc3ae69e1253e8223f70a11d04b99d\": [{\"y\": 0, \"x\": -0.5, \"x2\": 0.5}], \"data-ee26718d85b959a2fde507500873f632\": [{\"name\": \"account_check_status=no checking account\", \"value\": -0.031955012192442574}, {\"name\": \"duration_in_month\", \"value\": 0.030839782539954508}, {\"name\": \"account_check_status=< 0 DM\", \"value\": 0.027467865053919967}, {\"name\": \"credit_history=critical account/ other credits existing (not at this bank)\", \"value\": -0.026434593932261205}, {\"name\": \"other_installment_plans=bank\", \"value\": 0.02294961869095158}, {\"name\": \"age\", \"value\": -0.022178867490814862}, {\"name\": \"property=real estate\", \"value\": -0.020171926658649243}, {\"name\": \"savings=... < 100 DM\", \"value\": 0.01793407873368487}, {\"name\": \"installment_as_income_perc\", \"value\": 0.015581579840944696}, {\"name\": \"property=unknown / no property\", \"value\": 0.015253540546335109}], \"data-9c00aa9dc2b1c1a0b4bf9b34ead12925\": [{\"x\": 0}]}}, {\"mode\": \"vega-lite\"});\n",
       "</script>"
      ],
      "text/plain": [
       "alt.VConcatChart(...)"
      ]
     },
     "metadata": {},
     "output_type": "display_data"
    }
   ],
   "execution_count": 16
  },
  {
   "cell_type": "markdown",
   "id": "75f05ad8605bd318",
   "metadata": {},
   "source": [
    "## Learning a different model\n",
    "\n",
    "### Learning a Logistic Regressor\n",
    "\n",
    "We train a Logistic Regression by using the ```sklearn``` library. We transform the dataset by using a ```Scaler``` to normalize all the attributes.\n"
   ]
  },
  {
   "cell_type": "code",
   "id": "f21876c316dad1",
   "metadata": {
    "ExecuteTime": {
     "end_time": "2024-07-04T16:31:20.346720Z",
     "start_time": "2024-07-04T16:31:20.312693Z"
    }
   },
   "source": [
    "scaler = preprocessing.StandardScaler().fit(X_train)\n",
    "X_scaled = scaler.transform(X_train)\n",
    "\n",
    "bb = LogisticRegression(C=1, penalty='l2')\n",
    "bb.fit(X_scaled, Y_train.values)\n",
    "# pass the model to the wrapper to use it in the XAI lib\n",
    "bbox = sklearn_classifier_wrapper(bb)"
   ],
   "outputs": [],
   "execution_count": 17
  },
  {
   "cell_type": "code",
   "id": "3e342effa89122b8",
   "metadata": {
    "ExecuteTime": {
     "end_time": "2024-07-04T16:31:20.361571Z",
     "start_time": "2024-07-04T16:31:20.347887Z"
    }
   },
   "source": [
    "# select a record to explain\n",
    "inst = X_scaled[182]\n",
    "print('Instance ',inst)\n",
    "print('Predicted class ',bb.predict(inst.reshape(1, -1)))"
   ],
   "outputs": [
    {
     "name": "stdout",
     "output_type": "stream",
     "text": [
      "Instance  [ 2.27797454  3.35504085  0.94540357  1.07634233  0.04854891 -0.72456474\n",
      " -0.43411405  1.65027399 -0.61477862 -0.25898489 -0.80681063  4.17385345\n",
      " -0.6435382  -0.32533856 -1.03489416 -0.20412415 -0.22941573 -0.33068147\n",
      "  1.75885396 -0.34899122 -0.60155441 -0.15294382 -0.09298136 -0.46852129\n",
      " -0.12038585 -0.08481889 -0.23623492 -1.21387736 -0.36174054 -0.24943031\n",
      "  2.15526362 -0.59715086 -0.45485883 -0.73610476 -0.43875307  4.23307441\n",
      " -0.65242771 -0.23958675 -0.32533856  0.90192655  4.72581563 -0.2259448\n",
      " -3.15238005 -0.54212562 -0.70181003 -0.63024248  2.30354212 -0.40586384\n",
      "  0.49329429 -0.23958675  2.88675135 -1.59227935 -0.46170508  2.46388049\n",
      " -1.33747696 -0.13206764 -0.5        -1.21387736  1.21387736 -0.20412415\n",
      "  0.20412415]\n",
      "Predicted class  [1]\n"
     ]
    }
   ],
   "execution_count": 18
  },
  {
   "cell_type": "markdown",
   "id": "8bacb1dbe895ae27",
   "metadata": {},
   "source": [
    "## Explaining the prediction\n",
    "We use the same explainators as for the previous model. In this case, a few adjustments are necessary for the initialization of the explanators. For example, SHAP needs a specific configuration for the linear model we are using.\n",
    "### SHAP Explainer"
   ]
  },
  {
   "cell_type": "code",
   "id": "9fbd8051e6e80d11",
   "metadata": {
    "ExecuteTime": {
     "end_time": "2024-07-04T16:31:20.366146Z",
     "start_time": "2024-07-04T16:31:20.362676Z"
    }
   },
   "source": [
    "explainer = ShapXAITabularExplainer(bbox, feature_names)\n",
    "config = {'explainer' : 'linear', 'X_train' : X_scaled[0:100], 'feature_pert' : 'interventional'}\n",
    "explainer.fit(config)"
   ],
   "outputs": [],
   "execution_count": 19
  },
  {
   "cell_type": "code",
   "id": "52ebc44c17731e3c",
   "metadata": {
    "ExecuteTime": {
     "end_time": "2024-07-04T16:31:20.370580Z",
     "start_time": "2024-07-04T16:31:20.367210Z"
    }
   },
   "source": [
    "exp = explainer.explain(inst)\n",
    "print(exp)"
   ],
   "outputs": [
    {
     "name": "stdout",
     "output_type": "stream",
     "text": [
      "<xailib.explainers.shap_explainer_tab.ShapXAITabularExplanation object at 0x7a9433b80d30>\n"
     ]
    }
   ],
   "execution_count": 20
  },
  {
   "cell_type": "code",
   "id": "38eb5f95886ab402",
   "metadata": {
    "ExecuteTime": {
     "end_time": "2024-07-04T16:31:20.533277Z",
     "start_time": "2024-07-04T16:31:20.371732Z"
    }
   },
   "source": [
    "exp.plot_features_importance()"
   ],
   "outputs": [
    {
     "data": {
      "text/plain": [
       "<IPython.core.display.HTML object>"
      ],
      "text/html": [
       "\n",
       "        <style>\n",
       "        .vega-bind {\n",
       "          position: absolute;\n",
       "          left: 0px;\n",
       "          top: 0px;\n",
       "          background-color:#eee;\n",
       "          padding:10px;\n",
       "          font-size:10px;\n",
       "        }\n",
       "        .chart-wrapper{\n",
       "          padding-top: 70px;\n",
       "        }\n",
       "\n",
       "        </style>\n",
       "        "
      ]
     },
     "metadata": {},
     "output_type": "display_data"
    },
    {
     "data": {
      "text/html": [
       "\n",
       "<div id=\"altair-viz-814afa6e52ae470380f0c9649415b4b8\"></div>\n",
       "<script type=\"text/javascript\">\n",
       "  var VEGA_DEBUG = (typeof VEGA_DEBUG == \"undefined\") ? {} : VEGA_DEBUG;\n",
       "  (function(spec, embedOpt){\n",
       "    let outputDiv = document.currentScript.previousElementSibling;\n",
       "    if (outputDiv.id !== \"altair-viz-814afa6e52ae470380f0c9649415b4b8\") {\n",
       "      outputDiv = document.getElementById(\"altair-viz-814afa6e52ae470380f0c9649415b4b8\");\n",
       "    }\n",
       "    const paths = {\n",
       "      \"vega\": \"https://cdn.jsdelivr.net/npm//vega@5?noext\",\n",
       "      \"vega-lib\": \"https://cdn.jsdelivr.net/npm//vega-lib?noext\",\n",
       "      \"vega-lite\": \"https://cdn.jsdelivr.net/npm//vega-lite@4.17.0?noext\",\n",
       "      \"vega-embed\": \"https://cdn.jsdelivr.net/npm//vega-embed@6?noext\",\n",
       "    };\n",
       "\n",
       "    function maybeLoadScript(lib, version) {\n",
       "      var key = `${lib.replace(\"-\", \"\")}_version`;\n",
       "      return (VEGA_DEBUG[key] == version) ?\n",
       "        Promise.resolve(paths[lib]) :\n",
       "        new Promise(function(resolve, reject) {\n",
       "          var s = document.createElement('script');\n",
       "          document.getElementsByTagName(\"head\")[0].appendChild(s);\n",
       "          s.async = true;\n",
       "          s.onload = () => {\n",
       "            VEGA_DEBUG[key] = version;\n",
       "            return resolve(paths[lib]);\n",
       "          };\n",
       "          s.onerror = () => reject(`Error loading script: ${paths[lib]}`);\n",
       "          s.src = paths[lib];\n",
       "        });\n",
       "    }\n",
       "\n",
       "    function showError(err) {\n",
       "      outputDiv.innerHTML = `<div class=\"error\" style=\"color:red;\">${err}</div>`;\n",
       "      throw err;\n",
       "    }\n",
       "\n",
       "    function displayChart(vegaEmbed) {\n",
       "      vegaEmbed(outputDiv, spec, embedOpt)\n",
       "        .catch(err => showError(`Javascript Error: ${err.message}<br>This usually means there's a typo in your chart specification. See the javascript console for the full traceback.`));\n",
       "    }\n",
       "\n",
       "    if(typeof define === \"function\" && define.amd) {\n",
       "      requirejs.config({paths});\n",
       "      require([\"vega-embed\"], displayChart, err => showError(`Error loading script: ${err.message}`));\n",
       "    } else {\n",
       "      maybeLoadScript(\"vega\", \"5\")\n",
       "        .then(() => maybeLoadScript(\"vega-lite\", \"4.17.0\"))\n",
       "        .then(() => maybeLoadScript(\"vega-embed\", \"6\"))\n",
       "        .catch(showError)\n",
       "        .then(() => displayChart(vegaEmbed));\n",
       "    }\n",
       "  })({\"config\": {\"view\": {\"continuousWidth\": 400, \"continuousHeight\": 300}, \"axis\": {\"labelFontSize\": 10, \"labelLimit\": 225.0}}, \"vconcat\": [{\"layer\": [{\"data\": {\"name\": \"data-7fba3ff85c81ff6904318985b2284a7f\"}, \"mark\": {\"type\": \"rule\", \"strokeWidth\": 3}, \"encoding\": {\"color\": {\"field\": \"xValue\", \"legend\": null, \"scale\": {\"domain\": [-0.8470079627378515, 0.8470079627378515], \"domainMid\": 0, \"scheme\": \"redyellowblue\"}, \"type\": \"quantitative\"}, \"x\": {\"axis\": {\"orient\": \"top\", \"titleFontSize\": 10}, \"field\": \"xValue\", \"title\": \"Select a cutoff range for Feature Importance values \", \"type\": \"quantitative\"}}}, {\"data\": {\"name\": \"data-c7bc3ae69e1253e8223f70a11d04b99d\"}, \"mark\": {\"type\": \"rect\", \"color\": \"black\", \"height\": 20, \"opacity\": 0.4, \"tooltip\": true}, \"encoding\": {\"x\": {\"field\": \"x_min\", \"type\": \"quantitative\"}, \"x2\": {\"field\": \"x_max\"}, \"y\": {\"axis\": null, \"field\": \"y\", \"type\": \"quantitative\"}}, \"selection\": {\"Cutter\": {\"type\": \"single\", \"fields\": [\"cutoff\"], \"bind\": {\"input\": \"range\", \"max\": 0.8470079627378515, \"min\": 0, \"name\": \"Importance cutoff value (\\u00b1) \", \"step\": 0.01694015925475703}, \"init\": {\"cutoff\": 0.0}}}, \"transform\": [{\"calculate\": \"(-Cutter.cutoff)\", \"as\": \"x_min\"}, {\"calculate\": \"Cutter.cutoff\", \"as\": \"x_max\"}]}], \"height\": 20}, {\"layer\": [{\"data\": {\"name\": \"data-1029c4e03fae56a4181325fa95c0b691\"}, \"mark\": \"bar\", \"encoding\": {\"color\": {\"field\": \"value\", \"legend\": null, \"scale\": {\"domain\": [-0.8470079627378515, 0.8470079627378515], \"domainMid\": 0, \"scheme\": \"blueorange\"}, \"type\": \"quantitative\"}, \"tooltip\": [{\"field\": \"name\", \"title\": \"Feature\", \"type\": \"nominal\"}, {\"field\": \"value\", \"title\": \"Importance\", \"type\": \"quantitative\"}], \"x\": {\"field\": \"value\", \"title\": null, \"type\": \"quantitative\"}, \"y\": {\"field\": \"name\", \"sort\": {\"field\": \"value\", \"op\": \"mean\", \"order\": \"descending\"}, \"title\": null, \"type\": \"nominal\"}}, \"selection\": {\"Cutter\": {\"type\": \"single\", \"fields\": [\"cutoff\"], \"bind\": {\"input\": \"range\", \"max\": 0.8470079627378515, \"min\": 0, \"name\": \"Importance cutoff value (\\u00b1) \", \"step\": 0.01694015925475703}, \"init\": {\"cutoff\": 0.0}}}, \"transform\": [{\"filter\": \"((datum.value > Cutter.cutoff) || (datum.value < (-Cutter.cutoff)))\"}]}, {\"data\": {\"name\": \"data-9c00aa9dc2b1c1a0b4bf9b34ead12925\"}, \"mark\": \"rule\", \"encoding\": {\"x\": {\"field\": \"x\", \"type\": \"quantitative\"}}}]}], \"padding\": 10, \"$schema\": \"https://vega.github.io/schema/vega-lite/v4.17.0.json\", \"datasets\": {\"data-7fba3ff85c81ff6904318985b2284a7f\": [{\"xValue\": -0.8470079627378515}, {\"xValue\": -0.838537883110473}, {\"xValue\": -0.8300678034830944}, {\"xValue\": -0.8215977238557158}, {\"xValue\": -0.8131276442283373}, {\"xValue\": -0.8046575646009587}, {\"xValue\": -0.7961874849735802}, {\"xValue\": -0.7877174053462016}, {\"xValue\": -0.779247325718823}, {\"xValue\": -0.7707772460914445}, {\"xValue\": -0.7623071664640659}, {\"xValue\": -0.7538370868366874}, {\"xValue\": -0.7453670072093088}, {\"xValue\": -0.7368969275819303}, {\"xValue\": -0.7284268479545517}, {\"xValue\": -0.7199567683271731}, {\"xValue\": -0.7114866886997946}, {\"xValue\": -0.703016609072416}, {\"xValue\": -0.6945465294450375}, {\"xValue\": -0.6860764498176589}, {\"xValue\": -0.6776063701902804}, {\"xValue\": -0.6691362905629018}, {\"xValue\": -0.6606662109355232}, {\"xValue\": -0.6521961313081447}, {\"xValue\": -0.6437260516807661}, {\"xValue\": -0.6352559720533876}, {\"xValue\": -0.626785892426009}, {\"xValue\": -0.6183158127986305}, {\"xValue\": -0.6098457331712519}, {\"xValue\": -0.6013756535438733}, {\"xValue\": -0.5929055739164948}, {\"xValue\": -0.5844354942891162}, {\"xValue\": -0.5759654146617377}, {\"xValue\": -0.5674953350343591}, {\"xValue\": -0.5590252554069806}, {\"xValue\": -0.550555175779602}, {\"xValue\": -0.5420850961522234}, {\"xValue\": -0.5336150165248449}, {\"xValue\": -0.5251449368974663}, {\"xValue\": -0.5166748572700878}, {\"xValue\": -0.5082047776427092}, {\"xValue\": -0.49973469801533066}, {\"xValue\": -0.4912646183879521}, {\"xValue\": -0.48279453876057354}, {\"xValue\": -0.474324459133195}, {\"xValue\": -0.46585437950581643}, {\"xValue\": -0.45738429987843787}, {\"xValue\": -0.4489142202510593}, {\"xValue\": -0.44044414062368076}, {\"xValue\": -0.4319740609963022}, {\"xValue\": -0.42350398136892364}, {\"xValue\": -0.4150339017415451}, {\"xValue\": -0.40656382211416653}, {\"xValue\": -0.39809374248678797}, {\"xValue\": -0.3896236628594094}, {\"xValue\": -0.38115358323203086}, {\"xValue\": -0.3726835036046523}, {\"xValue\": -0.36421342397727374}, {\"xValue\": -0.3557433443498952}, {\"xValue\": -0.34727326472251663}, {\"xValue\": -0.33880318509513807}, {\"xValue\": -0.3303331054677595}, {\"xValue\": -0.32186302584038096}, {\"xValue\": -0.3133929462130024}, {\"xValue\": -0.30492286658562384}, {\"xValue\": -0.2964527869582453}, {\"xValue\": -0.2879827073308667}, {\"xValue\": -0.27951262770348817}, {\"xValue\": -0.2710425480761096}, {\"xValue\": -0.26257246844873106}, {\"xValue\": -0.2541023888213525}, {\"xValue\": -0.24563230919397394}, {\"xValue\": -0.23716222956659538}, {\"xValue\": -0.22869214993921683}, {\"xValue\": -0.22022207031183827}, {\"xValue\": -0.2117519906844597}, {\"xValue\": -0.20328191105708115}, {\"xValue\": -0.1948118314297026}, {\"xValue\": -0.18634175180232404}, {\"xValue\": -0.17787167217494548}, {\"xValue\": -0.16940159254756693}, {\"xValue\": -0.16093151292018837}, {\"xValue\": -0.1524614332928098}, {\"xValue\": -0.14399135366543125}, {\"xValue\": -0.1355212740380527}, {\"xValue\": -0.12705119441067414}, {\"xValue\": -0.11858111478329558}, {\"xValue\": -0.11011103515591703}, {\"xValue\": -0.10164095552853847}, {\"xValue\": -0.09317087590115991}, {\"xValue\": -0.08470079627378135}, {\"xValue\": -0.0762307166464028}, {\"xValue\": -0.06776063701902424}, {\"xValue\": -0.05929055739164568}, {\"xValue\": -0.050820477764267125}, {\"xValue\": -0.04235039813688857}, {\"xValue\": -0.03388031850951001}, {\"xValue\": -0.025410238882131453}, {\"xValue\": -0.016940159254752896}, {\"xValue\": -0.008470079627374338}, {\"xValue\": 4.218847493575595e-15}, {\"xValue\": 0.008470079627382776}, {\"xValue\": 0.016940159254761333}, {\"xValue\": 0.02541023888213989}, {\"xValue\": 0.03388031850951845}, {\"xValue\": 0.042350398136897005}, {\"xValue\": 0.05082047776427556}, {\"xValue\": 0.05929055739165412}, {\"xValue\": 0.06776063701903268}, {\"xValue\": 0.07623071664641123}, {\"xValue\": 0.08470079627378979}, {\"xValue\": 0.09317087590116835}, {\"xValue\": 0.1016409555285469}, {\"xValue\": 0.11011103515592546}, {\"xValue\": 0.11858111478330402}, {\"xValue\": 0.12705119441068258}, {\"xValue\": 0.13552127403806113}, {\"xValue\": 0.1439913536654397}, {\"xValue\": 0.15246143329281825}, {\"xValue\": 0.16093151292019692}, {\"xValue\": 0.16940159254757536}, {\"xValue\": 0.1778716721749538}, {\"xValue\": 0.18634175180233248}, {\"xValue\": 0.19481183142971115}, {\"xValue\": 0.2032819110570896}, {\"xValue\": 0.21175199068446804}, {\"xValue\": 0.2202220703118467}, {\"xValue\": 0.22869214993922538}, {\"xValue\": 0.23716222956660382}, {\"xValue\": 0.24563230919398227}, {\"xValue\": 0.25410238882136094}, {\"xValue\": 0.2625724684487396}, {\"xValue\": 0.27104254807611805}, {\"xValue\": 0.2795126277034965}, {\"xValue\": 0.28798270733087517}, {\"xValue\": 0.29645278695825383}, {\"xValue\": 0.3049228665856323}, {\"xValue\": 0.3133929462130107}, {\"xValue\": 0.3218630258403894}, {\"xValue\": 0.33033310546776806}, {\"xValue\": 0.3388031850951465}, {\"xValue\": 0.34727326472252495}, {\"xValue\": 0.3557433443499036}, {\"xValue\": 0.3642134239772823}, {\"xValue\": 0.37268350360466074}, {\"xValue\": 0.3811535832320392}, {\"xValue\": 0.38962366285941785}, {\"xValue\": 0.3980937424867965}, {\"xValue\": 0.40656382211417497}, {\"xValue\": 0.4150339017415534}, {\"xValue\": 0.4235039813689321}, {\"xValue\": 0.43197406099631075}, {\"xValue\": 0.4404441406236892}, {\"xValue\": 0.44891422025106764}, {\"xValue\": 0.4573842998784463}, {\"xValue\": 0.465854379505825}, {\"xValue\": 0.4743244591332034}, {\"xValue\": 0.48279453876058187}, {\"xValue\": 0.49126461838796054}, {\"xValue\": 0.4997346980153392}, {\"xValue\": 0.5082047776427177}, {\"xValue\": 0.5166748572700961}, {\"xValue\": 0.5251449368974748}, {\"xValue\": 0.5336150165248534}, {\"xValue\": 0.5420850961522319}, {\"xValue\": 0.5505551757796103}, {\"xValue\": 0.559025255406989}, {\"xValue\": 0.5674953350343677}, {\"xValue\": 0.5759654146617461}, {\"xValue\": 0.5844354942891246}, {\"xValue\": 0.5929055739165032}, {\"xValue\": 0.6013756535438819}, {\"xValue\": 0.6098457331712603}, {\"xValue\": 0.6183158127986388}, {\"xValue\": 0.6267858924260175}, {\"xValue\": 0.6352559720533961}, {\"xValue\": 0.6437260516807746}, {\"xValue\": 0.652196131308153}, {\"xValue\": 0.6606662109355317}, {\"xValue\": 0.6691362905629104}, {\"xValue\": 0.6776063701902888}, {\"xValue\": 0.6860764498176672}, {\"xValue\": 0.6945465294450459}, {\"xValue\": 0.7030166090724246}, {\"xValue\": 0.711486688699803}, {\"xValue\": 0.7199567683271815}, {\"xValue\": 0.7284268479545601}, {\"xValue\": 0.7368969275819388}, {\"xValue\": 0.7453670072093173}, {\"xValue\": 0.7538370868366957}, {\"xValue\": 0.7623071664640744}, {\"xValue\": 0.770777246091453}, {\"xValue\": 0.7792473257188315}, {\"xValue\": 0.7877174053462099}, {\"xValue\": 0.7961874849735886}, {\"xValue\": 0.8046575646009673}, {\"xValue\": 0.8131276442283457}, {\"xValue\": 0.8215977238557242}, {\"xValue\": 0.8300678034831028}, {\"xValue\": 0.8385378831104815}], \"data-c7bc3ae69e1253e8223f70a11d04b99d\": [{\"y\": 0, \"x\": -0.5, \"x2\": 0.5}], \"data-1029c4e03fae56a4181325fa95c0b691\": [{\"name\": \"duration_in_month\", \"value\": 0.8470079627378515}, {\"name\": \"credit_amount\", \"value\": 0.6944189404874546}, {\"name\": \"installment_as_income_perc\", \"value\": 0.3043826317623828}, {\"name\": \"present_res_since\", \"value\": -0.01791587834353847}, {\"name\": \"age\", \"value\": -0.005163583410577343}, {\"name\": \"credits_this_bank\", \"value\": -0.2040296033238425}, {\"name\": \"people_under_maintenance\", \"value\": -0.05675593109735416}, {\"name\": \"account_check_status=0 <= ... < 200 DM\", \"value\": 0.2939399436033416}, {\"name\": \"account_check_status=< 0 DM\", \"value\": -0.21818023774927822}, {\"name\": \"account_check_status=>= 200 DM / salary assignments for at least 1 year\", \"value\": 9.600728638840455e-05}, {\"name\": \"account_check_status=no checking account\", \"value\": 0.35021240033539547}, {\"name\": \"credit_history=all credits at this bank paid back duly\", \"value\": 0.6337640692749571}, {\"name\": \"credit_history=critical account/ other credits existing (not at this bank)\", \"value\": 0.21823305363235848}, {\"name\": \"credit_history=delay in paying off in the past\", \"value\": -0.01125360241557447}, {\"name\": \"credit_history=existing credits paid back duly till now\", \"value\": -0.1329233577383667}, {\"name\": \"credit_history=no credits taken/ all credits paid back duly\", \"value\": -0.0295978084531588}, {\"name\": \"purpose=(vacation - does not exist?)\", \"value\": -0.06856154357807032}, {\"name\": \"purpose=business\", \"value\": 0.003674153425649203}, {\"name\": \"purpose=car (new)\", \"value\": 0.25136725023213075}, {\"name\": \"purpose=car (used)\", \"value\": 0.08468160953031661}, {\"name\": \"purpose=domestic appliances\", \"value\": 0.038548795466947325}, {\"name\": \"purpose=education\", \"value\": 0.0}, {\"name\": \"purpose=furniture/equipment\", \"value\": -2.9446802618582043e-18}, {\"name\": \"purpose=radio/television\", \"value\": 0.006492757319554413}, {\"name\": \"purpose=repairs\", \"value\": 0.005963146482736883}, {\"name\": \"purpose=retraining\", \"value\": 2.390172708554581e-18}, {\"name\": \"savings=.. >= 1000 DM \", \"value\": 0.05670527686156029}, {\"name\": \"savings=... < 100 DM\", \"value\": -0.3381927316489704}, {\"name\": \"savings=100 <= ... < 500 DM\", \"value\": -0.012064219528328219}, {\"name\": \"savings=500 <= ... < 1000 DM \", \"value\": 0.0010553301554829223}, {\"name\": \"savings=unknown/ no savings account\", \"value\": -0.5556654011176986}, {\"name\": \"present_emp_since=.. >= 7 years\", \"value\": 0.005294090093487083}, {\"name\": \"present_emp_since=... < 1 year \", \"value\": -0.04654979417893283}, {\"name\": \"present_emp_since=1 <= ... < 4 years\", \"value\": -0.017047143561136006}, {\"name\": \"present_emp_since=4 <= ... < 7 years\", \"value\": 0.09509224367078759}, {\"name\": \"present_emp_since=unemployed\", \"value\": 0.7263825390264509}, {\"name\": \"personal_status_sex=female : divorced/separated/married\", \"value\": -0.05151278954058177}, {\"name\": \"personal_status_sex=male : divorced/separated\", \"value\": -0.023431119320486644}, {\"name\": \"personal_status_sex=male : married/widowed\", \"value\": -0.016502801133490095}, {\"name\": \"personal_status_sex=male : single\", \"value\": -0.134994120205601}, {\"name\": \"other_debtors=co-applicant\", \"value\": 0.4216950434310728}, {\"name\": \"other_debtors=guarantor\", \"value\": 0.031225103977220146}, {\"name\": \"other_debtors=none\", \"value\": -0.11203996569131164}, {\"name\": \"property=if not A121 : building society savings agreement/ life insurance\", \"value\": 0.04236722282144984}, {\"name\": \"property=if not A121/A122 : car or other, not in attribute 6\", \"value\": 0.04192243565043095}, {\"name\": \"property=real estate\", \"value\": 0.08147897763988672}, {\"name\": \"property=unknown / no property\", \"value\": 0.7764063820618654}, {\"name\": \"other_installment_plans=bank\", \"value\": -0.07246505874542296}, {\"name\": \"other_installment_plans=none\", \"value\": -0.08219083585223665}, {\"name\": \"other_installment_plans=stores\", \"value\": 0.0016952408348178613}, {\"name\": \"housing=for free\", \"value\": -0.7476842519071205}, {\"name\": \"housing=own\", \"value\": 0.023375705983558887}, {\"name\": \"housing=rent\", \"value\": -0.10575330547369494}, {\"name\": \"job=management/ self-employed/ highly qualified employee/ officer\", \"value\": -0.12195987590713661}, {\"name\": \"job=skilled employee / official\", \"value\": -0.028367937850261704}, {\"name\": \"job=unemployed/ unskilled - non-resident\", \"value\": 0.002873156187994503}, {\"name\": \"job=unskilled - resident\", \"value\": -0.014458079729267003}, {\"name\": \"telephone=none\", \"value\": -0.07507070030786542}, {\"name\": \"telephone=yes, registered under the customers name \", \"value\": -0.07507070030786506}, {\"name\": \"foreign_worker=no\", \"value\": 0.04268973216067924}, {\"name\": \"foreign_worker=yes\", \"value\": 0.04268973216067928}], \"data-9c00aa9dc2b1c1a0b4bf9b34ead12925\": [{\"x\": 0}]}}, {\"mode\": \"vega-lite\"});\n",
       "</script>"
      ],
      "text/plain": [
       "alt.VConcatChart(...)"
      ]
     },
     "metadata": {},
     "output_type": "display_data"
    }
   ],
   "execution_count": 21
  },
  {
   "cell_type": "markdown",
   "id": "ad0d99c577b81041",
   "metadata": {},
   "source": [
    "### LORE explainer"
   ]
  },
  {
   "cell_type": "code",
   "id": "190b9e266e384e4d",
   "metadata": {
    "ExecuteTime": {
     "end_time": "2024-07-04T16:31:28.444965Z",
     "start_time": "2024-07-04T16:31:20.535021Z"
    }
   },
   "source": [
    "explainer = LegacyLoreTabularExplainer(bbox)\n",
    "config = {'neigh_type':'geneticp', 'size':1000, 'ocr':0.1, 'ngen':10}\n",
    "explainer.fit(df, class_field, config)\n",
    "exp = explainer.explain(inst)\n",
    "print(exp)"
   ],
   "outputs": [
    {
     "name": "stdout",
     "output_type": "stream",
     "text": [
      "<xailib.explainers.lore_explainer.LoreTabularExplanation object at 0x7a9433ac41c0>\n"
     ]
    }
   ],
   "execution_count": 22
  },
  {
   "metadata": {
    "ExecuteTime": {
     "end_time": "2024-07-04T16:41:50.104079Z",
     "start_time": "2024-07-04T16:33:37.791390Z"
    }
   },
   "cell_type": "code",
   "source": [
    "explainer2 = LoreTabularExplainer(bbox)\n",
    "config = {'neigh_type':'geneticp', 'size':1000, 'ocr':0.1, 'ngen':10}\n",
    "explainer2.fit(df, class_field, config)\n",
    "exp2 = explainer2.explain(inst)\n",
    "print(exp2)"
   ],
   "id": "c11cb0e154659838",
   "outputs": [
    {
     "ename": "Exception",
     "evalue": "ERR: target column cannot be continuous. Please, set a categorical column as target.You can force the content of target column by discretize it.",
     "output_type": "error",
     "traceback": [
      "\u001B[0;31m---------------------------------------------------------------------------\u001B[0m",
      "\u001B[0;31mException\u001B[0m                                 Traceback (most recent call last)",
      "Input \u001B[0;32mIn [27]\u001B[0m, in \u001B[0;36m<cell line: 3>\u001B[0;34m()\u001B[0m\n\u001B[1;32m      1\u001B[0m explainer2 \u001B[38;5;241m=\u001B[39m LoreTabularExplainer(bbox)\n\u001B[1;32m      2\u001B[0m config \u001B[38;5;241m=\u001B[39m {\u001B[38;5;124m'\u001B[39m\u001B[38;5;124mneigh_type\u001B[39m\u001B[38;5;124m'\u001B[39m:\u001B[38;5;124m'\u001B[39m\u001B[38;5;124mgeneticp\u001B[39m\u001B[38;5;124m'\u001B[39m, \u001B[38;5;124m'\u001B[39m\u001B[38;5;124msize\u001B[39m\u001B[38;5;124m'\u001B[39m:\u001B[38;5;241m1000\u001B[39m, \u001B[38;5;124m'\u001B[39m\u001B[38;5;124mocr\u001B[39m\u001B[38;5;124m'\u001B[39m:\u001B[38;5;241m0.1\u001B[39m, \u001B[38;5;124m'\u001B[39m\u001B[38;5;124mngen\u001B[39m\u001B[38;5;124m'\u001B[39m:\u001B[38;5;241m10\u001B[39m}\n\u001B[0;32m----> 3\u001B[0m \u001B[43mexplainer2\u001B[49m\u001B[38;5;241;43m.\u001B[39;49m\u001B[43mfit\u001B[49m\u001B[43m(\u001B[49m\u001B[43mdf\u001B[49m\u001B[43m,\u001B[49m\u001B[43m \u001B[49m\u001B[43mclass_field\u001B[49m\u001B[43m,\u001B[49m\u001B[43m \u001B[49m\u001B[43mconfig\u001B[49m\u001B[43m)\u001B[49m\n\u001B[1;32m      4\u001B[0m exp2 \u001B[38;5;241m=\u001B[39m explainer2\u001B[38;5;241m.\u001B[39mexplain(inst)\n\u001B[1;32m      5\u001B[0m \u001B[38;5;28mprint\u001B[39m(exp2)\n",
      "File \u001B[0;32m~/github/XAI-Lib/src/xailib/explainers/lore_explainer.py:190\u001B[0m, in \u001B[0;36mLoreTabularExplainer.fit\u001B[0;34m(self, _df, class_name, config)\u001B[0m\n\u001B[1;32m    189\u001B[0m \u001B[38;5;28;01mdef\u001B[39;00m \u001B[38;5;21mfit\u001B[39m(\u001B[38;5;28mself\u001B[39m, _df: pd\u001B[38;5;241m.\u001B[39mDataFrame, class_name, config):\n\u001B[0;32m--> 190\u001B[0m     dataset \u001B[38;5;241m=\u001B[39m \u001B[43mTabularDataset\u001B[49m\u001B[43m(\u001B[49m\u001B[43m_df\u001B[49m\u001B[43m,\u001B[49m\u001B[43m \u001B[49m\u001B[43mclass_name\u001B[49m\u001B[43m)\u001B[49m\n\u001B[1;32m    191\u001B[0m     dataset\u001B[38;5;241m.\u001B[39mdf\u001B[38;5;241m.\u001B[39mdropna(inplace\u001B[38;5;241m=\u001B[39m\u001B[38;5;28;01mTrue\u001B[39;00m)\n\u001B[1;32m    192\u001B[0m     dataset\u001B[38;5;241m.\u001B[39mupdate_descriptor()\n",
      "File \u001B[0;32m~/miniconda3/envs/XAI-Lib/lib/python3.8/site-packages/lore_sa/dataset/tabular_dataset.py:68\u001B[0m, in \u001B[0;36mTabularDataset.__init__\u001B[0;34m(self, data, class_name, categorial_columns, ordinal_columns)\u001B[0m\n\u001B[1;32m     65\u001B[0m \u001B[38;5;28mself\u001B[39m\u001B[38;5;241m.\u001B[39mdescriptor \u001B[38;5;241m=\u001B[39m {\u001B[38;5;124m'\u001B[39m\u001B[38;5;124mnumeric\u001B[39m\u001B[38;5;124m'\u001B[39m: {}, \u001B[38;5;124m'\u001B[39m\u001B[38;5;124mcategorical\u001B[39m\u001B[38;5;124m'\u001B[39m: {}, \u001B[38;5;124m'\u001B[39m\u001B[38;5;124mordinal\u001B[39m\u001B[38;5;124m'\u001B[39m: {}}\n\u001B[1;32m     67\u001B[0m \u001B[38;5;66;03m# creation of a default version of descriptor\u001B[39;00m\n\u001B[0;32m---> 68\u001B[0m \u001B[38;5;28;43mself\u001B[39;49m\u001B[38;5;241;43m.\u001B[39;49m\u001B[43mupdate_descriptor\u001B[49m\u001B[43m(\u001B[49m\u001B[43m)\u001B[49m\n",
      "File \u001B[0;32m~/miniconda3/envs/XAI-Lib/lib/python3.8/site-packages/lore_sa/dataset/tabular_dataset.py:107\u001B[0m, in \u001B[0;36mTabularDataset.update_descriptor\u001B[0;34m(self, categorial_columns, ordinal_columns)\u001B[0m\n\u001B[1;32m    102\u001B[0m             desc \u001B[38;5;241m=\u001B[39m {\u001B[38;5;124m'\u001B[39m\u001B[38;5;124mindex\u001B[39m\u001B[38;5;124m'\u001B[39m: index,\n\u001B[1;32m    103\u001B[0m                     \u001B[38;5;124m'\u001B[39m\u001B[38;5;124mdistinct_values\u001B[39m\u001B[38;5;124m'\u001B[39m: \u001B[38;5;28mlist\u001B[39m(\u001B[38;5;28mself\u001B[39m\u001B[38;5;241m.\u001B[39mdf[feature]\u001B[38;5;241m.\u001B[39munique()),\n\u001B[1;32m    104\u001B[0m                     \u001B[38;5;124m'\u001B[39m\u001B[38;5;124mcount\u001B[39m\u001B[38;5;124m'\u001B[39m: {x: \u001B[38;5;28mlen\u001B[39m(\u001B[38;5;28mself\u001B[39m\u001B[38;5;241m.\u001B[39mdf[\u001B[38;5;28mself\u001B[39m\u001B[38;5;241m.\u001B[39mdf[feature] \u001B[38;5;241m==\u001B[39m x]) \u001B[38;5;28;01mfor\u001B[39;00m x \u001B[38;5;129;01min\u001B[39;00m \u001B[38;5;28mlist\u001B[39m(\u001B[38;5;28mself\u001B[39m\u001B[38;5;241m.\u001B[39mdf[feature]\u001B[38;5;241m.\u001B[39munique())}}\n\u001B[1;32m    105\u001B[0m             \u001B[38;5;28mself\u001B[39m\u001B[38;5;241m.\u001B[39mdescriptor[\u001B[38;5;124m'\u001B[39m\u001B[38;5;124mcategorical\u001B[39m\u001B[38;5;124m'\u001B[39m][feature] \u001B[38;5;241m=\u001B[39m desc\n\u001B[0;32m--> 107\u001B[0m \u001B[38;5;28mself\u001B[39m\u001B[38;5;241m.\u001B[39mdescriptor \u001B[38;5;241m=\u001B[39m \u001B[38;5;28;43mself\u001B[39;49m\u001B[38;5;241;43m.\u001B[39;49m\u001B[43mset_target_label\u001B[49m\u001B[43m(\u001B[49m\u001B[38;5;28;43mself\u001B[39;49m\u001B[38;5;241;43m.\u001B[39;49m\u001B[43mdescriptor\u001B[49m\u001B[43m)\u001B[49m\n",
      "File \u001B[0;32m~/miniconda3/envs/XAI-Lib/lib/python3.8/site-packages/lore_sa/dataset/tabular_dataset.py:120\u001B[0m, in \u001B[0;36mTabularDataset.set_target_label\u001B[0;34m(self, descriptor)\u001B[0m\n\u001B[1;32m    118\u001B[0m \u001B[38;5;28;01mif\u001B[39;00m k \u001B[38;5;241m==\u001B[39m \u001B[38;5;28mself\u001B[39m\u001B[38;5;241m.\u001B[39mclass_name:\n\u001B[1;32m    119\u001B[0m     \u001B[38;5;28;01mif\u001B[39;00m \u001B[38;5;28mtype\u001B[39m \u001B[38;5;241m==\u001B[39m \u001B[38;5;124m'\u001B[39m\u001B[38;5;124mnumeric\u001B[39m\u001B[38;5;124m'\u001B[39m:\n\u001B[0;32m--> 120\u001B[0m         \u001B[38;5;28;01mraise\u001B[39;00m \u001B[38;5;167;01mException\u001B[39;00m(\u001B[38;5;124m\"\u001B[39m\u001B[38;5;124mERR: target column cannot be continuous. Please, set a categorical column as target.\u001B[39m\u001B[38;5;124m\"\u001B[39m\n\u001B[1;32m    121\u001B[0m                         \u001B[38;5;124m\"\u001B[39m\u001B[38;5;124mYou can force the content of target column by discretize it.\u001B[39m\u001B[38;5;124m\"\u001B[39m)\n\u001B[1;32m    122\u001B[0m     descriptor[\u001B[38;5;124m'\u001B[39m\u001B[38;5;124mtarget\u001B[39m\u001B[38;5;124m'\u001B[39m] \u001B[38;5;241m=\u001B[39m {k: descriptor[\u001B[38;5;28mtype\u001B[39m][k]}\n\u001B[1;32m    123\u001B[0m     descriptor[\u001B[38;5;28mtype\u001B[39m]\u001B[38;5;241m.\u001B[39mpop(k)\n",
      "\u001B[0;31mException\u001B[0m: ERR: target column cannot be continuous. Please, set a categorical column as target.You can force the content of target column by discretize it."
     ]
    }
   ],
   "execution_count": 27
  },
  {
   "cell_type": "code",
   "execution_count": 45,
   "id": "7044448dbfc7815f",
   "metadata": {
    "ExecuteTime": {
     "end_time": "2024-07-04T15:56:52.313834Z",
     "start_time": "2024-07-04T15:56:52.302777Z"
    }
   },
   "outputs": [
    {
     "data": {
      "text/html": [
       "\n",
       "                <style>\n",
       "                .red {\n",
       "                background-color:firebrick;\n",
       "                padding:3px 5px 3px 5px;\n",
       "                border-radius:5px;\n",
       "\n",
       "                color:white;\n",
       "                }\n",
       "                .rules{\n",
       "                    margin-top:10px;\n",
       "                    font-weight: 400;\n",
       "                }\n",
       "                .rule{\n",
       "                padding:5px 20px 5px 20px;\n",
       "                border-radius:5px;\n",
       "                margin-right:5px;\n",
       "                font-size:12px;\n",
       "                line-height:20px;\n",
       "                display: block;\n",
       "                margin-bottom: 10px;\n",
       "                width: fit-content;\n",
       "                \n",
       "                color:white;\n",
       "                background-color:firebrick;\n",
       "                opacity:0.8;\n",
       "                }\n",
       "                </style>\n",
       "                "
      ],
      "text/plain": [
       "<IPython.core.display.HTML object>"
      ]
     },
     "metadata": {},
     "output_type": "display_data"
    },
    {
     "data": {
      "text/html": [
       "\n",
       "            <h3>Why the predicted value for class <span class='red'>default</span> is <span class='red'>1</span> ?</h3>\n",
       "            "
      ],
      "text/plain": [
       "<IPython.core.display.HTML object>"
      ]
     },
     "metadata": {},
     "output_type": "display_data"
    },
    {
     "data": {
      "text/html": [
       "\n",
       "            <p>Because all the following conditions happen:</p>\n",
       "            "
      ],
      "text/plain": [
       "<IPython.core.display.HTML object>"
      ]
     },
     "metadata": {},
     "output_type": "display_data"
    },
    {
     "data": {
      "text/html": [
       "<p class='rules'><span class='rule'>age <strong><=</strong> 20.73</span><span class='rule'>credit amount <strong>></strong> -439.64</span><span class='rule'>purpose=retraining <strong><=</strong> 0.12</span><span class='rule'>duration in month <strong>></strong> -1.94</span><span class='rule'>purpose=furniture/equipment <strong><=</strong> 0.18</span><span class='rule'>foreign worker=no <strong><=</strong> 0.72</span><span class='rule'>purpose=domestic appliances <strong><=</strong> 1.02</span><span class='rule'>savings=.. >= 1000 DM  <strong><=</strong> 0.72</span><span class='rule'>purpose=(vacation - does not exist?) <strong><=</strong> 0.46</span><span class='rule'>credit history=critical account/ other credits existing (not at this bank) <strong><=</strong> 0.91</span></p>"
      ],
      "text/plain": [
       "<IPython.core.display.HTML object>"
      ]
     },
     "metadata": {},
     "output_type": "display_data"
    }
   ],
   "source": [
    "exp.plotRules()"
   ]
  },
  {
   "cell_type": "code",
   "execution_count": 22,
   "id": "5246bf52647a9bd7",
   "metadata": {
    "ExecuteTime": {
     "end_time": "2024-07-04T15:56:58.681767Z",
     "start_time": "2024-07-04T15:56:58.671075Z"
    }
   },
   "outputs": [
    {
     "data": {
      "text/html": [
       "\n",
       "                <style>\n",
       "                .red {\n",
       "                background-color:firebrick;\n",
       "                padding:3px 5px 3px 5px;\n",
       "                border-radius:5px;\n",
       "                color:white;\n",
       "                }\n",
       "                .crules{\n",
       "                    margin-top:10px;\n",
       "                    font-weight: 400;\n",
       "                }\n",
       "                .crule{            \n",
       "                padding:5px 20px 5px 20px;\n",
       "                border-radius:5px;\n",
       "                margin-right:5px;\n",
       "                font-size:12px;\n",
       "                line-height:20px;\n",
       "                display: block;\n",
       "                margin-bottom: 10px;\n",
       "                width: fit-content;\n",
       "                \n",
       "                color:#202020;\n",
       "                background-color:gold;\n",
       "                }\n",
       "                </style>\n",
       "                "
      ],
      "text/plain": [
       "<IPython.core.display.HTML object>"
      ]
     },
     "metadata": {},
     "output_type": "display_data"
    },
    {
     "data": {
      "text/html": [
       "\n",
       "            <h3>The predicted value for class <span class='red'>default</span> is <span class='red'>1</span>.</h3>\n",
       "            <h3>It would have been:</h3>\n",
       "            "
      ],
      "text/plain": [
       "<IPython.core.display.HTML object>"
      ]
     },
     "metadata": {},
     "output_type": "display_data"
    },
    {
     "data": {
      "text/html": [
       "\n",
       "                <div class='crules'>\n",
       "                    <div>\n",
       "                        <h4><span class='red'>0</span> if the following condition holds</h4>\n",
       "                    </br><span class='crule'>age <= 20.73</span><span class='crule'>credit amount <= -439.64</span>\n",
       "                    </div>\n",
       "                </div>\n",
       "            "
      ],
      "text/plain": [
       "<IPython.core.display.HTML object>"
      ]
     },
     "metadata": {},
     "output_type": "display_data"
    },
    {
     "data": {
      "text/html": [
       "\n",
       "                <div class='crules'>\n",
       "                    <div>\n",
       "                        <h4><span class='red'>0</span> if the following condition holds</h4>\n",
       "                    </br><span class='crule'>age > 20.73</span><span class='crule'>credit amount <= 26.47</span><span class='crule'>duration in month <= 5.80</span><span class='crule'>installment as income perc <= 4.60</span><span class='crule'>account check status=no checking account <= -0.66</span>\n",
       "                    </div>\n",
       "                </div>\n",
       "            "
      ],
      "text/plain": [
       "<IPython.core.display.HTML object>"
      ]
     },
     "metadata": {},
     "output_type": "display_data"
    }
   ],
   "source": [
    "exp.plotCounterfactualRules()"
   ]
  },
  {
   "cell_type": "markdown",
   "id": "2ed9fa29dfc813bc",
   "metadata": {},
   "source": [
    "### LIME explainer"
   ]
  },
  {
   "cell_type": "code",
   "execution_count": 23,
   "id": "53c47e9c79dc4ada",
   "metadata": {
    "ExecuteTime": {
     "end_time": "2024-07-04T15:57:00.331014Z",
     "start_time": "2024-07-04T15:57:00.286426Z"
    }
   },
   "outputs": [
    {
     "name": "stdout",
     "output_type": "stream",
     "text": [
      "[('other_debtors=co-applicant', -1.2099484483255807e-09), ('credit_history=all credits at this bank paid back duly', -9.807292855860647e-10), ('present_emp_since=unemployed', -8.905493791597945e-10), ('other_debtors=none', 6.501490037885828e-10), ('housing=for free', -4.510074423165729e-10), ('credit_amount', 3.4347399311566785e-10), ('job=management/ self-employed/ highly qualified employee/ officer', -3.072084086389376e-10), ('property=unknown / no property', -3.047260454092542e-10), ('savings=unknown/ no savings account', -3.0122747825366714e-10), ('savings=... < 100 DM', 2.405511062391693e-10), ('credits_this_bank', 2.371877264255231e-10), ('housing=own', 2.1981825790193429e-10), ('property=real estate', 1.9425271631667495e-10), ('account_check_status=0 <= ... < 200 DM', -1.8341777236605377e-10), ('foreign_worker=yes', 1.735145952766157e-10), ('purpose=car (new)', -1.6299442716106328e-10), ('account_check_status=no checking account', 1.6227117790108462e-10), ('people_under_maintenance', 1.5304690593022412e-10), ('telephone=none', 1.501269438581034e-10), ('job=skilled employee / official', 1.4755823601047738e-10), ('present_emp_since=1 <= ... < 4 years', 1.3430240859619504e-10), ('present_emp_since=.. >= 7 years', 1.3193365206790896e-10), ('credit_history=critical account/ other credits existing (not at this bank)', 1.3175669590905702e-10), ('telephone=yes, registered under the customers name ', -1.2732345510559146e-10), ('present_res_since', 1.2654679635099218e-10), ('account_check_status=< 0 DM', 1.2483279655786695e-10), ('credit_history=existing credits paid back duly till now', 1.2320948618923107e-10), ('age', 1.1714087362510142e-10), ('savings=100 <= ... < 500 DM', 1.0589266128041265e-10), ('installment_as_income_perc', 9.955813240938815e-11), ('property=if not A121/A122 : car or other, not in attribute 6', 9.81462518079502e-11), ('purpose=(vacation - does not exist?)', 9.383795155929865e-11), ('foreign_worker=no', 9.32258047520154e-11), ('purpose=repairs', 9.25717789860539e-11), ('duration_in_month', 8.984307141394522e-11), ('property=if not A121 : building society savings agreement/ life insurance', 8.848275879291845e-11), ('personal_status_sex=female : divorced/separated/married', 7.681401438135889e-11), ('job=unskilled - resident', 7.674718320501447e-11), ('housing=rent', 7.63105036505385e-11), ('other_installment_plans=bank', 7.290995815442599e-11), ('present_emp_since=... < 1 year ', 7.231099933289145e-11), ('credit_history=delay in paying off in the past', 7.11514289712914e-11), ('credit_history=no credits taken/ all credits paid back duly', 6.964967605790092e-11), ('account_check_status=>= 200 DM / salary assignments for at least 1 year', 6.563734076634755e-11), ('personal_status_sex=male : divorced/separated', 6.151444572083047e-11), ('purpose=retraining', 5.728820944884086e-11), ('savings=.. >= 1000 DM ', 5.677561821887076e-11), ('other_installment_plans=none', 5.636552080214635e-11), ('purpose=radio/television', 5.474639285224019e-11), ('purpose=education', 5.384246144691053e-11), ('purpose=domestic appliances', 5.2863966785770104e-11), ('other_installment_plans=stores', 5.0607321478495884e-11), ('purpose=business', 4.7107423811577826e-11), ('purpose=car (used)', 4.6208633403470586e-11), ('savings=500 <= ... < 1000 DM ', 4.2630339614148654e-11), ('personal_status_sex=male : married/widowed', 3.833905983887422e-11), ('personal_status_sex=male : single', -3.736088059172515e-11), ('purpose=furniture/equipment', 3.3485181646748535e-11), ('job=unemployed/ unskilled - non-resident', -3.167092064106267e-11), ('other_debtors=guarantor', -2.0700543544217667e-11), ('present_emp_since=4 <= ... < 7 years', 1.0229281485438932e-11)]\n"
     ]
    }
   ],
   "source": [
    "limeExplainer = LimeXAITabularExplainer(bbox)\n",
    "config = {'feature_selection': 'lasso_path'}\n",
    "limeExplainer.fit(df, class_field, config)\n",
    "lime_exp = limeExplainer.explain(inst)\n",
    "print(lime_exp.exp.as_list())"
   ]
  },
  {
   "cell_type": "code",
   "execution_count": 46,
   "id": "fb89dae8d4abb62a",
   "metadata": {
    "ExecuteTime": {
     "end_time": "2024-07-04T15:57:01.055153Z",
     "start_time": "2024-07-04T15:57:00.952392Z"
    }
   },
   "outputs": [
    {
     "data": {
      "text/html": [
       "\n",
       "        <style>\n",
       "        .vega-bind {\n",
       "          position: absolute;\n",
       "          left: 0px;\n",
       "          top: 0px;\n",
       "          background-color:#eee;\n",
       "          padding:10px;\n",
       "          font-size:10px;\n",
       "        }\n",
       "        .chart-wrapper{\n",
       "          padding-top: 70px;\n",
       "        }\n",
       "\n",
       "        </style>\n",
       "        "
      ],
      "text/plain": [
       "<IPython.core.display.HTML object>"
      ]
     },
     "metadata": {},
     "output_type": "display_data"
    },
    {
     "data": {
      "text/html": [
       "\n",
       "<div id=\"altair-viz-108853a745994c6591a1df58edb93685\"></div>\n",
       "<script type=\"text/javascript\">\n",
       "  var VEGA_DEBUG = (typeof VEGA_DEBUG == \"undefined\") ? {} : VEGA_DEBUG;\n",
       "  (function(spec, embedOpt){\n",
       "    let outputDiv = document.currentScript.previousElementSibling;\n",
       "    if (outputDiv.id !== \"altair-viz-108853a745994c6591a1df58edb93685\") {\n",
       "      outputDiv = document.getElementById(\"altair-viz-108853a745994c6591a1df58edb93685\");\n",
       "    }\n",
       "    const paths = {\n",
       "      \"vega\": \"https://cdn.jsdelivr.net/npm//vega@5?noext\",\n",
       "      \"vega-lib\": \"https://cdn.jsdelivr.net/npm//vega-lib?noext\",\n",
       "      \"vega-lite\": \"https://cdn.jsdelivr.net/npm//vega-lite@4.17.0?noext\",\n",
       "      \"vega-embed\": \"https://cdn.jsdelivr.net/npm//vega-embed@6?noext\",\n",
       "    };\n",
       "\n",
       "    function maybeLoadScript(lib, version) {\n",
       "      var key = `${lib.replace(\"-\", \"\")}_version`;\n",
       "      return (VEGA_DEBUG[key] == version) ?\n",
       "        Promise.resolve(paths[lib]) :\n",
       "        new Promise(function(resolve, reject) {\n",
       "          var s = document.createElement('script');\n",
       "          document.getElementsByTagName(\"head\")[0].appendChild(s);\n",
       "          s.async = true;\n",
       "          s.onload = () => {\n",
       "            VEGA_DEBUG[key] = version;\n",
       "            return resolve(paths[lib]);\n",
       "          };\n",
       "          s.onerror = () => reject(`Error loading script: ${paths[lib]}`);\n",
       "          s.src = paths[lib];\n",
       "        });\n",
       "    }\n",
       "\n",
       "    function showError(err) {\n",
       "      outputDiv.innerHTML = `<div class=\"error\" style=\"color:red;\">${err}</div>`;\n",
       "      throw err;\n",
       "    }\n",
       "\n",
       "    function displayChart(vegaEmbed) {\n",
       "      vegaEmbed(outputDiv, spec, embedOpt)\n",
       "        .catch(err => showError(`Javascript Error: ${err.message}<br>This usually means there's a typo in your chart specification. See the javascript console for the full traceback.`));\n",
       "    }\n",
       "\n",
       "    if(typeof define === \"function\" && define.amd) {\n",
       "      requirejs.config({paths});\n",
       "      require([\"vega-embed\"], displayChart, err => showError(`Error loading script: ${err.message}`));\n",
       "    } else {\n",
       "      maybeLoadScript(\"vega\", \"5\")\n",
       "        .then(() => maybeLoadScript(\"vega-lite\", \"4.17.0\"))\n",
       "        .then(() => maybeLoadScript(\"vega-embed\", \"6\"))\n",
       "        .catch(showError)\n",
       "        .then(() => displayChart(vegaEmbed));\n",
       "    }\n",
       "  })({\"config\": {\"view\": {\"continuousWidth\": 400, \"continuousHeight\": 300}, \"axis\": {\"labelFontSize\": 10, \"labelLimit\": 225.0}}, \"vconcat\": [{\"layer\": [{\"data\": {\"name\": \"data-3dc5498ca33da3394a443949aa124d74\"}, \"mark\": {\"type\": \"rule\", \"strokeWidth\": 3}, \"encoding\": {\"color\": {\"field\": \"xValue\", \"legend\": null, \"scale\": {\"domain\": [-0.031955012192442574, 0.031955012192442574], \"domainMid\": 0, \"scheme\": \"redyellowblue\"}, \"type\": \"quantitative\"}, \"x\": {\"axis\": {\"orient\": \"top\", \"titleFontSize\": 10}, \"field\": \"xValue\", \"title\": \"Select a cutoff range for Feature Importance values \", \"type\": \"quantitative\"}}}, {\"data\": {\"name\": \"data-c7bc3ae69e1253e8223f70a11d04b99d\"}, \"mark\": {\"type\": \"rect\", \"color\": \"black\", \"height\": 20, \"opacity\": 0.4, \"tooltip\": true}, \"encoding\": {\"x\": {\"field\": \"x_min\", \"type\": \"quantitative\"}, \"x2\": {\"field\": \"x_max\"}, \"y\": {\"axis\": null, \"field\": \"y\", \"type\": \"quantitative\"}}, \"selection\": {\"Cutter\": {\"type\": \"single\", \"fields\": [\"cutoff\"], \"bind\": {\"input\": \"range\", \"max\": 0.031955012192442574, \"min\": 0, \"name\": \"Importance cutoff value (\\u00b1) \", \"step\": 0.0006391002438488515}, \"init\": {\"cutoff\": 0.0}}}, \"transform\": [{\"calculate\": \"(-Cutter.cutoff)\", \"as\": \"x_min\"}, {\"calculate\": \"Cutter.cutoff\", \"as\": \"x_max\"}]}], \"height\": 20}, {\"layer\": [{\"data\": {\"name\": \"data-ee26718d85b959a2fde507500873f632\"}, \"mark\": \"bar\", \"encoding\": {\"color\": {\"field\": \"value\", \"legend\": null, \"scale\": {\"domain\": [-0.031955012192442574, 0.031955012192442574], \"domainMid\": 0, \"scheme\": \"blueorange\"}, \"type\": \"quantitative\"}, \"tooltip\": [{\"field\": \"name\", \"title\": \"Feature\", \"type\": \"nominal\"}, {\"field\": \"value\", \"title\": \"Importance\", \"type\": \"quantitative\"}], \"x\": {\"field\": \"value\", \"title\": null, \"type\": \"quantitative\"}, \"y\": {\"field\": \"name\", \"sort\": {\"field\": \"value\", \"op\": \"mean\", \"order\": \"descending\"}, \"title\": null, \"type\": \"nominal\"}}, \"selection\": {\"Cutter\": {\"type\": \"single\", \"fields\": [\"cutoff\"], \"bind\": {\"input\": \"range\", \"max\": 0.031955012192442574, \"min\": 0, \"name\": \"Importance cutoff value (\\u00b1) \", \"step\": 0.0006391002438488515}, \"init\": {\"cutoff\": 0.0}}}, \"transform\": [{\"filter\": \"((datum.value > Cutter.cutoff) || (datum.value < (-Cutter.cutoff)))\"}]}, {\"data\": {\"name\": \"data-9c00aa9dc2b1c1a0b4bf9b34ead12925\"}, \"mark\": \"rule\", \"encoding\": {\"x\": {\"field\": \"x\", \"type\": \"quantitative\"}}}]}], \"padding\": 10, \"$schema\": \"https://vega.github.io/schema/vega-lite/v4.17.0.json\", \"datasets\": {\"data-3dc5498ca33da3394a443949aa124d74\": [{\"xValue\": -0.031955012192442574}, {\"xValue\": -0.03163546207051815}, {\"xValue\": -0.031315911948593726}, {\"xValue\": -0.030996361826669303}, {\"xValue\": -0.03067681170474488}, {\"xValue\": -0.030357261582820455}, {\"xValue\": -0.03003771146089603}, {\"xValue\": -0.029718161338971608}, {\"xValue\": -0.029398611217047184}, {\"xValue\": -0.02907906109512276}, {\"xValue\": -0.028759510973198336}, {\"xValue\": -0.028439960851273913}, {\"xValue\": -0.02812041072934949}, {\"xValue\": -0.027800860607425065}, {\"xValue\": -0.02748131048550064}, {\"xValue\": -0.027161760363576218}, {\"xValue\": -0.026842210241651794}, {\"xValue\": -0.02652266011972737}, {\"xValue\": -0.026203109997802947}, {\"xValue\": -0.025883559875878523}, {\"xValue\": -0.0255640097539541}, {\"xValue\": -0.025244459632029675}, {\"xValue\": -0.024924909510105252}, {\"xValue\": -0.024605359388180828}, {\"xValue\": -0.024285809266256404}, {\"xValue\": -0.02396625914433198}, {\"xValue\": -0.023646709022407557}, {\"xValue\": -0.023327158900483133}, {\"xValue\": -0.02300760877855871}, {\"xValue\": -0.022688058656634286}, {\"xValue\": -0.022368508534709862}, {\"xValue\": -0.022048958412785438}, {\"xValue\": -0.021729408290861014}, {\"xValue\": -0.02140985816893659}, {\"xValue\": -0.021090308047012167}, {\"xValue\": -0.020770757925087743}, {\"xValue\": -0.02045120780316332}, {\"xValue\": -0.020131657681238896}, {\"xValue\": -0.019812107559314472}, {\"xValue\": -0.01949255743739005}, {\"xValue\": -0.019173007315465625}, {\"xValue\": -0.0188534571935412}, {\"xValue\": -0.018533907071616777}, {\"xValue\": -0.018214356949692354}, {\"xValue\": -0.01789480682776793}, {\"xValue\": -0.017575256705843506}, {\"xValue\": -0.017255706583919082}, {\"xValue\": -0.01693615646199466}, {\"xValue\": -0.016616606340070235}, {\"xValue\": -0.01629705621814581}, {\"xValue\": -0.015977506096221387}, {\"xValue\": -0.015657955974296964}, {\"xValue\": -0.01533840585237254}, {\"xValue\": -0.015018855730448116}, {\"xValue\": -0.014699305608523693}, {\"xValue\": -0.014379755486599269}, {\"xValue\": -0.014060205364674845}, {\"xValue\": -0.013740655242750421}, {\"xValue\": -0.013421105120825998}, {\"xValue\": -0.013101554998901574}, {\"xValue\": -0.01278200487697715}, {\"xValue\": -0.012462454755052726}, {\"xValue\": -0.012142904633128303}, {\"xValue\": -0.011823354511203879}, {\"xValue\": -0.011503804389279455}, {\"xValue\": -0.011184254267355032}, {\"xValue\": -0.010864704145430608}, {\"xValue\": -0.010545154023506184}, {\"xValue\": -0.01022560390158176}, {\"xValue\": -0.009906053779657337}, {\"xValue\": -0.009586503657732913}, {\"xValue\": -0.00926695353580849}, {\"xValue\": -0.008947403413884066}, {\"xValue\": -0.008627853291959642}, {\"xValue\": -0.008308303170035218}, {\"xValue\": -0.007988753048110794}, {\"xValue\": -0.007669202926186371}, {\"xValue\": -0.007349652804261947}, {\"xValue\": -0.007030102682337523}, {\"xValue\": -0.0067105525604130994}, {\"xValue\": -0.006391002438488676}, {\"xValue\": -0.006071452316564252}, {\"xValue\": -0.005751902194639828}, {\"xValue\": -0.0054323520727154045}, {\"xValue\": -0.005112801950790981}, {\"xValue\": -0.004793251828866557}, {\"xValue\": -0.004473701706942133}, {\"xValue\": -0.00415415158501771}, {\"xValue\": -0.003834601463093286}, {\"xValue\": -0.003515051341168862}, {\"xValue\": -0.0031955012192444385}, {\"xValue\": -0.0028759510973200147}, {\"xValue\": -0.002556400975395591}, {\"xValue\": -0.0022368508534711673}, {\"xValue\": -0.0019173007315467436}, {\"xValue\": -0.0015977506096223199}, {\"xValue\": -0.0012782004876978961}, {\"xValue\": -0.0009586503657734724}, {\"xValue\": -0.0006391002438490487}, {\"xValue\": -0.00031955012192462495}, {\"xValue\": -2.0122792321330962e-16}, {\"xValue\": 0.0003195501219242225}, {\"xValue\": 0.0006391002438486462}, {\"xValue\": 0.0009586503657730699}, {\"xValue\": 0.0012782004876974937}, {\"xValue\": 0.0015977506096219174}, {\"xValue\": 0.0019173007315463411}, {\"xValue\": 0.002236850853470765}, {\"xValue\": 0.0025564009753951886}, {\"xValue\": 0.0028759510973196123}, {\"xValue\": 0.003195501219244036}, {\"xValue\": 0.0035150513411684597}, {\"xValue\": 0.0038346014630928835}, {\"xValue\": 0.004154151585017307}, {\"xValue\": 0.004473701706941731}, {\"xValue\": 0.004793251828866155}, {\"xValue\": 0.005112801950790578}, {\"xValue\": 0.005432352072715002}, {\"xValue\": 0.005751902194639426}, {\"xValue\": 0.0060714523165638495}, {\"xValue\": 0.006391002438488273}, {\"xValue\": 0.006710552560412697}, {\"xValue\": 0.007030102682337121}, {\"xValue\": 0.0073496528042615444}, {\"xValue\": 0.007669202926185968}, {\"xValue\": 0.007988753048110392}, {\"xValue\": 0.008308303170034816}, {\"xValue\": 0.00862785329195924}, {\"xValue\": 0.008947403413883663}, {\"xValue\": 0.009266953535808087}, {\"xValue\": 0.00958650365773251}, {\"xValue\": 0.009906053779656934}, {\"xValue\": 0.010225603901581358}, {\"xValue\": 0.010545154023505782}, {\"xValue\": 0.010864704145430205}, {\"xValue\": 0.011184254267354629}, {\"xValue\": 0.011503804389279053}, {\"xValue\": 0.011823354511203477}, {\"xValue\": 0.0121429046331279}, {\"xValue\": 0.012462454755052324}, {\"xValue\": 0.012782004876976748}, {\"xValue\": 0.013101554998901171}, {\"xValue\": 0.013421105120825595}, {\"xValue\": 0.013740655242750019}, {\"xValue\": 0.014060205364674443}, {\"xValue\": 0.014379755486598866}, {\"xValue\": 0.01469930560852329}, {\"xValue\": 0.015018855730447714}, {\"xValue\": 0.015338405852372138}, {\"xValue\": 0.01565795597429656}, {\"xValue\": 0.015977506096220985}, {\"xValue\": 0.01629705621814541}, {\"xValue\": 0.016616606340069832}, {\"xValue\": 0.016936156461994256}, {\"xValue\": 0.01725570658391868}, {\"xValue\": 0.017575256705843104}, {\"xValue\": 0.017894806827767527}, {\"xValue\": 0.01821435694969195}, {\"xValue\": 0.018533907071616375}, {\"xValue\": 0.0188534571935408}, {\"xValue\": 0.019173007315465222}, {\"xValue\": 0.019492557437389646}, {\"xValue\": 0.01981210755931407}, {\"xValue\": 0.020131657681238493}, {\"xValue\": 0.020451207803162917}, {\"xValue\": 0.02077075792508734}, {\"xValue\": 0.021090308047011765}, {\"xValue\": 0.02140985816893619}, {\"xValue\": 0.021729408290860612}, {\"xValue\": 0.022048958412785036}, {\"xValue\": 0.02236850853470946}, {\"xValue\": 0.022688058656633883}, {\"xValue\": 0.023007608778558307}, {\"xValue\": 0.02332715890048273}, {\"xValue\": 0.023646709022407154}, {\"xValue\": 0.023966259144331578}, {\"xValue\": 0.024285809266256002}, {\"xValue\": 0.024605359388180426}, {\"xValue\": 0.02492490951010485}, {\"xValue\": 0.025244459632029273}, {\"xValue\": 0.025564009753953697}, {\"xValue\": 0.02588355987587812}, {\"xValue\": 0.026203109997802544}, {\"xValue\": 0.026522660119726968}, {\"xValue\": 0.02684221024165139}, {\"xValue\": 0.027161760363575815}, {\"xValue\": 0.02748131048550024}, {\"xValue\": 0.027800860607424663}, {\"xValue\": 0.028120410729349087}, {\"xValue\": 0.02843996085127351}, {\"xValue\": 0.028759510973197934}, {\"xValue\": 0.029079061095122358}, {\"xValue\": 0.02939861121704678}, {\"xValue\": 0.029718161338971205}, {\"xValue\": 0.03003771146089563}, {\"xValue\": 0.030357261582820053}, {\"xValue\": 0.030676811704744476}, {\"xValue\": 0.030996361826668893}, {\"xValue\": 0.031315911948593324}, {\"xValue\": 0.031635462070517754}], \"data-c7bc3ae69e1253e8223f70a11d04b99d\": [{\"y\": 0, \"x\": -0.5, \"x2\": 0.5}], \"data-ee26718d85b959a2fde507500873f632\": [{\"name\": \"account_check_status=no checking account\", \"value\": -0.031955012192442574}, {\"name\": \"duration_in_month\", \"value\": 0.030839782539954508}, {\"name\": \"account_check_status=< 0 DM\", \"value\": 0.027467865053919967}, {\"name\": \"credit_history=critical account/ other credits existing (not at this bank)\", \"value\": -0.026434593932261205}, {\"name\": \"other_installment_plans=bank\", \"value\": 0.02294961869095158}, {\"name\": \"age\", \"value\": -0.022178867490814862}, {\"name\": \"property=real estate\", \"value\": -0.020171926658649243}, {\"name\": \"savings=... < 100 DM\", \"value\": 0.01793407873368487}, {\"name\": \"installment_as_income_perc\", \"value\": 0.015581579840944696}, {\"name\": \"property=unknown / no property\", \"value\": 0.015253540546335109}], \"data-9c00aa9dc2b1c1a0b4bf9b34ead12925\": [{\"x\": 0}]}}, {\"mode\": \"vega-lite\"});\n",
       "</script>"
      ],
      "text/plain": [
       "alt.VConcatChart(...)"
      ]
     },
     "metadata": {},
     "output_type": "display_data"
    }
   ],
   "source": [
    "lime_exp.plot_features_importance()"
   ]
  },
  {
   "cell_type": "code",
   "execution_count": null,
   "id": "b780cd0666096952",
   "metadata": {},
   "outputs": [],
   "source": []
  }
 ],
 "metadata": {
  "kernelspec": {
   "display_name": "Python 3 (ipykernel)",
   "language": "python",
   "name": "python3"
  },
  "language_info": {
   "codemirror_mode": {
    "name": "ipython",
    "version": 3
   },
   "file_extension": ".py",
   "mimetype": "text/x-python",
   "name": "python",
   "nbconvert_exporter": "python",
   "pygments_lexer": "ipython3",
   "version": "3.8.13"
  }
 },
 "nbformat": 4,
 "nbformat_minor": 5
}
