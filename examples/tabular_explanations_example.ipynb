{
 "cells": [
  {
   "cell_type": "code",
   "execution_count": 1,
   "metadata": {},
   "outputs": [],
   "source": [
    "import pandas as pd\n",
    "import numpy as np\n",
    "\n",
    "from sklearn import preprocessing\n",
    "from sklearn.ensemble import RandomForestClassifier\n",
    "from sklearn.model_selection import train_test_split\n",
    "from sklearn.linear_model import LogisticRegression\n",
    "\n",
    "from xailib.data_loaders.dataframe_loader import prepare_dataframe\n",
    "\n",
    "from xailib.explainers.lime_explainer import LimeXAITabularExplainer\n",
    "from xailib.explainers.lore_explainer import LoreTabularExplainer\n",
    "from xailib.explainers.shap_explainer_tab import ShapXAITabularExplainer\n",
    "\n",
    "from xailib.models.sklearn_classifier_wrapper import sklearn_classifier_wrapper"
   ]
  },
  {
   "cell_type": "markdown",
   "metadata": {},
   "source": [
    "# Learning and explaining German Credit Dataset"
   ]
  },
  {
   "cell_type": "markdown",
   "metadata": {},
   "source": [
    "## Loading and preparation of data\n",
    "\n",
    "We start by reading from a CSV file the dataset to analyze. The table is loaded by means of the ```DataFrame``` class from the ```pandas``` library.\n",
    "\n",
    "Among all the attributes of the table, we select the ```class_field``` column that contains the observed class for the corresponding row."
   ]
  },
  {
   "cell_type": "code",
   "execution_count": 2,
   "metadata": {},
   "outputs": [],
   "source": [
    "source_file = 'datasets/german_credit.csv'\n",
    "class_field = 'default'\n",
    "# Load and transform dataset \n",
    "df = pd.read_csv(source_file, skipinitialspace=True, na_values='?', keep_default_na=True)"
   ]
  },
  {
   "cell_type": "markdown",
   "metadata": {},
   "source": [
    "After the data is loaded in memory, we need to extract metadata information to automatically handle the content withint the table.\n",
    "\n",
    "The method ```prepare_dataframe``` scans the table and extract the following information:\n",
    " * ```df```: is a trasformed version of the original dataframe, where discrete attributes are transformed into numerical attributes by using one hot encoding strategy;\n",
    " * ```feature_names```: is a list containint the names of the features after the transformation;\n",
    " * ```class_values```: the list of all the possible values for the ```class_field``` column;\n",
    " * ```numeric_columns```: a list of the original features that contain numeric (i.e. continuous) values;\n",
    " * ```rdf```: the original dataframe, before the transformation;\n",
    " * ```real_feature_names```: the list of the features of the dataframe before the transformation;\n",
    " * ```features_map```: it is a dictionary pointing each feature to the original one before the transformation."
   ]
  },
  {
   "cell_type": "code",
   "execution_count": 3,
   "metadata": {},
   "outputs": [],
   "source": [
    "df, feature_names, class_values, numeric_columns, rdf, real_feature_names, features_map = prepare_dataframe(df, class_field)"
   ]
  },
  {
   "cell_type": "markdown",
   "metadata": {},
   "source": [
    "### Learning a Random Forest classfier\n",
    "\n",
    "We train a RF classifier by using the ```sklearn``` library. We start by splitting the dataset into a train and test subsets. "
   ]
  },
  {
   "cell_type": "code",
   "execution_count": 4,
   "metadata": {},
   "outputs": [],
   "source": [
    "test_size = 0.3\n",
    "random_state = 42\n",
    "X_train, X_test, Y_train, Y_test = train_test_split(df[feature_names], df[class_field],\n",
    "                                                        test_size=test_size,\n",
    "                                                        random_state=random_state,\n",
    "                                                        stratify=df[class_field])\n",
    "\n"
   ]
  },
  {
   "cell_type": "markdown",
   "metadata": {},
   "source": [
    "Then we train the model on the training set. \n",
    "Once the model has been learned, we use a wrapper class to get access to the model for ```XAI lib```"
   ]
  },
  {
   "cell_type": "code",
   "execution_count": 5,
   "metadata": {},
   "outputs": [],
   "source": [
    "bb = RandomForestClassifier(n_estimators=20, random_state=random_state)\n",
    "bb.fit(X_train.values, Y_train.values)\n",
    "bbox = sklearn_classifier_wrapper(bb)   "
   ]
  },
  {
   "cell_type": "markdown",
   "metadata": {},
   "source": [
    "Select a new instance to be classfied by the model and print the predicted class."
   ]
  },
  {
   "cell_type": "code",
   "execution_count": 6,
   "metadata": {},
   "outputs": [
    {
     "name": "stdout",
     "output_type": "stream",
     "text": [
      "Instance  [ 15 975   2   3  25   2   1   0   1   0   0   0   1   0   0   0   0   0\n",
      "   0   0   0   0   0   1   0   0   0   1   0   0   0   0   0   1   0   0\n",
      "   0   1   0   0   0   0   1   1   0   0   0   0   1   0   0   1   0   0\n",
      "   1   0   0   1   0   0   1]\n",
      "True class  0\n",
      "Predicted class  [0]\n"
     ]
    }
   ],
   "source": [
    "inst = X_train.iloc[147].values\n",
    "print('Instance ',inst)\n",
    "print('True class ',Y_train.iloc[8])\n",
    "print('Predicted class ',bb.predict(inst.reshape(1, -1)))"
   ]
  },
  {
   "cell_type": "markdown",
   "metadata": {},
   "source": [
    "## Explaining the prediction\n",
    "We use the explanators of ```XAI lib``` to provide an explantion for the classified instance ```inst```.\n",
    "Every explainer of ```XAI lib``` takes in input the blackbox to be explained with the corresponding feature names, and a configuration object to initialize the explainer.\n",
    "\n",
    "### SHAP explainer"
   ]
  },
  {
   "cell_type": "code",
   "execution_count": null,
   "metadata": {},
   "outputs": [],
   "source": [
    "explainer = ShapXAITabularExplainer(bbox, feature_names)\n",
    "config = {'explainer' : 'tree', 'X_train' : X_train.iloc[0:100].values}\n",
    "explainer.fit(config)"
   ]
  },
  {
   "cell_type": "code",
   "execution_count": null,
   "metadata": {},
   "outputs": [],
   "source": [
    "exp = explainer.explain(inst)\n",
    "# print(exp.exp)"
   ]
  },
  {
   "cell_type": "code",
   "execution_count": null,
   "metadata": {},
   "outputs": [],
   "source": [
    "exp.plot_features_importance()"
   ]
  },
  {
   "cell_type": "markdown",
   "metadata": {},
   "source": [
    "### LORE explainer"
   ]
  },
  {
   "cell_type": "code",
   "execution_count": null,
   "metadata": {},
   "outputs": [],
   "source": [
    "explainer = LoreTabularExplainer(bbox)\n",
    "config = {'neigh_type':'rndgen', 'size':1000, 'ocr':0.1, 'ngen':10}\n",
    "explainer.fit(df, class_field, config)\n",
    "exp = explainer.explain(inst)\n",
    "print(exp)"
   ]
  },
  {
   "cell_type": "code",
   "execution_count": null,
   "metadata": {},
   "outputs": [],
   "source": [
    "exp.plotRules()"
   ]
  },
  {
   "cell_type": "code",
   "execution_count": null,
   "metadata": {},
   "outputs": [],
   "source": [
    "exp.plotCounterfactualRules()"
   ]
  },
  {
   "cell_type": "markdown",
   "metadata": {},
   "source": [
    "### LIME explainer"
   ]
  },
  {
   "cell_type": "code",
   "execution_count": 8,
   "metadata": {},
   "outputs": [
    {
     "name": "stdout",
     "output_type": "stream",
     "text": [
      "[('account_check_status=no checking account', -0.03792512128083548), ('duration_in_month', 0.03701527256562679), ('account_check_status=< 0 DM', 0.03144299031649348), ('savings=... < 100 DM', 0.020051934530021572), ('age', -0.019751080001761446), ('credit_history=critical account/ other credits existing (not at this bank)', -0.018970043296280513), ('other_installment_plans=none', -0.018869997928840695), ('other_installment_plans=bank', 0.017658677626390982), ('housing=own', -0.014948467979451343), ('credit_history=delay in paying off in the past', 0.012221985897781883)]\n"
     ]
    }
   ],
   "source": [
    "limeExplainer = LimeXAITabularExplainer(bbox)\n",
    "config = {'feature_selection': 'lasso_path'}\n",
    "limeExplainer.fit(df, class_field, config)\n",
    "lime_exp = limeExplainer.explain(inst)\n",
    "print(lime_exp.exp.as_list())"
   ]
  },
  {
   "cell_type": "code",
   "execution_count": 9,
   "metadata": {},
   "outputs": [
    {
     "data": {
      "text/html": [
       "\n",
       "        <style>\n",
       "        .vega-bind {\n",
       "          position: absolute;\n",
       "          left: 0px;\n",
       "          top: 0px;\n",
       "          background-color:#eee;\n",
       "          padding:10px;\n",
       "          font-size:10px;\n",
       "        }\n",
       "        .chart-wrapper{\n",
       "          padding-top: 70px;\n",
       "        }\n",
       "\n",
       "        </style>\n",
       "        "
      ],
      "text/plain": [
       "<IPython.core.display.HTML object>"
      ]
     },
     "metadata": {},
     "output_type": "display_data"
    },
    {
     "data": {
      "text/html": [
       "\n",
       "<div id=\"altair-viz-2ed68f4ea0804764a1e728496079e229\"></div>\n",
       "<script type=\"text/javascript\">\n",
       "  (function(spec, embedOpt){\n",
       "    let outputDiv = document.currentScript.previousElementSibling;\n",
       "    if (outputDiv.id !== \"altair-viz-2ed68f4ea0804764a1e728496079e229\") {\n",
       "      outputDiv = document.getElementById(\"altair-viz-2ed68f4ea0804764a1e728496079e229\");\n",
       "    }\n",
       "    const paths = {\n",
       "      \"vega\": \"https://cdn.jsdelivr.net/npm//vega@5?noext\",\n",
       "      \"vega-lib\": \"https://cdn.jsdelivr.net/npm//vega-lib?noext\",\n",
       "      \"vega-lite\": \"https://cdn.jsdelivr.net/npm//vega-lite@4.8.1?noext\",\n",
       "      \"vega-embed\": \"https://cdn.jsdelivr.net/npm//vega-embed@6?noext\",\n",
       "    };\n",
       "\n",
       "    function loadScript(lib) {\n",
       "      return new Promise(function(resolve, reject) {\n",
       "        var s = document.createElement('script');\n",
       "        s.src = paths[lib];\n",
       "        s.async = true;\n",
       "        s.onload = () => resolve(paths[lib]);\n",
       "        s.onerror = () => reject(`Error loading script: ${paths[lib]}`);\n",
       "        document.getElementsByTagName(\"head\")[0].appendChild(s);\n",
       "      });\n",
       "    }\n",
       "\n",
       "    function showError(err) {\n",
       "      outputDiv.innerHTML = `<div class=\"error\" style=\"color:red;\">${err}</div>`;\n",
       "      throw err;\n",
       "    }\n",
       "\n",
       "    function displayChart(vegaEmbed) {\n",
       "      vegaEmbed(outputDiv, spec, embedOpt)\n",
       "        .catch(err => showError(`Javascript Error: ${err.message}<br>This usually means there's a typo in your chart specification. See the javascript console for the full traceback.`));\n",
       "    }\n",
       "\n",
       "    if(typeof define === \"function\" && define.amd) {\n",
       "      requirejs.config({paths});\n",
       "      require([\"vega-embed\"], displayChart, err => showError(`Error loading script: ${err.message}`));\n",
       "    } else if (typeof vegaEmbed === \"function\") {\n",
       "      displayChart(vegaEmbed);\n",
       "    } else {\n",
       "      loadScript(\"vega\")\n",
       "        .then(() => loadScript(\"vega-lite\"))\n",
       "        .then(() => loadScript(\"vega-embed\"))\n",
       "        .catch(showError)\n",
       "        .then(() => displayChart(vegaEmbed));\n",
       "    }\n",
       "  })({\"config\": {\"view\": {\"continuousWidth\": 400, \"continuousHeight\": 300}, \"axis\": {\"labelFontSize\": 10, \"labelLimit\": 225.0}}, \"vconcat\": [{\"layer\": [{\"data\": {\"name\": \"data-74da8e1e931767cabbafd8cf64a0bebf\"}, \"mark\": {\"type\": \"rule\", \"strokeWidth\": 3}, \"encoding\": {\"color\": {\"type\": \"quantitative\", \"field\": \"xValue\", \"legend\": null, \"scale\": {\"domain\": [-0.03792512128083548, 0.03792512128083548], \"domainMid\": 0, \"scheme\": \"redyellowblue\"}}, \"x\": {\"type\": \"quantitative\", \"axis\": {\"orient\": \"top\", \"titleFontSize\": 10}, \"field\": \"xValue\", \"title\": \"Select a cutoff range for Feature Importance values \"}}}, {\"data\": {\"name\": \"data-c7bc3ae69e1253e8223f70a11d04b99d\"}, \"mark\": {\"type\": \"rect\", \"color\": \"black\", \"height\": 20, \"opacity\": 0.4, \"tooltip\": true}, \"encoding\": {\"x\": {\"type\": \"quantitative\", \"field\": \"x_min\"}, \"x2\": {\"field\": \"x_max\"}, \"y\": {\"type\": \"quantitative\", \"axis\": null, \"field\": \"y\"}}, \"selection\": {\"Cutter\": {\"type\": \"single\", \"fields\": [\"cutoff\"], \"bind\": {\"input\": \"range\", \"max\": 0.03792512128083548, \"min\": 0, \"name\": \"Importance cutoff value (\\u00b1) \", \"step\": 0.0007585024256167096}, \"init\": {\"cutoff\": 0.0}}}, \"transform\": [{\"calculate\": \"(-Cutter.cutoff)\", \"as\": \"x_min\"}, {\"calculate\": \"Cutter.cutoff\", \"as\": \"x_max\"}]}], \"height\": 20}, {\"layer\": [{\"data\": {\"name\": \"data-374d406a2cf248b04a750afc2126e34c\"}, \"mark\": \"bar\", \"encoding\": {\"color\": {\"type\": \"quantitative\", \"field\": \"value\", \"legend\": null, \"scale\": {\"domain\": [-0.03792512128083548, 0.03792512128083548], \"domainMid\": 0, \"scheme\": \"blueorange\"}}, \"tooltip\": [{\"type\": \"nominal\", \"field\": \"name\", \"title\": \"Feature\"}, {\"type\": \"quantitative\", \"field\": \"value\", \"title\": \"Importance\"}], \"x\": {\"type\": \"quantitative\", \"field\": \"value\", \"title\": null}, \"y\": {\"type\": \"nominal\", \"field\": \"name\", \"sort\": {\"field\": \"value\", \"op\": \"mean\", \"order\": \"descending\"}, \"title\": null}}, \"selection\": {\"Cutter\": {\"type\": \"single\", \"fields\": [\"cutoff\"], \"bind\": {\"input\": \"range\", \"max\": 0.03792512128083548, \"min\": 0, \"name\": \"Importance cutoff value (\\u00b1) \", \"step\": 0.0007585024256167096}, \"init\": {\"cutoff\": 0.0}}}, \"transform\": [{\"filter\": \"((datum.value > Cutter.cutoff) || (datum.value < (-Cutter.cutoff)))\"}]}, {\"data\": {\"name\": \"data-9c00aa9dc2b1c1a0b4bf9b34ead12925\"}, \"mark\": \"rule\", \"encoding\": {\"x\": {\"type\": \"quantitative\", \"field\": \"x\"}}}]}], \"padding\": 10, \"$schema\": \"https://vega.github.io/schema/vega-lite/v4.8.1.json\", \"datasets\": {\"data-74da8e1e931767cabbafd8cf64a0bebf\": [{\"xValue\": -0.03792512128083548}, {\"xValue\": -0.03754587006802713}, {\"xValue\": -0.037166618855218776}, {\"xValue\": -0.036787367642410425}, {\"xValue\": -0.03640811642960207}, {\"xValue\": -0.03602886521679372}, {\"xValue\": -0.03564961400398537}, {\"xValue\": -0.03527036279117702}, {\"xValue\": -0.03489111157836867}, {\"xValue\": -0.034511860365560316}, {\"xValue\": -0.034132609152751965}, {\"xValue\": -0.033753357939943614}, {\"xValue\": -0.03337410672713526}, {\"xValue\": -0.03299485551432691}, {\"xValue\": -0.03261560430151856}, {\"xValue\": -0.03223635308871021}, {\"xValue\": -0.03185710187590186}, {\"xValue\": -0.031477850663093505}, {\"xValue\": -0.031098599450285154}, {\"xValue\": -0.030719348237476803}, {\"xValue\": -0.03034009702466845}, {\"xValue\": -0.0299608458118601}, {\"xValue\": -0.02958159459905175}, {\"xValue\": -0.029202343386243397}, {\"xValue\": -0.028823092173435046}, {\"xValue\": -0.028443840960626694}, {\"xValue\": -0.028064589747818343}, {\"xValue\": -0.02768533853500999}, {\"xValue\": -0.02730608732220164}, {\"xValue\": -0.02692683610939329}, {\"xValue\": -0.026547584896584937}, {\"xValue\": -0.026168333683776586}, {\"xValue\": -0.025789082470968235}, {\"xValue\": -0.025409831258159883}, {\"xValue\": -0.025030580045351532}, {\"xValue\": -0.02465132883254318}, {\"xValue\": -0.02427207761973483}, {\"xValue\": -0.023892826406926478}, {\"xValue\": -0.023513575194118126}, {\"xValue\": -0.023134323981309775}, {\"xValue\": -0.022755072768501423}, {\"xValue\": -0.022375821555693072}, {\"xValue\": -0.02199657034288472}, {\"xValue\": -0.02161731913007637}, {\"xValue\": -0.021238067917268018}, {\"xValue\": -0.020858816704459666}, {\"xValue\": -0.020479565491651315}, {\"xValue\": -0.020100314278842964}, {\"xValue\": -0.019721063066034612}, {\"xValue\": -0.01934181185322626}, {\"xValue\": -0.01896256064041791}, {\"xValue\": -0.018583309427609558}, {\"xValue\": -0.018204058214801207}, {\"xValue\": -0.017824807001992855}, {\"xValue\": -0.017445555789184504}, {\"xValue\": -0.017066304576376153}, {\"xValue\": -0.0166870533635678}, {\"xValue\": -0.01630780215075945}, {\"xValue\": -0.0159285509379511}, {\"xValue\": -0.015549299725142747}, {\"xValue\": -0.015170048512334396}, {\"xValue\": -0.014790797299526044}, {\"xValue\": -0.014411546086717693}, {\"xValue\": -0.014032294873909341}, {\"xValue\": -0.01365304366110099}, {\"xValue\": -0.013273792448292639}, {\"xValue\": -0.012894541235484287}, {\"xValue\": -0.012515290022675936}, {\"xValue\": -0.012136038809867584}, {\"xValue\": -0.011756787597059233}, {\"xValue\": -0.011377536384250882}, {\"xValue\": -0.01099828517144253}, {\"xValue\": -0.010619033958634179}, {\"xValue\": -0.010239782745825828}, {\"xValue\": -0.009860531533017476}, {\"xValue\": -0.009481280320209125}, {\"xValue\": -0.009102029107400773}, {\"xValue\": -0.008722777894592422}, {\"xValue\": -0.00834352668178407}, {\"xValue\": -0.00796427546897572}, {\"xValue\": -0.007585024256167368}, {\"xValue\": -0.007205773043359016}, {\"xValue\": -0.006826521830550665}, {\"xValue\": -0.006447270617742314}, {\"xValue\": -0.006068019404933962}, {\"xValue\": -0.005688768192125611}, {\"xValue\": -0.0053095169793172595}, {\"xValue\": -0.004930265766508908}, {\"xValue\": -0.004551014553700557}, {\"xValue\": -0.004171763340892205}, {\"xValue\": -0.003792512128083854}, {\"xValue\": -0.0034132609152755025}, {\"xValue\": -0.003034009702467151}, {\"xValue\": -0.0026547584896587997}, {\"xValue\": -0.0022755072768504483}, {\"xValue\": -0.001896256064042097}, {\"xValue\": -0.0015170048512337456}, {\"xValue\": -0.0011377536384253942}, {\"xValue\": -0.0007585024256170428}, {\"xValue\": -0.0003792512128086914}, {\"xValue\": -3.400058012914542e-16}, {\"xValue\": 0.0003792512128080114}, {\"xValue\": 0.0007585024256163628}, {\"xValue\": 0.0011377536384247142}, {\"xValue\": 0.0015170048512330656}, {\"xValue\": 0.001896256064041417}, {\"xValue\": 0.0022755072768497683}, {\"xValue\": 0.0026547584896581197}, {\"xValue\": 0.003034009702466471}, {\"xValue\": 0.0034132609152748225}, {\"xValue\": 0.003792512128083174}, {\"xValue\": 0.004171763340891525}, {\"xValue\": 0.004551014553699877}, {\"xValue\": 0.004930265766508228}, {\"xValue\": 0.0053095169793165795}, {\"xValue\": 0.005688768192124931}, {\"xValue\": 0.006068019404933282}, {\"xValue\": 0.006447270617741634}, {\"xValue\": 0.006826521830549985}, {\"xValue\": 0.007205773043358336}, {\"xValue\": 0.007585024256166688}, {\"xValue\": 0.00796427546897504}, {\"xValue\": 0.00834352668178339}, {\"xValue\": 0.008722777894591742}, {\"xValue\": 0.009102029107400093}, {\"xValue\": 0.009481280320208445}, {\"xValue\": 0.009860531533016796}, {\"xValue\": 0.010239782745825148}, {\"xValue\": 0.010619033958633499}, {\"xValue\": 0.01099828517144185}, {\"xValue\": 0.011377536384250202}, {\"xValue\": 0.011756787597058553}, {\"xValue\": 0.012136038809866904}, {\"xValue\": 0.012515290022675256}, {\"xValue\": 0.012894541235483607}, {\"xValue\": 0.013273792448291959}, {\"xValue\": 0.01365304366110031}, {\"xValue\": 0.014032294873908661}, {\"xValue\": 0.014411546086717013}, {\"xValue\": 0.014790797299525364}, {\"xValue\": 0.015170048512333716}, {\"xValue\": 0.015549299725142067}, {\"xValue\": 0.01592855093795042}, {\"xValue\": 0.01630780215075877}, {\"xValue\": 0.01668705336356712}, {\"xValue\": 0.017066304576375473}, {\"xValue\": 0.017445555789183824}, {\"xValue\": 0.017824807001992175}, {\"xValue\": 0.018204058214800527}, {\"xValue\": 0.018583309427608878}, {\"xValue\": 0.01896256064041723}, {\"xValue\": 0.01934181185322558}, {\"xValue\": 0.019721063066033932}, {\"xValue\": 0.020100314278842284}, {\"xValue\": 0.020479565491650635}, {\"xValue\": 0.020858816704458986}, {\"xValue\": 0.021238067917267338}, {\"xValue\": 0.02161731913007569}, {\"xValue\": 0.02199657034288404}, {\"xValue\": 0.022375821555692392}, {\"xValue\": 0.022755072768500743}, {\"xValue\": 0.023134323981309095}, {\"xValue\": 0.023513575194117446}, {\"xValue\": 0.023892826406925798}, {\"xValue\": 0.02427207761973415}, {\"xValue\": 0.0246513288325425}, {\"xValue\": 0.025030580045350852}, {\"xValue\": 0.025409831258159203}, {\"xValue\": 0.025789082470967555}, {\"xValue\": 0.026168333683775906}, {\"xValue\": 0.026547584896584257}, {\"xValue\": 0.02692683610939261}, {\"xValue\": 0.02730608732220096}, {\"xValue\": 0.02768533853500931}, {\"xValue\": 0.028064589747817663}, {\"xValue\": 0.028443840960626014}, {\"xValue\": 0.028823092173434366}, {\"xValue\": 0.029202343386242717}, {\"xValue\": 0.02958159459905107}, {\"xValue\": 0.02996084581185942}, {\"xValue\": 0.03034009702466777}, {\"xValue\": 0.030719348237476123}, {\"xValue\": 0.031098599450284474}, {\"xValue\": 0.031477850663092825}, {\"xValue\": 0.03185710187590118}, {\"xValue\": 0.03223635308870953}, {\"xValue\": 0.03261560430151788}, {\"xValue\": 0.03299485551432623}, {\"xValue\": 0.03337410672713458}, {\"xValue\": 0.033753357939942934}, {\"xValue\": 0.034132609152751285}, {\"xValue\": 0.034511860365559636}, {\"xValue\": 0.03489111157836799}, {\"xValue\": 0.03527036279117634}, {\"xValue\": 0.03564961400398469}, {\"xValue\": 0.03602886521679304}, {\"xValue\": 0.03640811642960139}, {\"xValue\": 0.036787367642409745}, {\"xValue\": 0.037166618855218096}, {\"xValue\": 0.03754587006802645}], \"data-c7bc3ae69e1253e8223f70a11d04b99d\": [{\"y\": 0, \"x\": -0.5, \"x2\": 0.5}], \"data-374d406a2cf248b04a750afc2126e34c\": [{\"name\": \"account_check_status=no checking account\", \"value\": -0.03792512128083548}, {\"name\": \"duration_in_month\", \"value\": 0.03701527256562679}, {\"name\": \"account_check_status=< 0 DM\", \"value\": 0.03144299031649348}, {\"name\": \"savings=... < 100 DM\", \"value\": 0.020051934530021572}, {\"name\": \"age\", \"value\": -0.019751080001761446}, {\"name\": \"credit_history=critical account/ other credits existing (not at this bank)\", \"value\": -0.018970043296280513}, {\"name\": \"other_installment_plans=none\", \"value\": -0.018869997928840695}, {\"name\": \"other_installment_plans=bank\", \"value\": 0.017658677626390982}, {\"name\": \"housing=own\", \"value\": -0.014948467979451343}, {\"name\": \"credit_history=delay in paying off in the past\", \"value\": 0.012221985897781883}], \"data-9c00aa9dc2b1c1a0b4bf9b34ead12925\": [{\"x\": 0}]}}, {\"mode\": \"vega-lite\"});\n",
       "</script>"
      ],
      "text/plain": [
       "alt.VConcatChart(...)"
      ]
     },
     "metadata": {},
     "output_type": "display_data"
    }
   ],
   "source": [
    "# limeExplainer.plot_lime_values(lime_exp.as_list(), 5, 10)\n",
    "lime_exp.plot_features_importance()"
   ]
  },
  {
   "cell_type": "markdown",
   "metadata": {},
   "source": [
    "## Learning a different model\n",
    "\n",
    "### Learning a Logistic Regressor\n",
    "\n",
    "We train a Logistic Regression by using the ```sklearn``` library. We transform the dataset by using a ```Scaler``` to normalize all the attributes.\n"
   ]
  },
  {
   "cell_type": "code",
   "execution_count": 10,
   "metadata": {},
   "outputs": [],
   "source": [
    "scaler = preprocessing.StandardScaler().fit(X_train)\n",
    "X_scaled = scaler.transform(X_train)\n",
    "\n",
    "bb = LogisticRegression(C=1, penalty='l2')\n",
    "bb.fit(X_scaled, Y_train.values)\n",
    "# pass the model to the wrapper to use it in the XAI lib\n",
    "bbox = sklearn_classifier_wrapper(bb)"
   ]
  },
  {
   "cell_type": "code",
   "execution_count": 11,
   "metadata": {},
   "outputs": [
    {
     "name": "stdout",
     "output_type": "stream",
     "text": [
      "Instance  [ 2.27797454  3.35504085  0.94540357  1.07634233  0.04854891 -0.72456474\n",
      " -0.43411405  1.65027399 -0.61477862 -0.25898489 -0.80681063  4.17385345\n",
      " -0.6435382  -0.32533856 -1.03489416 -0.20412415 -0.22941573 -0.33068147\n",
      "  1.75885396 -0.34899122 -0.60155441 -0.15294382 -0.09298136 -0.46852129\n",
      " -0.12038585 -0.08481889 -0.23623492 -1.21387736 -0.36174054 -0.24943031\n",
      "  2.15526362 -0.59715086 -0.45485883 -0.73610476 -0.43875307  4.23307441\n",
      " -0.65242771 -0.23958675 -0.32533856  0.90192655  4.72581563 -0.2259448\n",
      " -3.15238005 -0.54212562 -0.70181003 -0.63024248  2.30354212 -0.40586384\n",
      "  0.49329429 -0.23958675  2.88675135 -1.59227935 -0.46170508  2.46388049\n",
      " -1.33747696 -0.13206764 -0.5        -1.21387736  1.21387736 -0.20412415\n",
      "  0.20412415]\n",
      "Predicted class  [1]\n"
     ]
    }
   ],
   "source": [
    "# select a record to explain\n",
    "inst = X_scaled[182]\n",
    "print('Instance ',inst)\n",
    "print('Predicted class ',bb.predict(inst.reshape(1, -1)))"
   ]
  },
  {
   "cell_type": "markdown",
   "metadata": {},
   "source": [
    "## Explaining the prediction\n",
    "We use the same explainators as for the previous model. In this case, a few adjustments are necessary for the initialization of the explanators. For example, SHAP needs a specific configuration for the linear model we are using.\n",
    "### SHAP Explainer"
   ]
  },
  {
   "cell_type": "code",
   "execution_count": 12,
   "metadata": {},
   "outputs": [],
   "source": [
    "explainer = ShapXAITabularExplainer(bbox, feature_names)\n",
    "config = {'explainer' : 'linear', 'X_train' : X_scaled[0:100], 'feature_pert' : 'interventional'}\n",
    "explainer.fit(config)"
   ]
  },
  {
   "cell_type": "code",
   "execution_count": 13,
   "metadata": {},
   "outputs": [
    {
     "name": "stdout",
     "output_type": "stream",
     "text": [
      "<xailib.explainers.shap_explainer_tab.ShapXAITabularExplanation object at 0x12a72dac8>\n"
     ]
    }
   ],
   "source": [
    "exp = explainer.explain(inst)\n",
    "print(exp)"
   ]
  },
  {
   "cell_type": "code",
   "execution_count": 14,
   "metadata": {},
   "outputs": [
    {
     "data": {
      "text/html": [
       "\n",
       "        <style>\n",
       "        .vega-bind {\n",
       "          position: absolute;\n",
       "          left: 0px;\n",
       "          top: 0px;\n",
       "          background-color:#eee;\n",
       "          padding:10px;\n",
       "          font-size:10px;\n",
       "        }\n",
       "        .chart-wrapper{\n",
       "          padding-top: 70px;\n",
       "        }\n",
       "\n",
       "        </style>\n",
       "        "
      ],
      "text/plain": [
       "<IPython.core.display.HTML object>"
      ]
     },
     "metadata": {},
     "output_type": "display_data"
    },
    {
     "data": {
      "text/html": [
       "\n",
       "<div id=\"altair-viz-29414f5752574c7b9e68cddf08aaf2c0\"></div>\n",
       "<script type=\"text/javascript\">\n",
       "  (function(spec, embedOpt){\n",
       "    let outputDiv = document.currentScript.previousElementSibling;\n",
       "    if (outputDiv.id !== \"altair-viz-29414f5752574c7b9e68cddf08aaf2c0\") {\n",
       "      outputDiv = document.getElementById(\"altair-viz-29414f5752574c7b9e68cddf08aaf2c0\");\n",
       "    }\n",
       "    const paths = {\n",
       "      \"vega\": \"https://cdn.jsdelivr.net/npm//vega@5?noext\",\n",
       "      \"vega-lib\": \"https://cdn.jsdelivr.net/npm//vega-lib?noext\",\n",
       "      \"vega-lite\": \"https://cdn.jsdelivr.net/npm//vega-lite@4.8.1?noext\",\n",
       "      \"vega-embed\": \"https://cdn.jsdelivr.net/npm//vega-embed@6?noext\",\n",
       "    };\n",
       "\n",
       "    function loadScript(lib) {\n",
       "      return new Promise(function(resolve, reject) {\n",
       "        var s = document.createElement('script');\n",
       "        s.src = paths[lib];\n",
       "        s.async = true;\n",
       "        s.onload = () => resolve(paths[lib]);\n",
       "        s.onerror = () => reject(`Error loading script: ${paths[lib]}`);\n",
       "        document.getElementsByTagName(\"head\")[0].appendChild(s);\n",
       "      });\n",
       "    }\n",
       "\n",
       "    function showError(err) {\n",
       "      outputDiv.innerHTML = `<div class=\"error\" style=\"color:red;\">${err}</div>`;\n",
       "      throw err;\n",
       "    }\n",
       "\n",
       "    function displayChart(vegaEmbed) {\n",
       "      vegaEmbed(outputDiv, spec, embedOpt)\n",
       "        .catch(err => showError(`Javascript Error: ${err.message}<br>This usually means there's a typo in your chart specification. See the javascript console for the full traceback.`));\n",
       "    }\n",
       "\n",
       "    if(typeof define === \"function\" && define.amd) {\n",
       "      requirejs.config({paths});\n",
       "      require([\"vega-embed\"], displayChart, err => showError(`Error loading script: ${err.message}`));\n",
       "    } else if (typeof vegaEmbed === \"function\") {\n",
       "      displayChart(vegaEmbed);\n",
       "    } else {\n",
       "      loadScript(\"vega\")\n",
       "        .then(() => loadScript(\"vega-lite\"))\n",
       "        .then(() => loadScript(\"vega-embed\"))\n",
       "        .catch(showError)\n",
       "        .then(() => displayChart(vegaEmbed));\n",
       "    }\n",
       "  })({\"config\": {\"view\": {\"continuousWidth\": 400, \"continuousHeight\": 300}, \"axis\": {\"labelFontSize\": 10, \"labelLimit\": 225.0}}, \"vconcat\": [{\"layer\": [{\"data\": {\"name\": \"data-456173d5f8a5bb144673e82a151da09e\"}, \"mark\": {\"type\": \"rule\", \"strokeWidth\": 3}, \"encoding\": {\"color\": {\"type\": \"quantitative\", \"field\": \"xValue\", \"legend\": null, \"scale\": {\"domain\": [-0.8470079627378541, 0.8470079627378541], \"domainMid\": 0, \"scheme\": \"redyellowblue\"}}, \"x\": {\"type\": \"quantitative\", \"axis\": {\"orient\": \"top\", \"titleFontSize\": 10}, \"field\": \"xValue\", \"title\": \"Select a cutoff range for Feature Importance values \"}}}, {\"data\": {\"name\": \"data-c7bc3ae69e1253e8223f70a11d04b99d\"}, \"mark\": {\"type\": \"rect\", \"color\": \"black\", \"height\": 20, \"opacity\": 0.4, \"tooltip\": true}, \"encoding\": {\"x\": {\"type\": \"quantitative\", \"field\": \"x_min\"}, \"x2\": {\"field\": \"x_max\"}, \"y\": {\"type\": \"quantitative\", \"axis\": null, \"field\": \"y\"}}, \"selection\": {\"Cutter\": {\"type\": \"single\", \"fields\": [\"cutoff\"], \"bind\": {\"input\": \"range\", \"max\": 0.8470079627378541, \"min\": 0, \"name\": \"Importance cutoff value (\\u00b1) \", \"step\": 0.01694015925475708}, \"init\": {\"cutoff\": 0.0}}}, \"transform\": [{\"calculate\": \"(-Cutter.cutoff)\", \"as\": \"x_min\"}, {\"calculate\": \"Cutter.cutoff\", \"as\": \"x_max\"}]}], \"height\": 20}, {\"layer\": [{\"data\": {\"name\": \"data-3543b32c4654533cf48a041c66311614\"}, \"mark\": \"bar\", \"encoding\": {\"color\": {\"type\": \"quantitative\", \"field\": \"value\", \"legend\": null, \"scale\": {\"domain\": [-0.8470079627378541, 0.8470079627378541], \"domainMid\": 0, \"scheme\": \"blueorange\"}}, \"tooltip\": [{\"type\": \"nominal\", \"field\": \"name\", \"title\": \"Feature\"}, {\"type\": \"quantitative\", \"field\": \"value\", \"title\": \"Importance\"}], \"x\": {\"type\": \"quantitative\", \"field\": \"value\", \"title\": null}, \"y\": {\"type\": \"nominal\", \"field\": \"name\", \"sort\": {\"field\": \"value\", \"op\": \"mean\", \"order\": \"descending\"}, \"title\": null}}, \"selection\": {\"Cutter\": {\"type\": \"single\", \"fields\": [\"cutoff\"], \"bind\": {\"input\": \"range\", \"max\": 0.8470079627378541, \"min\": 0, \"name\": \"Importance cutoff value (\\u00b1) \", \"step\": 0.01694015925475708}, \"init\": {\"cutoff\": 0.0}}}, \"transform\": [{\"filter\": \"((datum.value > Cutter.cutoff) || (datum.value < (-Cutter.cutoff)))\"}]}, {\"data\": {\"name\": \"data-9c00aa9dc2b1c1a0b4bf9b34ead12925\"}, \"mark\": \"rule\", \"encoding\": {\"x\": {\"type\": \"quantitative\", \"field\": \"x\"}}}]}], \"padding\": 10, \"$schema\": \"https://vega.github.io/schema/vega-lite/v4.8.1.json\", \"datasets\": {\"data-456173d5f8a5bb144673e82a151da09e\": [{\"xValue\": -0.8470079627378541}, {\"xValue\": -0.8385378831104755}, {\"xValue\": -0.8300678034830969}, {\"xValue\": -0.8215977238557184}, {\"xValue\": -0.8131276442283398}, {\"xValue\": -0.8046575646009613}, {\"xValue\": -0.7961874849735827}, {\"xValue\": -0.7877174053462042}, {\"xValue\": -0.7792473257188256}, {\"xValue\": -0.770777246091447}, {\"xValue\": -0.7623071664640685}, {\"xValue\": -0.7538370868366899}, {\"xValue\": -0.7453670072093114}, {\"xValue\": -0.7368969275819328}, {\"xValue\": -0.7284268479545543}, {\"xValue\": -0.7199567683271757}, {\"xValue\": -0.7114866886997971}, {\"xValue\": -0.7030166090724186}, {\"xValue\": -0.69454652944504}, {\"xValue\": -0.6860764498176615}, {\"xValue\": -0.6776063701902829}, {\"xValue\": -0.6691362905629044}, {\"xValue\": -0.6606662109355258}, {\"xValue\": -0.6521961313081472}, {\"xValue\": -0.6437260516807687}, {\"xValue\": -0.6352559720533901}, {\"xValue\": -0.6267858924260116}, {\"xValue\": -0.618315812798633}, {\"xValue\": -0.6098457331712545}, {\"xValue\": -0.6013756535438759}, {\"xValue\": -0.5929055739164973}, {\"xValue\": -0.5844354942891188}, {\"xValue\": -0.5759654146617402}, {\"xValue\": -0.5674953350343617}, {\"xValue\": -0.5590252554069831}, {\"xValue\": -0.5505551757796046}, {\"xValue\": -0.542085096152226}, {\"xValue\": -0.5336150165248474}, {\"xValue\": -0.5251449368974689}, {\"xValue\": -0.5166748572700903}, {\"xValue\": -0.5082047776427118}, {\"xValue\": -0.4997346980153332}, {\"xValue\": -0.49126461838795465}, {\"xValue\": -0.4827945387605761}, {\"xValue\": -0.47432445913319754}, {\"xValue\": -0.465854379505819}, {\"xValue\": -0.4573842998784404}, {\"xValue\": -0.44891422025106187}, {\"xValue\": -0.4404441406236833}, {\"xValue\": -0.43197406099630475}, {\"xValue\": -0.4235039813689262}, {\"xValue\": -0.41503390174154764}, {\"xValue\": -0.4065638221141691}, {\"xValue\": -0.3980937424867905}, {\"xValue\": -0.38962366285941197}, {\"xValue\": -0.3811535832320334}, {\"xValue\": -0.37268350360465485}, {\"xValue\": -0.3642134239772763}, {\"xValue\": -0.35574334434989774}, {\"xValue\": -0.3472732647225192}, {\"xValue\": -0.3388031850951406}, {\"xValue\": -0.33033310546776207}, {\"xValue\": -0.3218630258403835}, {\"xValue\": -0.31339294621300495}, {\"xValue\": -0.3049228665856264}, {\"xValue\": -0.29645278695824784}, {\"xValue\": -0.2879827073308693}, {\"xValue\": -0.2795126277034907}, {\"xValue\": -0.27104254807611217}, {\"xValue\": -0.2625724684487336}, {\"xValue\": -0.25410238882135505}, {\"xValue\": -0.2456323091939765}, {\"xValue\": -0.23716222956659794}, {\"xValue\": -0.22869214993921938}, {\"xValue\": -0.22022207031184082}, {\"xValue\": -0.21175199068446227}, {\"xValue\": -0.2032819110570837}, {\"xValue\": -0.19481183142970515}, {\"xValue\": -0.1863417518023266}, {\"xValue\": -0.17787167217494804}, {\"xValue\": -0.16940159254756948}, {\"xValue\": -0.16093151292019092}, {\"xValue\": -0.15246143329281237}, {\"xValue\": -0.1439913536654338}, {\"xValue\": -0.13552127403805525}, {\"xValue\": -0.1270511944106767}, {\"xValue\": -0.11858111478329814}, {\"xValue\": -0.11011103515591958}, {\"xValue\": -0.10164095552854102}, {\"xValue\": -0.09317087590116246}, {\"xValue\": -0.08470079627378391}, {\"xValue\": -0.07623071664640535}, {\"xValue\": -0.06776063701902679}, {\"xValue\": -0.059290557391648235}, {\"xValue\": -0.05082047776426968}, {\"xValue\": -0.04235039813689112}, {\"xValue\": -0.033880318509512564}, {\"xValue\": -0.025410238882134006}, {\"xValue\": -0.01694015925475545}, {\"xValue\": -0.008470079627376892}, {\"xValue\": 1.6653345369377348e-15}, {\"xValue\": 0.008470079627380223}, {\"xValue\": 0.01694015925475878}, {\"xValue\": 0.025410238882137337}, {\"xValue\": 0.033880318509515894}, {\"xValue\": 0.04235039813689445}, {\"xValue\": 0.05082047776427301}, {\"xValue\": 0.059290557391651566}, {\"xValue\": 0.06776063701903012}, {\"xValue\": 0.07623071664640868}, {\"xValue\": 0.08470079627378724}, {\"xValue\": 0.0931708759011658}, {\"xValue\": 0.10164095552854435}, {\"xValue\": 0.11011103515592291}, {\"xValue\": 0.11858111478330147}, {\"xValue\": 0.12705119441068002}, {\"xValue\": 0.13552127403805858}, {\"xValue\": 0.14399135366543714}, {\"xValue\": 0.1524614332928157}, {\"xValue\": 0.16093151292019436}, {\"xValue\": 0.1694015925475728}, {\"xValue\": 0.17787167217495126}, {\"xValue\": 0.18634175180232992}, {\"xValue\": 0.1948118314297086}, {\"xValue\": 0.20328191105708704}, {\"xValue\": 0.21175199068446549}, {\"xValue\": 0.22022207031184415}, {\"xValue\": 0.22869214993922282}, {\"xValue\": 0.23716222956660127}, {\"xValue\": 0.24563230919397971}, {\"xValue\": 0.2541023888213584}, {\"xValue\": 0.26257246844873705}, {\"xValue\": 0.2710425480761155}, {\"xValue\": 0.27951262770349394}, {\"xValue\": 0.2879827073308726}, {\"xValue\": 0.2964527869582513}, {\"xValue\": 0.3049228665856297}, {\"xValue\": 0.31339294621300817}, {\"xValue\": 0.32186302584038684}, {\"xValue\": 0.3303331054677655}, {\"xValue\": 0.33880318509514395}, {\"xValue\": 0.3472732647225224}, {\"xValue\": 0.35574334434990107}, {\"xValue\": 0.36421342397727974}, {\"xValue\": 0.3726835036046582}, {\"xValue\": 0.38115358323203663}, {\"xValue\": 0.3896236628594153}, {\"xValue\": 0.39809374248679397}, {\"xValue\": 0.4065638221141724}, {\"xValue\": 0.41503390174155086}, {\"xValue\": 0.4235039813689295}, {\"xValue\": 0.4319740609963082}, {\"xValue\": 0.44044414062368664}, {\"xValue\": 0.4489142202510651}, {\"xValue\": 0.45738429987844376}, {\"xValue\": 0.4658543795058224}, {\"xValue\": 0.47432445913320087}, {\"xValue\": 0.4827945387605793}, {\"xValue\": 0.491264618387958}, {\"xValue\": 0.49973469801533665}, {\"xValue\": 0.5082047776427151}, {\"xValue\": 0.5166748572700935}, {\"xValue\": 0.5251449368974722}, {\"xValue\": 0.5336150165248509}, {\"xValue\": 0.5420850961522293}, {\"xValue\": 0.5505551757796078}, {\"xValue\": 0.5590252554069864}, {\"xValue\": 0.5674953350343651}, {\"xValue\": 0.5759654146617436}, {\"xValue\": 0.584435494289122}, {\"xValue\": 0.5929055739165007}, {\"xValue\": 0.6013756535438793}, {\"xValue\": 0.6098457331712578}, {\"xValue\": 0.6183158127986362}, {\"xValue\": 0.6267858924260149}, {\"xValue\": 0.6352559720533936}, {\"xValue\": 0.643726051680772}, {\"xValue\": 0.6521961313081505}, {\"xValue\": 0.6606662109355291}, {\"xValue\": 0.6691362905629078}, {\"xValue\": 0.6776063701902862}, {\"xValue\": 0.6860764498176647}, {\"xValue\": 0.6945465294450434}, {\"xValue\": 0.703016609072422}, {\"xValue\": 0.7114866886998005}, {\"xValue\": 0.7199567683271789}, {\"xValue\": 0.7284268479545576}, {\"xValue\": 0.7368969275819363}, {\"xValue\": 0.7453670072093147}, {\"xValue\": 0.7538370868366931}, {\"xValue\": 0.7623071664640718}, {\"xValue\": 0.7707772460914505}, {\"xValue\": 0.7792473257188289}, {\"xValue\": 0.7877174053462074}, {\"xValue\": 0.796187484973586}, {\"xValue\": 0.8046575646009647}, {\"xValue\": 0.8131276442283432}, {\"xValue\": 0.8215977238557216}, {\"xValue\": 0.8300678034831003}, {\"xValue\": 0.8385378831104789}, {\"xValue\": 0.8470079627378574}], \"data-c7bc3ae69e1253e8223f70a11d04b99d\": [{\"y\": 0, \"x\": -0.5, \"x2\": 0.5}], \"data-3543b32c4654533cf48a041c66311614\": [{\"name\": \"duration_in_month\", \"value\": 0.8470079627378541}, {\"name\": \"credit_amount\", \"value\": 0.6944189404874552}, {\"name\": \"installment_as_income_perc\", \"value\": 0.3043826317623826}, {\"name\": \"present_res_since\", \"value\": -0.017915878343538215}, {\"name\": \"age\", \"value\": -0.005163583410577356}, {\"name\": \"credits_this_bank\", \"value\": -0.20402960332384254}, {\"name\": \"people_under_maintenance\", \"value\": -0.056755931097354474}, {\"name\": \"account_check_status=0 <= ... < 200 DM\", \"value\": 0.2939399436033418}, {\"name\": \"account_check_status=< 0 DM\", \"value\": -0.21818023774927736}, {\"name\": \"account_check_status=>= 200 DM / salary assignments for at least 1 year\", \"value\": 9.60072863884819e-05}, {\"name\": \"account_check_status=no checking account\", \"value\": 0.3502124003353961}, {\"name\": \"credit_history=all credits at this bank paid back duly\", \"value\": 0.6337640692749543}, {\"name\": \"credit_history=critical account/ other credits existing (not at this bank)\", \"value\": 0.21823305363235895}, {\"name\": \"credit_history=delay in paying off in the past\", \"value\": -0.011253602415574547}, {\"name\": \"credit_history=existing credits paid back duly till now\", \"value\": -0.13292335773836597}, {\"name\": \"credit_history=no credits taken/ all credits paid back duly\", \"value\": -0.029597808453158823}, {\"name\": \"purpose=(vacation - does not exist?)\", \"value\": -0.06856154357807029}, {\"name\": \"purpose=business\", \"value\": 0.003674153425649057}, {\"name\": \"purpose=car (new)\", \"value\": 0.2513672502321305}, {\"name\": \"purpose=car (used)\", \"value\": 0.08468160953031668}, {\"name\": \"purpose=domestic appliances\", \"value\": 0.03854879546694716}, {\"name\": \"purpose=education\", \"value\": 0.0}, {\"name\": \"purpose=furniture/equipment\", \"value\": -2.9446802618582078e-18}, {\"name\": \"purpose=radio/television\", \"value\": 0.006492757319555031}, {\"name\": \"purpose=repairs\", \"value\": 0.005963146482736863}, {\"name\": \"purpose=retraining\", \"value\": 2.3901727085545897e-18}, {\"name\": \"savings=.. >= 1000 DM \", \"value\": 0.056705276861560266}, {\"name\": \"savings=... < 100 DM\", \"value\": -0.33819273164897024}, {\"name\": \"savings=100 <= ... < 500 DM\", \"value\": -0.012064219528328623}, {\"name\": \"savings=500 <= ... < 1000 DM \", \"value\": 0.0010553301554828342}, {\"name\": \"savings=unknown/ no savings account\", \"value\": -0.5556654011176968}, {\"name\": \"present_emp_since=.. >= 7 years\", \"value\": 0.0052940900934866746}, {\"name\": \"present_emp_since=... < 1 year \", \"value\": -0.04654979417893307}, {\"name\": \"present_emp_since=1 <= ... < 4 years\", \"value\": -0.017047143561136142}, {\"name\": \"present_emp_since=4 <= ... < 7 years\", \"value\": 0.09509224367078725}, {\"name\": \"present_emp_since=unemployed\", \"value\": 0.72638253902645}, {\"name\": \"personal_status_sex=female : divorced/separated/married\", \"value\": -0.05151278954058162}, {\"name\": \"personal_status_sex=male : divorced/separated\", \"value\": -0.023431119320486585}, {\"name\": \"personal_status_sex=male : married/widowed\", \"value\": -0.01650280113349013}, {\"name\": \"personal_status_sex=male : single\", \"value\": -0.134994120205601}, {\"name\": \"other_debtors=co-applicant\", \"value\": 0.421695043431072}, {\"name\": \"other_debtors=guarantor\", \"value\": 0.031225103977219948}, {\"name\": \"other_debtors=none\", \"value\": -0.11203996569130724}, {\"name\": \"property=if not A121 : building society savings agreement/ life insurance\", \"value\": 0.04236722282145007}, {\"name\": \"property=if not A121/A122 : car or other, not in attribute 6\", \"value\": 0.041922435650431605}, {\"name\": \"property=real estate\", \"value\": 0.0814789776398865}, {\"name\": \"property=unknown / no property\", \"value\": 0.7764063820618664}, {\"name\": \"other_installment_plans=bank\", \"value\": -0.07246505874542243}, {\"name\": \"other_installment_plans=none\", \"value\": -0.0821908358522365}, {\"name\": \"other_installment_plans=stores\", \"value\": 0.0016952408348179034}, {\"name\": \"housing=for free\", \"value\": -0.7476842519071202}, {\"name\": \"housing=own\", \"value\": 0.023375705983559408}, {\"name\": \"housing=rent\", \"value\": -0.105753305473695}, {\"name\": \"job=management/ self-employed/ highly qualified employee/ officer\", \"value\": -0.1219598759071389}, {\"name\": \"job=skilled employee / official\", \"value\": -0.028367937850261832}, {\"name\": \"job=unemployed/ unskilled - non-resident\", \"value\": 0.002873156187994504}, {\"name\": \"job=unskilled - resident\", \"value\": -0.014458079729267354}, {\"name\": \"telephone=none\", \"value\": -0.0750707003078665}, {\"name\": \"telephone=yes, registered under the customers name \", \"value\": -0.0750707003078658}, {\"name\": \"foreign_worker=no\", \"value\": 0.04268973216067927}, {\"name\": \"foreign_worker=yes\", \"value\": 0.04268973216067925}], \"data-9c00aa9dc2b1c1a0b4bf9b34ead12925\": [{\"x\": 0}]}}, {\"mode\": \"vega-lite\"});\n",
       "</script>"
      ],
      "text/plain": [
       "alt.VConcatChart(...)"
      ]
     },
     "metadata": {},
     "output_type": "display_data"
    }
   ],
   "source": [
    "exp.plot_features_importance()"
   ]
  },
  {
   "cell_type": "markdown",
   "metadata": {},
   "source": [
    "### LORE explainer"
   ]
  },
  {
   "cell_type": "code",
   "execution_count": 15,
   "metadata": {},
   "outputs": [
    {
     "name": "stdout",
     "output_type": "stream",
     "text": [
      "<xailib.explainers.lore_explainer.LoreTabularExplanation object at 0x12bc41a90>\n"
     ]
    }
   ],
   "source": [
    "explainer = LoreTabularExplainer(bbox)\n",
    "config = {'neigh_type':'geneticp', 'size':1000, 'ocr':0.1, 'ngen':10}\n",
    "explainer.fit(df, class_field, config)\n",
    "exp = explainer.explain(inst)\n",
    "print(exp)"
   ]
  },
  {
   "cell_type": "code",
   "execution_count": 16,
   "metadata": {},
   "outputs": [
    {
     "data": {
      "text/html": [
       "\n",
       "                <style>\n",
       "                .red {\n",
       "                background-color:firebrick;\n",
       "                padding:3px 5px 3px 5px;\n",
       "                border-radius:5px;\n",
       "\n",
       "                color:white;\n",
       "                }\n",
       "                .rules{\n",
       "                    margin-top:10px;\n",
       "                    font-weight: 400;\n",
       "                }\n",
       "                .rule{\n",
       "                padding:5px 20px 5px 20px;\n",
       "                border-radius:5px;\n",
       "                margin-right:5px;\n",
       "                font-size:12px;\n",
       "                line-height:20px;\n",
       "                display: block;\n",
       "                margin-bottom: 10px;\n",
       "                width: fit-content;\n",
       "                \n",
       "                color:white;\n",
       "                background-color:firebrick;\n",
       "                opacity:0.8;\n",
       "                }\n",
       "                </style>\n",
       "                "
      ],
      "text/plain": [
       "<IPython.core.display.HTML object>"
      ]
     },
     "metadata": {},
     "output_type": "display_data"
    },
    {
     "data": {
      "text/html": [
       "\n",
       "            <h3>Why the predicted value for class <span class='red'>default</span> is <span class='red'>1</span> ?</h3>\n",
       "            "
      ],
      "text/plain": [
       "<IPython.core.display.HTML object>"
      ]
     },
     "metadata": {},
     "output_type": "display_data"
    },
    {
     "data": {
      "text/html": [
       "\n",
       "            <p>Because all the following conditions happen:</p>\n",
       "            "
      ],
      "text/plain": [
       "<IPython.core.display.HTML object>"
      ]
     },
     "metadata": {},
     "output_type": "display_data"
    },
    {
     "data": {
      "text/html": [
       "<p class='rules'><span class='rule'>age <strong><=</strong> 20.726173400878906</span><span class='rule'>credit amount <strong>></strong> -439.6443485021591</span><span class='rule'>purpose=retraining <strong><=</strong> 0.11524588242173195</span><span class='rule'>duration in month <strong>></strong> -1.9407005310058594</span><span class='rule'>purpose=furniture/equipment <strong><=</strong> 0.18370826542377472</span><span class='rule'>foreign worker=no <strong><=</strong> 0.7168410122394562</span><span class='rule'>purpose=domestic appliances <strong><=</strong> 1.015466570854187</span><span class='rule'>savings=.. >= 1000 DM  <strong><=</strong> 0.7176859378814697</span><span class='rule'>purpose=(vacation - does not exist?) <strong><=</strong> 0.4622504562139511</span><span class='rule'>credit history=critical account/ other credits existing (not at this bank) <strong><=</strong> 0.9085964262485504</span></p>"
      ],
      "text/plain": [
       "<IPython.core.display.HTML object>"
      ]
     },
     "metadata": {},
     "output_type": "display_data"
    }
   ],
   "source": [
    "exp.plotRules()"
   ]
  },
  {
   "cell_type": "code",
   "execution_count": 17,
   "metadata": {},
   "outputs": [
    {
     "data": {
      "text/html": [
       "\n",
       "                <style>\n",
       "                .red {\n",
       "                background-color:firebrick;\n",
       "                padding:3px 5px 3px 5px;\n",
       "                border-radius:5px;\n",
       "                color:white;\n",
       "                }\n",
       "                .crules{\n",
       "                    margin-top:10px;\n",
       "                    font-weight: 400;\n",
       "                }\n",
       "                .crule{            \n",
       "                padding:5px 20px 5px 20px;\n",
       "                border-radius:5px;\n",
       "                margin-right:5px;\n",
       "                font-size:12px;\n",
       "                line-height:20px;\n",
       "                display: block;\n",
       "                margin-bottom: 10px;\n",
       "                width: fit-content;\n",
       "                \n",
       "                color:#202020;\n",
       "                background-color:gold;\n",
       "                }\n",
       "                </style>\n",
       "                "
      ],
      "text/plain": [
       "<IPython.core.display.HTML object>"
      ]
     },
     "metadata": {},
     "output_type": "display_data"
    },
    {
     "data": {
      "text/html": [
       "\n",
       "            <h3>The predicted value for class <span class='red'>default</span> is <span class='red'>1</span>.</h3>\n",
       "            <h3>It would have been:</h3>\n",
       "            "
      ],
      "text/plain": [
       "<IPython.core.display.HTML object>"
      ]
     },
     "metadata": {},
     "output_type": "display_data"
    },
    {
     "data": {
      "text/html": [
       "\n",
       "                <div class='crules'>\n",
       "                    <div>\n",
       "                        <h4><span class='red'>0</span> if the following condition holds</h4>\n",
       "                    </br><span class='crule'>age <= 20.726173400878906</span><span class='crule'>credit amount <= -439.6443485021591</span>\n",
       "                    </div>\n",
       "                </div>\n",
       "            "
      ],
      "text/plain": [
       "<IPython.core.display.HTML object>"
      ]
     },
     "metadata": {},
     "output_type": "display_data"
    },
    {
     "data": {
      "text/html": [
       "\n",
       "                <div class='crules'>\n",
       "                    <div>\n",
       "                        <h4><span class='red'>0</span> if the following condition holds</h4>\n",
       "                    </br><span class='crule'>age > 20.726173400878906</span><span class='crule'>credit amount <= 26.468921303749084</span><span class='crule'>duration in month <= 5.795059680938721</span><span class='crule'>installment as income perc <= 4.603440999984741</span>\n",
       "                    </div>\n",
       "                </div>\n",
       "            "
      ],
      "text/plain": [
       "<IPython.core.display.HTML object>"
      ]
     },
     "metadata": {},
     "output_type": "display_data"
    }
   ],
   "source": [
    "exp.plotCounterfactualRules()"
   ]
  },
  {
   "cell_type": "markdown",
   "metadata": {},
   "source": [
    "### LIME explainer"
   ]
  },
  {
   "cell_type": "code",
   "execution_count": 19,
   "metadata": {},
   "outputs": [
    {
     "name": "stdout",
     "output_type": "stream",
     "text": [
      "[('other_debtors=co-applicant', -1.3046177878918616e-09), ('credit_history=all credits at this bank paid back duly', -1.0114574629252053e-09), ('present_emp_since=unemployed', -8.87554096296626e-10), ('other_debtors=none', 7.43754044231906e-10), ('housing=for free', -4.4157786564097103e-10), ('property=unknown / no property', -3.275710719845092e-10), ('credit_amount', 3.271233788564153e-10), ('job=management/ self-employed/ highly qualified employee/ officer', -3.164190703926506e-10), ('housing=own', 2.8902027822084106e-10), ('savings=unknown/ no savings account', -2.604277452741881e-10), ('job=skilled employee / official', 2.3808188198617575e-10), ('foreign_worker=yes', 2.365347360238489e-10), ('telephone=none', 2.2048259721367863e-10), ('age', 2.171945479826713e-10), ('savings=... < 100 DM', 2.1116662177987812e-10), ('credits_this_bank', 1.9999632029038067e-10), ('credit_history=existing credits paid back duly till now', 1.9243622007776865e-10), ('people_under_maintenance', 1.902008911572941e-10), ('purpose=car (new)', -1.7104663723358493e-10), ('account_check_status=no checking account', 1.6584313433238958e-10), ('account_check_status=0 <= ... < 200 DM', -1.639544710042764e-10), ('credit_history=critical account/ other credits existing (not at this bank)', 1.317487567892989e-10), ('job=unskilled - resident', 1.307761159896724e-10), ('other_installment_plans=stores', 1.2347569776391545e-10), ('foreign_worker=no', 1.1825353902253505e-10), ('present_emp_since=1 <= ... < 4 years', 1.1478921168922655e-10), ('property=if not A121/A122 : car or other, not in attribute 6', 1.1222769011436428e-10), ('personal_status_sex=female : divorced/separated/married', 1.1002871894681165e-10), ('savings=100 <= ... < 500 DM', 1.0982251402773794e-10), ('purpose=domestic appliances', 1.0567984890752028e-10), ('present_res_since', 9.869484730455045e-11), ('account_check_status=>= 200 DM / salary assignments for at least 1 year', 9.721716212812873e-11), ('present_emp_since=.. >= 7 years', 9.327030468700815e-11), ('installment_as_income_perc', 9.192261925231111e-11), ('property=real estate', 9.180043418264463e-11), ('purpose=(vacation - does not exist?)', 8.974505020571898e-11), ('account_check_status=< 0 DM', 8.848004118893571e-11), ('purpose=retraining', 8.80910843922895e-11), ('purpose=education', 8.803520453193465e-11), ('purpose=business', 8.330599059469541e-11), ('housing=rent', 7.975475868460632e-11), ('property=if not A121 : building society savings agreement/ life insurance', 7.826524390749874e-11), ('other_debtors=guarantor', 7.385760952840171e-11), ('present_emp_since=... < 1 year ', 7.338094381227495e-11), ('duration_in_month', 6.689756440260244e-11), ('purpose=car (used)', 6.582965568284186e-11), ('job=unemployed/ unskilled - non-resident', 6.473736018584135e-11), ('present_emp_since=4 <= ... < 7 years', 6.230002403518189e-11), ('purpose=furniture/equipment', 5.974714318917145e-11), ('purpose=radio/television', 5.909852887925919e-11), ('credit_history=delay in paying off in the past', 5.620862803354922e-11), ('savings=500 <= ... < 1000 DM ', 5.582941358078461e-11), ('other_installment_plans=none', 5.501318386790144e-11), ('personal_status_sex=male : married/widowed', 5.500125372750834e-11), ('telephone=yes, registered under the customers name ', -5.495252929908006e-11), ('purpose=repairs', 5.2177896575440796e-11), ('savings=.. >= 1000 DM ', 4.0557757647139625e-11), ('personal_status_sex=male : divorced/separated', 3.627184253632623e-11), ('personal_status_sex=male : single', -2.9862189862658355e-11), ('credit_history=no credits taken/ all credits paid back duly', 2.8131802175589855e-11), ('other_installment_plans=bank', 1.9548368945624186e-11)]\n"
     ]
    }
   ],
   "source": [
    "limeExplainer = LimeXAITabularExplainer(bbox)\n",
    "config = {'feature_selection': 'lasso_path'}\n",
    "limeExplainer.fit(df, class_field, config)\n",
    "lime_exp = limeExplainer.explain(inst)\n",
    "print(lime_exp.exp.as_list())"
   ]
  },
  {
   "cell_type": "code",
   "execution_count": 20,
   "metadata": {},
   "outputs": [
    {
     "data": {
      "text/html": [
       "\n",
       "        <style>\n",
       "        .vega-bind {\n",
       "          position: absolute;\n",
       "          left: 0px;\n",
       "          top: 0px;\n",
       "          background-color:#eee;\n",
       "          padding:10px;\n",
       "          font-size:10px;\n",
       "        }\n",
       "        .chart-wrapper{\n",
       "          padding-top: 70px;\n",
       "        }\n",
       "\n",
       "        </style>\n",
       "        "
      ],
      "text/plain": [
       "<IPython.core.display.HTML object>"
      ]
     },
     "metadata": {},
     "output_type": "display_data"
    },
    {
     "data": {
      "text/html": [
       "\n",
       "<div id=\"altair-viz-888610c43438438b9ef686360a3ff500\"></div>\n",
       "<script type=\"text/javascript\">\n",
       "  (function(spec, embedOpt){\n",
       "    let outputDiv = document.currentScript.previousElementSibling;\n",
       "    if (outputDiv.id !== \"altair-viz-888610c43438438b9ef686360a3ff500\") {\n",
       "      outputDiv = document.getElementById(\"altair-viz-888610c43438438b9ef686360a3ff500\");\n",
       "    }\n",
       "    const paths = {\n",
       "      \"vega\": \"https://cdn.jsdelivr.net/npm//vega@5?noext\",\n",
       "      \"vega-lib\": \"https://cdn.jsdelivr.net/npm//vega-lib?noext\",\n",
       "      \"vega-lite\": \"https://cdn.jsdelivr.net/npm//vega-lite@4.8.1?noext\",\n",
       "      \"vega-embed\": \"https://cdn.jsdelivr.net/npm//vega-embed@6?noext\",\n",
       "    };\n",
       "\n",
       "    function loadScript(lib) {\n",
       "      return new Promise(function(resolve, reject) {\n",
       "        var s = document.createElement('script');\n",
       "        s.src = paths[lib];\n",
       "        s.async = true;\n",
       "        s.onload = () => resolve(paths[lib]);\n",
       "        s.onerror = () => reject(`Error loading script: ${paths[lib]}`);\n",
       "        document.getElementsByTagName(\"head\")[0].appendChild(s);\n",
       "      });\n",
       "    }\n",
       "\n",
       "    function showError(err) {\n",
       "      outputDiv.innerHTML = `<div class=\"error\" style=\"color:red;\">${err}</div>`;\n",
       "      throw err;\n",
       "    }\n",
       "\n",
       "    function displayChart(vegaEmbed) {\n",
       "      vegaEmbed(outputDiv, spec, embedOpt)\n",
       "        .catch(err => showError(`Javascript Error: ${err.message}<br>This usually means there's a typo in your chart specification. See the javascript console for the full traceback.`));\n",
       "    }\n",
       "\n",
       "    if(typeof define === \"function\" && define.amd) {\n",
       "      requirejs.config({paths});\n",
       "      require([\"vega-embed\"], displayChart, err => showError(`Error loading script: ${err.message}`));\n",
       "    } else if (typeof vegaEmbed === \"function\") {\n",
       "      displayChart(vegaEmbed);\n",
       "    } else {\n",
       "      loadScript(\"vega\")\n",
       "        .then(() => loadScript(\"vega-lite\"))\n",
       "        .then(() => loadScript(\"vega-embed\"))\n",
       "        .catch(showError)\n",
       "        .then(() => displayChart(vegaEmbed));\n",
       "    }\n",
       "  })({\"config\": {\"view\": {\"continuousWidth\": 400, \"continuousHeight\": 300}, \"axis\": {\"labelFontSize\": 10, \"labelLimit\": 225.0}}, \"vconcat\": [{\"layer\": [{\"data\": {\"name\": \"data-ce582a2c277beead1759820d7cd3f420\"}, \"mark\": {\"type\": \"rule\", \"strokeWidth\": 3}, \"encoding\": {\"color\": {\"type\": \"quantitative\", \"field\": \"xValue\", \"legend\": null, \"scale\": {\"domain\": [-1.3046177878918616e-09, 1.3046177878918616e-09], \"domainMid\": 0, \"scheme\": \"redyellowblue\"}}, \"x\": {\"type\": \"quantitative\", \"axis\": {\"orient\": \"top\", \"titleFontSize\": 10}, \"field\": \"xValue\", \"title\": \"Select a cutoff range for Feature Importance values \"}}}, {\"data\": {\"name\": \"data-c7bc3ae69e1253e8223f70a11d04b99d\"}, \"mark\": {\"type\": \"rect\", \"color\": \"black\", \"height\": 20, \"opacity\": 0.4, \"tooltip\": true}, \"encoding\": {\"x\": {\"type\": \"quantitative\", \"field\": \"x_min\"}, \"x2\": {\"field\": \"x_max\"}, \"y\": {\"type\": \"quantitative\", \"axis\": null, \"field\": \"y\"}}, \"selection\": {\"Cutter\": {\"type\": \"single\", \"fields\": [\"cutoff\"], \"bind\": {\"input\": \"range\", \"max\": 1.3046177878918616e-09, \"min\": 0, \"name\": \"Importance cutoff value (\\u00b1) \", \"step\": 2.609235575783723e-11}, \"init\": {\"cutoff\": 0.0}}}, \"transform\": [{\"calculate\": \"(-Cutter.cutoff)\", \"as\": \"x_min\"}, {\"calculate\": \"Cutter.cutoff\", \"as\": \"x_max\"}]}], \"height\": 20}, {\"layer\": [{\"data\": {\"name\": \"data-88db20dec88e237822ea09b14e3327a7\"}, \"mark\": \"bar\", \"encoding\": {\"color\": {\"type\": \"quantitative\", \"field\": \"value\", \"legend\": null, \"scale\": {\"domain\": [-1.3046177878918616e-09, 1.3046177878918616e-09], \"domainMid\": 0, \"scheme\": \"blueorange\"}}, \"tooltip\": [{\"type\": \"nominal\", \"field\": \"name\", \"title\": \"Feature\"}, {\"type\": \"quantitative\", \"field\": \"value\", \"title\": \"Importance\"}], \"x\": {\"type\": \"quantitative\", \"field\": \"value\", \"title\": null}, \"y\": {\"type\": \"nominal\", \"field\": \"name\", \"sort\": {\"field\": \"value\", \"op\": \"mean\", \"order\": \"descending\"}, \"title\": null}}, \"selection\": {\"Cutter\": {\"type\": \"single\", \"fields\": [\"cutoff\"], \"bind\": {\"input\": \"range\", \"max\": 1.3046177878918616e-09, \"min\": 0, \"name\": \"Importance cutoff value (\\u00b1) \", \"step\": 2.609235575783723e-11}, \"init\": {\"cutoff\": 0.0}}}, \"transform\": [{\"filter\": \"((datum.value > Cutter.cutoff) || (datum.value < (-Cutter.cutoff)))\"}]}, {\"data\": {\"name\": \"data-9c00aa9dc2b1c1a0b4bf9b34ead12925\"}, \"mark\": \"rule\", \"encoding\": {\"x\": {\"type\": \"quantitative\", \"field\": \"x\"}}}]}], \"padding\": 10, \"$schema\": \"https://vega.github.io/schema/vega-lite/v4.8.1.json\", \"datasets\": {\"data-ce582a2c277beead1759820d7cd3f420\": [{\"xValue\": -1.3046177878918616e-09}, {\"xValue\": -1.291571610012943e-09}, {\"xValue\": -1.2785254321340243e-09}, {\"xValue\": -1.2654792542551056e-09}, {\"xValue\": -1.252433076376187e-09}, {\"xValue\": -1.2393868984972683e-09}, {\"xValue\": -1.2263407206183496e-09}, {\"xValue\": -1.213294542739431e-09}, {\"xValue\": -1.2002483648605122e-09}, {\"xValue\": -1.1872021869815936e-09}, {\"xValue\": -1.174156009102675e-09}, {\"xValue\": -1.1611098312237562e-09}, {\"xValue\": -1.1480636533448376e-09}, {\"xValue\": -1.1350174754659189e-09}, {\"xValue\": -1.1219712975870002e-09}, {\"xValue\": -1.1089251197080815e-09}, {\"xValue\": -1.0958789418291629e-09}, {\"xValue\": -1.0828327639502442e-09}, {\"xValue\": -1.0697865860713255e-09}, {\"xValue\": -1.0567404081924069e-09}, {\"xValue\": -1.0436942303134882e-09}, {\"xValue\": -1.0306480524345695e-09}, {\"xValue\": -1.0176018745556508e-09}, {\"xValue\": -1.0045556966767322e-09}, {\"xValue\": -9.915095187978135e-10}, {\"xValue\": -9.784633409188948e-10}, {\"xValue\": -9.654171630399761e-10}, {\"xValue\": -9.523709851610575e-10}, {\"xValue\": -9.393248072821388e-10}, {\"xValue\": -9.262786294032201e-10}, {\"xValue\": -9.132324515243015e-10}, {\"xValue\": -9.001862736453828e-10}, {\"xValue\": -8.871400957664641e-10}, {\"xValue\": -8.740939178875454e-10}, {\"xValue\": -8.610477400086268e-10}, {\"xValue\": -8.480015621297081e-10}, {\"xValue\": -8.349553842507894e-10}, {\"xValue\": -8.219092063718708e-10}, {\"xValue\": -8.088630284929521e-10}, {\"xValue\": -7.958168506140334e-10}, {\"xValue\": -7.827706727351147e-10}, {\"xValue\": -7.697244948561961e-10}, {\"xValue\": -7.566783169772774e-10}, {\"xValue\": -7.436321390983587e-10}, {\"xValue\": -7.305859612194401e-10}, {\"xValue\": -7.175397833405214e-10}, {\"xValue\": -7.044936054616027e-10}, {\"xValue\": -6.91447427582684e-10}, {\"xValue\": -6.784012497037654e-10}, {\"xValue\": -6.653550718248467e-10}, {\"xValue\": -6.52308893945928e-10}, {\"xValue\": -6.392627160670093e-10}, {\"xValue\": -6.262165381880907e-10}, {\"xValue\": -6.13170360309172e-10}, {\"xValue\": -6.001241824302533e-10}, {\"xValue\": -5.870780045513347e-10}, {\"xValue\": -5.74031826672416e-10}, {\"xValue\": -5.609856487934973e-10}, {\"xValue\": -5.479394709145786e-10}, {\"xValue\": -5.3489329303566e-10}, {\"xValue\": -5.218471151567413e-10}, {\"xValue\": -5.088009372778226e-10}, {\"xValue\": -4.95754759398904e-10}, {\"xValue\": -4.827085815199853e-10}, {\"xValue\": -4.696624036410666e-10}, {\"xValue\": -4.5661622576214794e-10}, {\"xValue\": -4.4357004788322927e-10}, {\"xValue\": -4.305238700043106e-10}, {\"xValue\": -4.174776921253919e-10}, {\"xValue\": -4.0443151424647325e-10}, {\"xValue\": -3.913853363675546e-10}, {\"xValue\": -3.783391584886359e-10}, {\"xValue\": -3.6529298060971723e-10}, {\"xValue\": -3.5224680273079856e-10}, {\"xValue\": -3.392006248518799e-10}, {\"xValue\": -3.261544469729612e-10}, {\"xValue\": -3.1310826909404255e-10}, {\"xValue\": -3.0006209121512387e-10}, {\"xValue\": -2.870159133362052e-10}, {\"xValue\": -2.7396973545728653e-10}, {\"xValue\": -2.6092355757836786e-10}, {\"xValue\": -2.478773796994492e-10}, {\"xValue\": -2.348312018205305e-10}, {\"xValue\": -2.2178502394161184e-10}, {\"xValue\": -2.0873884606269317e-10}, {\"xValue\": -1.956926681837745e-10}, {\"xValue\": -1.8264649030485583e-10}, {\"xValue\": -1.6960031242593715e-10}, {\"xValue\": -1.5655413454701848e-10}, {\"xValue\": -1.435079566680998e-10}, {\"xValue\": -1.3046177878918114e-10}, {\"xValue\": -1.1741560091026247e-10}, {\"xValue\": -1.0436942303134379e-10}, {\"xValue\": -9.132324515242512e-11}, {\"xValue\": -7.827706727350645e-11}, {\"xValue\": -6.523088939458778e-11}, {\"xValue\": -5.2184711515669105e-11}, {\"xValue\": -3.913853363675043e-11}, {\"xValue\": -2.609235575783176e-11}, {\"xValue\": -1.3046177878913089e-11}, {\"xValue\": 5.583469134732937e-24}, {\"xValue\": 1.3046177878924256e-11}, {\"xValue\": 2.6092355757842928e-11}, {\"xValue\": 3.91385336367616e-11}, {\"xValue\": 5.218471151568027e-11}, {\"xValue\": 6.523088939459894e-11}, {\"xValue\": 7.827706727351762e-11}, {\"xValue\": 9.132324515243629e-11}, {\"xValue\": 1.0436942303135496e-10}, {\"xValue\": 1.1741560091027363e-10}, {\"xValue\": 1.304617787891923e-10}, {\"xValue\": 1.4350795666811098e-10}, {\"xValue\": 1.5655413454702965e-10}, {\"xValue\": 1.6960031242594832e-10}, {\"xValue\": 1.82646490304867e-10}, {\"xValue\": 1.9569266818378566e-10}, {\"xValue\": 2.0873884606270434e-10}, {\"xValue\": 2.21785023941623e-10}, {\"xValue\": 2.348312018205417e-10}, {\"xValue\": 2.4787737969946035e-10}, {\"xValue\": 2.60923557578379e-10}, {\"xValue\": 2.739697354572977e-10}, {\"xValue\": 2.8701591333621637e-10}, {\"xValue\": 3.0006209121513504e-10}, {\"xValue\": 3.131082690940537e-10}, {\"xValue\": 3.261544469729724e-10}, {\"xValue\": 3.3920062485189106e-10}, {\"xValue\": 3.5224680273080973e-10}, {\"xValue\": 3.652929806097284e-10}, {\"xValue\": 3.7833915848864707e-10}, {\"xValue\": 3.9138533636756575e-10}, {\"xValue\": 4.044315142464844e-10}, {\"xValue\": 4.174776921254031e-10}, {\"xValue\": 4.3052387000432176e-10}, {\"xValue\": 4.4357004788324043e-10}, {\"xValue\": 4.566162257621591e-10}, {\"xValue\": 4.696624036410778e-10}, {\"xValue\": 4.827085815199964e-10}, {\"xValue\": 4.957547593989151e-10}, {\"xValue\": 5.088009372778338e-10}, {\"xValue\": 5.218471151567525e-10}, {\"xValue\": 5.348932930356711e-10}, {\"xValue\": 5.479394709145898e-10}, {\"xValue\": 5.609856487935085e-10}, {\"xValue\": 5.740318266724272e-10}, {\"xValue\": 5.870780045513458e-10}, {\"xValue\": 6.001241824302645e-10}, {\"xValue\": 6.131703603091832e-10}, {\"xValue\": 6.262165381881018e-10}, {\"xValue\": 6.392627160670205e-10}, {\"xValue\": 6.523088939459392e-10}, {\"xValue\": 6.653550718248579e-10}, {\"xValue\": 6.784012497037765e-10}, {\"xValue\": 6.914474275826952e-10}, {\"xValue\": 7.044936054616139e-10}, {\"xValue\": 7.175397833405325e-10}, {\"xValue\": 7.305859612194512e-10}, {\"xValue\": 7.436321390983699e-10}, {\"xValue\": 7.566783169772886e-10}, {\"xValue\": 7.697244948562072e-10}, {\"xValue\": 7.827706727351259e-10}, {\"xValue\": 7.958168506140446e-10}, {\"xValue\": 8.088630284929633e-10}, {\"xValue\": 8.219092063718819e-10}, {\"xValue\": 8.349553842508006e-10}, {\"xValue\": 8.480015621297193e-10}, {\"xValue\": 8.610477400086379e-10}, {\"xValue\": 8.740939178875566e-10}, {\"xValue\": 8.871400957664753e-10}, {\"xValue\": 9.00186273645394e-10}, {\"xValue\": 9.132324515243126e-10}, {\"xValue\": 9.262786294032313e-10}, {\"xValue\": 9.3932480728215e-10}, {\"xValue\": 9.523709851610686e-10}, {\"xValue\": 9.654171630399873e-10}, {\"xValue\": 9.78463340918906e-10}, {\"xValue\": 9.915095187978247e-10}, {\"xValue\": 1.0045556966767433e-09}, {\"xValue\": 1.017601874555662e-09}, {\"xValue\": 1.0306480524345807e-09}, {\"xValue\": 1.0436942303134993e-09}, {\"xValue\": 1.056740408192418e-09}, {\"xValue\": 1.0697865860713367e-09}, {\"xValue\": 1.0828327639502554e-09}, {\"xValue\": 1.095878941829174e-09}, {\"xValue\": 1.1089251197080927e-09}, {\"xValue\": 1.1219712975870114e-09}, {\"xValue\": 1.13501747546593e-09}, {\"xValue\": 1.1480636533448487e-09}, {\"xValue\": 1.1611098312237674e-09}, {\"xValue\": 1.174156009102686e-09}, {\"xValue\": 1.1872021869816047e-09}, {\"xValue\": 1.2002483648605234e-09}, {\"xValue\": 1.213294542739442e-09}, {\"xValue\": 1.2263407206183608e-09}, {\"xValue\": 1.2393868984972794e-09}, {\"xValue\": 1.252433076376198e-09}, {\"xValue\": 1.2654792542551168e-09}, {\"xValue\": 1.2785254321340354e-09}, {\"xValue\": 1.2915716100129541e-09}], \"data-c7bc3ae69e1253e8223f70a11d04b99d\": [{\"y\": 0, \"x\": -0.5, \"x2\": 0.5}], \"data-88db20dec88e237822ea09b14e3327a7\": [{\"name\": \"other_debtors=co-applicant\", \"value\": -1.3046177878918616e-09}, {\"name\": \"credit_history=all credits at this bank paid back duly\", \"value\": -1.0114574629252053e-09}, {\"name\": \"present_emp_since=unemployed\", \"value\": -8.87554096296626e-10}, {\"name\": \"other_debtors=none\", \"value\": 7.43754044231906e-10}, {\"name\": \"housing=for free\", \"value\": -4.4157786564097103e-10}, {\"name\": \"property=unknown / no property\", \"value\": -3.275710719845092e-10}, {\"name\": \"credit_amount\", \"value\": 3.271233788564153e-10}, {\"name\": \"job=management/ self-employed/ highly qualified employee/ officer\", \"value\": -3.164190703926506e-10}, {\"name\": \"housing=own\", \"value\": 2.8902027822084106e-10}, {\"name\": \"savings=unknown/ no savings account\", \"value\": -2.604277452741881e-10}, {\"name\": \"job=skilled employee / official\", \"value\": 2.3808188198617575e-10}, {\"name\": \"foreign_worker=yes\", \"value\": 2.365347360238489e-10}, {\"name\": \"telephone=none\", \"value\": 2.2048259721367863e-10}, {\"name\": \"age\", \"value\": 2.171945479826713e-10}, {\"name\": \"savings=... < 100 DM\", \"value\": 2.1116662177987812e-10}, {\"name\": \"credits_this_bank\", \"value\": 1.9999632029038067e-10}, {\"name\": \"credit_history=existing credits paid back duly till now\", \"value\": 1.9243622007776865e-10}, {\"name\": \"people_under_maintenance\", \"value\": 1.902008911572941e-10}, {\"name\": \"purpose=car (new)\", \"value\": -1.7104663723358493e-10}, {\"name\": \"account_check_status=no checking account\", \"value\": 1.6584313433238958e-10}, {\"name\": \"account_check_status=0 <= ... < 200 DM\", \"value\": -1.639544710042764e-10}, {\"name\": \"credit_history=critical account/ other credits existing (not at this bank)\", \"value\": 1.317487567892989e-10}, {\"name\": \"job=unskilled - resident\", \"value\": 1.307761159896724e-10}, {\"name\": \"other_installment_plans=stores\", \"value\": 1.2347569776391545e-10}, {\"name\": \"foreign_worker=no\", \"value\": 1.1825353902253505e-10}, {\"name\": \"present_emp_since=1 <= ... < 4 years\", \"value\": 1.1478921168922655e-10}, {\"name\": \"property=if not A121/A122 : car or other, not in attribute 6\", \"value\": 1.1222769011436428e-10}, {\"name\": \"personal_status_sex=female : divorced/separated/married\", \"value\": 1.1002871894681165e-10}, {\"name\": \"savings=100 <= ... < 500 DM\", \"value\": 1.0982251402773794e-10}, {\"name\": \"purpose=domestic appliances\", \"value\": 1.0567984890752028e-10}, {\"name\": \"present_res_since\", \"value\": 9.869484730455045e-11}, {\"name\": \"account_check_status=>= 200 DM / salary assignments for at least 1 year\", \"value\": 9.721716212812873e-11}, {\"name\": \"present_emp_since=.. >= 7 years\", \"value\": 9.327030468700815e-11}, {\"name\": \"installment_as_income_perc\", \"value\": 9.192261925231111e-11}, {\"name\": \"property=real estate\", \"value\": 9.180043418264463e-11}, {\"name\": \"purpose=(vacation - does not exist?)\", \"value\": 8.974505020571898e-11}, {\"name\": \"account_check_status=< 0 DM\", \"value\": 8.848004118893571e-11}, {\"name\": \"purpose=retraining\", \"value\": 8.80910843922895e-11}, {\"name\": \"purpose=education\", \"value\": 8.803520453193465e-11}, {\"name\": \"purpose=business\", \"value\": 8.330599059469541e-11}, {\"name\": \"housing=rent\", \"value\": 7.975475868460632e-11}, {\"name\": \"property=if not A121 : building society savings agreement/ life insurance\", \"value\": 7.826524390749874e-11}, {\"name\": \"other_debtors=guarantor\", \"value\": 7.385760952840171e-11}, {\"name\": \"present_emp_since=... < 1 year \", \"value\": 7.338094381227495e-11}, {\"name\": \"duration_in_month\", \"value\": 6.689756440260244e-11}, {\"name\": \"purpose=car (used)\", \"value\": 6.582965568284186e-11}, {\"name\": \"job=unemployed/ unskilled - non-resident\", \"value\": 6.473736018584135e-11}, {\"name\": \"present_emp_since=4 <= ... < 7 years\", \"value\": 6.230002403518189e-11}, {\"name\": \"purpose=furniture/equipment\", \"value\": 5.974714318917145e-11}, {\"name\": \"purpose=radio/television\", \"value\": 5.909852887925919e-11}, {\"name\": \"credit_history=delay in paying off in the past\", \"value\": 5.620862803354922e-11}, {\"name\": \"savings=500 <= ... < 1000 DM \", \"value\": 5.582941358078461e-11}, {\"name\": \"other_installment_plans=none\", \"value\": 5.501318386790144e-11}, {\"name\": \"personal_status_sex=male : married/widowed\", \"value\": 5.500125372750834e-11}, {\"name\": \"telephone=yes, registered under the customers name \", \"value\": -5.495252929908006e-11}, {\"name\": \"purpose=repairs\", \"value\": 5.2177896575440796e-11}, {\"name\": \"savings=.. >= 1000 DM \", \"value\": 4.0557757647139625e-11}, {\"name\": \"personal_status_sex=male : divorced/separated\", \"value\": 3.627184253632623e-11}, {\"name\": \"personal_status_sex=male : single\", \"value\": -2.9862189862658355e-11}, {\"name\": \"credit_history=no credits taken/ all credits paid back duly\", \"value\": 2.8131802175589855e-11}, {\"name\": \"other_installment_plans=bank\", \"value\": 1.9548368945624186e-11}], \"data-9c00aa9dc2b1c1a0b4bf9b34ead12925\": [{\"x\": 0}]}}, {\"mode\": \"vega-lite\"});\n",
       "</script>"
      ],
      "text/plain": [
       "alt.VConcatChart(...)"
      ]
     },
     "metadata": {},
     "output_type": "display_data"
    }
   ],
   "source": [
    "lime_exp.plot_features_importance()"
   ]
  },
  {
   "cell_type": "code",
   "execution_count": null,
   "metadata": {},
   "outputs": [],
   "source": []
  }
 ],
 "metadata": {
  "kernelspec": {
   "display_name": "Python 3",
   "language": "python",
   "name": "python3"
  },
  "language_info": {
   "codemirror_mode": {
    "name": "ipython",
    "version": 3
   },
   "file_extension": ".py",
   "mimetype": "text/x-python",
   "name": "python",
   "nbconvert_exporter": "python",
   "pygments_lexer": "ipython3",
   "version": "3.6.10"
  }
 },
 "nbformat": 4,
 "nbformat_minor": 5
}
