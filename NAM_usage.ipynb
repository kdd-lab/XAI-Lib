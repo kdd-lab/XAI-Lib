{
 "nbformat": 4,
 "nbformat_minor": 0,
 "metadata": {
  "colab": {
   "name": "NAM_usage.ipynb",
   "provenance": [],
   "collapsed_sections": []
  },
  "kernelspec": {
   "name": "python3",
   "display_name": "Python 3"
  },
  "language_info": {
   "name": "python"
  }
 },
 "cells": [
  {
   "cell_type": "code",
   "source": [
    "import sys, os\n",
    "sys.path.append('/content/drive/MyDrive/dottorato 2022/XAI Fosca Giannotti/XAI-Lib')"
   ],
   "metadata": {
    "id": "3KSYGDWt1FwR",
    "executionInfo": {
     "status": "ok",
     "timestamp": 1646899037390,
     "user_tz": -60,
     "elapsed": 229,
     "user": {
      "displayName": "Andrea Baraldi",
      "photoUrl": "https://lh3.googleusercontent.com/a-/AOh14GhCxD35JpqtVY9nTHrguFfDljJJLFaNXyFN_joTFZc=s64",
      "userId": "09082697304872948476"
     }
    }
   },
   "execution_count": 4,
   "outputs": []
  },
  {
   "cell_type": "code",
   "source": [
    "# !pip install nam>=0.0.3"
   ],
   "metadata": {
    "id": "tsy0dWOFPUHQ",
    "executionInfo": {
     "status": "ok",
     "timestamp": 1646899037737,
     "user_tz": -60,
     "elapsed": 2,
     "user": {
      "displayName": "Andrea Baraldi",
      "photoUrl": "https://lh3.googleusercontent.com/a-/AOh14GhCxD35JpqtVY9nTHrguFfDljJJLFaNXyFN_joTFZc=s64",
      "userId": "09082697304872948476"
     }
    }
   },
   "execution_count": 5,
   "outputs": []
  },
  {
   "cell_type": "markdown",
   "source": [
    "# Init NAMs with defaults values\n",
    "[NAMs github repo](https://github.com/AmrMKayid/nam)"
   ],
   "metadata": {
    "id": "nZFW_mvlRbq2"
   }
  },
  {
   "cell_type": "markdown",
   "source": [
    "## NAMs automatic train, valid, test split"
   ],
   "metadata": {
    "id": "OlTjaDkbjiTD"
   }
  },
  {
   "cell_type": "markdown",
   "source": [
    "Synthetic dataset"
   ],
   "metadata": {
    "id": "ye7CMgh9kljB"
   }
  },
  {
   "cell_type": "code",
   "source": [
    "from xailib.explainers.nam_explainer_tab import NamTransparentByDesign, NamExplanation\n",
    "import csv\n",
    "import numpy as np\n",
    "import pandas as pd\n",
    "import numpy as np\n",
    "import scipy as sp\n",
    "import matplotlib.pyplot as plt\n",
    "import statsmodels.api as sm\n",
    "import math\n",
    "import torch\n",
    "\n",
    "\n",
    "np.random.seed(0)\n",
    "\n",
    "bs = 2  #This is the square root of the number of betas. Square root for plotting convenience\n",
    "obs = 10000  #Number of obs\n",
    "const = 5  #Constant a in y=a+beta*x+e\n",
    "badd = 1  #Multiplies the normally distributed random betas by a constant\n",
    "eadd = 1.7\n",
    "\n",
    "#Creating the real underlying data\n",
    "X = np.random.normal(size=[obs, bs**2])\n",
    "errors = eadd * np.random.normal(size=[obs])\n",
    "beta = badd * np.random.normal(size=[bs**2])\n",
    "y = (const + np.matmul(np.sin(5 * X), beta) + errors)"
   ],
   "metadata": {
    "id": "_WJfdFw2kecs"
   },
   "execution_count": null,
   "outputs": []
  },
  {
   "cell_type": "code",
   "source": [
    "# additional_custom_config_params = dict(regression=False, seed=42) # see git repo for more\n",
    "# model = NamTransparentByDesign(X, y, iris.feature_names, 'specie', **additional_custom_config_params)\n",
    "model = NamTransparentByDesign(X=X, y=y, feature_names=[\"x1\", \"x2\", \"x3\", \"x4\"], target_name='y')"
   ],
   "metadata": {
    "id": "MYfwjIxjRf-w"
   },
   "execution_count": null,
   "outputs": []
  },
  {
   "cell_type": "code",
   "source": [
    "model.fit()"
   ],
   "metadata": {
    "id": "6LAXIAw3dEcq"
   },
   "execution_count": null,
   "outputs": []
  },
  {
   "cell_type": "code",
   "source": [
    "model.test()"
   ],
   "metadata": {
    "id": "mcWwdu61kFEZ"
   },
   "execution_count": null,
   "outputs": []
  },
  {
   "cell_type": "code",
   "source": [
    "\n",
    "item = torch.tensor([[-2.55298982,  0.6536186 ,  0.8644362 , -0.74216502],[ 7.45472240e-01,  3.47939136e-01, -2.59534011e-01,\n",
    "    -4.23024293e-04], [-1.55298982,  0.2336186 ,  0.5544362 , -0.74216502]])\n",
    "pred = model.predict(item)\n",
    "display(pred)"
   ],
   "metadata": {
    "id": "SIn7jSfWls1_"
   },
   "execution_count": null,
   "outputs": []
  },
  {
   "cell_type": "markdown",
   "source": [
    "### Local features importance"
   ],
   "metadata": {
    "id": "ZBr8OaKDlboe"
   }
  },
  {
   "cell_type": "code",
   "source": [
    "exp = model.explain(item)\n",
    "exp.getFeaturesImportance()"
   ],
   "metadata": {
    "id": "DLg3PAu2lYn-"
   },
   "execution_count": null,
   "outputs": []
  },
  {
   "cell_type": "code",
   "source": [
    "exp.getFeaturesImportance().sum(1) "
   ],
   "metadata": {
    "id": "aihGARYQnNX4"
   },
   "execution_count": null,
   "outputs": []
  },
  {
   "cell_type": "code",
   "source": [
    "exp.getFeaturesImportance().sum(1) + exp.bias == pred"
   ],
   "metadata": {
    "id": "wvM4y1bql45Q"
   },
   "execution_count": null,
   "outputs": []
  },
  {
   "cell_type": "markdown",
   "source": [
    "### Additional global explanation with shape functions"
   ],
   "metadata": {
    "id": "TSb1R6u5lfeH"
   }
  },
  {
   "cell_type": "code",
   "source": [
    "model.explain_global()"
   ],
   "metadata": {
    "id": "3D-rRfiblV4l"
   },
   "execution_count": null,
   "outputs": []
  },
  {
   "cell_type": "markdown",
   "source": [
    "## Manual train, valid, test split"
   ],
   "metadata": {
    "id": "J7GghI5GjyE1"
   }
  },
  {
   "cell_type": "code",
   "source": [
    "from nam.data import load_gallup_data, load_housing_data, load_sklearn_housing_data, load_breast_data\n",
    "from nam.config import defaults\n",
    "config = defaults()\n",
    "nam_dataset = load_sklearn_housing_data(config)"
   ],
   "metadata": {
    "id": "uESBQQCAkgnV"
   },
   "execution_count": null,
   "outputs": []
  },
  {
   "cell_type": "code",
   "source": [
    "X = nam_dataset.features\n",
    "y = nam_dataset.targets"
   ],
   "metadata": {
    "id": "e9nVtL4AtYh1"
   },
   "execution_count": null,
   "outputs": []
  },
  {
   "cell_type": "code",
   "source": [
    "from torch.utils.data import DataLoader, Dataset\n",
    "\n",
    "class MyDataset(Dataset):\n",
    "    def __init__(self, X, y):\n",
    "        self.X = X\n",
    "        self.y = y\n",
    "\n",
    "    def __len__(self):\n",
    "        return len(self.X)\n",
    "\n",
    "    def __getitem__(self, item: int):\n",
    "        return self.X[item], self.y[item]"
   ],
   "metadata": {
    "id": "4lBjvWVkfl-T"
   },
   "execution_count": null,
   "outputs": []
  },
  {
   "cell_type": "code",
   "source": [
    "dataset = MyDataset(X,y)"
   ],
   "metadata": {
    "id": "B3a9_jOiuBbe"
   },
   "execution_count": null,
   "outputs": []
  },
  {
   "cell_type": "code",
   "source": [
    "from torch.utils.data import random_split\n",
    "batch_size = 1024\n",
    "\n",
    "val_split, test_split = 0.1, 0.2\n",
    "\n",
    "test_size = int(test_split * len(X))\n",
    "val_size = int(val_split * (len(X) - test_size))\n",
    "train_size = len(X) - val_size - test_size\n",
    "\n",
    "train_subset, val_subset, test_subset = random_split(dataset, [train_size, val_size, test_size])\n",
    "\n",
    "train_dl = DataLoader(train_subset, batch_size=batch_size, shuffle=True)\n",
    "\n",
    "val_dl = DataLoader(val_subset, batch_size=batch_size, shuffle=False)\n",
    "\n",
    "test_dl = DataLoader(test_subset, batch_size=batch_size, shuffle=False)"
   ],
   "metadata": {
    "id": "dROMsFchjxC9"
   },
   "execution_count": null,
   "outputs": []
  },
  {
   "cell_type": "code",
   "source": [
    "model = NamTransparentByDesign(X=nam_dataset.features.numpy(), y=nam_dataset.targets, feature_names=nam_dataset.features_names, target_name=nam_dataset.targets_column)"
   ],
   "metadata": {
    "id": "CscHWvJLztrX"
   },
   "execution_count": null,
   "outputs": []
  },
  {
   "cell_type": "code",
   "source": [
    "train_dataloaders = [(train_dl, val_dl)]"
   ],
   "metadata": {
    "id": "uovekYR0j51T"
   },
   "execution_count": null,
   "outputs": []
  },
  {
   "cell_type": "code",
   "source": [
    "model.fit(train_dataloaders)"
   ],
   "metadata": {
    "id": "lreTCNC3fHqq"
   },
   "execution_count": null,
   "outputs": []
  },
  {
   "cell_type": "code",
   "source": [
    "item = torch.tensor([[ 0.0761, -0.2157, -0.9236, -0.9621, -0.8656, -0.9977,  0.1307, -0.5757],\n",
    "        [-0.0679,  1.0000, -0.8945, -0.9561, -0.9724, -0.9966,  0.1286, -0.5797],\n",
    "        [-0.2906,  1.0000, -0.9295, -0.9561, -0.9689, -0.9970,  0.1286, -0.5817]])\n",
    "pred = model.predict(item)\n",
    "display(pred)\n",
    "\n",
    "exp = model.explain(item)\n",
    "display(exp.getFeaturesImportance())\n",
    "\n",
    "exp.getFeaturesImportance().sum(1) + exp.bias == pred"
   ],
   "metadata": {
    "id": "OqcWNd-jzOjI"
   },
   "execution_count": null,
   "outputs": []
  },
  {
   "cell_type": "code",
   "source": [
    "nam_dataset.features_names"
   ],
   "metadata": {
    "id": "s9WDYENx3TGU"
   },
   "execution_count": null,
   "outputs": []
  },
  {
   "cell_type": "code",
   "source": [
    "model.explain_global()"
   ],
   "metadata": {
    "id": "7VlUgW_9zlm2"
   },
   "execution_count": null,
   "outputs": []
  }
 ]
}