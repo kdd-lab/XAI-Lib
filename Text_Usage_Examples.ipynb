{
 "cells": [
  {
   "cell_type": "markdown",
   "metadata": {},
   "source": [
    "# Examples of XAI-Lib Usage for image data"
   ]
  },
  {
   "cell_type": "code",
   "execution_count": 1,
   "metadata": {},
   "outputs": [],
   "source": [
    "import numpy as np\n",
    "import pandas as pd\n",
    "import matplotlib.pyplot as plt\n",
    "import pickle"
   ]
  },
  {
   "cell_type": "markdown",
   "metadata": {},
   "source": [
    "# Data and Model Loading"
   ]
  },
  {
   "cell_type": "code",
   "execution_count": 2,
   "metadata": {},
   "outputs": [],
   "source": [
    "from sklearn.datasets import fetch_20newsgroups\n",
    "categories = ['alt.atheism', 'soc.religion.christian']\n",
    "newsgroups_train = fetch_20newsgroups(data_home = \"./datasets/\", subset='train', categories=categories)\n",
    "newsgroups_test = fetch_20newsgroups(data_home = \"./datasets/\", subset='test', categories=categories)\n",
    "class_names = ['atheism', 'christian']"
   ]
  },
  {
   "cell_type": "code",
   "execution_count": 3,
   "metadata": {},
   "outputs": [
    {
     "name": "stdout",
     "output_type": "stream",
     "text": [
      "From: crackle!dabbott@munnari.oz.au (NAME)\n",
      "Subject: \"Why I am not Bertrand Russell\" (2nd request)\n",
      "Reply-To: dabbott@augean.eleceng.adelaide.edu.au (Derek Abbott)\n",
      "Organization: Electrical & Electronic Eng., University of Adelaide\n",
      "Lines: 4\n",
      "\n",
      "Could the guy who wrote the article \"Why I am not Bertrand Russell\"\n",
      "resend me a copy?\n",
      "\n",
      "Sorry, I accidently deleted my copy and forgot your name.\n",
      "\n"
     ]
    }
   ],
   "source": [
    "print(newsgroups_test.data[0])"
   ]
  },
  {
   "cell_type": "code",
   "execution_count": 4,
   "metadata": {},
   "outputs": [
    {
     "name": "stdout",
     "output_type": "stream",
     "text": [
      "[[0.29 0.71]]\n"
     ]
    }
   ],
   "source": [
    "model = pickle.load(open('models/text_rf.pickle','rb'))\n",
    "print(model.predict_proba([newsgroups_test.data[0]]))"
   ]
  },
  {
   "cell_type": "markdown",
   "metadata": {},
   "source": [
    "## LIME"
   ]
  },
  {
   "cell_type": "code",
   "execution_count": 30,
   "metadata": {},
   "outputs": [
    {
     "data": {
      "image/png": "[encoded data removed]",
      "text/plain": [
       "<Figure size 432x288 with 1 Axes>"
      ]
     },
     "metadata": {
      "needs_background": "light"
     },
     "output_type": "display_data"
    }
   ],
   "source": [
    "from xailib.explainers.lime_explainer import LimeXAITextExplainer\n",
    "\n",
    "# index of the sentence to explain\n",
    "idx = 0\n",
    "\n",
    "# 1) Create the Explainer\n",
    "lm = LimeXAITextExplainer(model)\n",
    "\n",
    "# 2a) Fit the Explainer\n",
    "lm.fit(class_names)\n",
    "\n",
    "# 2b) Create custom classifier function if not predict \n",
    "# function that takes as input text and return an array of (num_samples,num_classes)\n",
    "# If None will use black_box.predict function\n",
    "def classifier_fn(sentences):\n",
    "    return model.predict_proba(sentences)\n",
    "\n",
    "# 3) Explain an Instance\n",
    "explanation = lm.explain(newsgroups_test.data[idx], classifier_fn, num_samples=500, plot=True)"
   ]
  },
  {
   "cell_type": "code",
   "execution_count": null,
   "metadata": {},
   "outputs": [],
   "source": []
  }
 ],
 "metadata": {
  "kernelspec": {
   "display_name": "Python 3",
   "language": "python",
   "name": "python3"
  },
  "language_info": {
   "codemirror_mode": {
    "name": "ipython",
    "version": 3
   },
   "file_extension": ".py",
   "mimetype": "text/x-python",
   "name": "python",
   "nbconvert_exporter": "python",
   "pygments_lexer": "ipython3",
   "version": "3.8.8"
  }
 },
 "nbformat": 4,
 "nbformat_minor": 4
}
